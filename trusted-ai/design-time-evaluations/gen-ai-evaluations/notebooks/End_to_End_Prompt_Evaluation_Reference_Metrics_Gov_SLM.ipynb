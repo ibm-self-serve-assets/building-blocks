{
 "cells": [
  {
   "cell_type": "markdown",
   "metadata": {
    "id": "43c19b29-f106-4111-ae53-f4c728a3ecb1"
   },
   "source": [
    "# Working with Prompt Template Assets for a Retrieval-Augmented Generation task in watsonx.governance"
   ]
  },
  {
   "cell_type": "markdown",
   "metadata": {
    "id": "0d610206-9c2b-4b1a-a0f5-316fab3200c6"
   },
   "source": [
    "This notebook will create a retrieval-augmented generation (RAG) prompt template asset (PTA) in a given project, configure watsonx.governance to monitor that PTA and evaluate generative quality metrics and model health metrics, and then promote the prompt template asset to a space and do the same evaluation.\n",
    "\n",
    "If you wish to execute this notebook for task types other than RAG, refer to [Evaluating prompt template asset of different task types](https://github.com/IBM/watson-openscale-samples/blob/main/IBM%20Cloud/WML/notebooks/watsonx/README.md) for guidance on evaluating prompt templates for other available task types.\n",
    "\n",
    "This notebook should be run using a Python 3.10 or greater runtime environment. If you are viewing this notebook in Watson Studio and do not see Python 3.10.x or higher in the upper right corner of your screen, please update the runtime now. \n",
    "\n",
    "**Note**: Run your notebook on a Cloud Pak for Data (CPD) cluster using version 5.0.0 or above."
   ]
  },
  {
   "cell_type": "markdown",
   "metadata": {
    "id": "5ed00de1-de37-4b8f-8d68-863bada05ac7"
   },
   "source": [
    "## Learning goals\n",
    "\n",
    "- Create a prompt template asset in a CPD project\n",
    "- Configure watsonx.governance to monitor the created prompt template asset \n",
    "- Evaluate generative quality metrics and model health metrics\n",
    "- Promote the prompt template asset to a space\n",
    "- Evaluate the prompt template asset in a space "
   ]
  },
  {
   "cell_type": "markdown",
   "metadata": {
    "id": "8b700c2f-a34b-4991-a615-977b9f56d386"
   },
   "source": [
    "## Prerequisites"
   ]
  },
  {
   "cell_type": "markdown",
   "metadata": {
    "id": "9670db7c-0cb3-405b-b1c9-ac1a7e6ff7f3"
   },
   "source": [
    "- Service credentials for IBM watsonx.governance are required\n",
    "- Watson OpenScale (WOS) credentials are required\n",
    "- Watson Machine Learning (WML) credentials are required\n",
    "- A `.csv` file containing test data to be evaluated\n",
    "- ID of the CPD project in which you want to create the PTA\n",
    "- ID of the CPD space to which you want to promote the PTA"
   ]
  },
  {
   "cell_type": "markdown",
   "metadata": {
    "id": "3ed8c494-077d-43d9-935f-234d1720afe7"
   },
   "source": [
    "## Contents\n",
    "\n",
    "[Evaluating a Prompt Template Asset from a project](#evaluateproject)\n",
    "- [Step 1 - Setup](#settingup)\n",
    "- [Step 2 - Create a Prompt template](#prompt)\n",
    "- [Step 3 - Setup the prompt template](#ptatsetup)\n",
    "- [Step 4 - Risk evaluations for the PTA subscription](#evaluate)\n",
    "- [Step 5 - Display the Model Risk metrics](#mrmmetric)\n",
    "- [Step 6 - Display the Generative AI Quality metrics](#genaimetrics)\n",
    "- [Step 7 - Plot faithfulness and answer relevance metrics against records](#plotproject)\n",
    "- [Step 8 - See factsheets information](#factsheetsspace)\n",
    "\n",
    "[Evaluating a Prompt Template Asset from a space](#evaluatespace)\n",
    "- [Step 9 - Promote a PTA to a space](#promottospace)\n",
    "- [Step 10 - Create a deployment for a PTA in a space](#ptadeployment)\n",
    "- [Step 11 - Set up the PTA in a space for evaluation with supported monitor parameters](#ptaspace)\n",
    "- [Step 12 - Score the model and configure monitors](#score)\n",
    "- [Step 13 - Display the source attributions for a record](#attributions)\n",
    "- [Step 14 - Plot faithfulness and answer relevance metrics against records](#plotspace)\n",
    "- [Step 15 - See factsheets information from a space](#factsheetsproject)"
   ]
  },
  {
   "cell_type": "markdown",
   "metadata": {
    "id": "5d484674-fa7c-4a1f-8704-c367a3056a81"
   },
   "source": [
    "## Evaluating a Prompt Template Asset from a project <a name=\"evaluateproject\"></a>\n",
    "\n",
    "In the first section of this notebook, you will learn how to:\n",
    "\n",
    "1. Create a PTA in a project\n",
    "2. Create a `development`-type subscription for a PTA in OpenScale\n",
    "3. Configure monitors supported by OpenScale for the subscription\n",
    "4. Perform risk evaluations against the PTA subscription with a sample set of test data\n",
    "5. Display the metrics generated with the risk evaluation\n",
    "6. Display the factsheets information for the subscription"
   ]
  },
  {
   "cell_type": "markdown",
   "metadata": {
    "id": "1afb655f-03dd-4da1-a4c9-ccbfa542a645"
   },
   "source": [
    "## Step 1 - Setup <a name=\"settingup\"></a>"
   ]
  },
  {
   "cell_type": "markdown",
   "metadata": {
    "id": "aaa48fc4-e037-4b4e-b6a3-ecead361aaaa"
   },
   "source": [
    "### Install the necessary packages"
   ]
  },
  {
   "cell_type": "code",
   "execution_count": 83,
   "metadata": {
    "id": "1075d4fc-cf23-4c75-b6cf-c97080b52846"
   },
   "outputs": [
    {
     "name": "stdout",
     "output_type": "stream",
     "text": [
      "Requirement already satisfied: certifi>=2017.4.17 in /opt/conda/envs/Python-RT24.1-Premium/lib/python3.11/site-packages (from requests<3.0,>=2.0->ibm-watson-openscale) (2024.8.30)\n",
      "Requirement already satisfied: six>=1.10.0 in /opt/conda/envs/Python-RT24.1-Premium/lib/python3.11/site-packages (from lomond->ibm-watson-machine-learning) (1.16.0)\n",
      "Requirement already satisfied: matplotlib in /opt/conda/envs/Python-RT24.1-Premium/lib/python3.11/site-packages (3.8.0)\n",
      "Requirement already satisfied: contourpy>=1.0.1 in /opt/conda/envs/Python-RT24.1-Premium/lib/python3.11/site-packages (from matplotlib) (1.2.0)\n",
      "Requirement already satisfied: cycler>=0.10 in /opt/conda/envs/Python-RT24.1-Premium/lib/python3.11/site-packages (from matplotlib) (0.11.0)\n",
      "Requirement already satisfied: fonttools>=4.22.0 in /opt/conda/envs/Python-RT24.1-Premium/lib/python3.11/site-packages (from matplotlib) (4.51.0)\n",
      "Requirement already satisfied: kiwisolver>=1.0.1 in /opt/conda/envs/Python-RT24.1-Premium/lib/python3.11/site-packages (from matplotlib) (1.4.4)\n",
      "Requirement already satisfied: numpy<2,>=1.21 in /opt/conda/envs/Python-RT24.1-Premium/lib/python3.11/site-packages (from matplotlib) (1.26.4)\n",
      "Requirement already satisfied: packaging>=20.0 in /opt/conda/envs/Python-RT24.1-Premium/lib/python3.11/site-packages (from matplotlib) (23.2)\n",
      "Requirement already satisfied: pillow>=6.2.0 in /opt/conda/envs/Python-RT24.1-Premium/lib/python3.11/site-packages (from matplotlib) (10.3.0)\n",
      "Requirement already satisfied: pyparsing>=2.3.1 in /opt/conda/envs/Python-RT24.1-Premium/lib/python3.11/site-packages (from matplotlib) (3.0.9)\n",
      "Requirement already satisfied: python-dateutil>=2.7 in /opt/conda/envs/Python-RT24.1-Premium/lib/python3.11/site-packages (from matplotlib) (2.8.2)\n",
      "Requirement already satisfied: six>=1.5 in /opt/conda/envs/Python-RT24.1-Premium/lib/python3.11/site-packages (from python-dateutil>=2.7->matplotlib) (1.16.0)\n",
      "Requirement already satisfied: matplotlib in /opt/conda/envs/Python-RT24.1-Premium/lib/python3.11/site-packages (3.8.0)\n",
      "Requirement already satisfied: contourpy>=1.0.1 in /opt/conda/envs/Python-RT24.1-Premium/lib/python3.11/site-packages (from matplotlib) (1.2.0)\n",
      "Requirement already satisfied: cycler>=0.10 in /opt/conda/envs/Python-RT24.1-Premium/lib/python3.11/site-packages (from matplotlib) (0.11.0)\n",
      "Requirement already satisfied: fonttools>=4.22.0 in /opt/conda/envs/Python-RT24.1-Premium/lib/python3.11/site-packages (from matplotlib) (4.51.0)\n",
      "Requirement already satisfied: kiwisolver>=1.0.1 in /opt/conda/envs/Python-RT24.1-Premium/lib/python3.11/site-packages (from matplotlib) (1.4.4)\n",
      "Requirement already satisfied: numpy<2,>=1.21 in /opt/conda/envs/Python-RT24.1-Premium/lib/python3.11/site-packages (from matplotlib) (1.26.4)\n",
      "Requirement already satisfied: packaging>=20.0 in /opt/conda/envs/Python-RT24.1-Premium/lib/python3.11/site-packages (from matplotlib) (23.2)\n",
      "Requirement already satisfied: pillow>=6.2.0 in /opt/conda/envs/Python-RT24.1-Premium/lib/python3.11/site-packages (from matplotlib) (10.3.0)\n",
      "Requirement already satisfied: pyparsing>=2.3.1 in /opt/conda/envs/Python-RT24.1-Premium/lib/python3.11/site-packages (from matplotlib) (3.0.9)\n",
      "Requirement already satisfied: python-dateutil>=2.7 in /opt/conda/envs/Python-RT24.1-Premium/lib/python3.11/site-packages (from matplotlib) (2.8.2)\n",
      "Requirement already satisfied: six>=1.5 in /opt/conda/envs/Python-RT24.1-Premium/lib/python3.11/site-packages (from python-dateutil>=2.7->matplotlib) (1.16.0)\n"
     ]
    }
   ],
   "source": [
    "!pip install -U ibm-watson-openscale | tail -n 1\n",
    "!pip install --upgrade ibm-watson-machine-learning | tail -n 1\n",
    "!pip install matplotlib"
   ]
  },
  {
   "cell_type": "markdown",
   "metadata": {
    "id": "af0e39fc-d20f-4412-81bb-ef3439a6f6a1"
   },
   "source": [
    "**Note**: you may need to restart the kernel to use updated packages."
   ]
  },
  {
   "cell_type": "markdown",
   "metadata": {
    "id": "85780b74-1d39-4089-815f-2d63585a744f"
   },
   "source": [
    "### Configure your credentials"
   ]
  },
  {
   "cell_type": "markdown",
   "metadata": {
    "id": "a6037265-6ef9-4e4f-97a0-dfdcabb4c3b0"
   },
   "source": [
    "Run your notebook on a CPD cluster using version 5.0.0 or above."
   ]
  },
  {
   "cell_type": "code",
   "execution_count": 84,
   "metadata": {
    "id": "bfccb394-160f-4a9d-b8e9-74f032ad9841"
   },
   "outputs": [],
   "source": [
    "WOS_CREDENTIALS = {\n",
    "     \"url\": \"https://cpd-watsonx.apps.comarch.mop.ibm\",\n",
    "     \"username\": \"<username>\",\n",
    "     \"password\" : \"<password>\"\n",
    "}\n",
    "\n",
    "WML_CREDENTIALS = {\n",
    "     \"url\": \"<url>\",\n",
    "     \"username\": \"<username>\",\n",
    "     \"password\" : \"<password>\",\n",
    "     \"instance_id\": \"wml_local\",\n",
    "     \"version\" : \"5.0\"\n",
    "}"
   ]
  },
  {
   "cell_type": "markdown",
   "metadata": {
    "id": "fa89288f-be3b-46f5-ad52-ddf1acc0d4f0"
   },
   "source": [
    "**Note**: Replace the `WOS_CREDENTIALS` with your Watson OpenScale credentials, and the `WML_CREDENTIALS` with your Watson Machine Learning credentials."
   ]
  },
  {
   "cell_type": "markdown",
   "metadata": {
    "id": "e2b0a52f-f12f-4c93-bfc7-a809c3f676fa"
   },
   "source": [
    "### Configure your project ID"
   ]
  },
  {
   "cell_type": "markdown",
   "metadata": {
    "id": "d33b6752-b344-4b68-b241-7ad9880ecf70"
   },
   "source": [
    "To set up a development-type subscription in Watson OpenScale, the PTA must be within a CPD project. Supply the project ID where the PTA needs to be created."
   ]
  },
  {
   "cell_type": "code",
   "execution_count": 85,
   "metadata": {
    "id": "12e6ee05-7bea-4f37-8585-4e2fd596a877"
   },
   "outputs": [],
   "source": [
    "project_id = \"<project_id>\""
   ]
  },
  {
   "cell_type": "markdown",
   "metadata": {
    "id": "bd294986-76ce-4a8e-9889-8207142e2e25"
   },
   "source": [
    "### Configure your space ID"
   ]
  },
  {
   "cell_type": "markdown",
   "metadata": {
    "id": "ae375639-26b7-4f22-87f8-3859b6100b0f"
   },
   "source": [
    "You can use an existing space, or you can create a new space to promote the model."
   ]
  },
  {
   "cell_type": "markdown",
   "metadata": {
    "id": "7f429284-4d30-44dd-b609-99f6a5482ace"
   },
   "source": [
    "#### (Optional) If you choose an existing space"
   ]
  },
  {
   "cell_type": "markdown",
   "metadata": {
    "id": "45a988e1-423d-4c2a-96bc-5f8198e85f47"
   },
   "source": [
    "Set variable for an existing space:"
   ]
  },
  {
   "cell_type": "code",
   "execution_count": 86,
   "metadata": {
    "id": "13928e92-33e5-47aa-86cf-70e3bbfce1c1"
   },
   "outputs": [
    {
     "data": {
      "text/plain": [
       "'1.0.367'"
      ]
     },
     "execution_count": 86,
     "metadata": {},
     "output_type": "execute_result"
    }
   ],
   "source": [
    "import json\n",
    "from ibm_watson_machine_learning import APIClient\n",
    "\n",
    "wml_client = APIClient(WML_CREDENTIALS)\n",
    "wml_client.version"
   ]
  },
  {
   "cell_type": "markdown",
   "metadata": {
    "id": "f379280c-774d-40c7-bc7c-ede1ee830239"
   },
   "source": [
    "List the available spaces:"
   ]
  },
  {
   "cell_type": "markdown",
   "metadata": {
    "id": "29433504-f5cf-4286-a88b-341fc71e7315"
   },
   "source": [
    "### Create an access token"
   ]
  },
  {
   "cell_type": "markdown",
   "metadata": {
    "id": "28728a6e-b049-41d3-a7fc-fc3380a02057"
   },
   "source": [
    "The following function generates an IAM access token using the provided credentials. The API calls for creating and scoring prompt template assets utilize the token generated by this function."
   ]
  },
  {
   "cell_type": "code",
   "execution_count": 87,
   "metadata": {
    "id": "0c8a41eb-d3b8-403d-9d57-72473d6e30c6"
   },
   "outputs": [],
   "source": [
    "import requests, json\n",
    "def generate_access_token():\n",
    "    headers={}\n",
    "    headers[\"Content-Type\"] = \"application/json\"\n",
    "    headers[\"Accept\"] = \"application/json\"\n",
    "    data = {\n",
    "        \"username\":WOS_CREDENTIALS[\"username\"],\n",
    "        \"password\":WOS_CREDENTIALS[\"password\"]\n",
    "    }\n",
    "    data = json.dumps(data).encode(\"utf-8\")\n",
    "    url = WOS_CREDENTIALS[\"url\"] + \"/icp4d-api/v1/authorize\"\n",
    "    response = requests.post(url=url, data=data, headers=headers,verify=False)\n",
    "    json_data = response.json()\n",
    "    iam_access_token = json_data['token']      \n",
    "        \n",
    "    return iam_access_token\n",
    "\n",
    "iam_access_token = generate_access_token()"
   ]
  },
  {
   "cell_type": "markdown",
   "metadata": {
    "id": "ae8b73e9-fddb-45d3-85cc-43520152193a"
   },
   "source": [
    "## Step 2 - Create a Prompt template <a name=\"prompt\"></a>"
   ]
  },
  {
   "cell_type": "markdown",
   "metadata": {
    "id": "7ec97493-3260-427a-a903-f6bf0b61578a"
   },
   "source": [
    "Create a prompt template for a RAG task:"
   ]
  },
  {
   "cell_type": "code",
   "execution_count": 88,
   "metadata": {
    "id": "20e84bc4-10ca-4edf-a283-6e127d446cba"
   },
   "outputs": [],
   "source": [
    "credentials={\n",
    "     \"password\": WML_CREDENTIALS[\"password\"],\n",
    "     \"url\": WML_CREDENTIALS[\"url\"],\n",
    "     \"instance_id\": \"openshift\",\n",
    "     \"username\": WML_CREDENTIALS[\"username\"]\n",
    "}"
   ]
  },
  {
   "cell_type": "code",
   "execution_count": 89,
   "metadata": {
    "id": "55c03b62-9714-413f-8d47-322d9153cd8d"
   },
   "outputs": [
    {
     "name": "stdout",
     "output_type": "stream",
     "text": [
      "Requirement already satisfied: smmap<6,>=3.0.1 in /opt/conda/envs/Python-RT24.1-Premium/lib/python3.11/site-packages (from gitdb<5,>=4.0.1->gitpython<4,>=2.1.0->mlflow-skinny==2.7.0->ibm-aigov-facts-client) (5.0.1)\n",
      "2024/12/16 17:19:46 INFO : ------------------------------ Detached Prompt Creation Started ------------------------------\n",
      "2024/12/16 17:19:47 INFO : The detached prompt with ID afca833f-aeb7-4c8f-b072-1c726081ff43 was created successfully in container_id 36e48345-0549-4909-8440-d050e3d59b8a.\n"
     ]
    },
    {
     "data": {
      "text/plain": [
       "'afca833f-aeb7-4c8f-b072-1c726081ff43'"
      ]
     },
     "execution_count": 89,
     "metadata": {},
     "output_type": "execute_result"
    }
   ],
   "source": [
    "from ibm_watson_machine_learning.foundation_models.prompts import PromptTemplate, PromptTemplateManager\n",
    "from ibm_watson_machine_learning.foundation_models.utils.enums import ModelTypes\n",
    "\n",
    "prompt_mgr = PromptTemplateManager(\n",
    "                credentials = credentials,\n",
    "                project_id = project_id\n",
    "                )\n",
    "\n",
    "prompt_input=\"\"\"\n",
    "<|start_of_role|>system<|end_of_role|>You are an AI assistant of OSS system of Telco companies using Comarch OSS that follows instruction extremely well. You will answer to OSS users' questions about provided context. Given the context, your task is to answer a OSS user's question by using information from the context. Your answer must be in English. When the question cannot be answered using the context or document, output the following response without additional explanations: \"I CANNOT ANSWER THAT QUESTION BASED ON THE PROVIDED DOCUMENT.\". If the context starts with \"H\", ingore the first letters until \"\n",
    "\n",
    "\". The actual context starts after\"\n",
    "\n",
    "\". When generating responses, prioritize correctness, i.e., ensure that your response is correct given the context and user query, and that it is grounded in the context. Furthermore, make sure that the response is supported by the given document or context. Always make sure that your response is relevant to the question. Avoid repeating information unless asked. Be clear and precise - do not include addiotional information unless asked by the OSS user. Answer with maximum one sentence. If the supporting explanation is too long to fit in one sentence, use bulleted points lists when possible rather than answering in multiple long sentences.<|end_of_text|><|start_of_role|>user<|end_of_role|>Use the following pieces of context to answer the question.\n",
    "\n",
    "{contexts}\n",
    "\n",
    "Question: {question}\n",
    "\"\"\"\n",
    "\n",
    "prompt_input=\"\"\"\n",
    "\n",
    "Answer the question using below context.\n",
    "{retrieved_contexts}\n",
    "\n",
    "Question: {user_input}\n",
    "\"\"\"\n",
    "\n",
    "\n",
    "!pip install --upgrade ibm-aigov-facts-client | tail -n 1\n",
    "from ibm_cloud_sdk_core.authenticators import CloudPakForDataAuthenticator\n",
    "from ibm_aigov_facts_client import AIGovFactsClient\n",
    "from ibm_aigov_facts_client import AIGovFactsClient\n",
    "from ibm_aigov_facts_client import CloudPakforDataConfig\n",
    "creds=CloudPakforDataConfig(\n",
    "            service_url=WOS_CREDENTIALS[\"url\"],\n",
    "            username=WOS_CREDENTIALS[\"username\"],\n",
    "            password=WOS_CREDENTIALS[\"password\"]\n",
    "        )\n",
    "facts_client = AIGovFactsClient(\n",
    "                cloud_pak_for_data_configs=creds,\n",
    "                container_id=project_id,\n",
    "                container_type=\"project\",\n",
    "                disable_tracing=True)\n",
    "\n",
    "\n",
    "\n",
    "\n",
    "\n",
    "from ibm_aigov_facts_client import DetachedPromptTemplate, PromptTemplate\n",
    "\n",
    "detached_information = DetachedPromptTemplate(\n",
    "    prompt_id=\"detached_prompt 1\",\n",
    "    model_id=\"ibm/granite-3-8b-instruct\",\n",
    "    model_provider=\"Facebook\",\n",
    "    model_name=\"llama-3-70b-instruct\",\n",
    "    model_url=\"https://us-south.ml.cloud.ibm.com/ml/v1/deployments/insurance_test_deployment/text/generation?version=2021-05-01\",\n",
    "    prompt_url=\"prompt_url\",\n",
    "    prompt_additional_info={\"IBM Cloud Region\": \"us-east1\"}\n",
    ")\n",
    "\n",
    "task_id = \"retrieval_augmented_generation\"\n",
    "name = \"Prompt Template for Q&A LLM As a Judge\"\n",
    "#name = \"Prompt Template for Q&A SLM\"\n",
    "description = \"Detached prompt for Comarch RAG\"\n",
    "model_id = \"ibm/granite-3-8b-instruct\"\n",
    "\n",
    "# define parameters for PromptTemplate\n",
    "prompt_variables = {\"retrieved_contexts\": \"\",\"user_input\": \"\"}\n",
    "input = prompt_input\n",
    "input_prefix= \"\"\n",
    "output_prefix= \"\"\n",
    "\n",
    "prompt_template = PromptTemplate(\n",
    "    input=input,\n",
    "    prompt_variables=prompt_variables,\n",
    "    input_prefix=input_prefix,\n",
    "    output_prefix=output_prefix,\n",
    ")\n",
    "\n",
    "pta_details = facts_client.assets.create_detached_prompt(\n",
    "    model_id=model_id,\n",
    "    task_id=task_id,\n",
    "    name=name,\n",
    "    description=description,\n",
    "    prompt_details=prompt_template,\n",
    "    detached_information=detached_information)\n",
    "project_pta_id = pta_details.to_dict()[\"asset_id\"]\n",
    "project_pta_id\n",
    "\n",
    "\n"
   ]
  },
  {
   "cell_type": "code",
   "execution_count": 90,
   "metadata": {
    "id": "e17e3721-e29f-4028-b04c-fddbb782c438"
   },
   "outputs": [
    {
     "data": {
      "text/plain": [
       "'\\nprompt_template = PromptTemplate(name=\"RAG QA\",\\n                                 model_id=\"meta-llama/llama-3-1-8b-instruct\",\\n                                 task_ids=[\"retrieval_augmented_generation\"],\\n                                 input_prefix=\"\",\\n                                 output_prefix=\"\",\\n                                 input_text= prompt_input\\n                                 input_variables=[\"contexts\", \"question\"])\\n\\nstored_prompt_template = prompt_mgr.store_prompt(prompt_template)\\nproject_pta_id = stored_prompt_template.prompt_id\\nproject_pta_id\\n'"
      ]
     },
     "execution_count": 90,
     "metadata": {},
     "output_type": "execute_result"
    }
   ],
   "source": [
    "'''\n",
    "prompt_template = PromptTemplate(name=\"RAG QA\",\n",
    "                                 model_id=\"meta-llama/llama-3-1-8b-instruct\",\n",
    "                                 task_ids=[\"retrieval_augmented_generation\"],\n",
    "                                 input_prefix=\"\",\n",
    "                                 output_prefix=\"\",\n",
    "                                 input_text= prompt_input\n",
    "                                 input_variables=[\"contexts\", \"question\"])\n",
    "\n",
    "stored_prompt_template = prompt_mgr.store_prompt(prompt_template)\n",
    "project_pta_id = stored_prompt_template.prompt_id\n",
    "project_pta_id\n",
    "'''"
   ]
  },
  {
   "cell_type": "markdown",
   "metadata": {
    "id": "f5fbcaaf-f1be-449a-8073-377fe4d78dc0"
   },
   "source": [
    "## Step 3 - Set up the Prompt template <a name=\"ptatsetup\"></a>"
   ]
  },
  {
   "cell_type": "markdown",
   "metadata": {
    "id": "f0e48b71-2c5a-47cd-8035-d2651b675e29"
   },
   "source": [
    "### Configure OpenScale"
   ]
  },
  {
   "cell_type": "code",
   "execution_count": 91,
   "metadata": {
    "id": "ea98f094-6d20-4d31-ab5f-fe5e804d3f7b"
   },
   "outputs": [
    {
     "name": "stdout",
     "output_type": "stream",
     "text": [
      "3.0.41\n"
     ]
    }
   ],
   "source": [
    "from ibm_cloud_sdk_core.authenticators import CloudPakForDataAuthenticator\n",
    "\n",
    "from ibm_watson_openscale import *\n",
    "from ibm_watson_openscale.supporting_classes.enums import *\n",
    "from ibm_watson_openscale.supporting_classes import *\n",
    "\n",
    "\n",
    "authenticator = CloudPakForDataAuthenticator(\n",
    "        url=WOS_CREDENTIALS['url'],\n",
    "        username=WOS_CREDENTIALS['username'],\n",
    "        password=WOS_CREDENTIALS['password'],\n",
    "        disable_ssl_verification=True\n",
    "    )\n",
    "\n",
    "wos_client = APIClient(service_url=WOS_CREDENTIALS['url'],authenticator=authenticator)\n",
    "print(wos_client.version)"
   ]
  },
  {
   "cell_type": "markdown",
   "metadata": {
    "id": "7d83c21b-1119-4095-80e1-edc218a2ab4d"
   },
   "source": [
    "### List available OpenScale datamarts and configure the datamart ID"
   ]
  },
  {
   "cell_type": "code",
   "execution_count": 92,
   "metadata": {
    "id": "0c65b9d8-3fc4-4bd7-864b-dbee42eb5fab"
   },
   "outputs": [
    {
     "data": {
      "text/html": [
       "<HTML>\n",
       "        <body>\n",
       "            <h3>Data Marts</h3>\n",
       "            <table style='border: 1px solid #dddddd; font-family: Courier'>\n",
       "                <th style='border: 1px solid #dddddd'>name</th><th style='border: 1px solid #dddddd'>description</th><th style='border: 1px solid #dddddd'>internal_database</th><th style='border: 1px solid #dddddd'>status</th><th style='border: 1px solid #dddddd'>created_at</th><th style='border: 1px solid #dddddd'>id</th>\n",
       "                <tr><td style='border: 1px solid #dddddd'>None</td><td style='border: 1px solid #dddddd'>None</td><td style='border: 1px solid #dddddd'>False</td><td style='border: 1px solid #dddddd'>active</td><td style='border: 1px solid #dddddd'>2024-11-05 09:44:21.837000+00:00</td><td style='border: 1px solid #dddddd'>00000000-0000-0000-0000-000000000000</td></tr>\n",
       "            </table>\n",
       "        </body>\n",
       "        </HTML>"
      ],
      "text/plain": [
       "<IPython.core.display.HTML object>"
      ]
     },
     "metadata": {},
     "output_type": "display_data"
    }
   ],
   "source": [
    "wos_client.data_marts.show()"
   ]
  },
  {
   "cell_type": "code",
   "execution_count": 93,
   "metadata": {
    "id": "bd037955-4022-4d73-be4b-9b682d989243"
   },
   "outputs": [],
   "source": [
    "data_mart_id = \"00000000-0000-0000-0000-000000000000\""
   ]
  },
  {
   "cell_type": "markdown",
   "metadata": {
    "id": "dadcb0fa-f862-4e5a-85ef-1b47073724c7"
   },
   "source": [
    "### Map the project ID to an Openscale instance"
   ]
  },
  {
   "cell_type": "markdown",
   "metadata": {
    "id": "f6ba1b0d-904c-4ab6-a6c2-9029843ace7e"
   },
   "source": [
    "When authentication is on CPD, you must take the additional step of mapping the project_id and space_id to an OpenScale instance."
   ]
  },
  {
   "cell_type": "markdown",
   "metadata": {
    "id": "24b3c38f-4072-4e98-a0ee-eba8160b5140"
   },
   "source": [
    "### Set up the PTA in the project for evaluation with supported monitor parameters"
   ]
  },
  {
   "cell_type": "markdown",
   "metadata": {
    "id": "50492433-2be4-403a-8247-cab5c69e8140"
   },
   "source": [
    "The PTAs from a project are only supported with a `development`-type operational space ID. Running the following cell will create a `development`-type subscription from the PTA created within your project.\n",
    "\n",
    "The available parameters that can be passed for the `execute_prompt_setup` function are:\n",
    "\n",
    " * `prompt_template_asset_id`: ID of the PTA for which a subscription needs to be created\n",
    " * `label_column`: The name of the column containing the ground truth or actual labels\n",
    " * `project_id`: The ID of the project\n",
    " * `space_id`: The ID of the space\n",
    " * `deployment_id`: (optional) The ID of the deployment\n",
    " * `operational_space_id`: The rank of the environment in which the monitoring is happening. Accepted values are `development`, `pre_production`, `production`\n",
    " * `problem_type`: (optional) The task type to monitor for the given PTA\n",
    " * `classification_type`: The classification type (`binary`/`multiclass`) applicable only for the `classification` problem (task) type\n",
    " * `input_data_type`: The input data type\n",
    " * `supporting_monitors`: Monitor configuration for the subscription to be created\n",
    " * `background_mode`: When `True`, the prompt setup operation will be executed in the background"
   ]
  },
  {
   "cell_type": "markdown",
   "metadata": {
    "id": "c5d7ed67-453d-4099-b75c-8a54e78f492b"
   },
   "source": [
    "### (Optional) If you choose to use LLM As Judge for computing answer quality and retrieval quality metrics\n",
    "\n",
    "The answer quality and retrieval quality metrics can be computed using fine tuned smaller models or using LLM As Judge. To compute metrics using LLM As Judge a generative_ai_evaluator intergrated system should to be created and provided during prompt setup."
   ]
  },
  {
   "cell_type": "markdown",
   "metadata": {
    "id": "3ff07d29-f77b-4f8b-ad39-d7a64f842841"
   },
   "source": [
    "#### (Optional) Create a Generative AI evaluator if you choose LLM as judge\n",
    "\n",
    "The Generative AI Evaluator can be any model from watsonx.ai or a custom endpoint invoking external models\n",
    "\n",
    "Supported evaluator types\n",
    "* watsonx.ai (for connecting to watsonx.ai in local CPD or watsonx.ai on remote CPD or watsonx.ai on Cloud)\n",
    "* custom (for connecting to any external models)\n",
    "\n",
    "#### Integrated System parameters\n",
    "| Parameter | Description |\n",
    "|:-|:-|\n",
    "| `name` | Name for the evaluator. |\n",
    "| `description` | Description for the evaluator. |\n",
    "| `type` | The type of integrated system. Provide `generative_ai_evaluator`. |\n",
    "| `parameters` | The evaluator configuration details like `evaluator_type`, `space_id`, `project_id` and `model_id`. |\n",
    "| `credentials` | The user credentials |\n",
    "| `connection` [Optional]| The scoring endpoint details when the evaluator is of type `custom`. |\n",
    "\n",
    "As an example, an evaluator using FLAN_T5_XXL model from watsonx.ai instance present in the same CPD is created below. The other models which can be used from watsonx.ai are FLAN_T5_XXL, FLAN_UL2, FLAN_T5_XL, MIXTRAL_8X7B_INSTRUCT_V01.\n",
    "For more details on the parameters and to create the other supported evaluators please refer to the link [Generative AI evaluator templates](https://github.com/IBM/watson-openscale-samples/wiki/Generative-AI-Evaluator-templates)"
   ]
  },
  {
   "cell_type": "code",
   "execution_count": 94,
   "metadata": {
    "id": "e01a2e28-7295-4edc-87b0-277b31555234"
   },
   "outputs": [
    {
     "data": {
      "text/plain": [
       "'998c271d-3f0b-4cde-a7f1-cfdca6aec701'"
      ]
     },
     "execution_count": 94,
     "metadata": {},
     "output_type": "execute_result"
    }
   ],
   "source": [
    "from ibm_watson_machine_learning.foundation_models.utils.enums import ModelTypes\n",
    "from ibm_watson_openscale.utils.client_utils import get_cpd_decoded_token\n",
    "\n",
    "uid = get_cpd_decoded_token(WOS_CREDENTIALS[\"url\"], iam_access_token).get(\"uid\")\n",
    "gen_ai_evaluator = wos_client.integrated_systems.add(\n",
    "    name=\"llm as a judge\",\n",
    "    description=\"evaluation through llm as a judge\",\n",
    "    type=\"generative_ai_evaluator\",\n",
    "    parameters={\n",
    "        \"evaluator_type\": \"watsonx.ai\",\n",
    "        \"model_id\": \"meta-llama/llama-3-1-8b-instruct\"\n",
    "    },\n",
    "    credentials={\n",
    "        \"wml_location\": \"cpd_local\",\n",
    "        \"uid\": uid,\n",
    "        \"url\": WOS_CREDENTIALS[\"url\"],\n",
    "    }\n",
    ")\n",
    "\n",
    "# get evaluator integrated system ID\n",
    "result = gen_ai_evaluator.result._to_dict()\n",
    "evaluator_id = result[\"metadata\"][\"id\"]\n",
    "evaluator_id"
   ]
  },
  {
   "cell_type": "markdown",
   "metadata": {
    "id": "afe95f65-3a4d-48e2-93f9-164be8e1ed05"
   },
   "source": [
    "#### Generative AI monitor parameters\n",
    "\n",
    "##### Generative AI evaluator parameters\n",
    "The generative_ai_evaluator details can be provided at the global level under `generative_ai_quality.parameters` to use the same evaluator for all the Answer quality metrics(Faithfulness, Answer relevance, Answer similarity) and Retrieval quality metrics(Context relevance, Retrieval precision, Average precision, Reciprocal rank, Hit rate, Normalized Discounted Cumulative Gain).\n",
    "\n",
    "The generative ai evaluator can be specified at metric level to use different evaluators for each of the metric. The metrics under which generative_ai_evaluator parameter can be specified are faithfulness, answer_relevance, answer_similarity and retrieval_quality. The generative_ai_evaluator at the metric level takes precedence over the generative_ai_evaluator at global level\n",
    "\n",
    "| Parameter | Description | Default Value |\n",
    "|:-|:-|:-|\n",
    "| `enabled`| The flag to enable generative ai evaluator |  |\n",
    "| `evaluator_id`| The id of the generative ai evaluator integrated system. |  |\n",
    "\n",
    "##### Faithfulness parameters\n",
    "The below faithfulness parameters are supported only when generative ai evaluator is not used ie., when not using LLM as judge to compute the metrics. When using LLM as judge, the source attributions will not be computed.\n",
    "\n",
    "| Parameter | Description | Default Value |\n",
    "|:-|:-|:-|\n",
    "| `attributions_count` [Optional]| Source attributions are computed for each sentence in the generated answer. Source attribution for a sentence is the set of sentences in the context which contributed to the LLM generating that sentence in the answer.  The `attributions_count` parameter specifies the number of sentences in the context which need to be identified for attributions. , if the value is set to 2, then we will find the top 2 sentences from the context as source attributions. | `3` |\n",
    "| `ngrams` [Optional]| The number of sentences to be grouped from the context when computing faithfulness score. These grouped sentences will be shown in the attributions. Having a very high value of ngrams might lead to having lower faithfulness scores due to dispersion of data and inclusion of unrelated sentences in the attributions. Having a very low value might lead to increase in metric computation time and attributions not capturing the all the aspects of the answer. | `2` |\n",
    "\n",
    "##### Context relevance parameters\n",
    "The below context relevance parameters are supported only when generative ai evaluator is not used ie., when not using LLM as judge to compute the metrics.\n",
    "\n",
    "| Parameter | Description | Default Value |\n",
    "|:-|:-|:-|\n",
    "| `ngrams` [Optional]| The number of sentences to be grouped from the context when computing context relevance score. Having a very high value of ngrams might lead to having lower context relevance scores due to dispersion of data. Having a very low value might lead to increase in metric computation time and context relevance score not capturing the all the aspects of the question. | `2` |\n",
    "\n",
    "##### Unsuccessful requests parameters\n",
    "\n",
    "| Parameter | Description | Default Value |\n",
    "|:-|:-|:-|\n",
    "| `unsuccessful_phrases` [Optional]| The list of phrases to be used for comparing the model output to determine whether the request is unsuccessful or not. | `[\"i don't know\", \"i do not know\", \"i'm not sure\", \"i am not sure\", \"i'm unsure\", \"i am unsure\", \"i'm uncertain\", \"i am uncertain\", \"i'm not certain\", \"i am not certain\", \"i can't fulfill\", \"i cannot fulfill\"]` |\n"
   ]
  },
  {
   "cell_type": "code",
   "execution_count": 95,
   "metadata": {
    "id": "00d6b96d-08e0-46d6-9088-815791447d0c"
   },
   "outputs": [
    {
     "name": "stdout",
     "output_type": "stream",
     "text": [
      "\n",
      "\n",
      "=============================================================================\n",
      "\n",
      " Waiting for end of adding prompt setup afca833f-aeb7-4c8f-b072-1c726081ff43 \n",
      "\n",
      "=============================================================================\n",
      "\n",
      "\n",
      "\n",
      "running.....\n",
      "finished\n",
      "\n",
      "---------------------------------------------------------------\n",
      " Successfully finished setting up prompt template subscription \n",
      "---------------------------------------------------------------\n",
      "\n",
      "\n"
     ]
    },
    {
     "data": {
      "text/plain": [
       "{'prompt_template_asset_id': 'afca833f-aeb7-4c8f-b072-1c726081ff43',\n",
       " 'project_id': '36e48345-0549-4909-8440-d050e3d59b8a',\n",
       " 'deployment_id': '4d39b226-6cbf-4e7d-9c31-feed74e2b52e',\n",
       " 'service_provider_id': 'a7f2e0e1-2bc3-4e4b-91b5-b12fe8469b68',\n",
       " 'subscription_id': '3d629beb-9443-4aaa-bc18-bc538f24b6c0',\n",
       " 'mrm_monitor_instance_id': '5ce4de35-a73b-4bc5-bce3-86a71375a185',\n",
       " 'start_time': '2024-12-16T17:19:53.699919Z',\n",
       " 'end_time': '2024-12-16T17:20:30.481594Z',\n",
       " 'status': {'state': 'FINISHED'}}"
      ]
     },
     "execution_count": 95,
     "metadata": {},
     "output_type": "execute_result"
    },
    {
     "name": "stdout",
     "output_type": "stream",
     "text": [
      "..\n",
      "finished\n",
      "\n",
      "---------------------------------------------------------------\n",
      " Successfully finished setting up prompt template subscription \n",
      "---------------------------------------------------------------\n",
      "\n",
      "\n"
     ]
    },
    {
     "data": {
      "text/plain": [
       "{'prompt_template_asset_id': 'c52767fc-26cb-4517-8668-8647621f526f',\n",
       " 'project_id': '36e48345-0549-4909-8440-d050e3d59b8a',\n",
       " 'deployment_id': '88321827-80a8-4d5f-a2e8-8d6b67b0fa6b',\n",
       " 'service_provider_id': 'a7f2e0e1-2bc3-4e4b-91b5-b12fe8469b68',\n",
       " 'subscription_id': 'e400d44c-9a73-408f-9f06-c5d5f893d7de',\n",
       " 'mrm_monitor_instance_id': 'd287f312-db98-4535-adf3-388c78d0324c',\n",
       " 'start_time': '2024-12-16T11:25:27.864075Z',\n",
       " 'end_time': '2024-12-16T11:26:01.530531Z',\n",
       " 'status': {'state': 'FINISHED'}}"
      ]
     },
     "execution_count": 65,
     "metadata": {},
     "output_type": "execute_result"
    }
   ],
   "source": [
    "# Update the label_column, context_fields, question_field values based on the prompt and test data used\n",
    "label_column = \"ground_truths\"\n",
    "context_fields = [\"retrieved_contexts\"]\n",
    "question_field = \"user_input\"\n",
    "\n",
    "operational_space_id = \"development\"\n",
    "problem_type= \"retrieval_augmented_generation\"\n",
    "input_data_type= \"unstructured_text\"\n",
    "\n",
    "\n",
    "monitors = {\n",
    "    \"generative_ai_quality\": {\n",
    "        \"parameters\": {\n",
    "            # Uncomment generative_ai_evaluator to use LLM as judge, Comment it if you want to use openscale SLM\n",
    "           \"generative_ai_evaluator\": { # global LLM as judge configuration\n",
    "                \"enabled\": True,\n",
    "               \"evaluator_id\": evaluator_id,\n",
    "            },\n",
    "            \"min_sample_size\": 1,\n",
    "            \"metrics_configuration\":{\n",
    "                \"faithfulness\": {\n",
    "                   #  \"attributions_count\": 3, # Not supported for LLM as Judge\n",
    "                   #  \"ngrams\": 2,    # Not supported for LLM as Judge\n",
    "                    # Uncomment generative_ai_evaluator to use a different evaluator for this metric.\n",
    "                    # Takes higher precedence than the generative_ai_evaluator specified at global level.\n",
    "                    #\"generative_ai_evaluator\": { # metric specific LLM as judge configuration\n",
    "                    #    \"enabled\": True,\n",
    "                    #    \"evaluator_id\": evaluator_id\n",
    "                    #},\n",
    "                },\n",
    "                \"answer_relevance\": {\n",
    "                    # Uncomment generative_ai_evaluator to use a different evaluator for this metric\n",
    "                    # Takes higher precedence than the generative_ai_evaluator specified at global level.\n",
    "                    #\"generative_ai_evaluator\": { # metric specific LLM as judge configuration\n",
    "                    #    \"enabled\": True,\n",
    "                    #    \"evaluator_id\": evaluator_id\n",
    "                    #},\n",
    "                },\n",
    "                \"rouge_score\": {},\n",
    "                #\"exact_match\": {},\n",
    "                #\"bleu\": {},\n",
    "                #\"unsuccessful_requests\": {\n",
    "                    #\"unsuccessful_phrases\": []\n",
    "                #},\n",
    "                #\"hap_input_score\": {},\n",
    "                #\"hap_score\": {},\n",
    "                #\"pii\": {},\n",
    "                #\"pii_input\": {},\n",
    "                \"retrieval_quality\": {\n",
    "                    # Uncomment generative_ai_evaluator to use a different evaluator for this metric\n",
    "                    # Takes higher precedence than the generative_ai_evaluator specified at global level.\n",
    "                    #\"generative_ai_evaluator\": { # metric specific LLM as judge configuration\n",
    "                    #    \"enabled\": True,\n",
    "                    #    \"evaluator_id\": evaluator_id\n",
    "                    #},\n",
    "                    # The metrics computed for retrieval quality are context_relevance, retrieval_precision, average_precision, reciprocal_rank, hit_rate, normalized_discounted_cumulative_gain\n",
    "                    \"context_relevance\": {\n",
    "                        #\"ngrams\": 2,    # Not supported for LLM as Judge\n",
    "                    }\n",
    "                },\n",
    "                # Answer similarity metric is supported only when LLM as judge is configured. Uncomment only when using LLM as judge.\n",
    "                \"answer_similarity\": {\n",
    "                    # Uncomment generative_ai_evaluator to use a different evaluator for this metric\n",
    "                    # Takes higher precedence than the generative_ai_evaluator specified at global level.\n",
    "                    #\"generative_ai_evaluator\": { # metric specific LLM as judge configuration\n",
    "                    #    \"enabled\": True,\n",
    "                    #    \"evaluator_id\": evaluator_id\n",
    "                    #},\n",
    "                }\n",
    "            }\n",
    "        }\n",
    "    }\n",
    "}\n",
    "\n",
    "response = wos_client.wos.execute_prompt_setup(prompt_template_asset_id = project_pta_id, \n",
    "                                               project_id = project_id,\n",
    "                                               context_fields = context_fields,\n",
    "                                               question_field = question_field,\n",
    "                                               label_column = label_column,\n",
    "                                               operational_space_id = operational_space_id, \n",
    "                                               problem_type = problem_type,\n",
    "                                               input_data_type = input_data_type, \n",
    "                                               supporting_monitors = monitors, \n",
    "                                               background_mode = False)\n",
    "\n",
    "result = response.result\n",
    "result._to_dict()"
   ]
  },
  {
   "cell_type": "markdown",
   "metadata": {
    "id": "bcdaa0d3-0c0f-49cb-a14c-9cf57716d817"
   },
   "source": [
    "With the following cell, you can read the prompt setup task and check its status"
   ]
  },
  {
   "cell_type": "code",
   "execution_count": 96,
   "metadata": {
    "id": "642cd908-0d3c-4ac2-988f-192b6228e9b4"
   },
   "outputs": [
    {
     "name": "stdout",
     "output_type": "stream",
     "text": [
      "Finished prompt setup : The response is {'prompt_template_asset_id': 'afca833f-aeb7-4c8f-b072-1c726081ff43', 'project_id': '36e48345-0549-4909-8440-d050e3d59b8a', 'deployment_id': '4d39b226-6cbf-4e7d-9c31-feed74e2b52e', 'service_provider_id': 'a7f2e0e1-2bc3-4e4b-91b5-b12fe8469b68', 'subscription_id': '3d629beb-9443-4aaa-bc18-bc538f24b6c0', 'mrm_monitor_instance_id': '5ce4de35-a73b-4bc5-bce3-86a71375a185', 'start_time': '2024-12-16T17:19:53.699919Z', 'end_time': '2024-12-16T17:20:30.481594Z', 'status': {'state': 'FINISHED'}}\n"
     ]
    }
   ],
   "source": [
    "response = wos_client.wos.get_prompt_setup(prompt_template_asset_id = project_pta_id,\n",
    "                                                             project_id = project_id)\n",
    "\n",
    "result = response.result\n",
    "result_json = result._to_dict()\n",
    "\n",
    "if result_json[\"status\"][\"state\"] == \"FINISHED\":\n",
    "    print(\"Finished prompt setup : The response is {}\".format(result_json))\n",
    "else:\n",
    "    print(\"prompt setup failed The response is {}\".format(result_json))"
   ]
  },
  {
   "cell_type": "markdown",
   "metadata": {
    "id": "0dccbb06-ea2f-4004-9eea-e8fba8ba9278"
   },
   "source": [
    "### Read the `subscription_id` from the prompt setup"
   ]
  },
  {
   "cell_type": "markdown",
   "metadata": {
    "id": "645fa0b3-2f59-49eb-ae7e-d6e704e375f3"
   },
   "source": [
    "Once the prompt setup status is `FINISHED`, read the subscription ID:"
   ]
  },
  {
   "cell_type": "code",
   "execution_count": 97,
   "metadata": {
    "id": "56a66cdd-3c4b-4cf5-acc6-cc1eda258eec"
   },
   "outputs": [
    {
     "data": {
      "text/plain": [
       "'3d629beb-9443-4aaa-bc18-bc538f24b6c0'"
      ]
     },
     "execution_count": 97,
     "metadata": {},
     "output_type": "execute_result"
    }
   ],
   "source": [
    "dev_subscription_id = result_json[\"subscription_id\"]\n",
    "dev_subscription_id"
   ]
  },
  {
   "cell_type": "markdown",
   "metadata": {
    "id": "f6ce33aa-5959-41f6-a433-bcc5e7235b7e"
   },
   "source": [
    "### Show all monitor instances in the development subscription\n",
    "The following cell lists the monitors present in the development subscription, along with their respective statuses and other details. Please wait for all the monitors to be in an active state before proceeding further."
   ]
  },
  {
   "cell_type": "code",
   "execution_count": 98,
   "metadata": {
    "id": "e98875e2-9b71-4fda-b1f7-018eaf2ccdd5"
   },
   "outputs": [
    {
     "data": {
      "text/html": [
       "<HTML>\n",
       "        <body>\n",
       "            <h3>Monitor instances</h3>\n",
       "            <table style='border: 1px solid #dddddd; font-family: Courier'>\n",
       "                <th style='border: 1px solid #dddddd'>data_mart_id</th><th style='border: 1px solid #dddddd'>status</th><th style='border: 1px solid #dddddd'>target_id</th><th style='border: 1px solid #dddddd'>target_type</th><th style='border: 1px solid #dddddd'>monitor_definition_id</th><th style='border: 1px solid #dddddd'>created_at</th><th style='border: 1px solid #dddddd'>id</th>\n",
       "                <tr><td style='border: 1px solid #dddddd'>00000000-0000-0000-0000-000000000000</td><td style='border: 1px solid #dddddd'>active</td><td style='border: 1px solid #dddddd'>3d629beb-9443-4aaa-bc18-bc538f24b6c0</td><td style='border: 1px solid #dddddd'>subscription</td><td style='border: 1px solid #dddddd'>generative_ai_quality</td><td style='border: 1px solid #dddddd'>2024-12-16 17:20:16.409000+00:00</td><td style='border: 1px solid #dddddd'>ad1584d0-f96e-4ff7-97dc-4b492d88fe89</td></tr><tr><td style='border: 1px solid #dddddd'>00000000-0000-0000-0000-000000000000</td><td style='border: 1px solid #dddddd'>active</td><td style='border: 1px solid #dddddd'>3d629beb-9443-4aaa-bc18-bc538f24b6c0</td><td style='border: 1px solid #dddddd'>subscription</td><td style='border: 1px solid #dddddd'>model_health</td><td style='border: 1px solid #dddddd'>2024-12-16 17:20:17.483000+00:00</td><td style='border: 1px solid #dddddd'>fee1facd-2e69-433a-ae32-df1ea322965e</td></tr><tr><td style='border: 1px solid #dddddd'>00000000-0000-0000-0000-000000000000</td><td style='border: 1px solid #dddddd'>active</td><td style='border: 1px solid #dddddd'>3d629beb-9443-4aaa-bc18-bc538f24b6c0</td><td style='border: 1px solid #dddddd'>subscription</td><td style='border: 1px solid #dddddd'>mrm</td><td style='border: 1px solid #dddddd'>2024-12-16 17:20:18.639000+00:00</td><td style='border: 1px solid #dddddd'>5ce4de35-a73b-4bc5-bce3-86a71375a185</td></tr>\n",
       "            </table>\n",
       "        </body>\n",
       "        </HTML>"
      ],
      "text/plain": [
       "<IPython.core.display.HTML object>"
      ]
     },
     "metadata": {},
     "output_type": "display_data"
    }
   ],
   "source": [
    "wos_client.monitor_instances.show(target_target_id = dev_subscription_id)"
   ]
  },
  {
   "cell_type": "markdown",
   "metadata": {
    "id": "0013c9fc-e78f-4953-924e-bf9440e46392"
   },
   "source": [
    "## Step 4 - Risk evaluations for the PTA subscription <a name=\"evaluate\"></a>"
   ]
  },
  {
   "cell_type": "markdown",
   "metadata": {
    "id": "5a483fcc-946c-456a-bcac-c1dbb76e2e3d"
   },
   "source": [
    "### Evaluate the prompt template subscription\n",
    "\n",
    "For risk assessment of a `development`-type subscription, you must have an evaluation dataset. The risk assessment function takes the evaluation dataset path as a parameter when evaluating the configured metrics. If there is a discrepancy between the feature columns in the subscription and the column names in the uploading `.CSV` file, you have the option to supply a mapping JSON file to associate the `.CSV` column names with the feature column names in the subscription.\n",
    "\n",
    "**Note**: If you are running this notebook from Watson Studio, you may first need to upload your test data to Watson Studio, then run the code snippet below to download the feedback data file from the project to a local directory."
   ]
  },
  {
   "cell_type": "code",
   "execution_count": 104,
   "metadata": {
    "id": "7ad18ca0-2be2-4cd5-b11b-3249f4a800cf"
   },
   "outputs": [
    {
     "name": "stdout",
     "output_type": "stream",
     "text": [
      "--2024-12-16 17:25:32--  https://ibm.box.com/shared/static/1o6u5oeo7cmc9odoogdx3uc8nu7yi5s0.csv\n",
      "Resolving ibm.box.com (ibm.box.com)... 74.112.186.157\n",
      "Connecting to ibm.box.com (ibm.box.com)|74.112.186.157|:443... connected.\n",
      "HTTP request sent, awaiting response... 301 Moved Permanently\n",
      "Location: /public/static/1o6u5oeo7cmc9odoogdx3uc8nu7yi5s0.csv [following]\n",
      "--2024-12-16 17:25:33--  https://ibm.box.com/public/static/1o6u5oeo7cmc9odoogdx3uc8nu7yi5s0.csv\n",
      "Reusing existing connection to ibm.box.com:443.\n",
      "HTTP request sent, awaiting response... 301 Moved Permanently\n",
      "Location: https://ibm.ent.box.com/public/static/1o6u5oeo7cmc9odoogdx3uc8nu7yi5s0.csv [following]\n",
      "--2024-12-16 17:25:33--  https://ibm.ent.box.com/public/static/1o6u5oeo7cmc9odoogdx3uc8nu7yi5s0.csv\n",
      "Resolving ibm.ent.box.com (ibm.ent.box.com)... 74.112.186.157\n",
      "Connecting to ibm.ent.box.com (ibm.ent.box.com)|74.112.186.157|:443... connected.\n",
      "HTTP request sent, awaiting response... 302 Found\n",
      "Location: https://public.boxcloud.com/d/1/b1!jcx9jCcf0SNLXiRi2uuzed3EH-CN3Q6PkoZKZeJbYv5SirZalbcMrxjMm0DISYZmhGObGdbCFac1-kGf_ZrYjoRJJCdNAE71aOdN69tIOmsmOuYcZNOzwrCXcM6UJakMjAKZWkpLyxiy_5mimBYCHxwlVCFjA_LxSMP981rTtpmRSX-xV_zpL26vcjqkkEMkyKAAhul-5M340uS9PNUel4njp8AkWwuZAcxZCDC5rS4HOJq7a0w_2bzxe9JzgME7zfQ_Lz19y-YD5FKExAJfzfukrkqPlDGLaKnuLzs_QnEYWlPbmmUm5f-cCQacXo9vD25ClTm-0rjh4RquOYKxBrdwnW3-T6stJdvvnUcCSKWsT-VJpVlYgx6fNcI6bOvqAFcX_0H06Efz3qr6QydfntKlAZMnWQwsDDRDpcu40_hYAjMyVI8ALZIbUi1mkmOcxIGB_O-Q1g58yJObmCBivpiNWbf9gTQzc-ahQPpGaoumhYIR_uo5QkZP15IbuTzRxnxPVVW_G7F3uZfGOYimGPCMR2cM1rdf8oG7gyY0DsAEwTxAuZSDpPqWiuZDVLniMfsTH4pkPp3GbJiKxMWGoUTmz19tBTWQWQsrsFL7POUADJKNAeYcI1bnEpL09-en4SoX4SMJZ-yGA-SqdLhf-YeOUFipfmv6s_GWfGUP3PCPr40T_8vwf78LxadHmhqIc2wNShVaDB4IM_Wem4TL2c6boo7xMmMKF4zR2aVE-LVjXxTF7-Qqh56sHVpY5-PvGTBFJ6Ht9gubZQN66Q2CpZBsft60L8hE1ErbJXA4GZ1A_ZquLgOfgM7AL6PW7Bi14FHTwOMxeGoTbEoDEOnuZBfH0XFaec52rk7I9XFUsIdTBCD1jK1CD2WRnzpvnV70Mhx2l512xqxWH3dySA0BQSB_fLPUADfmyaOUsb-ein9I3fuS8ciIZ0iEubpHQj05XeWHAZqImroRwBV2lw-ina6fRlq1idEKol5Gpd9mFBj1uzxVmv82CNQNwSMx0lkjCbf3L7F0oUkd4w_skR4QI_dQric5WV6wxGogk3CmxRjXUkaexxz6wChDAhi12d006vMIaA5H078w9h1JDFsc3L16vP0fV08pt53Nhh0yeaplHDNoj0ax-emiu-kpquMxCGJwa0elcG4dT585HgiePz0Av7QDeRrNuIBAD4bMINT7jBQu-IjSktOoec5KrdI7jzPUwqyKEunld2_MQpCbBXS-pIC-ffBHlbT5ykuX6xijHvDPvcWu8tGtVRUupNTVjr7tEHuBTJc46Vdys5cae-92oVxIbPIw3LObEfT_gb1QPqSm22jBGGpHkhStl3yOhG3K6wl8UuN9b3uhqmK6Ixm4irwF0G--198Lk6Lu32Hn0UwwrzBPYspi88co/download [following]\n",
      "--2024-12-16 17:25:34--  https://public.boxcloud.com/d/1/b1!jcx9jCcf0SNLXiRi2uuzed3EH-CN3Q6PkoZKZeJbYv5SirZalbcMrxjMm0DISYZmhGObGdbCFac1-kGf_ZrYjoRJJCdNAE71aOdN69tIOmsmOuYcZNOzwrCXcM6UJakMjAKZWkpLyxiy_5mimBYCHxwlVCFjA_LxSMP981rTtpmRSX-xV_zpL26vcjqkkEMkyKAAhul-5M340uS9PNUel4njp8AkWwuZAcxZCDC5rS4HOJq7a0w_2bzxe9JzgME7zfQ_Lz19y-YD5FKExAJfzfukrkqPlDGLaKnuLzs_QnEYWlPbmmUm5f-cCQacXo9vD25ClTm-0rjh4RquOYKxBrdwnW3-T6stJdvvnUcCSKWsT-VJpVlYgx6fNcI6bOvqAFcX_0H06Efz3qr6QydfntKlAZMnWQwsDDRDpcu40_hYAjMyVI8ALZIbUi1mkmOcxIGB_O-Q1g58yJObmCBivpiNWbf9gTQzc-ahQPpGaoumhYIR_uo5QkZP15IbuTzRxnxPVVW_G7F3uZfGOYimGPCMR2cM1rdf8oG7gyY0DsAEwTxAuZSDpPqWiuZDVLniMfsTH4pkPp3GbJiKxMWGoUTmz19tBTWQWQsrsFL7POUADJKNAeYcI1bnEpL09-en4SoX4SMJZ-yGA-SqdLhf-YeOUFipfmv6s_GWfGUP3PCPr40T_8vwf78LxadHmhqIc2wNShVaDB4IM_Wem4TL2c6boo7xMmMKF4zR2aVE-LVjXxTF7-Qqh56sHVpY5-PvGTBFJ6Ht9gubZQN66Q2CpZBsft60L8hE1ErbJXA4GZ1A_ZquLgOfgM7AL6PW7Bi14FHTwOMxeGoTbEoDEOnuZBfH0XFaec52rk7I9XFUsIdTBCD1jK1CD2WRnzpvnV70Mhx2l512xqxWH3dySA0BQSB_fLPUADfmyaOUsb-ein9I3fuS8ciIZ0iEubpHQj05XeWHAZqImroRwBV2lw-ina6fRlq1idEKol5Gpd9mFBj1uzxVmv82CNQNwSMx0lkjCbf3L7F0oUkd4w_skR4QI_dQric5WV6wxGogk3CmxRjXUkaexxz6wChDAhi12d006vMIaA5H078w9h1JDFsc3L16vP0fV08pt53Nhh0yeaplHDNoj0ax-emiu-kpquMxCGJwa0elcG4dT585HgiePz0Av7QDeRrNuIBAD4bMINT7jBQu-IjSktOoec5KrdI7jzPUwqyKEunld2_MQpCbBXS-pIC-ffBHlbT5ykuX6xijHvDPvcWu8tGtVRUupNTVjr7tEHuBTJc46Vdys5cae-92oVxIbPIw3LObEfT_gb1QPqSm22jBGGpHkhStl3yOhG3K6wl8UuN9b3uhqmK6Ixm4irwF0G--198Lk6Lu32Hn0UwwrzBPYspi88co/download\n",
      "Resolving public.boxcloud.com (public.boxcloud.com)... 74.112.186.164, 2620:117:bff0:e2::\n",
      "Connecting to public.boxcloud.com (public.boxcloud.com)|74.112.186.164|:443... connected.\n",
      "HTTP request sent, awaiting response... 200 OK\n",
      "Length: 285899 (279K) [text/csv]\n",
      "Saving to: ‘1o6u5oeo7cmc9odoogdx3uc8nu7yi5s0.csv’\n",
      "\n",
      "1o6u5oeo7cmc9odoogd 100%[===================>] 279.20K   651KB/s    in 0.4s    \n",
      "\n",
      "2024-12-16 17:25:35 (651 KB/s) - ‘1o6u5oeo7cmc9odoogdx3uc8nu7yi5s0.csv’ saved [285899/285899]\n",
      "\n",
      "--2024-12-16 17:25:35--  http://paragraphs_watson_version_2.csv/\n",
      "Resolving paragraphs_watson_version_2.csv (paragraphs_watson_version_2.csv)... failed: Name or service not known.\n",
      "wget: unable to resolve host address ‘paragraphs_watson_version_2.csv’\n",
      "FINISHED --2024-12-16 17:25:35--\n",
      "Total wall clock time: 2.9s\n",
      "Downloaded: 1 files, 279K in 0.4s (651 KB/s)\n",
      "301 Moved Permanently\n",
      "Location: /public/static/skzhejosxkw68h5hsqqttmtmqwu7jyiv.csv [following]\n",
      "--2024-12-16 11:26:05--  https://ibm.box.com/public/static/skzhejosxkw68h5hsqqttmtmqwu7jyiv.csv\n",
      "Reusing existing connection to ibm.box.com:443.\n",
      "HTTP request sent, awaiting response... 301 Moved Permanently\n",
      "Location: https://ibm.ent.box.com/public/static/skzhejosxkw68h5hsqqttmtmqwu7jyiv.csv [following]\n",
      "--2024-12-16 11:26:05--  https://ibm.ent.box.com/public/static/skzhejosxkw68h5hsqqttmtmqwu7jyiv.csv\n",
      "Resolving ibm.ent.box.com (ibm.ent.box.com)... 74.112.186.157\n",
      "Connecting to ibm.ent.box.com (ibm.ent.box.com)|74.112.186.157|:443... connected.\n",
      "HTTP request sent, awaiting response... 302 Found\n",
      "Location: https://public.boxcloud.com/d/1/b1!PEPcAzQZLM773bGMR-z_tYUe8h5A7LbRQVpcTw9JZHOl8fYdTMfRakupPdlAarAD-eGFAIq-3XJA3KTUTEAeUYE6p8AN4qA1uFfRSX6O3P_B5HewtvhfrrkXT3zKszgBY2ksfE11gmFVzr-KFe2EtrCxACx2uSBDtvbhnToIhLt6L-XPVfGnjBbgL9SfhU1wXz4EyGsc1axBFXZ_XBytPA0V0umUHSZaIKnpyl7F4ya46KueEkL3pVKzvSKMGhdljnbTtUYsfB0hslOUcRIN-w0U3pK0rbxtJAKndn1_iXKen3r8ttoDum97aIa3Pd5TfCXQxslv4ZWa498hHXBaBC6TCFtF_x_h-0H5-7sbN-BZFu5nvKPFsqWyhzegPf-jYKqLXKlAqttLpcWg9EbagxbpbE_Frd1B96ytB_ARV1buMa8zUkmCfbE3J_RtLrOGgaJ5P-8ZNCfZZAm6rpVGDrtrISFo3ClPrvCqq1Dodbg3KS8THrMgPPowrQ_X79UKEIn1QdWPMfPXgL-HAMnvpLCDtbQy6SJD44KU0HPlEqoffmuRtWveeJWOTdRjwZ1FEXrLyoKNLv7BVulDy2aiak3x6uRkBKnRCy3C8IiZpRIPRnveqdaZ3MELlCBgTPm-xzZDCAPGGfE3s9F6wzfY_cNfoJg2kNQW2FanXRtfM9t7_BVFOVj5paXaEQs3FrQ2GDzZWsPY-2O0ghPnp92H2lye7t2Eq0HcqPfTFWOmfp_vAYmHzIV2MTzujhuyV0ojpwleorrX64AmEB_VClNvwBn1tLWYRQ2OZIbtjlOobPJH_sYiI14wxhThkwbmALbAnXF7FC3TBDocOrzlwbXgit629fttFexE3pq3o4fB4f5wvNvSZlQmxWmxDv-8s0NTm7I-EmV_U403D404YszZ53fxAYiHSoZEZXuI993SjIPDsP34kriJ3cVlhlPm583wtDNFxy5DBBbwiHZ9AEldgbBYOJ250xTwKgIXEZOqtIYpxEzDatbJ3ZUAtiwL_XWVg0XyEdGqJnT2NmCRkdzEGz40_h3sHYhbYd8Pa3W10UcSe72xCii7NUR6G01KtmfOH9ZzBIcwGn7VKxHRf-kadPXk2FDUyZMHzsCi-1pbUqQ5arepxx7FRbfVCkcqZGj90Xk8FOVGDPmrR-jj22_WfTOTS-plG5N--gS2JQE1R6FrMoMwvdArqVWwloYgULxzU01p2A_iCny5tx60h07klJleMmhmk-bWvj8zUn1UOMKvnSwwt9BYVj36dQrDyCN1aPPOfQLHq2jbSSs5XubpDxcdrRbjSiQS3bFPf5diZcupuoY0ivIlOitLd6JBxZdC77k6eTz6f0Yh0zP27jYkoImM0y6OCS9lguIS5fJQPaKjME3zeqvwIZYH2u_MP1h7hy81E59uQ30VKs69WfTA4MMGwQmjObLFMwR5hzaKboyY/download [following]\n",
      "--2024-12-16 11:26:07--  https://public.boxcloud.com/d/1/b1!PEPcAzQZLM773bGMR-z_tYUe8h5A7LbRQVpcTw9JZHOl8fYdTMfRakupPdlAarAD-eGFAIq-3XJA3KTUTEAeUYE6p8AN4qA1uFfRSX6O3P_B5HewtvhfrrkXT3zKszgBY2ksfE11gmFVzr-KFe2EtrCxACx2uSBDtvbhnToIhLt6L-XPVfGnjBbgL9SfhU1wXz4EyGsc1axBFXZ_XBytPA0V0umUHSZaIKnpyl7F4ya46KueEkL3pVKzvSKMGhdljnbTtUYsfB0hslOUcRIN-w0U3pK0rbxtJAKndn1_iXKen3r8ttoDum97aIa3Pd5TfCXQxslv4ZWa498hHXBaBC6TCFtF_x_h-0H5-7sbN-BZFu5nvKPFsqWyhzegPf-jYKqLXKlAqttLpcWg9EbagxbpbE_Frd1B96ytB_ARV1buMa8zUkmCfbE3J_RtLrOGgaJ5P-8ZNCfZZAm6rpVGDrtrISFo3ClPrvCqq1Dodbg3KS8THrMgPPowrQ_X79UKEIn1QdWPMfPXgL-HAMnvpLCDtbQy6SJD44KU0HPlEqoffmuRtWveeJWOTdRjwZ1FEXrLyoKNLv7BVulDy2aiak3x6uRkBKnRCy3C8IiZpRIPRnveqdaZ3MELlCBgTPm-xzZDCAPGGfE3s9F6wzfY_cNfoJg2kNQW2FanXRtfM9t7_BVFOVj5paXaEQs3FrQ2GDzZWsPY-2O0ghPnp92H2lye7t2Eq0HcqPfTFWOmfp_vAYmHzIV2MTzujhuyV0ojpwleorrX64AmEB_VClNvwBn1tLWYRQ2OZIbtjlOobPJH_sYiI14wxhThkwbmALbAnXF7FC3TBDocOrzlwbXgit629fttFexE3pq3o4fB4f5wvNvSZlQmxWmxDv-8s0NTm7I-EmV_U403D404YszZ53fxAYiHSoZEZXuI993SjIPDsP34kriJ3cVlhlPm583wtDNFxy5DBBbwiHZ9AEldgbBYOJ250xTwKgIXEZOqtIYpxEzDatbJ3ZUAtiwL_XWVg0XyEdGqJnT2NmCRkdzEGz40_h3sHYhbYd8Pa3W10UcSe72xCii7NUR6G01KtmfOH9ZzBIcwGn7VKxHRf-kadPXk2FDUyZMHzsCi-1pbUqQ5arepxx7FRbfVCkcqZGj90Xk8FOVGDPmrR-jj22_WfTOTS-plG5N--gS2JQE1R6FrMoMwvdArqVWwloYgULxzU01p2A_iCny5tx60h07klJleMmhmk-bWvj8zUn1UOMKvnSwwt9BYVj36dQrDyCN1aPPOfQLHq2jbSSs5XubpDxcdrRbjSiQS3bFPf5diZcupuoY0ivIlOitLd6JBxZdC77k6eTz6f0Yh0zP27jYkoImM0y6OCS9lguIS5fJQPaKjME3zeqvwIZYH2u_MP1h7hy81E59uQ30VKs69WfTA4MMGwQmjObLFMwR5hzaKboyY/download\n",
      "Resolving public.boxcloud.com (public.boxcloud.com)... 74.112.186.164, 2620:117:bff0:e2::\n"
     ]
    },
    {
     "name": "stdout",
     "output_type": "stream",
     "text": [
      "Connecting to public.boxcloud.com (public.boxcloud.com)|74.112.186.164|:443... connected.\n",
      "HTTP request sent, awaiting response... 200 OK\n",
      "Length: 392929 (384K) [text/csv]\n",
      "Saving to: ‘skzhejosxkw68h5hsqqttmtmqwu7jyiv.csv’\n",
      "\n",
      "skzhejosxkw68h5hsqq 100%[===================>] 383.72K   852KB/s    in 0.5s    \n",
      "\n",
      "2024-12-16 11:26:08 (852 KB/s) - ‘skzhejosxkw68h5hsqqttmtmqwu7jyiv.csv’ saved [392929/392929]\n",
      "\n",
      "--2024-12-16 11:26:08--  http://paragraphs_watson_version_2.csv/\n",
      "Resolving paragraphs_watson_version_2.csv (paragraphs_watson_version_2.csv)... failed: Name or service not known.\n",
      "wget: unable to resolve host address ‘paragraphs_watson_version_2.csv’\n",
      "FINISHED --2024-12-16 11:26:08--\n",
      "Total wall clock time: 3.0s\n",
      "Downloaded: 1 files, 384K in 0.5s (852 KB/s)\n"
     ]
    }
   ],
   "source": [
    "# Download rag data\n",
    "!rm paragraphs_watson_version_2.csv\n",
    "!wget https://ibm.box.com/shared/static/1o6u5oeo7cmc9odoogdx3uc8nu7yi5s0.csv paragraphs_watson_version_2.csv\n",
    "#!wget https://ibm.box.com/shared/static/ur6dchp9ypx57jor3j5dz3inu85omhvf.csv\n",
    "#!wget https://raw.githubusercontent.com/IBM/watson-openscale-samples/main/IBM%20Cloud/WML/assets/data/watsonx/rag_state_union.csv\n",
    "!mv 1o6u5oeo7cmc9odoogdx3uc8nu7yi5s0.csv  paragraphs_watson_version_2.csv"
   ]
  },
  {
   "cell_type": "code",
   "execution_count": 120,
   "metadata": {
    "id": "8e0b1058-b46e-48ab-a2a7-06549217f2a5"
   },
   "outputs": [
    {
     "name": "stdout",
     "output_type": "stream",
     "text": [
      "                                           user_input  \\\n",
      "0             Can I suspend an order that is ongoing?   \n",
      "1             How python is supported in Comarch ROM?   \n",
      "2      Where can I find python documentation for ROM?   \n",
      "3   What are the main stages in ROM order processing?   \n",
      "4                        Is Comarch ROM intent-based?   \n",
      "5       Can I order template element directly in ROM?   \n",
      "6                           What Resource Catalog is?   \n",
      "7   What types of Resource Specification can be cr...   \n",
      "8   What types of characteristics are supported by...   \n",
      "9   How can I track changes introduced to specific...   \n",
      "10                      What is Service Specification   \n",
      "11  What types of characteristics are supported by...   \n",
      "12                          What 'Origin' stands for?   \n",
      "13            What does it mean to redefine relation?   \n",
      "14                     What is Service Order Manager?   \n",
      "15                            How to create an Order?   \n",
      "16                     How to track OrdersÕ progress?   \n",
      "17                                      What is Task?   \n",
      "18      What is Catalogue-driven order orchestration?   \n",
      "19                           What is Service Factory?   \n",
      "20  How external systems can be notified about ord...   \n",
      "21  What Ethernet speeds are supported in Comarch ...   \n",
      "22  What encapsulations are supported in Comarch O...   \n",
      "23  What link discovery posprocesses are available...   \n",
      "24  What types of VLAN Interfaces are supported by...   \n",
      "25  How can I check the available connection optio...   \n",
      "26     Can I add new values to the system dictionary?   \n",
      "27  What is the difference between installation tr...   \n",
      "28  How do I create service parameters in the OSS ...   \n",
      "29  Can I simulate GPON network performance before...   \n",
      "\n",
      "                                   retrieved_contexts  \\\n",
      "0   ['| UC-OSS-NGSO-SOM-011 Modifying an ongoing O...   \n",
      "1   ['| Bronze | Silver | Gold | | --- | --- | ---...   \n",
      "2   ['5. 11 Script API Introduction    5. 11, 1 BP...   \n",
      "3   ['Finally, ROM sends requests/orders to the so...   \n",
      "4   [\"Orchestration can be useful also in simpler ...   \n",
      "5   ['VNFPK  VNF  VNF  VNF  Logica Logica Logica L...   \n",
      "6   ['Acknowledgements. . . . . . . . . . . . . . ...   \n",
      "7   ['| UC-OSS-RC-2 Browsing Templates and Templat...   \n",
      "8   ['In addition, this functionality is supported...   \n",
      "9   ['The users can change the model over time. Th...   \n",
      "10  ['UC-OSS-SC-3 Creating a new Service Specifica...   \n",
      "11  ['The import feature allows adding new Service...   \n",
      "12  ['Prerequisite N/A Business Value As a user, I...   \n",
      "13  ['Logical Function Logical Function  Physical ...   \n",
      "14  ['3. Click [Add]. COMARCH  SERVICE MANAGEMENT ...   \n",
      "15  ['3. Click [Add]. COMARCH  SERVICE MANAGEMENT ...   \n",
      "16  ['The system confirms that the Order has been ...   \n",
      "17  ['RESOURCE ORDER MANAGEMENT | | created detail...   \n",
      "18  ['Our proposal according to the divide and con...   \n",
      "19  ['3. 4. 1 Related Types The following roles (p...   \n",
      "20  ['In processing orders time: 823 average sec O...   \n",
      "21  ['Recommended Reading For more information on ...   \n",
      "22  ['The Ethernet Interface object consists of th...   \n",
      "23  ['Precise Network Element Type Physical Device...   \n",
      "24  ['S-VLAN erminal Access Router 100 AN ID: An T...   \n",
      "25  [') Distribution Area Service Connection Optio...   \n",
      "26  ['N/A N/A Remarks Availability Web GUI Actors ...   \n",
      "27  ['TC2 | Technology | Fixed Access | | --- | --...   \n",
      "28  ['Target state (default for order items) - Act...   \n",
      "29  ['- Define Requested Network Change    CHANGE ...   \n",
      "\n",
      "                                       generated_text  \\\n",
      "0   Yes, you can suspend an ongoing order using th...   \n",
      "1   In Comarch ROM, Python is supported as one of ...   \n",
      "2   The technical documentation of the Ordering Ma...   \n",
      "3   The main stages in ROM order processing are:\\n...   \n",
      "4   Yes, Comarch Resource Order Management (ROM) i...   \n",
      "5   No, you cannot order a template element direct...   \n",
      "6   The Resource Catalog is a component in the Com...   \n",
      "7   There are four basic types of Resource Specifi...   \n",
      "8   Resource Catalog supports various types of cha...   \n",
      "9   You can track changes introduced to specificat...   \n",
      "10  A Service Specification in the context of Coma...   \n",
      "11  Service Catalog supports creating various type...   \n",
      "12  The context provided does not contain informat...   \n",
      "13  Redefining a relation in the context of Comarc...   \n",
      "14  Service Order Manager is a module within Comar...   \n",
      "15  To create an Order in Comarch Service Manageme...   \n",
      "16  To track Orders' progress in Comarch Service M...   \n",
      "17  A Task in Comarch's Resource Order Management ...   \n",
      "18  Catalogue-driven order processing orchestratio...   \n",
      "19  A Service Factory in Comarch is a component th...   \n",
      "20  External systems can be notified about order p...   \n",
      "21  Comarch OSS supports the following Ethernet sp...   \n",
      "22  In Comarch OSS, the Ethernet Interface support...   \n",
      "23  In Comarch OSS Inventory, there are two link d...   \n",
      "24  Comarch OSS Inventory supports the following t...   \n",
      "25  To check the available connection options for ...   \n",
      "26  Yes, you can add new values to the system dict...   \n",
      "27  Installation trails are used to connect distri...   \n",
      "28  To create service parameters in the Comarch OS...   \n",
      "29  Yes, you can simulate GPON network performance...   \n",
      "\n",
      "                                        ground_truths  \n",
      "0   Yes, as long as the order has not passed the p...  \n",
      "1   Comarch ROM supports Python in several ways, i...  \n",
      "2   The technical documentation of the python SDK ...  \n",
      "3   When an Order is received in ROM via the NBI, ...  \n",
      "4   Yes, the intent is expressed in Comarch OSS as...  \n",
      "5   No, template elements cannot be ordered in ROM...  \n",
      "6   Resource Catalog is designed to facilitate the...  \n",
      "7   There are three basic types of Resource Specif...  \n",
      "8   The type of the value accepted by the Characte...  \n",
      "9   The Audit tab displays revisions of Resource S...  \n",
      "10  Service Specification is a definition that inc...  \n",
      "11  The following values are possible:\\n¥ 'String'...  \n",
      "12  Used to separate common product configuration ...  \n",
      "13  Service Specifications inherit Relations from ...  \n",
      "14  It coordinates activities necessary to complet...  \n",
      "15  The majority of Orders processed by SOM come f...  \n",
      "16  You can track the Orders using Service Orders ...  \n",
      "17  Tasks represent manual activities during Order...  \n",
      "18  Service Order Manager uses Service Catalogue a...  \n",
      "19  A Service Factory consists of references to bu...  \n",
      "20  SOM exposes TMF API that requires compatibilit...  \n",
      "21  10 Mbit/s (Ethernet)\\n100 Mbit/s (Fast Etherne...  \n",
      "22  Ô802.1QÕ Ð VLAN encapsulation with VLAN taggin...  \n",
      "23  Ethernet Link Discovery Postprocess\\nAggregate...  \n",
      "24  VLAN Access Interface Ð represents a VLAN inte...  \n",
      "25  There are a few possibilities. VIA APIS\\nCheck...  \n",
      "26  The users cannot manage any dictionaries in Di...  \n",
      "27  Both are topological trails.\\nrepresent a diff...  \n",
      "28  1, Display the Access Parameters you want to r...  \n",
      "29  it is possible to sent orders only in the reso...  \n"
     ]
    }
   ],
   "source": [
    "#!cat paragraphs_watson_version_2.csv\n",
    "df = pd.read_csv(\"paragraphs_watson_version_2.csv\", encoding='unicode_escape')\n",
    "print(df)"
   ]
  },
  {
   "cell_type": "markdown",
   "metadata": {
    "id": "a2583f03-c1d7-4498-af66-14211a286de1"
   },
   "source": [
    "### Read the Model Risk metrics `instance_id` from OpenScale\n",
    "\n",
    "Evaluating test data against the prompt template subscription requires the monitor instance ID for your OpenScale Model Risk metrics."
   ]
  },
  {
   "cell_type": "code",
   "execution_count": 121,
   "metadata": {
    "id": "8f0bcdb1-12da-4645-8ab6-e4edf740d1a6"
   },
   "outputs": [
    {
     "data": {
      "text/plain": [
       "'5ce4de35-a73b-4bc5-bce3-86a71375a185'"
      ]
     },
     "execution_count": 121,
     "metadata": {},
     "output_type": "execute_result"
    }
   ],
   "source": [
    "monitor_definition_id = \"mrm\"\n",
    "target_target_id = dev_subscription_id\n",
    "result = wos_client.monitor_instances.list(data_mart_id=data_mart_id,\n",
    "                                           monitor_definition_id=monitor_definition_id,\n",
    "                                           target_target_id=target_target_id,\n",
    "                                           project_id=project_id).result\n",
    "result_json = result._to_dict()\n",
    "mrm_monitor_id = result_json[\"monitor_instances\"][0][\"metadata\"][\"id\"]\n",
    "mrm_monitor_id"
   ]
  },
  {
   "cell_type": "markdown",
   "metadata": {
    "id": "9e38c223-d453-4449-ab95-18058d5cfc27"
   },
   "source": [
    "The following cell will assess the test data with the subscription of the PTA and produce relevant measurements for the configured monitor."
   ]
  },
  {
   "cell_type": "code",
   "execution_count": 122,
   "metadata": {
    "id": "bc0f1887-4d02-4da5-864a-9601ba7dae9c"
   },
   "outputs": [
    {
     "name": "stdout",
     "output_type": "stream",
     "text": [
      "\n",
      "\n",
      "=================================================================================\n",
      "\n",
      " Waiting for risk evaluation of MRM monitor 5ce4de35-a73b-4bc5-bce3-86a71375a185 \n",
      "\n",
      "=================================================================================\n",
      "\n",
      "\n",
      "\n",
      "upload_in_progress.\n",
      "running....\n",
      "finished\n",
      "\n",
      "---------------------------------------\n",
      " Successfully finished evaluating risk \n",
      "---------------------------------------\n",
      "\n",
      "\n",
      "\n",
      "\n",
      "=================================================================================\n",
      "\n",
      " Waiting for risk evaluation of MRM monitor 5ce4de35-a73b-4bc5-bce3-86a71375a185 \n",
      "\n",
      "=================================================================================\n",
      "\n",
      "\n",
      "\n",
      "upload_in_progress\n",
      "running....\n",
      "finished\n",
      "\n",
      "---------------------------------------\n",
      " Successfully finished evaluating risk \n",
      "---------------------------------------\n",
      "\n",
      "\n",
      "\n",
      "\n",
      "=================================================================================\n",
      "\n",
      " Waiting for risk evaluation of MRM monitor 5ce4de35-a73b-4bc5-bce3-86a71375a185 \n",
      "\n",
      "=================================================================================\n",
      "\n",
      "\n",
      "\n",
      "upload_in_progress.\n",
      "running....\n",
      "finished\n",
      "\n",
      "---------------------------------------\n",
      " Successfully finished evaluating risk \n",
      "---------------------------------------\n",
      "\n",
      "\n",
      "\n",
      "\n",
      "=================================================================================\n",
      "\n",
      " Waiting for risk evaluation of MRM monitor 5ce4de35-a73b-4bc5-bce3-86a71375a185 \n",
      "\n",
      "=================================================================================\n",
      "\n",
      "\n",
      "\n",
      "upload_in_progress\n",
      "running....\n",
      "finished\n",
      "\n",
      "---------------------------------------\n",
      " Successfully finished evaluating risk \n",
      "---------------------------------------\n",
      "\n",
      "\n",
      "\n",
      "\n",
      "=================================================================================\n",
      "\n",
      " Waiting for risk evaluation of MRM monitor 5ce4de35-a73b-4bc5-bce3-86a71375a185 \n",
      "\n",
      "=================================================================================\n",
      "\n",
      "\n",
      "\n",
      "upload_in_progress\n",
      "running.........\n",
      "finished\n",
      "\n",
      "---------------------------------------\n",
      " Successfully finished evaluating risk \n",
      "---------------------------------------\n",
      "\n",
      "\n",
      "\n",
      "\n",
      "=================================================================================\n",
      "\n",
      " Waiting for risk evaluation of MRM monitor 5ce4de35-a73b-4bc5-bce3-86a71375a185 \n",
      "\n",
      "=================================================================================\n",
      "\n",
      "\n",
      "\n",
      "upload_in_progress.\n",
      "running....\n",
      "finished\n",
      "\n",
      "---------------------------------------\n",
      " Successfully finished evaluating risk \n",
      "---------------------------------------\n",
      "\n",
      "\n",
      "\n",
      "\n",
      "=================================================================================\n",
      "\n",
      " Waiting for risk evaluation of MRM monitor 5ce4de35-a73b-4bc5-bce3-86a71375a185 \n",
      "\n",
      "=================================================================================\n",
      "\n",
      "\n",
      "\n",
      "upload_in_progress\n",
      "running....\n",
      "finished\n",
      "\n",
      "---------------------------------------\n",
      " Successfully finished evaluating risk \n",
      "---------------------------------------\n",
      "\n",
      "\n",
      "\n",
      "\n",
      "=================================================================================\n",
      "\n",
      " Waiting for risk evaluation of MRM monitor 5ce4de35-a73b-4bc5-bce3-86a71375a185 \n",
      "\n",
      "=================================================================================\n",
      "\n",
      "\n",
      "\n",
      "upload_in_progress\n",
      "running....\n",
      "finished\n",
      "\n",
      "---------------------------------------\n",
      " Successfully finished evaluating risk \n",
      "---------------------------------------\n",
      "\n",
      "\n",
      "\n",
      "\n",
      "=================================================================================\n",
      "\n",
      " Waiting for risk evaluation of MRM monitor 5ce4de35-a73b-4bc5-bce3-86a71375a185 \n",
      "\n",
      "=================================================================================\n",
      "\n",
      "\n",
      "\n",
      "upload_in_progress\n",
      "running....\n",
      "finished\n",
      "\n",
      "---------------------------------------\n",
      " Successfully finished evaluating risk \n",
      "---------------------------------------\n",
      "\n",
      "\n",
      "\n",
      "\n",
      "=================================================================================\n",
      "\n",
      " Waiting for risk evaluation of MRM monitor 5ce4de35-a73b-4bc5-bce3-86a71375a185 \n",
      "\n",
      "=================================================================================\n",
      "\n",
      "\n",
      "\n",
      "upload_in_progress.\n",
      "running....\n",
      "finished\n",
      "\n",
      "---------------------------------------\n",
      " Successfully finished evaluating risk \n",
      "---------------------------------------\n",
      "\n",
      "\n",
      "\n",
      "\n",
      "=================================================================================\n",
      "\n",
      " Waiting for risk evaluation of MRM monitor 5ce4de35-a73b-4bc5-bce3-86a71375a185 \n",
      "\n",
      "=================================================================================\n",
      "\n",
      "\n",
      "\n",
      "upload_in_progress.\n",
      "running....\n",
      "finished\n",
      "\n",
      "---------------------------------------\n",
      " Successfully finished evaluating risk \n",
      "---------------------------------------\n",
      "\n",
      "\n",
      "\n",
      "\n",
      "=================================================================================\n",
      "\n",
      " Waiting for risk evaluation of MRM monitor 5ce4de35-a73b-4bc5-bce3-86a71375a185 \n",
      "\n",
      "=================================================================================\n",
      "\n",
      "\n",
      "\n",
      "upload_in_progress\n",
      "running....\n",
      "finished\n",
      "\n",
      "---------------------------------------\n",
      " Successfully finished evaluating risk \n",
      "---------------------------------------\n",
      "\n",
      "\n",
      "\n",
      "\n",
      "=================================================================================\n",
      "\n",
      " Waiting for risk evaluation of MRM monitor 5ce4de35-a73b-4bc5-bce3-86a71375a185 \n",
      "\n",
      "=================================================================================\n",
      "\n",
      "\n",
      "\n",
      "upload_in_progress\n",
      "running....\n",
      "finished\n",
      "\n",
      "---------------------------------------\n",
      " Successfully finished evaluating risk \n",
      "---------------------------------------\n",
      "\n",
      "\n",
      "\n",
      "\n",
      "=================================================================================\n",
      "\n",
      " Waiting for risk evaluation of MRM monitor 5ce4de35-a73b-4bc5-bce3-86a71375a185 \n",
      "\n",
      "=================================================================================\n",
      "\n",
      "\n",
      "\n",
      "upload_in_progress.\n",
      "running....\n",
      "finished\n",
      "\n",
      "---------------------------------------\n",
      " Successfully finished evaluating risk \n",
      "---------------------------------------\n",
      "\n",
      "\n",
      "\n",
      "\n",
      "=================================================================================\n",
      "\n",
      " Waiting for risk evaluation of MRM monitor 5ce4de35-a73b-4bc5-bce3-86a71375a185 \n",
      "\n",
      "=================================================================================\n",
      "\n",
      "\n",
      "\n",
      "upload_in_progress\n",
      "running....\n",
      "finished\n",
      "\n",
      "---------------------------------------\n",
      " Successfully finished evaluating risk \n",
      "---------------------------------------\n",
      "\n",
      "\n",
      "\n",
      "\n",
      "=================================================================================\n",
      "\n",
      " Waiting for risk evaluation of MRM monitor 5ce4de35-a73b-4bc5-bce3-86a71375a185 \n",
      "\n",
      "=================================================================================\n",
      "\n",
      "\n",
      "\n",
      "upload_in_progress.\n",
      "running....\n",
      "finished\n",
      "\n",
      "---------------------------------------\n",
      " Successfully finished evaluating risk \n",
      "---------------------------------------\n",
      "\n",
      "\n",
      "\n",
      "\n",
      "=================================================================================\n",
      "\n",
      " Waiting for risk evaluation of MRM monitor 5ce4de35-a73b-4bc5-bce3-86a71375a185 \n",
      "\n",
      "=================================================================================\n",
      "\n",
      "\n",
      "\n",
      "upload_in_progress\n",
      "running....\n",
      "finished\n",
      "\n",
      "---------------------------------------\n",
      " Successfully finished evaluating risk \n",
      "---------------------------------------\n",
      "\n",
      "\n",
      "\n",
      "\n",
      "=================================================================================\n",
      "\n",
      " Waiting for risk evaluation of MRM monitor 5ce4de35-a73b-4bc5-bce3-86a71375a185 \n",
      "\n",
      "=================================================================================\n",
      "\n",
      "\n",
      "\n",
      "upload_in_progress.\n",
      "running....\n",
      "finished\n",
      "\n",
      "---------------------------------------\n",
      " Successfully finished evaluating risk \n",
      "---------------------------------------\n",
      "\n",
      "\n",
      "\n",
      "\n",
      "=================================================================================\n",
      "\n",
      " Waiting for risk evaluation of MRM monitor 5ce4de35-a73b-4bc5-bce3-86a71375a185 \n",
      "\n",
      "=================================================================================\n",
      "\n",
      "\n",
      "\n",
      "upload_in_progress.\n",
      "running....\n",
      "finished\n",
      "\n",
      "---------------------------------------\n",
      " Successfully finished evaluating risk \n",
      "---------------------------------------\n",
      "\n",
      "\n",
      "\n",
      "\n",
      "=================================================================================\n",
      "\n",
      " Waiting for risk evaluation of MRM monitor 5ce4de35-a73b-4bc5-bce3-86a71375a185 \n",
      "\n",
      "=================================================================================\n",
      "\n",
      "\n",
      "\n",
      "upload_in_progress\n",
      "running....\n",
      "finished\n",
      "\n",
      "---------------------------------------\n",
      " Successfully finished evaluating risk \n",
      "---------------------------------------\n",
      "\n",
      "\n",
      "\n",
      "\n",
      "=================================================================================\n",
      "\n",
      " Waiting for risk evaluation of MRM monitor 5ce4de35-a73b-4bc5-bce3-86a71375a185 \n",
      "\n",
      "=================================================================================\n",
      "\n",
      "\n",
      "\n",
      "upload_in_progress.\n",
      "running....\n",
      "finished\n",
      "\n",
      "---------------------------------------\n",
      " Successfully finished evaluating risk \n",
      "---------------------------------------\n",
      "\n",
      "\n",
      "\n",
      "\n",
      "=================================================================================\n",
      "\n",
      " Waiting for risk evaluation of MRM monitor 5ce4de35-a73b-4bc5-bce3-86a71375a185 \n",
      "\n",
      "=================================================================================\n",
      "\n",
      "\n",
      "\n",
      "upload_in_progress\n",
      "running....\n",
      "finished\n",
      "\n",
      "---------------------------------------\n",
      " Successfully finished evaluating risk \n",
      "---------------------------------------\n",
      "\n",
      "\n",
      "\n",
      "\n",
      "=================================================================================\n",
      "\n",
      " Waiting for risk evaluation of MRM monitor 5ce4de35-a73b-4bc5-bce3-86a71375a185 \n",
      "\n",
      "=================================================================================\n",
      "\n",
      "\n",
      "\n",
      "upload_in_progress\n",
      "running....\n",
      "finished\n",
      "\n",
      "---------------------------------------\n",
      " Successfully finished evaluating risk \n",
      "---------------------------------------\n",
      "\n",
      "\n",
      "\n",
      "\n",
      "=================================================================================\n",
      "\n",
      " Waiting for risk evaluation of MRM monitor 5ce4de35-a73b-4bc5-bce3-86a71375a185 \n",
      "\n",
      "=================================================================================\n",
      "\n",
      "\n",
      "\n",
      "upload_in_progress\n",
      "running....\n",
      "finished\n",
      "\n",
      "---------------------------------------\n",
      " Successfully finished evaluating risk \n",
      "---------------------------------------\n",
      "\n",
      "\n",
      "\n",
      "\n",
      "=================================================================================\n",
      "\n",
      " Waiting for risk evaluation of MRM monitor 5ce4de35-a73b-4bc5-bce3-86a71375a185 \n",
      "\n",
      "=================================================================================\n",
      "\n",
      "\n",
      "\n",
      "upload_in_progress.\n",
      "running....\n",
      "finished\n",
      "\n",
      "---------------------------------------\n",
      " Successfully finished evaluating risk \n",
      "---------------------------------------\n",
      "\n",
      "\n",
      "\n",
      "\n",
      "=================================================================================\n",
      "\n",
      " Waiting for risk evaluation of MRM monitor 5ce4de35-a73b-4bc5-bce3-86a71375a185 \n",
      "\n",
      "=================================================================================\n",
      "\n",
      "\n",
      "\n",
      "upload_in_progress\n",
      "running....\n",
      "finished\n",
      "\n",
      "---------------------------------------\n",
      " Successfully finished evaluating risk \n",
      "---------------------------------------\n",
      "\n",
      "\n",
      "\n",
      "\n",
      "=================================================================================\n",
      "\n",
      " Waiting for risk evaluation of MRM monitor 5ce4de35-a73b-4bc5-bce3-86a71375a185 \n",
      "\n",
      "=================================================================================\n",
      "\n",
      "\n",
      "\n",
      "upload_in_progress\n",
      "running.....\n",
      "finished\n",
      "\n",
      "---------------------------------------\n",
      " Successfully finished evaluating risk \n",
      "---------------------------------------\n",
      "\n",
      "\n",
      "\n",
      "\n",
      "=================================================================================\n",
      "\n",
      " Waiting for risk evaluation of MRM monitor 5ce4de35-a73b-4bc5-bce3-86a71375a185 \n",
      "\n",
      "=================================================================================\n",
      "\n",
      "\n",
      "\n",
      "upload_in_progress.\n",
      "running....\n",
      "finished\n",
      "\n",
      "---------------------------------------\n",
      " Successfully finished evaluating risk \n",
      "---------------------------------------\n",
      "\n",
      "\n",
      "\n",
      "\n",
      "=================================================================================\n",
      "\n",
      " Waiting for risk evaluation of MRM monitor 5ce4de35-a73b-4bc5-bce3-86a71375a185 \n",
      "\n",
      "=================================================================================\n",
      "\n",
      "\n",
      "\n",
      "upload_in_progress\n",
      "running....\n",
      "finished\n",
      "\n",
      "---------------------------------------\n",
      " Successfully finished evaluating risk \n",
      "---------------------------------------\n",
      "\n",
      "\n",
      "\n",
      "\n",
      "=================================================================================\n",
      "\n",
      " Waiting for risk evaluation of MRM monitor 5ce4de35-a73b-4bc5-bce3-86a71375a185 \n",
      "\n",
      "=================================================================================\n",
      "\n",
      "\n",
      "\n",
      "upload_in_progress\n",
      "running....\n",
      "finished\n",
      "\n",
      "---------------------------------------\n",
      " Successfully finished evaluating risk \n",
      "---------------------------------------\n",
      "\n",
      "\n"
     ]
    },
    {
     "name": "stdout",
     "output_type": "stream",
     "text": [
      "...........\n",
      "finished\n",
      "\n",
      "---------------------------------------\n",
      " Successfully finished evaluating risk \n",
      "---------------------------------------\n",
      "\n",
      "\n",
      "{\n",
      "    \"result\": \"HTTP response\",\n",
      "    \"headers\": {\n",
      "        \"_store\": {\n",
      "            \"date\": [\n",
      "                \"date\",\n",
      "                \"Mon, 16 Dec 2024 11:28:09 GMT\"\n",
      "            ],\n",
      "            \"content-type\": [\n",
      "                \"content-type\",\n",
      "                \"application/json\"\n",
      "            ],\n",
      "            \"content-length\": [\n",
      "                \"content-length\",\n",
      "                \"1323\"\n",
      "            ],\n",
      "            \"ibm-cpd-transaction-id\": [\n",
      "                \"ibm-cpd-transaction-id\",\n",
      "                \"e9f373ec-cd05-4685-a27d-36ff60d2893b\"\n",
      "            ],\n",
      "            \"strict-transport-security\": [\n",
      "                \"strict-transport-security\",\n",
      "                \"max-age=31536000 ; includeSubDomains, max-age=31536000; includeSubDomains\"\n",
      "            ],\n",
      "            \"x-content-type-options\": [\n",
      "                \"x-content-type-options\",\n",
      "                \"nosniff\"\n",
      "            ],\n",
      "            \"cache-control\": [\n",
      "                \"cache-control\",\n",
      "                \"no-cache, no-store, must-revalidate\"\n",
      "            ],\n",
      "            \"pragma\": [\n",
      "                \"pragma\",\n",
      "                \"no-cache\"\n",
      "            ],\n",
      "            \"x-xss-protection\": [\n",
      "                \"x-xss-protection\",\n",
      "                \"1; mode=block\"\n",
      "            ],\n",
      "            \"content-security-policy\": [\n",
      "                \"content-security-policy\",\n",
      "                \"default-src 'none'\"\n",
      "            ],\n",
      "            \"server\": [\n",
      "                \"server\",\n",
      "                \"---\"\n",
      "            ],\n",
      "            \"x-frame-options\": [\n",
      "                \"x-frame-options\",\n",
      "                \"SAMEORIGIN\"\n",
      "            ]\n",
      "        }\n",
      "    },\n",
      "    \"status_code\": 200\n",
      "}\n"
     ]
    }
   ],
   "source": [
    "test_data_set_name = \"data.csv\"\n",
    "content_type = \"multipart/form-data\"\n",
    "test_data=\"paragraphs_watson_version_2.csv\"\n",
    "test_data_path = \"input.csv\"\n",
    "import pandas as pd\n",
    "body = {}\n",
    "\n",
    "llm_data = pd.read_csv(test_data, encoding='unicode_escape')\n",
    "#Preparing the test data, removing extra columns\n",
    "cols_to_remove = ['ground_truths_documents']\n",
    "for col in cols_to_remove:\n",
    "    if col in llm_data:\n",
    "        del llm_data[col]\n",
    "#llm_data=llm_data.head(30)\n",
    "#print(llm_data)\n",
    "for index, row in llm_data.iterrows():    \n",
    "   row_with_headers = dict(zip(llm_data.columns, row))\n",
    "   pd.DataFrame([row_with_headers]).to_csv(test_data_path)\n",
    "   #print(row_with_headers)\n",
    "\n",
    "   \n",
    "   #llm_data.to_csv(test_data_path, index=False)\n",
    "   response  = wos_client.monitor_instances.mrm.evaluate_risk(monitor_instance_id=mrm_monitor_id, \n",
    "                                                    test_data_set_name = test_data_set_name, \n",
    "                                                    test_data_path = test_data_path,\n",
    "                                                    content_type = content_type,\n",
    "                                                    body = body,\n",
    "                                                    project_id = project_id,\n",
    "                                                    background_mode = False)\n",
    "   #print(response)"
   ]
  },
  {
   "cell_type": "markdown",
   "metadata": {
    "id": "f2acbed4-3179-4904-a391-e567d101956d"
   },
   "source": [
    "### Read the risk evaluation response\n",
    "\n",
    "After initiating the risk evaluation, the evaluation results are available for review:"
   ]
  },
  {
   "cell_type": "code",
   "execution_count": 123,
   "metadata": {
    "id": "03f6b2ae-ff88-42d8-94b8-f10ee3620a59"
   },
   "outputs": [
    {
     "data": {
      "text/plain": [
       "{'metadata': {'id': '619f1dae-67ae-4046-a949-9f21dbfd9f4c',\n",
       "  'created_at': '2024-12-16T18:48:02.556Z',\n",
       "  'created_by': 'internal-service'},\n",
       " 'entity': {'triggered_by': 'user',\n",
       "  'parameters': {'evaluation_start_time': '2024-12-16T18:47:55.823428Z',\n",
       "   'evaluation_tests': ['drift_v2',\n",
       "    'fairness',\n",
       "    'generative_ai_quality',\n",
       "    'model_health',\n",
       "    'quality'],\n",
       "   'evaluator_user_key': '787ba75a-7727-429c-b3cf-a90e17a2dbe3',\n",
       "   'facts': {'state': 'finished'},\n",
       "   'is_auto_evaluated': False,\n",
       "   'measurement_id': '00be5d1d-d491-4197-9f97-8081fb4c0be6',\n",
       "   'project_id': '36e48345-0549-4909-8440-d050e3d59b8a',\n",
       "   'prompt_template_asset_id': 'afca833f-aeb7-4c8f-b072-1c726081ff43',\n",
       "   'secret_id': '3e706168-b95b-429a-a3fb-ed6556593c69',\n",
       "   'user_iam_id': '1000331023',\n",
       "   'wos_created_deployment_id': '4d39b226-6cbf-4e7d-9c31-feed74e2b52e',\n",
       "   'publish_metrics': 'false'},\n",
       "  'status': {'state': 'finished',\n",
       "   'queued_at': '2024-12-16T18:48:02.515000Z',\n",
       "   'started_at': '2024-12-16T18:48:03.270000Z',\n",
       "   'updated_at': '2024-12-16T18:48:43.432000Z',\n",
       "   'completed_at': '2024-12-16T18:48:40.479000Z',\n",
       "   'message': 'Mrm evaluation complete.',\n",
       "   'operators': []}}}"
      ]
     },
     "execution_count": 123,
     "metadata": {},
     "output_type": "execute_result"
    }
   ],
   "source": [
    "import time\n",
    "#time.sleep(300)\n",
    "response  = wos_client.monitor_instances.mrm.get_risk_evaluation(mrm_monitor_id, project_id = project_id)\n",
    "response.result.to_dict()"
   ]
  },
  {
   "cell_type": "markdown",
   "metadata": {
    "id": "3d49fe1b-8b2c-4de2-b184-3dd779bed933"
   },
   "source": [
    "## Step 5 - Display the Model Risk metrics <a name=\"mrmmetric\"></a>"
   ]
  },
  {
   "cell_type": "markdown",
   "metadata": {
    "id": "561123a4-3f72-4235-9d3e-704863a33e69"
   },
   "source": [
    "Having calculated the measurements for the Foundation Model subscription, the Model Risk metrics generated for this subscription are available for your review:"
   ]
  },
  {
   "cell_type": "code",
   "execution_count": 124,
   "metadata": {
    "id": "524985f7-5339-4107-83b3-4ca740fc33eb"
   },
   "outputs": [
    {
     "data": {
      "text/html": [
       "<HTML>\n",
       "        <body>\n",
       "            <h3>5ce4de35-a73b-4bc5-bce3-86a71375a185 Monitor Runs Metrics from: 2024-12-09 18:48:44.940734  till: 2024-12-16 18:48:44.940741</h3>\n",
       "            <table style='border: 1px solid #dddddd; font-family: Courier'>\n",
       "                <th style='border: 1px solid #dddddd'>ts</th><th style='border: 1px solid #dddddd'>id</th><th style='border: 1px solid #dddddd'>measurement_id</th><th style='border: 1px solid #dddddd'>value</th><th style='border: 1px solid #dddddd'>lower_limit</th><th style='border: 1px solid #dddddd'>upper_limit</th><th style='border: 1px solid #dddddd'>tags</th><th style='border: 1px solid #dddddd'>monitor_definition_id</th><th style='border: 1px solid #dddddd'>monitor_instance_id</th><th style='border: 1px solid #dddddd'>run_id</th><th style='border: 1px solid #dddddd'>target_type</th><th style='border: 1px solid #dddddd'>target_id</th>\n",
       "                <tr><td style='border: 1px solid #dddddd'>2024-12-16 18:48:02.648000+00:00</td><td style='border: 1px solid #dddddd'>tests_passed</td><td style='border: 1px solid #dddddd'>00be5d1d-d491-4197-9f97-8081fb4c0be6</td><td style='border: 1px solid #dddddd'>1.0</td><td style='border: 1px solid #dddddd'>None</td><td style='border: 1px solid #dddddd'>None</td><td style='border: 1px solid #dddddd'>['test_data_set_name:data.csv']</td><td style='border: 1px solid #dddddd'>mrm</td><td style='border: 1px solid #dddddd'>5ce4de35-a73b-4bc5-bce3-86a71375a185</td><td style='border: 1px solid #dddddd'>619f1dae-67ae-4046-a949-9f21dbfd9f4c</td><td style='border: 1px solid #dddddd'>subscription</td><td style='border: 1px solid #dddddd'>3d629beb-9443-4aaa-bc18-bc538f24b6c0</td></tr><tr><td style='border: 1px solid #dddddd'>2024-12-16 18:48:02.648000+00:00</td><td style='border: 1px solid #dddddd'>tests_run</td><td style='border: 1px solid #dddddd'>00be5d1d-d491-4197-9f97-8081fb4c0be6</td><td style='border: 1px solid #dddddd'>1.0</td><td style='border: 1px solid #dddddd'>None</td><td style='border: 1px solid #dddddd'>None</td><td style='border: 1px solid #dddddd'>['test_data_set_name:data.csv']</td><td style='border: 1px solid #dddddd'>mrm</td><td style='border: 1px solid #dddddd'>5ce4de35-a73b-4bc5-bce3-86a71375a185</td><td style='border: 1px solid #dddddd'>619f1dae-67ae-4046-a949-9f21dbfd9f4c</td><td style='border: 1px solid #dddddd'>subscription</td><td style='border: 1px solid #dddddd'>3d629beb-9443-4aaa-bc18-bc538f24b6c0</td></tr><tr><td style='border: 1px solid #dddddd'>2024-12-16 18:48:02.648000+00:00</td><td style='border: 1px solid #dddddd'>tests_skipped</td><td style='border: 1px solid #dddddd'>00be5d1d-d491-4197-9f97-8081fb4c0be6</td><td style='border: 1px solid #dddddd'>3.0</td><td style='border: 1px solid #dddddd'>None</td><td style='border: 1px solid #dddddd'>None</td><td style='border: 1px solid #dddddd'>['test_data_set_name:data.csv']</td><td style='border: 1px solid #dddddd'>mrm</td><td style='border: 1px solid #dddddd'>5ce4de35-a73b-4bc5-bce3-86a71375a185</td><td style='border: 1px solid #dddddd'>619f1dae-67ae-4046-a949-9f21dbfd9f4c</td><td style='border: 1px solid #dddddd'>subscription</td><td style='border: 1px solid #dddddd'>3d629beb-9443-4aaa-bc18-bc538f24b6c0</td></tr><tr><td style='border: 1px solid #dddddd'>2024-12-16 18:48:02.648000+00:00</td><td style='border: 1px solid #dddddd'>tests_failed</td><td style='border: 1px solid #dddddd'>00be5d1d-d491-4197-9f97-8081fb4c0be6</td><td style='border: 1px solid #dddddd'>0.0</td><td style='border: 1px solid #dddddd'>None</td><td style='border: 1px solid #dddddd'>None</td><td style='border: 1px solid #dddddd'>['test_data_set_name:data.csv']</td><td style='border: 1px solid #dddddd'>mrm</td><td style='border: 1px solid #dddddd'>5ce4de35-a73b-4bc5-bce3-86a71375a185</td><td style='border: 1px solid #dddddd'>619f1dae-67ae-4046-a949-9f21dbfd9f4c</td><td style='border: 1px solid #dddddd'>subscription</td><td style='border: 1px solid #dddddd'>3d629beb-9443-4aaa-bc18-bc538f24b6c0</td></tr><tr><td style='border: 1px solid #dddddd'>2024-12-16 18:47:11.144000+00:00</td><td style='border: 1px solid #dddddd'>tests_passed</td><td style='border: 1px solid #dddddd'>782a7753-a674-4f84-bcbe-77dde0483420</td><td style='border: 1px solid #dddddd'>1.0</td><td style='border: 1px solid #dddddd'>None</td><td style='border: 1px solid #dddddd'>None</td><td style='border: 1px solid #dddddd'>['test_data_set_name:data.csv']</td><td style='border: 1px solid #dddddd'>mrm</td><td style='border: 1px solid #dddddd'>5ce4de35-a73b-4bc5-bce3-86a71375a185</td><td style='border: 1px solid #dddddd'>e4123f0f-b048-4b29-b326-438619176a13</td><td style='border: 1px solid #dddddd'>subscription</td><td style='border: 1px solid #dddddd'>3d629beb-9443-4aaa-bc18-bc538f24b6c0</td></tr><tr><td style='border: 1px solid #dddddd'>2024-12-16 18:47:11.144000+00:00</td><td style='border: 1px solid #dddddd'>tests_run</td><td style='border: 1px solid #dddddd'>782a7753-a674-4f84-bcbe-77dde0483420</td><td style='border: 1px solid #dddddd'>1.0</td><td style='border: 1px solid #dddddd'>None</td><td style='border: 1px solid #dddddd'>None</td><td style='border: 1px solid #dddddd'>['test_data_set_name:data.csv']</td><td style='border: 1px solid #dddddd'>mrm</td><td style='border: 1px solid #dddddd'>5ce4de35-a73b-4bc5-bce3-86a71375a185</td><td style='border: 1px solid #dddddd'>e4123f0f-b048-4b29-b326-438619176a13</td><td style='border: 1px solid #dddddd'>subscription</td><td style='border: 1px solid #dddddd'>3d629beb-9443-4aaa-bc18-bc538f24b6c0</td></tr><tr><td style='border: 1px solid #dddddd'>2024-12-16 18:47:11.144000+00:00</td><td style='border: 1px solid #dddddd'>tests_skipped</td><td style='border: 1px solid #dddddd'>782a7753-a674-4f84-bcbe-77dde0483420</td><td style='border: 1px solid #dddddd'>3.0</td><td style='border: 1px solid #dddddd'>None</td><td style='border: 1px solid #dddddd'>None</td><td style='border: 1px solid #dddddd'>['test_data_set_name:data.csv']</td><td style='border: 1px solid #dddddd'>mrm</td><td style='border: 1px solid #dddddd'>5ce4de35-a73b-4bc5-bce3-86a71375a185</td><td style='border: 1px solid #dddddd'>e4123f0f-b048-4b29-b326-438619176a13</td><td style='border: 1px solid #dddddd'>subscription</td><td style='border: 1px solid #dddddd'>3d629beb-9443-4aaa-bc18-bc538f24b6c0</td></tr><tr><td style='border: 1px solid #dddddd'>2024-12-16 18:47:11.144000+00:00</td><td style='border: 1px solid #dddddd'>tests_failed</td><td style='border: 1px solid #dddddd'>782a7753-a674-4f84-bcbe-77dde0483420</td><td style='border: 1px solid #dddddd'>0.0</td><td style='border: 1px solid #dddddd'>None</td><td style='border: 1px solid #dddddd'>None</td><td style='border: 1px solid #dddddd'>['test_data_set_name:data.csv']</td><td style='border: 1px solid #dddddd'>mrm</td><td style='border: 1px solid #dddddd'>5ce4de35-a73b-4bc5-bce3-86a71375a185</td><td style='border: 1px solid #dddddd'>e4123f0f-b048-4b29-b326-438619176a13</td><td style='border: 1px solid #dddddd'>subscription</td><td style='border: 1px solid #dddddd'>3d629beb-9443-4aaa-bc18-bc538f24b6c0</td></tr><tr><td style='border: 1px solid #dddddd'>2024-12-16 18:46:18.119000+00:00</td><td style='border: 1px solid #dddddd'>tests_passed</td><td style='border: 1px solid #dddddd'>2ec4d78b-ac40-42ad-af23-35efcbc1d24e</td><td style='border: 1px solid #dddddd'>1.0</td><td style='border: 1px solid #dddddd'>None</td><td style='border: 1px solid #dddddd'>None</td><td style='border: 1px solid #dddddd'>['test_data_set_name:data.csv']</td><td style='border: 1px solid #dddddd'>mrm</td><td style='border: 1px solid #dddddd'>5ce4de35-a73b-4bc5-bce3-86a71375a185</td><td style='border: 1px solid #dddddd'>9d379df3-bf10-418b-a13a-15d791e6c955</td><td style='border: 1px solid #dddddd'>subscription</td><td style='border: 1px solid #dddddd'>3d629beb-9443-4aaa-bc18-bc538f24b6c0</td></tr><tr><td style='border: 1px solid #dddddd'>2024-12-16 18:46:18.119000+00:00</td><td style='border: 1px solid #dddddd'>tests_run</td><td style='border: 1px solid #dddddd'>2ec4d78b-ac40-42ad-af23-35efcbc1d24e</td><td style='border: 1px solid #dddddd'>1.0</td><td style='border: 1px solid #dddddd'>None</td><td style='border: 1px solid #dddddd'>None</td><td style='border: 1px solid #dddddd'>['test_data_set_name:data.csv']</td><td style='border: 1px solid #dddddd'>mrm</td><td style='border: 1px solid #dddddd'>5ce4de35-a73b-4bc5-bce3-86a71375a185</td><td style='border: 1px solid #dddddd'>9d379df3-bf10-418b-a13a-15d791e6c955</td><td style='border: 1px solid #dddddd'>subscription</td><td style='border: 1px solid #dddddd'>3d629beb-9443-4aaa-bc18-bc538f24b6c0</td></tr>\n",
       "            </table>\n",
       "        </body>\n",
       "        </HTML>"
      ],
      "text/plain": [
       "<IPython.core.display.HTML object>"
      ]
     },
     "metadata": {},
     "output_type": "display_data"
    },
    {
     "name": "stdout",
     "output_type": "stream",
     "text": [
      "Note: First 10 records were displayed.\n"
     ]
    }
   ],
   "source": [
    "wos_client.monitor_instances.show_metrics(monitor_instance_id=mrm_monitor_id, project_id=project_id)"
   ]
  },
  {
   "cell_type": "markdown",
   "metadata": {
    "id": "76ebe4e0-b17b-4176-88ab-e0e87ca8f554"
   },
   "source": [
    "## Step 6 - Display the Generative AI quality metrics <a name=\"genaimetrics\"></a>"
   ]
  },
  {
   "cell_type": "markdown",
   "metadata": {
    "id": "e03ff555-5522-4f2e-814d-bae9a7a92fe7"
   },
   "source": [
    "The monitor instance ID is required for reading the Generative AI quality metrics."
   ]
  },
  {
   "cell_type": "code",
   "execution_count": 125,
   "metadata": {
    "id": "0f56e775-7811-4b13-9dbf-ecf0d03d6e9c"
   },
   "outputs": [
    {
     "data": {
      "text/plain": [
       "'ad1584d0-f96e-4ff7-97dc-4b492d88fe89'"
      ]
     },
     "execution_count": 125,
     "metadata": {},
     "output_type": "execute_result"
    }
   ],
   "source": [
    "monitor_definition_id = \"generative_ai_quality\"\n",
    "result = wos_client.monitor_instances.list(data_mart_id = data_mart_id,\n",
    "                                           monitor_definition_id = monitor_definition_id,\n",
    "                                           target_target_id = target_target_id,\n",
    "                                           project_id = project_id).result\n",
    "result_json = result._to_dict()\n",
    "genaiquality_monitor_id = result_json[\"monitor_instances\"][0][\"metadata\"][\"id\"]\n",
    "genaiquality_monitor_id"
   ]
  },
  {
   "cell_type": "markdown",
   "metadata": {
    "id": "8d5a1e82-da67-4f19-9dc3-138ce73f0110"
   },
   "source": [
    "Display the Generative AI quality monitor metrics generated through the risk evaluation."
   ]
  },
  {
   "cell_type": "code",
   "execution_count": 126,
   "metadata": {
    "id": "411d7bf4-fa76-4681-8821-3efae4c7f610"
   },
   "outputs": [
    {
     "data": {
      "text/html": [
       "<HTML>\n",
       "        <body>\n",
       "            <h3>ad1584d0-f96e-4ff7-97dc-4b492d88fe89 Monitor Runs Metrics from: 2024-12-09 18:49:10.421334  till: 2024-12-16 18:49:10.421340</h3>\n",
       "            <table style='border: 1px solid #dddddd; font-family: Courier'>\n",
       "                <th style='border: 1px solid #dddddd'>ts</th><th style='border: 1px solid #dddddd'>id</th><th style='border: 1px solid #dddddd'>measurement_id</th><th style='border: 1px solid #dddddd'>value</th><th style='border: 1px solid #dddddd'>lower_limit</th><th style='border: 1px solid #dddddd'>upper_limit</th><th style='border: 1px solid #dddddd'>tags</th><th style='border: 1px solid #dddddd'>monitor_definition_id</th><th style='border: 1px solid #dddddd'>monitor_instance_id</th><th style='border: 1px solid #dddddd'>run_id</th><th style='border: 1px solid #dddddd'>target_type</th><th style='border: 1px solid #dddddd'>target_id</th>\n",
       "                <tr><td style='border: 1px solid #dddddd'>2024-12-16 18:48:31.957200+00:00</td><td style='border: 1px solid #dddddd'>rouge2</td><td style='border: 1px solid #dddddd'>f53b74bb-04f8-4b6f-9bd5-dd5fcdbbb2aa</td><td style='border: 1px solid #dddddd'>0.0</td><td style='border: 1px solid #dddddd'>None</td><td style='border: 1px solid #dddddd'>None</td><td style='border: 1px solid #dddddd'>['computed_on:feedback', 'field_type:subscription', 'aggregation_type:mean']</td><td style='border: 1px solid #dddddd'>generative_ai_quality</td><td style='border: 1px solid #dddddd'>ad1584d0-f96e-4ff7-97dc-4b492d88fe89</td><td style='border: 1px solid #dddddd'>7d67c212-9908-4aa0-8884-167cd6d2d5b5</td><td style='border: 1px solid #dddddd'>subscription</td><td style='border: 1px solid #dddddd'>3d629beb-9443-4aaa-bc18-bc538f24b6c0</td></tr><tr><td style='border: 1px solid #dddddd'>2024-12-16 18:48:31.957200+00:00</td><td style='border: 1px solid #dddddd'>faithfulness</td><td style='border: 1px solid #dddddd'>f53b74bb-04f8-4b6f-9bd5-dd5fcdbbb2aa</td><td style='border: 1px solid #dddddd'>0.0</td><td style='border: 1px solid #dddddd'>None</td><td style='border: 1px solid #dddddd'>None</td><td style='border: 1px solid #dddddd'>['computed_on:feedback', 'field_type:subscription', 'aggregation_type:mean']</td><td style='border: 1px solid #dddddd'>generative_ai_quality</td><td style='border: 1px solid #dddddd'>ad1584d0-f96e-4ff7-97dc-4b492d88fe89</td><td style='border: 1px solid #dddddd'>7d67c212-9908-4aa0-8884-167cd6d2d5b5</td><td style='border: 1px solid #dddddd'>subscription</td><td style='border: 1px solid #dddddd'>3d629beb-9443-4aaa-bc18-bc538f24b6c0</td></tr><tr><td style='border: 1px solid #dddddd'>2024-12-16 18:48:31.957200+00:00</td><td style='border: 1px solid #dddddd'>average_precision</td><td style='border: 1px solid #dddddd'>f53b74bb-04f8-4b6f-9bd5-dd5fcdbbb2aa</td><td style='border: 1px solid #dddddd'>0.0</td><td style='border: 1px solid #dddddd'>None</td><td style='border: 1px solid #dddddd'>None</td><td style='border: 1px solid #dddddd'>['computed_on:feedback', 'field_type:subscription', 'aggregation_type:mean']</td><td style='border: 1px solid #dddddd'>generative_ai_quality</td><td style='border: 1px solid #dddddd'>ad1584d0-f96e-4ff7-97dc-4b492d88fe89</td><td style='border: 1px solid #dddddd'>7d67c212-9908-4aa0-8884-167cd6d2d5b5</td><td style='border: 1px solid #dddddd'>subscription</td><td style='border: 1px solid #dddddd'>3d629beb-9443-4aaa-bc18-bc538f24b6c0</td></tr><tr><td style='border: 1px solid #dddddd'>2024-12-16 18:48:31.957200+00:00</td><td style='border: 1px solid #dddddd'>records_processed</td><td style='border: 1px solid #dddddd'>f53b74bb-04f8-4b6f-9bd5-dd5fcdbbb2aa</td><td style='border: 1px solid #dddddd'>1.0</td><td style='border: 1px solid #dddddd'>None</td><td style='border: 1px solid #dddddd'>None</td><td style='border: 1px solid #dddddd'>['computed_on:feedback', 'field_type:subscription', 'aggregation_type:mean']</td><td style='border: 1px solid #dddddd'>generative_ai_quality</td><td style='border: 1px solid #dddddd'>ad1584d0-f96e-4ff7-97dc-4b492d88fe89</td><td style='border: 1px solid #dddddd'>7d67c212-9908-4aa0-8884-167cd6d2d5b5</td><td style='border: 1px solid #dddddd'>subscription</td><td style='border: 1px solid #dddddd'>3d629beb-9443-4aaa-bc18-bc538f24b6c0</td></tr><tr><td style='border: 1px solid #dddddd'>2024-12-16 18:48:31.957200+00:00</td><td style='border: 1px solid #dddddd'>hit_rate</td><td style='border: 1px solid #dddddd'>f53b74bb-04f8-4b6f-9bd5-dd5fcdbbb2aa</td><td style='border: 1px solid #dddddd'>0.0</td><td style='border: 1px solid #dddddd'>None</td><td style='border: 1px solid #dddddd'>None</td><td style='border: 1px solid #dddddd'>['computed_on:feedback', 'field_type:subscription', 'aggregation_type:mean']</td><td style='border: 1px solid #dddddd'>generative_ai_quality</td><td style='border: 1px solid #dddddd'>ad1584d0-f96e-4ff7-97dc-4b492d88fe89</td><td style='border: 1px solid #dddddd'>7d67c212-9908-4aa0-8884-167cd6d2d5b5</td><td style='border: 1px solid #dddddd'>subscription</td><td style='border: 1px solid #dddddd'>3d629beb-9443-4aaa-bc18-bc538f24b6c0</td></tr><tr><td style='border: 1px solid #dddddd'>2024-12-16 18:48:31.957200+00:00</td><td style='border: 1px solid #dddddd'>rougelsum</td><td style='border: 1px solid #dddddd'>f53b74bb-04f8-4b6f-9bd5-dd5fcdbbb2aa</td><td style='border: 1px solid #dddddd'>0.1111</td><td style='border: 1px solid #dddddd'>None</td><td style='border: 1px solid #dddddd'>None</td><td style='border: 1px solid #dddddd'>['computed_on:feedback', 'field_type:subscription', 'aggregation_type:mean']</td><td style='border: 1px solid #dddddd'>generative_ai_quality</td><td style='border: 1px solid #dddddd'>ad1584d0-f96e-4ff7-97dc-4b492d88fe89</td><td style='border: 1px solid #dddddd'>7d67c212-9908-4aa0-8884-167cd6d2d5b5</td><td style='border: 1px solid #dddddd'>subscription</td><td style='border: 1px solid #dddddd'>3d629beb-9443-4aaa-bc18-bc538f24b6c0</td></tr><tr><td style='border: 1px solid #dddddd'>2024-12-16 18:48:31.957200+00:00</td><td style='border: 1px solid #dddddd'>answer_relevance</td><td style='border: 1px solid #dddddd'>f53b74bb-04f8-4b6f-9bd5-dd5fcdbbb2aa</td><td style='border: 1px solid #dddddd'>1.0</td><td style='border: 1px solid #dddddd'>None</td><td style='border: 1px solid #dddddd'>None</td><td style='border: 1px solid #dddddd'>['computed_on:feedback', 'field_type:subscription', 'aggregation_type:mean']</td><td style='border: 1px solid #dddddd'>generative_ai_quality</td><td style='border: 1px solid #dddddd'>ad1584d0-f96e-4ff7-97dc-4b492d88fe89</td><td style='border: 1px solid #dddddd'>7d67c212-9908-4aa0-8884-167cd6d2d5b5</td><td style='border: 1px solid #dddddd'>subscription</td><td style='border: 1px solid #dddddd'>3d629beb-9443-4aaa-bc18-bc538f24b6c0</td></tr><tr><td style='border: 1px solid #dddddd'>2024-12-16 18:48:31.957200+00:00</td><td style='border: 1px solid #dddddd'>reciprocal_rank</td><td style='border: 1px solid #dddddd'>f53b74bb-04f8-4b6f-9bd5-dd5fcdbbb2aa</td><td style='border: 1px solid #dddddd'>0.0</td><td style='border: 1px solid #dddddd'>None</td><td style='border: 1px solid #dddddd'>None</td><td style='border: 1px solid #dddddd'>['computed_on:feedback', 'field_type:subscription', 'aggregation_type:mean']</td><td style='border: 1px solid #dddddd'>generative_ai_quality</td><td style='border: 1px solid #dddddd'>ad1584d0-f96e-4ff7-97dc-4b492d88fe89</td><td style='border: 1px solid #dddddd'>7d67c212-9908-4aa0-8884-167cd6d2d5b5</td><td style='border: 1px solid #dddddd'>subscription</td><td style='border: 1px solid #dddddd'>3d629beb-9443-4aaa-bc18-bc538f24b6c0</td></tr><tr><td style='border: 1px solid #dddddd'>2024-12-16 18:48:31.957200+00:00</td><td style='border: 1px solid #dddddd'>ndcg</td><td style='border: 1px solid #dddddd'>f53b74bb-04f8-4b6f-9bd5-dd5fcdbbb2aa</td><td style='border: 1px solid #dddddd'>1.0</td><td style='border: 1px solid #dddddd'>None</td><td style='border: 1px solid #dddddd'>None</td><td style='border: 1px solid #dddddd'>['computed_on:feedback', 'field_type:subscription', 'aggregation_type:mean']</td><td style='border: 1px solid #dddddd'>generative_ai_quality</td><td style='border: 1px solid #dddddd'>ad1584d0-f96e-4ff7-97dc-4b492d88fe89</td><td style='border: 1px solid #dddddd'>7d67c212-9908-4aa0-8884-167cd6d2d5b5</td><td style='border: 1px solid #dddddd'>subscription</td><td style='border: 1px solid #dddddd'>3d629beb-9443-4aaa-bc18-bc538f24b6c0</td></tr><tr><td style='border: 1px solid #dddddd'>2024-12-16 18:48:31.957200+00:00</td><td style='border: 1px solid #dddddd'>retrieval_precision</td><td style='border: 1px solid #dddddd'>f53b74bb-04f8-4b6f-9bd5-dd5fcdbbb2aa</td><td style='border: 1px solid #dddddd'>0.0</td><td style='border: 1px solid #dddddd'>None</td><td style='border: 1px solid #dddddd'>None</td><td style='border: 1px solid #dddddd'>['computed_on:feedback', 'field_type:subscription', 'aggregation_type:mean']</td><td style='border: 1px solid #dddddd'>generative_ai_quality</td><td style='border: 1px solid #dddddd'>ad1584d0-f96e-4ff7-97dc-4b492d88fe89</td><td style='border: 1px solid #dddddd'>7d67c212-9908-4aa0-8884-167cd6d2d5b5</td><td style='border: 1px solid #dddddd'>subscription</td><td style='border: 1px solid #dddddd'>3d629beb-9443-4aaa-bc18-bc538f24b6c0</td></tr><tr><td style='border: 1px solid #dddddd'>2024-12-16 18:48:31.957200+00:00</td><td style='border: 1px solid #dddddd'>context_relevance</td><td style='border: 1px solid #dddddd'>f53b74bb-04f8-4b6f-9bd5-dd5fcdbbb2aa</td><td style='border: 1px solid #dddddd'>0.0</td><td style='border: 1px solid #dddddd'>None</td><td style='border: 1px solid #dddddd'>None</td><td style='border: 1px solid #dddddd'>['computed_on:feedback', 'field_type:subscription', 'aggregation_type:mean']</td><td style='border: 1px solid #dddddd'>generative_ai_quality</td><td style='border: 1px solid #dddddd'>ad1584d0-f96e-4ff7-97dc-4b492d88fe89</td><td style='border: 1px solid #dddddd'>7d67c212-9908-4aa0-8884-167cd6d2d5b5</td><td style='border: 1px solid #dddddd'>subscription</td><td style='border: 1px solid #dddddd'>3d629beb-9443-4aaa-bc18-bc538f24b6c0</td></tr><tr><td style='border: 1px solid #dddddd'>2024-12-16 18:48:31.957200+00:00</td><td style='border: 1px solid #dddddd'>rougel</td><td style='border: 1px solid #dddddd'>f53b74bb-04f8-4b6f-9bd5-dd5fcdbbb2aa</td><td style='border: 1px solid #dddddd'>0.1111</td><td style='border: 1px solid #dddddd'>None</td><td style='border: 1px solid #dddddd'>None</td><td style='border: 1px solid #dddddd'>['computed_on:feedback', 'field_type:subscription', 'aggregation_type:mean']</td><td style='border: 1px solid #dddddd'>generative_ai_quality</td><td style='border: 1px solid #dddddd'>ad1584d0-f96e-4ff7-97dc-4b492d88fe89</td><td style='border: 1px solid #dddddd'>7d67c212-9908-4aa0-8884-167cd6d2d5b5</td><td style='border: 1px solid #dddddd'>subscription</td><td style='border: 1px solid #dddddd'>3d629beb-9443-4aaa-bc18-bc538f24b6c0</td></tr><tr><td style='border: 1px solid #dddddd'>2024-12-16 18:48:31.957200+00:00</td><td style='border: 1px solid #dddddd'>answer_similarity</td><td style='border: 1px solid #dddddd'>f53b74bb-04f8-4b6f-9bd5-dd5fcdbbb2aa</td><td style='border: 1px solid #dddddd'>0.0</td><td style='border: 1px solid #dddddd'>None</td><td style='border: 1px solid #dddddd'>None</td><td style='border: 1px solid #dddddd'>['computed_on:feedback', 'field_type:subscription', 'aggregation_type:mean']</td><td style='border: 1px solid #dddddd'>generative_ai_quality</td><td style='border: 1px solid #dddddd'>ad1584d0-f96e-4ff7-97dc-4b492d88fe89</td><td style='border: 1px solid #dddddd'>7d67c212-9908-4aa0-8884-167cd6d2d5b5</td><td style='border: 1px solid #dddddd'>subscription</td><td style='border: 1px solid #dddddd'>3d629beb-9443-4aaa-bc18-bc538f24b6c0</td></tr><tr><td style='border: 1px solid #dddddd'>2024-12-16 18:48:31.957200+00:00</td><td style='border: 1px solid #dddddd'>rouge1</td><td style='border: 1px solid #dddddd'>f53b74bb-04f8-4b6f-9bd5-dd5fcdbbb2aa</td><td style='border: 1px solid #dddddd'>0.1111</td><td style='border: 1px solid #dddddd'>None</td><td style='border: 1px solid #dddddd'>None</td><td style='border: 1px solid #dddddd'>['computed_on:feedback', 'field_type:subscription', 'aggregation_type:mean']</td><td style='border: 1px solid #dddddd'>generative_ai_quality</td><td style='border: 1px solid #dddddd'>ad1584d0-f96e-4ff7-97dc-4b492d88fe89</td><td style='border: 1px solid #dddddd'>7d67c212-9908-4aa0-8884-167cd6d2d5b5</td><td style='border: 1px solid #dddddd'>subscription</td><td style='border: 1px solid #dddddd'>3d629beb-9443-4aaa-bc18-bc538f24b6c0</td></tr><tr><td style='border: 1px solid #dddddd'>2024-12-16 18:48:31.957200+00:00</td><td style='border: 1px solid #dddddd'>rouge2</td><td style='border: 1px solid #dddddd'>f53b74bb-04f8-4b6f-9bd5-dd5fcdbbb2aa</td><td style='border: 1px solid #dddddd'>0.0</td><td style='border: 1px solid #dddddd'>None</td><td style='border: 1px solid #dddddd'>None</td><td style='border: 1px solid #dddddd'>['computed_on:feedback', 'field_type:subscription', 'aggregation_type:min']</td><td style='border: 1px solid #dddddd'>generative_ai_quality</td><td style='border: 1px solid #dddddd'>ad1584d0-f96e-4ff7-97dc-4b492d88fe89</td><td style='border: 1px solid #dddddd'>7d67c212-9908-4aa0-8884-167cd6d2d5b5</td><td style='border: 1px solid #dddddd'>subscription</td><td style='border: 1px solid #dddddd'>3d629beb-9443-4aaa-bc18-bc538f24b6c0</td></tr><tr><td style='border: 1px solid #dddddd'>2024-12-16 18:48:31.957200+00:00</td><td style='border: 1px solid #dddddd'>faithfulness</td><td style='border: 1px solid #dddddd'>f53b74bb-04f8-4b6f-9bd5-dd5fcdbbb2aa</td><td style='border: 1px solid #dddddd'>0.0</td><td style='border: 1px solid #dddddd'>None</td><td style='border: 1px solid #dddddd'>None</td><td style='border: 1px solid #dddddd'>['computed_on:feedback', 'field_type:subscription', 'aggregation_type:min']</td><td style='border: 1px solid #dddddd'>generative_ai_quality</td><td style='border: 1px solid #dddddd'>ad1584d0-f96e-4ff7-97dc-4b492d88fe89</td><td style='border: 1px solid #dddddd'>7d67c212-9908-4aa0-8884-167cd6d2d5b5</td><td style='border: 1px solid #dddddd'>subscription</td><td style='border: 1px solid #dddddd'>3d629beb-9443-4aaa-bc18-bc538f24b6c0</td></tr><tr><td style='border: 1px solid #dddddd'>2024-12-16 18:48:31.957200+00:00</td><td style='border: 1px solid #dddddd'>average_precision</td><td style='border: 1px solid #dddddd'>f53b74bb-04f8-4b6f-9bd5-dd5fcdbbb2aa</td><td style='border: 1px solid #dddddd'>0.0</td><td style='border: 1px solid #dddddd'>None</td><td style='border: 1px solid #dddddd'>None</td><td style='border: 1px solid #dddddd'>['computed_on:feedback', 'field_type:subscription', 'aggregation_type:min']</td><td style='border: 1px solid #dddddd'>generative_ai_quality</td><td style='border: 1px solid #dddddd'>ad1584d0-f96e-4ff7-97dc-4b492d88fe89</td><td style='border: 1px solid #dddddd'>7d67c212-9908-4aa0-8884-167cd6d2d5b5</td><td style='border: 1px solid #dddddd'>subscription</td><td style='border: 1px solid #dddddd'>3d629beb-9443-4aaa-bc18-bc538f24b6c0</td></tr><tr><td style='border: 1px solid #dddddd'>2024-12-16 18:48:31.957200+00:00</td><td style='border: 1px solid #dddddd'>records_processed</td><td style='border: 1px solid #dddddd'>f53b74bb-04f8-4b6f-9bd5-dd5fcdbbb2aa</td><td style='border: 1px solid #dddddd'>1.0</td><td style='border: 1px solid #dddddd'>None</td><td style='border: 1px solid #dddddd'>None</td><td style='border: 1px solid #dddddd'>['computed_on:feedback', 'field_type:subscription', 'aggregation_type:min']</td><td style='border: 1px solid #dddddd'>generative_ai_quality</td><td style='border: 1px solid #dddddd'>ad1584d0-f96e-4ff7-97dc-4b492d88fe89</td><td style='border: 1px solid #dddddd'>7d67c212-9908-4aa0-8884-167cd6d2d5b5</td><td style='border: 1px solid #dddddd'>subscription</td><td style='border: 1px solid #dddddd'>3d629beb-9443-4aaa-bc18-bc538f24b6c0</td></tr><tr><td style='border: 1px solid #dddddd'>2024-12-16 18:48:31.957200+00:00</td><td style='border: 1px solid #dddddd'>hit_rate</td><td style='border: 1px solid #dddddd'>f53b74bb-04f8-4b6f-9bd5-dd5fcdbbb2aa</td><td style='border: 1px solid #dddddd'>0.0</td><td style='border: 1px solid #dddddd'>None</td><td style='border: 1px solid #dddddd'>None</td><td style='border: 1px solid #dddddd'>['computed_on:feedback', 'field_type:subscription', 'aggregation_type:min']</td><td style='border: 1px solid #dddddd'>generative_ai_quality</td><td style='border: 1px solid #dddddd'>ad1584d0-f96e-4ff7-97dc-4b492d88fe89</td><td style='border: 1px solid #dddddd'>7d67c212-9908-4aa0-8884-167cd6d2d5b5</td><td style='border: 1px solid #dddddd'>subscription</td><td style='border: 1px solid #dddddd'>3d629beb-9443-4aaa-bc18-bc538f24b6c0</td></tr><tr><td style='border: 1px solid #dddddd'>2024-12-16 18:48:31.957200+00:00</td><td style='border: 1px solid #dddddd'>rougelsum</td><td style='border: 1px solid #dddddd'>f53b74bb-04f8-4b6f-9bd5-dd5fcdbbb2aa</td><td style='border: 1px solid #dddddd'>0.1111</td><td style='border: 1px solid #dddddd'>None</td><td style='border: 1px solid #dddddd'>None</td><td style='border: 1px solid #dddddd'>['computed_on:feedback', 'field_type:subscription', 'aggregation_type:min']</td><td style='border: 1px solid #dddddd'>generative_ai_quality</td><td style='border: 1px solid #dddddd'>ad1584d0-f96e-4ff7-97dc-4b492d88fe89</td><td style='border: 1px solid #dddddd'>7d67c212-9908-4aa0-8884-167cd6d2d5b5</td><td style='border: 1px solid #dddddd'>subscription</td><td style='border: 1px solid #dddddd'>3d629beb-9443-4aaa-bc18-bc538f24b6c0</td></tr>\n",
       "            </table>\n",
       "        </body>\n",
       "        </HTML>"
      ],
      "text/plain": [
       "<IPython.core.display.HTML object>"
      ]
     },
     "metadata": {},
     "output_type": "display_data"
    },
    {
     "name": "stdout",
     "output_type": "stream",
     "text": [
      "Note: First 20 records were displayed.\n"
     ]
    }
   ],
   "source": [
    "wos_client.monitor_instances.show_metrics(monitor_instance_id=genaiquality_monitor_id, project_id=project_id, limit=20)"
   ]
  },
  {
   "cell_type": "markdown",
   "metadata": {
    "id": "0eaf589a-3a23-4e29-be51-7aba4df22023"
   },
   "source": [
    "### Display record level metrics for Generative AI quality "
   ]
  },
  {
   "cell_type": "markdown",
   "metadata": {
    "id": "493aa938-30a3-4dbb-8a40-cb2550b5d491"
   },
   "source": [
    "Get the dataset ID for the Generative AI quality dataset:"
   ]
  },
  {
   "cell_type": "code",
   "execution_count": 127,
   "metadata": {
    "id": "f09ad225-6d99-4a78-87b4-a3d588f23cd8"
   },
   "outputs": [
    {
     "data": {
      "text/plain": [
       "'dece6484-1d2b-4edf-98b0-f75a7cb6fa39'"
      ]
     },
     "execution_count": 127,
     "metadata": {},
     "output_type": "execute_result"
    }
   ],
   "source": [
    "result = wos_client.data_sets.list(target_target_id = dev_subscription_id,\n",
    "                                target_target_type = \"subscription\",\n",
    "                                type = \"gen_ai_quality_metrics\").result\n",
    "\n",
    "genaiq_dataset_id = result.data_sets[0].metadata.id\n",
    "genaiq_dataset_id"
   ]
  },
  {
   "cell_type": "markdown",
   "metadata": {
    "id": "b09e557a-8a85-4f78-9fa9-c304756a7f60"
   },
   "source": [
    "Display record level metrics for Generative AI quality:"
   ]
  },
  {
   "cell_type": "code",
   "execution_count": 128,
   "metadata": {
    "id": "deb667cf-536c-4015-8a68-14760b95f389"
   },
   "outputs": [
    {
     "data": {
      "text/html": [
       "<HTML>\n",
       "        <body>\n",
       "            <h3>Data Set dece6484-1d2b-4edf-98b0-f75a7cb6fa39 Records</h3>\n",
       "            <table style='border: 1px solid #dddddd; font-family: Courier'>\n",
       "                <th style='border: 1px solid #dddddd'>rouge2</th><th style='border: 1px solid #dddddd'>faithfulness</th><th style='border: 1px solid #dddddd'>average_precision</th><th style='border: 1px solid #dddddd'>scoring_id</th><th style='border: 1px solid #dddddd'>hit_rate</th><th style='border: 1px solid #dddddd'>computed_on</th><th style='border: 1px solid #dddddd'>scoring_timestamp</th><th style='border: 1px solid #dddddd'>rougelsum</th><th style='border: 1px solid #dddddd'>answer_relevance</th><th style='border: 1px solid #dddddd'>faithfulness_attributions</th><th style='border: 1px solid #dddddd'>context_relevances</th><th style='border: 1px solid #dddddd'>reciprocal_rank</th><th style='border: 1px solid #dddddd'>ndcg</th><th style='border: 1px solid #dddddd'>retrieval_precision</th><th style='border: 1px solid #dddddd'>run_id</th><th style='border: 1px solid #dddddd'>context_relevance</th><th style='border: 1px solid #dddddd'>rougel</th><th style='border: 1px solid #dddddd'>answer_similarity</th><th style='border: 1px solid #dddddd'>rouge1</th>\n",
       "                <tr><td style='border: 1px solid #dddddd'>0.0</td><td style='border: 1px solid #dddddd'>0.0</td><td style='border: 1px solid #dddddd'>0.0</td><td style='border: 1px solid #dddddd'>MRM_695ae977-5666-4ea7-940b-e6f987a73f5d-0</td><td style='border: 1px solid #dddddd'>0.0</td><td style='border: 1px solid #dddddd'>feedback</td><td style='border: 1px solid #dddddd'>2024-12-16T18:47:56.873Z</td><td style='border: 1px solid #dddddd'>0.1111</td><td style='border: 1px solid #dddddd'>1.0</td><td style='border: 1px solid #dddddd'>{'faithfulness': 0.0, 'faithfulness_attributions': []}</td><td style='border: 1px solid #dddddd'>{'context_columns': ['retrieved_contexts'], 'context_relevances': [0.0]}</td><td style='border: 1px solid #dddddd'>0.0</td><td style='border: 1px solid #dddddd'>1.0</td><td style='border: 1px solid #dddddd'>0.0</td><td style='border: 1px solid #dddddd'>7d67c212-9908-4aa0-8884-167cd6d2d5b5</td><td style='border: 1px solid #dddddd'>0.0</td><td style='border: 1px solid #dddddd'>0.1111</td><td style='border: 1px solid #dddddd'>0.0</td><td style='border: 1px solid #dddddd'>0.1111</td></tr><tr><td style='border: 1px solid #dddddd'>0.1169</td><td style='border: 1px solid #dddddd'>0.2</td><td style='border: 1px solid #dddddd'>1.0</td><td style='border: 1px solid #dddddd'>MRM_922f8294-37c1-4574-b669-9fd343f9b45c-0</td><td style='border: 1px solid #dddddd'>1.0</td><td style='border: 1px solid #dddddd'>feedback</td><td style='border: 1px solid #dddddd'>2024-12-16T18:47:04.842Z</td><td style='border: 1px solid #dddddd'>0.3205</td><td style='border: 1px solid #dddddd'>1.0</td><td style='border: 1px solid #dddddd'>{'faithfulness': 0.2, 'faithfulness_attributions': []}</td><td style='border: 1px solid #dddddd'>{'context_columns': ['retrieved_contexts'], 'context_relevances': [0.8]}</td><td style='border: 1px solid #dddddd'>1.0</td><td style='border: 1px solid #dddddd'>1.0</td><td style='border: 1px solid #dddddd'>1.0</td><td style='border: 1px solid #dddddd'>60810f6c-5599-4410-83d0-c042f5dfe98b</td><td style='border: 1px solid #dddddd'>0.8</td><td style='border: 1px solid #dddddd'>0.1795</td><td style='border: 1px solid #dddddd'>0.0</td><td style='border: 1px solid #dddddd'>0.3205</td></tr><tr><td style='border: 1px solid #dddddd'>0.0</td><td style='border: 1px solid #dddddd'>0.2</td><td style='border: 1px solid #dddddd'>0.0</td><td style='border: 1px solid #dddddd'>MRM_f53caa74-d6c8-4b37-b38d-1ff0eeb06bed-0</td><td style='border: 1px solid #dddddd'>0.0</td><td style='border: 1px solid #dddddd'>feedback</td><td style='border: 1px solid #dddddd'>2024-12-16T18:46:07.141Z</td><td style='border: 1px solid #dddddd'>0.1842</td><td style='border: 1px solid #dddddd'>0.8</td><td style='border: 1px solid #dddddd'>{'faithfulness': 0.2, 'faithfulness_attributions': []}</td><td style='border: 1px solid #dddddd'>{'context_columns': ['retrieved_contexts'], 'context_relevances': [0.2]}</td><td style='border: 1px solid #dddddd'>0.0</td><td style='border: 1px solid #dddddd'>1.0</td><td style='border: 1px solid #dddddd'>0.0</td><td style='border: 1px solid #dddddd'>9cd60e2c-402d-4c75-9545-2c8d14a42d22</td><td style='border: 1px solid #dddddd'>0.2</td><td style='border: 1px solid #dddddd'>0.1842</td><td style='border: 1px solid #dddddd'>0.0</td><td style='border: 1px solid #dddddd'>0.1842</td></tr><tr><td style='border: 1px solid #dddddd'>0.1026</td><td style='border: 1px solid #dddddd'>0.2</td><td style='border: 1px solid #dddddd'>1.0</td><td style='border: 1px solid #dddddd'>MRM_729c52ff-f34b-4e13-8c06-b9f5685b42f4-0</td><td style='border: 1px solid #dddddd'>1.0</td><td style='border: 1px solid #dddddd'>feedback</td><td style='border: 1px solid #dddddd'>2024-12-16T18:45:06.935Z</td><td style='border: 1px solid #dddddd'>0.2</td><td style='border: 1px solid #dddddd'>0.2</td><td style='border: 1px solid #dddddd'>{'faithfulness': 0.2, 'faithfulness_attributions': []}</td><td style='border: 1px solid #dddddd'>{'context_columns': ['retrieved_contexts'], 'context_relevances': [0.8]}</td><td style='border: 1px solid #dddddd'>1.0</td><td style='border: 1px solid #dddddd'>1.0</td><td style='border: 1px solid #dddddd'>1.0</td><td style='border: 1px solid #dddddd'>0ce8cecb-6a66-4541-b866-8bb860dea749</td><td style='border: 1px solid #dddddd'>0.8</td><td style='border: 1px solid #dddddd'>0.2</td><td style='border: 1px solid #dddddd'>0.0</td><td style='border: 1px solid #dddddd'>0.225</td></tr><tr><td style='border: 1px solid #dddddd'>0.1021</td><td style='border: 1px solid #dddddd'>0.2</td><td style='border: 1px solid #dddddd'>0.0</td><td style='border: 1px solid #dddddd'>MRM_96b8a3c7-77fd-4bc9-9d36-fc62016d82b0-0</td><td style='border: 1px solid #dddddd'>0.0</td><td style='border: 1px solid #dddddd'>feedback</td><td style='border: 1px solid #dddddd'>2024-12-16T18:44:16.331Z</td><td style='border: 1px solid #dddddd'>0.2869</td><td style='border: 1px solid #dddddd'>1.0</td><td style='border: 1px solid #dddddd'>{'faithfulness': 0.2, 'faithfulness_attributions': []}</td><td style='border: 1px solid #dddddd'>{'context_columns': ['retrieved_contexts'], 'context_relevances': [0.2]}</td><td style='border: 1px solid #dddddd'>0.0</td><td style='border: 1px solid #dddddd'>1.0</td><td style='border: 1px solid #dddddd'>0.0</td><td style='border: 1px solid #dddddd'>fb065e17-af6c-4497-b9de-541bbac68f94</td><td style='border: 1px solid #dddddd'>0.2</td><td style='border: 1px solid #dddddd'>0.1941</td><td style='border: 1px solid #dddddd'>0.2</td><td style='border: 1px solid #dddddd'>0.3207</td></tr><tr><td style='border: 1px solid #dddddd'>0.1033</td><td style='border: 1px solid #dddddd'>0.2</td><td style='border: 1px solid #dddddd'>0.0</td><td style='border: 1px solid #dddddd'>MRM_a4c28441-e568-4299-bf5f-0b2c1ae5550b-0</td><td style='border: 1px solid #dddddd'>0.0</td><td style='border: 1px solid #dddddd'>feedback</td><td style='border: 1px solid #dddddd'>2024-12-16T18:43:18.227Z</td><td style='border: 1px solid #dddddd'>0.307</td><td style='border: 1px solid #dddddd'>0.2</td><td style='border: 1px solid #dddddd'>{'faithfulness': 0.2, 'faithfulness_attributions': []}</td><td style='border: 1px solid #dddddd'>{'context_columns': ['retrieved_contexts'], 'context_relevances': [0.2]}</td><td style='border: 1px solid #dddddd'>0.0</td><td style='border: 1px solid #dddddd'>1.0</td><td style='border: 1px solid #dddddd'>0.0</td><td style='border: 1px solid #dddddd'>11c13cf8-6dd0-4036-9af1-0fecc3c9c92d</td><td style='border: 1px solid #dddddd'>0.2</td><td style='border: 1px solid #dddddd'>0.2047</td><td style='border: 1px solid #dddddd'>0.0</td><td style='border: 1px solid #dddddd'>0.3721</td></tr><tr><td style='border: 1px solid #dddddd'>0.1928</td><td style='border: 1px solid #dddddd'>0.2</td><td style='border: 1px solid #dddddd'>0.0</td><td style='border: 1px solid #dddddd'>MRM_3f140d24-2c55-4fd7-9374-ead2c9a3382d-0</td><td style='border: 1px solid #dddddd'>0.0</td><td style='border: 1px solid #dddddd'>feedback</td><td style='border: 1px solid #dddddd'>2024-12-16T18:42:25.730Z</td><td style='border: 1px solid #dddddd'>0.2353</td><td style='border: 1px solid #dddddd'>0.6</td><td style='border: 1px solid #dddddd'>{'faithfulness': 0.2, 'faithfulness_attributions': []}</td><td style='border: 1px solid #dddddd'>{'context_columns': ['retrieved_contexts'], 'context_relevances': [0.2]}</td><td style='border: 1px solid #dddddd'>0.0</td><td style='border: 1px solid #dddddd'>1.0</td><td style='border: 1px solid #dddddd'>0.0</td><td style='border: 1px solid #dddddd'>b785efd8-e156-4932-9f47-b7286c9d02b5</td><td style='border: 1px solid #dddddd'>0.2</td><td style='border: 1px solid #dddddd'>0.2353</td><td style='border: 1px solid #dddddd'>0.0</td><td style='border: 1px solid #dddddd'>0.2824</td></tr><tr><td style='border: 1px solid #dddddd'>0.5405</td><td style='border: 1px solid #dddddd'>0.2</td><td style='border: 1px solid #dddddd'>0.0</td><td style='border: 1px solid #dddddd'>MRM_5b2dbdd4-200c-4c3d-bf76-74d39e8d955e-0</td><td style='border: 1px solid #dddddd'>0.0</td><td style='border: 1px solid #dddddd'>feedback</td><td style='border: 1px solid #dddddd'>2024-12-16T18:41:34.030Z</td><td style='border: 1px solid #dddddd'>0.6154</td><td style='border: 1px solid #dddddd'>0.2</td><td style='border: 1px solid #dddddd'>{'faithfulness': 0.2, 'faithfulness_attributions': []}</td><td style='border: 1px solid #dddddd'>{'context_columns': ['retrieved_contexts'], 'context_relevances': [0.2]}</td><td style='border: 1px solid #dddddd'>0.0</td><td style='border: 1px solid #dddddd'>1.0</td><td style='border: 1px solid #dddddd'>0.0</td><td style='border: 1px solid #dddddd'>e37e32b9-85cc-4445-a349-3257247f7463</td><td style='border: 1px solid #dddddd'>0.2</td><td style='border: 1px solid #dddddd'>0.6154</td><td style='border: 1px solid #dddddd'>0.0</td><td style='border: 1px solid #dddddd'>0.6667</td></tr><tr><td style='border: 1px solid #dddddd'>0.5149</td><td style='border: 1px solid #dddddd'>0.2</td><td style='border: 1px solid #dddddd'>0.0</td><td style='border: 1px solid #dddddd'>MRM_2bda6a9f-b7ba-447d-9697-ddf9e2bb9223-0</td><td style='border: 1px solid #dddddd'>0.0</td><td style='border: 1px solid #dddddd'>feedback</td><td style='border: 1px solid #dddddd'>2024-12-16T18:40:43.439Z</td><td style='border: 1px solid #dddddd'>0.5631</td><td style='border: 1px solid #dddddd'>0.8</td><td style='border: 1px solid #dddddd'>{'faithfulness': 0.2, 'faithfulness_attributions': []}</td><td style='border: 1px solid #dddddd'>{'context_columns': ['retrieved_contexts'], 'context_relevances': [0.2]}</td><td style='border: 1px solid #dddddd'>0.0</td><td style='border: 1px solid #dddddd'>1.0</td><td style='border: 1px solid #dddddd'>0.0</td><td style='border: 1px solid #dddddd'>744ab65a-3b4c-498a-8e62-af0de83b937d</td><td style='border: 1px solid #dddddd'>0.2</td><td style='border: 1px solid #dddddd'>0.6214</td><td style='border: 1px solid #dddddd'>0.0</td><td style='border: 1px solid #dddddd'>0.6214</td></tr><tr><td style='border: 1px solid #dddddd'>0.0185</td><td style='border: 1px solid #dddddd'>0.2</td><td style='border: 1px solid #dddddd'>1.0</td><td style='border: 1px solid #dddddd'>MRM_9e807983-42a7-43fe-a176-898d7a75b1e4-0</td><td style='border: 1px solid #dddddd'>1.0</td><td style='border: 1px solid #dddddd'>feedback</td><td style='border: 1px solid #dddddd'>2024-12-16T18:39:45.861Z</td><td style='border: 1px solid #dddddd'>0.1455</td><td style='border: 1px solid #dddddd'>0.8</td><td style='border: 1px solid #dddddd'>{'faithfulness': 0.2, 'faithfulness_attributions': []}</td><td style='border: 1px solid #dddddd'>{'context_columns': ['retrieved_contexts'], 'context_relevances': [0.8]}</td><td style='border: 1px solid #dddddd'>1.0</td><td style='border: 1px solid #dddddd'>1.0</td><td style='border: 1px solid #dddddd'>1.0</td><td style='border: 1px solid #dddddd'>7daf2ad8-93d0-49b9-ab4b-05728292f807</td><td style='border: 1px solid #dddddd'>0.8</td><td style='border: 1px solid #dddddd'>0.0727</td><td style='border: 1px solid #dddddd'>0.2</td><td style='border: 1px solid #dddddd'>0.1818</td></tr>\n",
       "            </table>\n",
       "        </body>\n",
       "        </HTML>"
      ],
      "text/plain": [
       "<IPython.core.display.HTML object>"
      ]
     },
     "metadata": {},
     "output_type": "display_data"
    }
   ],
   "source": [
    "wos_client.data_sets.show_records(data_set_id = genaiq_dataset_id)"
   ]
  },
  {
   "cell_type": "markdown",
   "metadata": {
    "id": "d29060a6-a36a-4b39-9199-e393f03d5980"
   },
   "source": [
    "## Step 7 - Plot faithfulness and answer relevance metrics against records <a name=\"plotproject\"></a>"
   ]
  },
  {
   "cell_type": "markdown",
   "metadata": {
    "id": "c72b3bbd-f321-47be-b429-43a0d2d74b30"
   },
   "source": [
    "Retrieve a list of records and extract the record IDs, faithfulness values, and answer relevance values:"
   ]
  },
  {
   "cell_type": "code",
   "execution_count": 129,
   "metadata": {
    "id": "f1e84fd1-645b-4cf5-8208-5d1f042c24bd"
   },
   "outputs": [
    {
     "name": "stderr",
     "output_type": "stream",
     "text": [
      "An asset named 'watsonx_llm_as_judge_2.csv' already exists.\n",
      "\n",
      "2024-12-16 18:49:40,340 - __PROJECT_LIB__ - ERROR - An asset named 'watsonx_llm_as_judge_2.csv' already exists.\n",
      "RuntimeError: An asset named 'watsonx_llm_as_judge_2.csv' already exists.\n"
     ]
    },
    {
     "ename": "RuntimeError",
     "evalue": "An asset named 'watsonx_llm_as_judge_2.csv' already exists.",
     "output_type": "error",
     "traceback": [
      "\u001b[0;31m---------------------------------------------------------------------------\u001b[0m",
      "\u001b[0;31mRuntimeError\u001b[0m                              Traceback (most recent call last)",
      "Cell \u001b[0;32mIn[129], line 24\u001b[0m\n\u001b[1;32m     22\u001b[0m project \u001b[38;5;241m=\u001b[39m Project(project_id\u001b[38;5;241m=\u001b[39m\u001b[38;5;124m'\u001b[39m\u001b[38;5;124m36e48345-0549-4909-8440-d050e3d59b8a\u001b[39m\u001b[38;5;124m'\u001b[39m)\n\u001b[1;32m     23\u001b[0m pc \u001b[38;5;241m=\u001b[39m project\u001b[38;5;241m.\u001b[39mproject_context\n\u001b[0;32m---> 24\u001b[0m project\u001b[38;5;241m.\u001b[39msave_data(file_name \u001b[38;5;241m=\u001b[39m \u001b[38;5;124m\"\u001b[39m\u001b[38;5;124mwatsonx_llm_as_judge_2.csv\u001b[39m\u001b[38;5;124m\"\u001b[39m,data \u001b[38;5;241m=\u001b[39m consolidated_df\u001b[38;5;241m.\u001b[39mto_csv(index\u001b[38;5;241m=\u001b[39m\u001b[38;5;28;01mFalse\u001b[39;00m))\n\u001b[1;32m     27\u001b[0m \u001b[38;5;28;01mimport\u001b[39;00m \u001b[38;5;21;01mcsv\u001b[39;00m\n\u001b[1;32m     29\u001b[0m \u001b[38;5;66;03m# Read the CSV file and reverse the rows\u001b[39;00m\n",
      "File \u001b[0;32m/opt/conda/envs/Python-RT24.1-Premium/lib/python3.11/site-packages/project_lib/project.py:255\u001b[0m, in \u001b[0;36mProject.save_data\u001b[0;34m(self, file_name, data, set_project_asset, overwrite, direct_storage)\u001b[0m\n\u001b[1;32m    249\u001b[0m         \u001b[38;5;28;01mraise\u001b[39;00m exception(\n\u001b[1;32m    250\u001b[0m             \u001b[38;5;124m\"\u001b[39m\u001b[38;5;124mFile \u001b[39m\u001b[38;5;124m'\u001b[39m\u001b[38;5;132;01m{}\u001b[39;00m\u001b[38;5;124m'\u001b[39m\u001b[38;5;124m already exists in storage.\u001b[39m\u001b[38;5;124m\"\u001b[39m\u001b[38;5;241m.\u001b[39mformat(file_name))\n\u001b[1;32m    252\u001b[0m     \u001b[38;5;66;03m# if exists_in_os is None, save_data_to_storage will do the check\u001b[39;00m\n\u001b[1;32m    253\u001b[0m \n\u001b[1;32m    254\u001b[0m \u001b[38;5;66;03m# protect against unsafe overwrite of existing assets\u001b[39;00m\n\u001b[0;32m--> 255\u001b[0m asset \u001b[38;5;241m=\u001b[39m \u001b[38;5;28mself\u001b[39m\u001b[38;5;241m.\u001b[39m_core\u001b[38;5;241m.\u001b[39mguard_data_asset_overwrite(file_name, overwrite)\n\u001b[1;32m    256\u001b[0m create_asset \u001b[38;5;241m=\u001b[39m \u001b[38;5;129;01mnot\u001b[39;00m direct\n\u001b[1;32m    257\u001b[0m \u001b[38;5;28;01mif\u001b[39;00m asset:\n",
      "File \u001b[0;32m/opt/conda/envs/Python-RT24.1-Premium/lib/python3.11/site-packages/project_lib/handlers/project_v2.py:241\u001b[0m, in \u001b[0;36mProjectV2.guard_data_asset_overwrite\u001b[0;34m(self, asset_name, overwrite)\u001b[0m\n\u001b[1;32m    238\u001b[0m     \u001b[38;5;28;01mraise\u001b[39;00m exception(\n\u001b[1;32m    239\u001b[0m         \u001b[38;5;124m\"\u001b[39m\u001b[38;5;124mThere are multiple assets named \u001b[39m\u001b[38;5;124m'\u001b[39m\u001b[38;5;132;01m{}\u001b[39;00m\u001b[38;5;124m'\u001b[39m\u001b[38;5;124m.\u001b[39m\u001b[38;5;124m\"\u001b[39m\u001b[38;5;241m.\u001b[39mformat(asset_name))\n\u001b[1;32m    240\u001b[0m \u001b[38;5;28;01mif\u001b[39;00m \u001b[38;5;129;01mnot\u001b[39;00m overwrite:\n\u001b[0;32m--> 241\u001b[0m     \u001b[38;5;28;01mraise\u001b[39;00m exception(\n\u001b[1;32m    242\u001b[0m         \u001b[38;5;124m\"\u001b[39m\u001b[38;5;124mAn asset named \u001b[39m\u001b[38;5;124m'\u001b[39m\u001b[38;5;132;01m{}\u001b[39;00m\u001b[38;5;124m'\u001b[39m\u001b[38;5;124m already exists.\u001b[39m\u001b[38;5;124m\"\u001b[39m\u001b[38;5;241m.\u001b[39mformat(asset_name))\n\u001b[1;32m    244\u001b[0m \u001b[38;5;66;03m# search results are insufficient to detect the safe cases,\u001b[39;00m\n\u001b[1;32m    245\u001b[0m \u001b[38;5;66;03m# need to do an asset lookup\u001b[39;00m\n\u001b[1;32m    246\u001b[0m asset_id \u001b[38;5;241m=\u001b[39m assets[\u001b[38;5;241m0\u001b[39m][\u001b[38;5;124m\"\u001b[39m\u001b[38;5;124mmetadata\u001b[39m\u001b[38;5;124m\"\u001b[39m][\u001b[38;5;124m\"\u001b[39m\u001b[38;5;124masset_id\u001b[39m\u001b[38;5;124m\"\u001b[39m]\n",
      "\u001b[0;31mRuntimeError\u001b[0m: An asset named 'watsonx_llm_as_judge_2.csv' already exists."
     ]
    }
   ],
   "source": [
    "result = wos_client.data_sets.get_list_of_records(data_set_id = genaiq_dataset_id).result\n",
    "result[\"records\"]\n",
    "x = []\n",
    "y_faithfulness = []\n",
    "y_answer_relevance = []\n",
    "for each in result[\"records\"]:\n",
    "    x.append(each[\"metadata\"][\"id\"][-5:]) # Reading only last 5 characters to fit in the display\n",
    "    y_faithfulness.append(each[\"entity\"][\"values\"][\"faithfulness\"])\n",
    "    y_answer_relevance.append(each[\"entity\"][\"values\"][\"answer_relevance\"])\n",
    "\n",
    "# Create a consolidated DataFrame for all records\n",
    "table_data = []\n",
    "for record in result['records']:\n",
    "    entity_values = record['entity']['values']\n",
    "    flat_record = {**entity_values, **record['metadata']}\n",
    "    table_data.append(flat_record)\n",
    "\n",
    "# Create a DataFrame for all records\n",
    "consolidated_df = pd.DataFrame(table_data)\n",
    "consolidated_df.to_csv(\"watsonx_llm_as_judge_2.csv\")\n",
    "from project_lib import Project\n",
    "project = Project(project_id='36e48345-0549-4909-8440-d050e3d59b8a')\n",
    "pc = project.project_context\n",
    "project.save_data(file_name = \"watsonx_llm_as_judge_2.csv\",data = consolidated_df.to_csv(index=False))\n",
    "\n",
    "\n",
    "import csv\n",
    "\n",
    "# Read the CSV file and reverse the rows\n",
    "def reverse_csv(input_file, output_file):\n",
    "    # Open and read the input CSV file\n",
    "    with open(input_file, mode='r', newline='') as infile:\n",
    "        reader = csv.reader(infile)\n",
    "        rows = list(reader)  # Read all rows into a list\n",
    "        \n",
    "    # Reverse the rows\n",
    "    rows.reverse()\n",
    "\n",
    "    # Write the reversed rows to a new CSV file\n",
    "    with open(output_file, mode='w', newline='') as outfile:\n",
    "        writer = csv.writer(outfile)\n",
    "        writer.writerows(rows)\n",
    "\n",
    "# Usage\n",
    "input_file = 'watsonx_llm_as_judge_2.csv'  # Replace with your input file path\n",
    "output_file = 'watsonx_llm_as_judge_2_reversed.csv'  # Replace with your desired output file path\n",
    "reverse_csv(input_file, output_file)\n",
    "\n",
    "from project_lib import Project\n",
    "project = Project(project_id='36e48345-0549-4909-8440-d050e3d59b8a')\n",
    "pc = project.project_context\n",
    "consolidated_df=pd.read_csv(\"watsonx_llm_as_judge_2_reversed.csv\")\n",
    "project.save_data(file_name = \"watsonx_llm_as_judge_2_reversed.csv\",data = consolidated_df.to_csv(index=False))"
   ]
  },
  {
   "cell_type": "markdown",
   "metadata": {
    "id": "f67e8473-ceb3-46fb-8970-35db64f388cd"
   },
   "source": [
    "Plot faithfulness metrics against the records"
   ]
  },
  {
   "cell_type": "code",
   "execution_count": null,
   "metadata": {
    "id": "4a0a03eb-308e-4626-b6ee-25c7b829f5e9"
   },
   "outputs": [],
   "source": [
    "import matplotlib.pyplot as plt\n",
    "plt.scatter(x, y_faithfulness, marker='o')\n",
    "\n",
    "# Adding labels and title\n",
    "plt.xlabel('X-axis - Record id (last 5 characters)')\n",
    "plt.ylabel('Y-axis - Faithfulness')\n",
    "plt.title('faithfulness vs record id')\n",
    "\n",
    "# Display the graph\n",
    "plt.show()"
   ]
  },
  {
   "cell_type": "markdown",
   "metadata": {
    "id": "c3a22aa3-a052-4c20-9216-17b7f60b8667"
   },
   "source": [
    "Plot answer relevance metrics against the records"
   ]
  },
  {
   "cell_type": "code",
   "execution_count": null,
   "metadata": {
    "id": "e299616a-c660-432e-a410-5fe16e55f12e"
   },
   "outputs": [],
   "source": [
    "import matplotlib.pyplot as plt\n",
    "plt.scatter(x, y_answer_relevance, marker='o')\n",
    "\n",
    "# Adding labels and title\n",
    "plt.xlabel('X-axis - Record id (last 5 characters)')\n",
    "plt.ylabel('Y-axis - Answer relevance')\n",
    "plt.title('answer_relevance vs record id')\n",
    "\n",
    "# Display the graph\n",
    "plt.show()"
   ]
  },
  {
   "cell_type": "markdown",
   "metadata": {
    "id": "e7d36530-c817-4633-a7a6-55cefbad3f36"
   },
   "source": [
    "## Step 8 - See factsheets information <a name=\"factsheetsspace\"></a>"
   ]
  },
  {
   "cell_type": "code",
   "execution_count": null,
   "metadata": {
    "id": "0c0491e5-43ff-457a-ba2a-029cc4e4cf9b"
   },
   "outputs": [],
   "source": [
    "factsheets_url = factsheets_url = \"{}/wx/prompt-details/{}/factsheet?context=wx&project_id={}\".format(WML_CREDENTIALS[\"url\"],project_pta_id, project_id)\n",
    "print(\"User can navigate to the published facts in project {}\".format(factsheets_url))"
   ]
  },
  {
   "cell_type": "markdown",
   "metadata": {
    "id": "27f9c379-5abb-40f9-b256-92c35a6be183"
   },
   "source": [
    "## Congratulations!\n",
    "\n",
    "You have completed this notebook. You can now navigate to the prompt template asset in your OpenScale project / space and click on the `Evaluate` tab to visualize the results in the UI."
   ]
  },
  {
   "cell_type": "markdown",
   "metadata": {
    "id": "e4b1ce04-a749-491b-a14e-92359cf6d92f"
   },
   "source": [
    "watsonx.governance"
   ]
  },
  {
   "cell_type": "markdown",
   "metadata": {
    "id": "01407cbc-7d58-4f68-9628-b51f3edcbe39"
   },
   "source": [
    "Copyright © 2024 IBM."
   ]
  },
  {
   "cell_type": "code",
   "execution_count": null,
   "metadata": {
    "id": "c3e76fcb-e11e-4c95-a5a8-020c2621b2e0"
   },
   "outputs": [],
   "source": []
  }
 ],
 "metadata": {
  "kernelspec": {
   "display_name": "Python 3 (ipykernel)",
   "language": "python",
   "name": "python3"
  },
  "language_info": {
   "codemirror_mode": {
    "name": "ipython",
    "version": 3
   },
   "file_extension": ".py",
   "mimetype": "text/x-python",
   "name": "python",
   "nbconvert_exporter": "python",
   "pygments_lexer": "ipython3",
   "version": "3.10.9"
  }
 },
 "nbformat": 4,
 "nbformat_minor": 4
}
