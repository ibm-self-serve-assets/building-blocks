{
 "cells": [
  {
   "cell_type": "markdown",
   "metadata": {},
   "source": [
    "# Working with Prompts/Prompt Template Assets"
   ]
  },
  {
   "cell_type": "markdown",
   "metadata": {},
   "source": [
    "\n",
    "This notebook should use Runtime 22.2 & Python 3.10 or greater runtime environment. If you are viewing this in Watson Studio and do not see Python 3.10.x in the upper right corner of your screen, please update the runtime now. \n",
    "\n",
    "The notebook will create a summarization prompt template asset in a given project, configure OpenScale to monitor that PTA and evaluate generative ai quality metrics and model health metrics. The notebook then promotes the prompt template asset to space and does the same evaluation.\n",
    "\n",
    "If users wish to execute this notebook for task types other than summarization, please consult [this](https://github.com/IBM/watson-openscale-samples/blob/main/IBM%20Cloud/WML/notebooks/watsonx/README.md) document for guidance on evaluating prompt templates for the available task types.\n",
    "\n",
    "Note : User can search for `EDIT THIS` and fill the inputs needed"
   ]
  },
  {
   "cell_type": "markdown",
   "metadata": {},
   "source": [
    "## Prerequisite"
   ]
  },
  {
   "cell_type": "markdown",
   "metadata": {},
   "source": [
    "* It requires service credentials for IBM Watson OpenScale:\n",
    "* Requires a CSV file containing the test data that needs to be evaluated\n",
    "* Requires the ID of project in which you want to create the prompt template asset.\n",
    "* Requires the ID of space to which you want to promote the prompt template asset."
   ]
  },
  {
   "cell_type": "markdown",
   "metadata": {},
   "source": [
    "### Contents\n",
    "\n",
    "- [Setup](#settingup)\n",
    "- [Create Prompt template](#prompt)\n",
    "- [Prompt Setup](#ptatsetup)\n",
    "- [Risk evaluations for prompt template asset subscription](#evaluate)\n",
    "- [Display the Model Risk metrics](#mrmmetric)\n",
    "- [Display the Generative AI Quality metrics](#genaimetrics)\n",
    "- [Plot rougel and rougelsum metrics against records](#plotproject)\n",
    "- [See factsheets information](#factsheetsspace)\n",
    "- [Evaluate prompt template from space](#evaluatespace)\n",
    "- [Promote prompt template asset to space](#promottospace)\n",
    "- [Create deployment for prompt template asset in space](#ptadeployment)\n",
    "- [Setup the prompt template asset in space](#ptaspace)\n",
    "- [Score the model and configure monitors](#score)\n",
    "- [Plot rougel and rougelsum metrics against records for production subscription](#plotspace)\n",
    "- [See factsheets information from space](#factsheetsproject)"
   ]
  },
  {
   "cell_type": "markdown",
   "metadata": {},
   "source": [
    "## Setup <a name=\"settingup\"></a>"
   ]
  },
  {
   "cell_type": "code",
   "execution_count": 1,
   "metadata": {
    "ExecuteTime": {
     "end_time": "2024-09-18T13:25:28.817395Z",
     "start_time": "2024-09-18T13:25:28.812101Z"
    }
   },
   "outputs": [
    {
     "name": "stdout",
     "output_type": "stream",
     "text": [
      "Requirement already satisfied: idna<4,>=2.5 in /opt/homebrew/lib/python3.11/site-packages (from requests<3.0,>=2.0->ibm-watson-openscale) (3.10)\n",
      "\u001b[31mERROR: Could not find a version that satisfies the requirement ibm-watson-ai (from versions: none)\u001b[0m\u001b[31m\n",
      "\u001b[0m\u001b[31mERROR: No matching distribution found for ibm-watson-ai\u001b[0m\u001b[31m\n",
      "\u001b[0mRequirement already satisfied: matplotlib in /opt/homebrew/lib/python3.11/site-packages (3.10.6)\n",
      "Requirement already satisfied: contourpy>=1.0.1 in /opt/homebrew/lib/python3.11/site-packages (from matplotlib) (1.3.3)\n",
      "Requirement already satisfied: cycler>=0.10 in /opt/homebrew/lib/python3.11/site-packages (from matplotlib) (0.12.1)\n",
      "Requirement already satisfied: fonttools>=4.22.0 in /opt/homebrew/lib/python3.11/site-packages (from matplotlib) (4.60.1)\n",
      "Requirement already satisfied: kiwisolver>=1.3.1 in /opt/homebrew/lib/python3.11/site-packages (from matplotlib) (1.4.9)\n",
      "Requirement already satisfied: numpy>=1.23 in /opt/homebrew/lib/python3.11/site-packages (from matplotlib) (1.26.4)\n",
      "Requirement already satisfied: packaging>=20.0 in /opt/homebrew/lib/python3.11/site-packages (from matplotlib) (24.2)\n",
      "Requirement already satisfied: pillow>=8 in /opt/homebrew/lib/python3.11/site-packages (from matplotlib) (11.3.0)\n",
      "Requirement already satisfied: pyparsing>=2.3.1 in /opt/homebrew/lib/python3.11/site-packages (from matplotlib) (3.2.5)\n",
      "Requirement already satisfied: python-dateutil>=2.7 in /opt/homebrew/lib/python3.11/site-packages (from matplotlib) (2.9.0.post0)\n",
      "Requirement already satisfied: six>=1.5 in /opt/homebrew/lib/python3.11/site-packages (from python-dateutil>=2.7->matplotlib) (1.17.0)\n"
     ]
    }
   ],
   "source": [
    "!pip install --upgrade ibm-watson-openscale | tail -n 1\n",
    "!pip install --upgrade ibm-watson-ai | tail -n 1\n",
    "!pip install matplotlib"
   ]
  },
  {
   "cell_type": "markdown",
   "metadata": {},
   "source": [
    "Note: you may need to restart the kernel to use updated packages."
   ]
  },
  {
   "cell_type": "markdown",
   "metadata": {},
   "source": [
    "### Provision services and configure credentials"
   ]
  },
  {
   "cell_type": "markdown",
   "metadata": {},
   "source": [
    "If you have not already, provision an instance of IBM Watson OpenScale using the [OpenScale link in the Cloud catalog](https://cloud.ibm.com/catalog/services/watson-openscale)."
   ]
  },
  {
   "cell_type": "markdown",
   "metadata": {},
   "source": [
    "Your Cloud API key can be generated by going to the [**Users** section of the Cloud console](https://cloud.ibm.com/iam#/users). From that page, click your name, scroll down to the **API Keys** section, and click **Create an IBM Cloud API key**. Give your key a name and click **Create**, then copy the created key and paste it below."
   ]
  },
  {
   "cell_type": "markdown",
   "metadata": {},
   "source": [
    "**NOTE:** You can also get OpenScale `API_KEY` using IBM CLOUD CLI.\n",
    "\n",
    "How to install IBM Cloud (bluemix) console: [instruction](https://console.bluemix.net/docs/cli/reference/ibmcloud/download_cli.html#install_use)\n",
    "\n",
    "How to get api key using console:\n",
    "```\n",
    "bx login --sso\n",
    "bx iam api-key-create 'my_key'\n",
    "```"
   ]
  },
  {
   "cell_type": "code",
   "execution_count": 2,
   "metadata": {
    "ExecuteTime": {
     "end_time": "2024-09-18T13:25:31.660659Z",
     "start_time": "2024-09-18T13:25:31.657960Z"
    }
   },
   "outputs": [],
   "source": [
    "use_cpd = False\n",
    "IAM_URL=\"https://iam.cloud.ibm.com\"\n",
    "DATAPLATFORM_URL = \"https://api.dataplatform.cloud.ibm.com\"\n",
    "SERVICE_URL = \"https://aiopenscale.cloud.ibm.com\"\n",
    "CLOUD_API_KEY = \"<apikey>\" # YOUR_CLOUD_API_KEY\n",
    "\n",
    "\n",
    "WML_CREDENTIALS = {\n",
    "                   \"url\": \"https://us-south.ml.cloud.ibm.com\",\n",
    "                   \"apikey\": CLOUD_API_KEY\n",
    "}"
   ]
  },
  {
   "cell_type": "markdown",
   "metadata": {},
   "source": [
    "Uncomment the code and run the below cell only if you are running your notebook on a CPD cluster."
   ]
  },
  {
   "cell_type": "markdown",
   "metadata": {},
   "source": [
    "## Read project id from user"
   ]
  },
  {
   "cell_type": "markdown",
   "metadata": {},
   "source": [
    "In order to set up a development type subscription, the PTA must be within the project. Please supply the project ID where the PTA needs to be created."
   ]
  },
  {
   "cell_type": "code",
   "execution_count": 3,
   "metadata": {
    "ExecuteTime": {
     "end_time": "2024-09-18T10:59:18.397312Z",
     "start_time": "2024-09-18T10:59:18.395211Z"
    }
   },
   "outputs": [],
   "source": [
    "project_id = \"<project_id>\" # YOUR_PROJECT_ID"
   ]
  },
  {
   "cell_type": "markdown",
   "metadata": {},
   "source": [
    "## Read space id from user"
   ]
  },
  {
   "cell_type": "markdown",
   "metadata": {},
   "source": [
    "User can use an existing space or can create a new space to promote the model. User should choose any of these options with the below variable."
   ]
  },
  {
   "cell_type": "code",
   "execution_count": 4,
   "metadata": {
    "ExecuteTime": {
     "end_time": "2024-09-18T10:59:19.053803Z",
     "start_time": "2024-09-18T10:59:19.051327Z"
    }
   },
   "outputs": [],
   "source": [
    "use_existing_space = True # Set it as False if user wants to create a new space"
   ]
  },
  {
   "cell_type": "code",
   "execution_count": 5,
   "metadata": {
    "ExecuteTime": {
     "end_time": "2024-09-18T10:59:23.606232Z",
     "start_time": "2024-09-18T10:59:19.311700Z"
    }
   },
   "outputs": [
    {
     "data": {
      "text/plain": [
       "'1.3.39'"
      ]
     },
     "execution_count": 5,
     "metadata": {},
     "output_type": "execute_result"
    }
   ],
   "source": [
    "import json\n",
    "from ibm_watsonx_ai import APIClient\n",
    "\n",
    "wx_ai_client = APIClient(WML_CREDENTIALS)\n",
    "wx_ai_client.version"
   ]
  },
  {
   "cell_type": "markdown",
   "metadata": {},
   "source": [
    "### Below details are required only if user choose to use an existing space"
   ]
  },
  {
   "cell_type": "markdown",
   "metadata": {},
   "source": [
    "In order to use an existing space, User can directly add the space id in the below cell"
   ]
  },
  {
   "cell_type": "code",
   "execution_count": 6,
   "metadata": {
    "ExecuteTime": {
     "end_time": "2024-09-18T10:59:25.726664Z",
     "start_time": "2024-09-18T10:59:24.821010Z"
    }
   },
   "outputs": [
    {
     "data": {
      "text/html": [
       "<div>\n",
       "<style scoped>\n",
       "    .dataframe tbody tr th:only-of-type {\n",
       "        vertical-align: middle;\n",
       "    }\n",
       "\n",
       "    .dataframe tbody tr th {\n",
       "        vertical-align: top;\n",
       "    }\n",
       "\n",
       "    .dataframe thead th {\n",
       "        text-align: right;\n",
       "    }\n",
       "</style>\n",
       "<table border=\"1\" class=\"dataframe\">\n",
       "  <thead>\n",
       "    <tr style=\"text-align: right;\">\n",
       "      <th></th>\n",
       "      <th>ID</th>\n",
       "      <th>NAME</th>\n",
       "      <th>CREATED</th>\n",
       "    </tr>\n",
       "  </thead>\n",
       "  <tbody>\n",
       "    <tr>\n",
       "      <th>0</th>\n",
       "      <td>cd33aff1-032b-4256-9afd-566d7aec6817</td>\n",
       "      <td>runtime_evaluation_deployment_space_2</td>\n",
       "      <td>2025-10-01T07:07:31.887Z</td>\n",
       "    </tr>\n",
       "    <tr>\n",
       "      <th>1</th>\n",
       "      <td>888ea269-8065-4573-b755-30e6ab163afc</td>\n",
       "      <td>test3</td>\n",
       "      <td>2025-10-01T02:49:41.151Z</td>\n",
       "    </tr>\n",
       "    <tr>\n",
       "      <th>2</th>\n",
       "      <td>054a66eb-932c-4847-b0b1-cc390f287302</td>\n",
       "      <td>runtime_evaluation_deployment_space</td>\n",
       "      <td>2025-09-30T13:04:27.032Z</td>\n",
       "    </tr>\n",
       "    <tr>\n",
       "      <th>3</th>\n",
       "      <td>e5e284e1-ac12-48d9-82cb-be755d3f88c0</td>\n",
       "      <td>Lenovo Agent Deployment Space</td>\n",
       "      <td>2025-08-13T13:32:54.795Z</td>\n",
       "    </tr>\n",
       "    <tr>\n",
       "      <th>4</th>\n",
       "      <td>84057519-41ec-47a8-beb7-7c225b75b7a9</td>\n",
       "      <td>Abilis Deployment Space</td>\n",
       "      <td>2025-08-01T02:18:49.761Z</td>\n",
       "    </tr>\n",
       "    <tr>\n",
       "      <th>...</th>\n",
       "      <td>...</td>\n",
       "      <td>...</td>\n",
       "      <td>...</td>\n",
       "    </tr>\n",
       "    <tr>\n",
       "      <th>72</th>\n",
       "      <td>ca19c4f6-d472-4456-b4d7-b1390f51903e</td>\n",
       "      <td>openscale-express-path-a4449307-d6b7-4c08-940e...</td>\n",
       "      <td>2023-01-29T21:02:34.013Z</td>\n",
       "    </tr>\n",
       "    <tr>\n",
       "      <th>73</th>\n",
       "      <td>0899955a-0846-47f3-89c2-2ebbd0eb40b5</td>\n",
       "      <td>lab deployment space</td>\n",
       "      <td>2023-01-29T20:50:19.569Z</td>\n",
       "    </tr>\n",
       "    <tr>\n",
       "      <th>74</th>\n",
       "      <td>abe99620-0248-43db-a08c-6cf116312713</td>\n",
       "      <td>test-catalog</td>\n",
       "      <td>2022-06-24T11:28:54.933Z</td>\n",
       "    </tr>\n",
       "    <tr>\n",
       "      <th>75</th>\n",
       "      <td>fe431c00-1280-4321-a9a9-fa21351d135a</td>\n",
       "      <td>openscale-express-path-preprod-0a6478e8-614f-4...</td>\n",
       "      <td>2022-06-02T04:57:23.306Z</td>\n",
       "    </tr>\n",
       "    <tr>\n",
       "      <th>76</th>\n",
       "      <td>362d53fe-4cb9-48d6-8a17-69999d97463b</td>\n",
       "      <td>openscale-express-path-0a6478e8-614f-4b75-8e4a...</td>\n",
       "      <td>2022-06-02T04:56:52.145Z</td>\n",
       "    </tr>\n",
       "  </tbody>\n",
       "</table>\n",
       "<p>77 rows × 3 columns</p>\n",
       "</div>"
      ],
      "text/plain": [
       "                                      ID  \\\n",
       "0   cd33aff1-032b-4256-9afd-566d7aec6817   \n",
       "1   888ea269-8065-4573-b755-30e6ab163afc   \n",
       "2   054a66eb-932c-4847-b0b1-cc390f287302   \n",
       "3   e5e284e1-ac12-48d9-82cb-be755d3f88c0   \n",
       "4   84057519-41ec-47a8-beb7-7c225b75b7a9   \n",
       "..                                   ...   \n",
       "72  ca19c4f6-d472-4456-b4d7-b1390f51903e   \n",
       "73  0899955a-0846-47f3-89c2-2ebbd0eb40b5   \n",
       "74  abe99620-0248-43db-a08c-6cf116312713   \n",
       "75  fe431c00-1280-4321-a9a9-fa21351d135a   \n",
       "76  362d53fe-4cb9-48d6-8a17-69999d97463b   \n",
       "\n",
       "                                                 NAME  \\\n",
       "0               runtime_evaluation_deployment_space_2   \n",
       "1                                               test3   \n",
       "2                 runtime_evaluation_deployment_space   \n",
       "3                       Lenovo Agent Deployment Space   \n",
       "4                             Abilis Deployment Space   \n",
       "..                                                ...   \n",
       "72  openscale-express-path-a4449307-d6b7-4c08-940e...   \n",
       "73                               lab deployment space   \n",
       "74                                       test-catalog   \n",
       "75  openscale-express-path-preprod-0a6478e8-614f-4...   \n",
       "76  openscale-express-path-0a6478e8-614f-4b75-8e4a...   \n",
       "\n",
       "                     CREATED  \n",
       "0   2025-10-01T07:07:31.887Z  \n",
       "1   2025-10-01T02:49:41.151Z  \n",
       "2   2025-09-30T13:04:27.032Z  \n",
       "3   2025-08-13T13:32:54.795Z  \n",
       "4   2025-08-01T02:18:49.761Z  \n",
       "..                       ...  \n",
       "72  2023-01-29T21:02:34.013Z  \n",
       "73  2023-01-29T20:50:19.569Z  \n",
       "74  2022-06-24T11:28:54.933Z  \n",
       "75  2022-06-02T04:57:23.306Z  \n",
       "76  2022-06-02T04:56:52.145Z  \n",
       "\n",
       "[77 rows x 3 columns]"
      ]
     },
     "execution_count": 6,
     "metadata": {},
     "output_type": "execute_result"
    }
   ],
   "source": [
    "wx_ai_client.spaces.list()"
   ]
  },
  {
   "cell_type": "code",
   "execution_count": 9,
   "metadata": {
    "ExecuteTime": {
     "end_time": "2024-09-18T10:59:25.731065Z",
     "start_time": "2024-09-18T10:59:25.728691Z"
    }
   },
   "outputs": [],
   "source": [
    "existing_space_id = \"<space_id>\" # YOUR_SPACE_ID"
   ]
  },
  {
   "cell_type": "markdown",
   "metadata": {},
   "source": [
    "### Below details are required only if user choose to create a new space"
   ]
  },
  {
   "cell_type": "code",
   "execution_count": 10,
   "metadata": {
    "ExecuteTime": {
     "end_time": "2024-09-18T10:59:26.090641Z",
     "start_time": "2024-09-18T10:59:26.088755Z"
    }
   },
   "outputs": [],
   "source": [
    "space_name = \"runtime_evaluation_deployment_space_2\" # YOUR_SPACE_NAME"
   ]
  },
  {
   "cell_type": "markdown",
   "metadata": {},
   "source": [
    "Tip: `WML_INSTANCE_NAME`, `WML_CRN` and `COS_RESOURCE_CRN` are required only if you are pointing to your cloud openscale instance, Your `WML_INSTANCE_NAME` and `WML_CRN` can be read from the [Cloud console](https://cloud.ibm.com/resources). From that page, goto `Resours list`, Copy the name of your WML instance listed there. Select the row corresponding to your WML instance, and copy the CRN displayed in the popup on the right side of the page"
   ]
  },
  {
   "cell_type": "code",
   "execution_count": 11,
   "metadata": {
    "ExecuteTime": {
     "end_time": "2024-09-18T10:59:27.262760Z",
     "start_time": "2024-09-18T10:59:27.260427Z"
    }
   },
   "outputs": [],
   "source": [
    "#####################################################################################\n",
    "# Paste your WML_INSTANCE_NAME, WML CRN in the following field and then run this cell.\n",
    "######################################################################################\n",
    "WML_INSTANCE_NAME =  \"\" # YOUR_WML_INSTANCE_NAME\n",
    "WML_CRN =  \"\" # YOUR_WML_CRN"
   ]
  },
  {
   "cell_type": "markdown",
   "metadata": {},
   "source": [
    "In next cell, you will need to paste COS_RESOURCE_CRN. If you haven't worked with COS yet please visit [getting started with COS tutorial](https://cloud.ibm.com/docs/cloud-object-storage?topic=cloud-object-storage-getting-started-cloud-object-storage).\n",
    "You can find COS_RESOURCE_CRN variable in Service Credentials in menu of your COS instance."
   ]
  },
  {
   "cell_type": "code",
   "execution_count": 12,
   "metadata": {
    "ExecuteTime": {
     "end_time": "2024-09-18T10:59:29.476815Z",
     "start_time": "2024-09-18T10:59:29.474926Z"
    }
   },
   "outputs": [],
   "source": [
    "COS_RESOURCE_CRN = \" \""
   ]
  },
  {
   "cell_type": "markdown",
   "metadata": {},
   "source": [
    "### Setting up the space"
   ]
  },
  {
   "cell_type": "code",
   "execution_count": 13,
   "metadata": {
    "ExecuteTime": {
     "end_time": "2024-09-18T11:00:37.947208Z",
     "start_time": "2024-09-18T11:00:37.384573Z"
    }
   },
   "outputs": [
    {
     "name": "stdout",
     "output_type": "stream",
     "text": [
      "888ea269-8065-4573-b755-30e6ab163afc\n"
     ]
    }
   ],
   "source": [
    "if use_existing_space == True:\n",
    "    space_id = existing_space_id\n",
    "else:\n",
    "    if use_cpd:\n",
    "        space_meta_data = {\n",
    "            wx_ai_client.spaces.ConfigurationMetaNames.NAME : space_name,\n",
    "            wx_ai_client.spaces.ConfigurationMetaNames.DESCRIPTION : 'tutorial_space'\n",
    "        }\n",
    "    else:\n",
    "        space_meta_data = {\n",
    "            wx_ai_client.spaces.ConfigurationMetaNames.NAME: space_name,\n",
    "            wx_ai_client.spaces.ConfigurationMetaNames.STORAGE: {\"resource_crn\":COS_RESOURCE_CRN},\n",
    "            wx_ai_client.spaces.ConfigurationMetaNames.COMPUTE: {\"name\": WML_INSTANCE_NAME, \"crn\": WML_CRN},\n",
    "            wx_ai_client.spaces.ConfigurationMetaNames.TYPE: \"wx\"\n",
    "        }\n",
    "\n",
    "    space_id = wx_ai_client.spaces.store(\n",
    "        meta_props=space_meta_data)[\"metadata\"][\"id\"]\n",
    "wx_ai_client.set.default_space(space_id)\n",
    "print(space_id)"
   ]
  },
  {
   "cell_type": "markdown",
   "metadata": {},
   "source": [
    "## Function to create the access token"
   ]
  },
  {
   "cell_type": "markdown",
   "metadata": {},
   "source": [
    "This function generates an IAM access token using the provided credentials. The API calls for creating and scoring prompt template assets utilize the token generated by this function."
   ]
  },
  {
   "cell_type": "code",
   "execution_count": 14,
   "metadata": {
    "ExecuteTime": {
     "end_time": "2024-09-18T13:30:56.933107Z",
     "start_time": "2024-09-18T13:30:56.540076Z"
    }
   },
   "outputs": [],
   "source": [
    "import requests, json\n",
    "def generate_access_token():\n",
    "    headers={}\n",
    "    if not use_cpd: \n",
    "        headers[\"Content-Type\"] = \"application/x-www-form-urlencoded\"\n",
    "        headers[\"Accept\"] = \"application/json\"\n",
    "        data = {\n",
    "            \"grant_type\": \"urn:ibm:params:oauth:grant-type:apikey\",\n",
    "            \"apikey\": CLOUD_API_KEY,\n",
    "            \"response_type\": \"cloud_iam\"\n",
    "        }\n",
    "        response = requests.post(IAM_URL + \"/identity/token\", data=data, headers=headers)\n",
    "        json_data = response.json()\n",
    "        iam_access_token = json_data['access_token']\n",
    "    else:\n",
    "        headers[\"Content-Type\"] = \"application/json\"\n",
    "        headers[\"Accept\"] = \"application/json\"\n",
    "        data = {\n",
    "            \"username\":WOS_CREDENTIALS[\"username\"],\n",
    "            \"password\":WOS_CREDENTIALS[\"password\"]\n",
    "        }\n",
    "        data = json.dumps(data).encode(\"utf-8\")\n",
    "        url = WOS_CREDENTIALS[\"url\"] + \"/icp4d-api/v1/authorize\"\n",
    "        response = requests.post(url=url, data=data, headers=headers, verify=False)\n",
    "        json_data = response.json()\n",
    "        iam_access_token = json_data['token']      \n",
    "        \n",
    "    return iam_access_token\n",
    "\n",
    "iam_access_token = generate_access_token()"
   ]
  },
  {
   "cell_type": "markdown",
   "metadata": {},
   "source": [
    "# Create Prompt template <a name=\"prompt\"></a>"
   ]
  },
  {
   "cell_type": "markdown",
   "metadata": {},
   "source": [
    "Create a prompt template for summarization task"
   ]
  },
  {
   "cell_type": "code",
   "execution_count": 15,
   "metadata": {
    "ExecuteTime": {
     "end_time": "2024-09-18T11:00:43.806591Z",
     "start_time": "2024-09-18T11:00:43.804126Z"
    }
   },
   "outputs": [],
   "source": [
    "if not use_cpd:\n",
    "    credentials={\n",
    "        \"apikey\": CLOUD_API_KEY,\n",
    "        \"url\": \"https://us-south.ml.cloud.ibm.com\"\n",
    "    }"
   ]
  },
  {
   "cell_type": "code",
   "execution_count": 16,
   "metadata": {
    "ExecuteTime": {
     "end_time": "2024-09-18T11:00:49.856480Z",
     "start_time": "2024-09-18T11:00:44.687107Z"
    }
   },
   "outputs": [
    {
     "data": {
      "text/plain": [
       "'73dd23b8-c255-48e4-8abe-fd3bfeb13336'"
      ]
     },
     "execution_count": 16,
     "metadata": {},
     "output_type": "execute_result"
    }
   ],
   "source": [
    "from ibm_watsonx_ai.foundation_models.prompts import PromptTemplate, PromptTemplateManager\n",
    "from ibm_watsonx_ai.foundation_models.utils.enums import ModelTypes\n",
    "\n",
    "prompt_mgr = PromptTemplateManager(\n",
    "                credentials = credentials,\n",
    "                project_id = project_id\n",
    "                )\n",
    "\n",
    "prompt_template = PromptTemplate(name=\"Summarise input\",\n",
    "                                 model_id=\"mistralai/mistral-large\",\n",
    "                                 task_ids=[\"summarization\"],\n",
    "                                 input_prefix=\"Human:\",\n",
    "                                 output_prefix=\"Assistant:\",\n",
    "                                 input_text=\"summarize the given content {original_text}\",\n",
    "                                 input_variables=['original_text'])\n",
    "\n",
    "stored_prompt_template = prompt_mgr.store_prompt(prompt_template)\n",
    "project_pta_id = stored_prompt_template.prompt_id\n",
    "project_pta_id"
   ]
  },
  {
   "cell_type": "markdown",
   "metadata": {},
   "source": [
    "# Prompt setup <a name=\"ptatsetup\"></a>"
   ]
  },
  {
   "cell_type": "markdown",
   "metadata": {},
   "source": [
    "### Configure OpenScale"
   ]
  },
  {
   "cell_type": "code",
   "execution_count": 17,
   "metadata": {
    "ExecuteTime": {
     "end_time": "2024-09-18T13:25:52.734723Z",
     "start_time": "2024-09-18T13:25:45.842794Z"
    }
   },
   "outputs": [
    {
     "name": "stderr",
     "output_type": "stream",
     "text": [
      "/opt/homebrew/lib/python3.11/site-packages/ibm_watson_openscale/utils/utils.py:25: UserWarning: pkg_resources is deprecated as an API. See https://setuptools.pypa.io/en/latest/pkg_resources.html. The pkg_resources package is slated for removal as early as 2025-11-30. Refrain from using this package or pin to Setuptools<81.\n",
      "  import pkg_resources\n"
     ]
    },
    {
     "name": "stdout",
     "output_type": "stream",
     "text": [
      "3.1.0\n"
     ]
    }
   ],
   "source": [
    "from ibm_cloud_sdk_core.authenticators import IAMAuthenticator, CloudPakForDataAuthenticator\n",
    "\n",
    "from ibm_watson_openscale import *\n",
    "from ibm_watson_openscale.supporting_classes.enums import *\n",
    "from ibm_watson_openscale.supporting_classes import *\n",
    "\n",
    "if use_cpd:\n",
    "    authenticator = CloudPakForDataAuthenticator(\n",
    "            url=WOS_CREDENTIALS['url'],\n",
    "            username=WOS_CREDENTIALS['username'],\n",
    "            password=WOS_CREDENTIALS['password'],\n",
    "            disable_ssl_verification=True\n",
    "        )\n",
    "    \n",
    "    wos_client = APIClient(service_url=WOS_CREDENTIALS['url'],authenticator=authenticator)\n",
    "    print(wos_client.version)\n",
    "else:\n",
    "    service_instance_id = \"\" # Update this to refer to a particular service instance\n",
    "    authenticator = IAMAuthenticator(apikey=CLOUD_API_KEY, url = IAM_URL)\n",
    "    wos_client = APIClient(authenticator=authenticator, service_url = SERVICE_URL, service_instance_id = service_instance_id)\n",
    "    print(wos_client.version)"
   ]
  },
  {
   "cell_type": "markdown",
   "metadata": {},
   "source": [
    "### Listing all the available datamarts"
   ]
  },
  {
   "cell_type": "code",
   "execution_count": 18,
   "metadata": {
    "ExecuteTime": {
     "end_time": "2024-09-18T11:00:58.458977Z",
     "start_time": "2024-09-18T11:00:57.514271Z"
    }
   },
   "outputs": [
    {
     "data": {
      "text/html": [
       "<HTML>\n",
       "        <body>\n",
       "            <h3>Data Marts</h3>\n",
       "            <table style='border: 1px solid #dddddd; font-family: Courier'>\n",
       "                <th style='border: 1px solid #dddddd'>name</th><th style='border: 1px solid #dddddd'>description</th><th style='border: 1px solid #dddddd'>internal_database</th><th style='border: 1px solid #dddddd'>status</th><th style='border: 1px solid #dddddd'>created_at</th><th style='border: 1px solid #dddddd'>id</th>\n",
       "                <tr><td style='border: 1px solid #dddddd'>None</td><td style='border: 1px solid #dddddd'>None</td><td style='border: 1px solid #dddddd'>False</td><td style='border: 1px solid #dddddd'>active</td><td style='border: 1px solid #dddddd'>2024-02-22 16:41:26.617000+00:00</td><td style='border: 1px solid #dddddd'>2c08665d-dacd-4fe2-9035-6963dc3fb1a4</td></tr>\n",
       "            </table>\n",
       "        </body>\n",
       "        </HTML>"
      ],
      "text/plain": [
       "<IPython.core.display.HTML object>"
      ]
     },
     "metadata": {},
     "output_type": "display_data"
    }
   ],
   "source": [
    "wos_client.data_marts.show()"
   ]
  },
  {
   "cell_type": "code",
   "execution_count": 19,
   "metadata": {
    "ExecuteTime": {
     "end_time": "2024-09-18T13:49:09.851881Z",
     "start_time": "2024-09-18T13:49:09.849591Z"
    }
   },
   "outputs": [],
   "source": [
    "data_mart_id = \"2c08665d-dacd-4fe2-9035-6963dc3fb1a4\" # YOUR_DATAMART_ID"
   ]
  },
  {
   "cell_type": "markdown",
   "metadata": {},
   "source": [
    "### Openscale instance mapping with the project"
   ]
  },
  {
   "cell_type": "markdown",
   "metadata": {},
   "source": [
    "When the authentication is on CPD then we need to add additional step of mapping the `project_id/space_id` to an OpenScale instance."
   ]
  },
  {
   "cell_type": "code",
   "execution_count": 20,
   "metadata": {
    "ExecuteTime": {
     "end_time": "2024-09-18T11:01:01.962847Z",
     "start_time": "2024-09-18T11:01:01.960467Z"
    }
   },
   "outputs": [],
   "source": [
    "if use_cpd:\n",
    "    wos_client.wos.add_instance_mapping(                \n",
    "                    service_instance_id=data_mart_id,\n",
    "                    project_id=project_id\n",
    "                 )\n",
    "    wos_client.wos.add_instance_mapping(                \n",
    "                    service_instance_id=data_mart_id,\n",
    "                    space_id=space_id\n",
    "                 )"
   ]
  },
  {
   "cell_type": "markdown",
   "metadata": {},
   "source": [
    "### Setup the prompt template asset in project for evaluation with supported monitor dimensions"
   ]
  },
  {
   "cell_type": "markdown",
   "metadata": {},
   "source": [
    "The prompt template assets from project is only supported with `development` operational space ID. Running the below cell will create a development type subscription from the prompt template asset created within the project.\n",
    "\n",
    "The available parameters that can be passed for `execute_prompt_setup` function are:\n",
    "\n",
    " * `prompt_template_asset_id` : Id of prompt template asset for which subscription needs to be created.\n",
    " * `label_column` :  The name of the column containing the ground truth or actual labels.\n",
    " * `project_id` : The GUID of the project.\n",
    " * `space_id` : The GUID of the space.\n",
    " * `deployment_id` : (optional) The GUID of the deployment.\n",
    " * `operational_space_id` : The rank of the environment in which the monitoring is happening. Accepted values are `development`, `pre_production`, `production`.\n",
    " * `problem_type` : (optional) The task type to monitor for the given prompt template asset.\n",
    " * `classification_type` : The classification type `binary`/`multiclass` applicable only for `classification` problem (task) type.\n",
    " * `input_data_type` : The input data type.\n",
    " * `supporting_monitors` : Monitor configuration for the subscription to be created.\n",
    " * `background_mode` : When `True`, the promt setup operation will be executed in the background"
   ]
  },
  {
   "cell_type": "code",
   "execution_count": 21,
   "metadata": {
    "ExecuteTime": {
     "end_time": "2024-09-18T11:01:43.312027Z",
     "start_time": "2024-09-18T11:01:26.537688Z"
    }
   },
   "outputs": [
    {
     "name": "stdout",
     "output_type": "stream",
     "text": [
      "\n",
      "\n",
      "=============================================================================\n",
      "\n",
      " Waiting for end of adding prompt setup 73dd23b8-c255-48e4-8abe-fd3bfeb13336 \n",
      "\n",
      "=============================================================================\n",
      "\n",
      "\n",
      "\n",
      "running...\n",
      "finished\n",
      "\n",
      "---------------------------------------------------------------\n",
      " Successfully finished setting up prompt template subscription \n",
      "---------------------------------------------------------------\n",
      "\n",
      "\n"
     ]
    },
    {
     "data": {
      "text/plain": [
       "{'prompt_template_asset_id': '73dd23b8-c255-48e4-8abe-fd3bfeb13336',\n",
       " 'project_id': '2ee97ecb-f652-41a9-b360-dd2a7d594a8b',\n",
       " 'deployment_id': '5888e47c-736f-4e02-9664-594125c172f1',\n",
       " 'service_provider_id': '01999abd-7aec-7d92-9dad-ba35224ac749',\n",
       " 'subscription_id': '01999ea0-2f3a-78db-bb84-1f68bd604c4d',\n",
       " 'mrm_monitor_instance_id': '01999ea0-677a-72df-b896-59fbb84d6ddd',\n",
       " 'start_time': '2025-10-01T07:15:17.397106Z',\n",
       " 'end_time': '2025-10-01T07:15:45.596438Z',\n",
       " 'status': {'state': 'FINISHED'}}"
      ]
     },
     "execution_count": 21,
     "metadata": {},
     "output_type": "execute_result"
    }
   ],
   "source": [
    "label_column = \"reference_summary\"\n",
    "operational_space_id = \"development\"\n",
    "problem_type= \"summarization\"\n",
    "input_data_type= \"unstructured_text\"\n",
    "\n",
    "\n",
    "monitors = {\n",
    "    \"generative_ai_quality\": {\n",
    "        \"parameters\": {\n",
    "\n",
    "            \"min_sample_size\": 10,\n",
    "            \"metrics_configuration\":{                    \n",
    "            }\n",
    "        }\n",
    "    }\n",
    "}\n",
    "\n",
    "response = wos_client.wos.execute_prompt_setup(prompt_template_asset_id = project_pta_id, \n",
    "                                                                   project_id = project_id,\n",
    "                                                                   label_column = label_column, \n",
    "                                                                   operational_space_id = operational_space_id, \n",
    "                                                                   problem_type = problem_type,\n",
    "                                                                   input_data_type = input_data_type, \n",
    "                                                                   supporting_monitors = monitors, \n",
    "                                                                   background_mode = False)\n",
    "\n",
    "result = response.result\n",
    "result._to_dict()"
   ]
  },
  {
   "cell_type": "markdown",
   "metadata": {},
   "source": [
    "With the below cell, users can  read the  prompt setup task and check its status"
   ]
  },
  {
   "cell_type": "code",
   "execution_count": 22,
   "metadata": {
    "ExecuteTime": {
     "end_time": "2024-09-18T11:01:53.446541Z",
     "start_time": "2024-09-18T11:01:52.004315Z"
    }
   },
   "outputs": [
    {
     "name": "stdout",
     "output_type": "stream",
     "text": [
      "Finished prompt setup : The response is {'prompt_template_asset_id': '73dd23b8-c255-48e4-8abe-fd3bfeb13336', 'project_id': '2ee97ecb-f652-41a9-b360-dd2a7d594a8b', 'deployment_id': '5888e47c-736f-4e02-9664-594125c172f1', 'service_provider_id': '01999abd-7aec-7d92-9dad-ba35224ac749', 'subscription_id': '01999ea0-2f3a-78db-bb84-1f68bd604c4d', 'mrm_monitor_instance_id': '01999ea0-677a-72df-b896-59fbb84d6ddd', 'start_time': '2025-10-01T07:15:17.397106Z', 'end_time': '2025-10-01T07:15:45.596438Z', 'status': {'state': 'FINISHED'}}\n"
     ]
    }
   ],
   "source": [
    "response = wos_client.wos.get_prompt_setup(prompt_template_asset_id = project_pta_id,\n",
    "                                                             project_id = project_id)\n",
    "\n",
    "result = response.result\n",
    "result_json = result._to_dict()\n",
    "\n",
    "if result_json[\"status\"][\"state\"] == \"FINISHED\":\n",
    "    print(\"Finished prompt setup : The response is {}\".format(result_json))\n",
    "else:\n",
    "    print(\"prompt setup failed The response is {}\".format(result_json))"
   ]
  },
  {
   "cell_type": "markdown",
   "metadata": {},
   "source": [
    "### Read subscription id from prompt setup"
   ]
  },
  {
   "cell_type": "markdown",
   "metadata": {},
   "source": [
    "Once prompt setup status is finished, Read the subscription id from it."
   ]
  },
  {
   "cell_type": "code",
   "execution_count": 23,
   "metadata": {
    "ExecuteTime": {
     "end_time": "2024-09-18T11:01:56.338528Z",
     "start_time": "2024-09-18T11:01:56.335369Z"
    }
   },
   "outputs": [
    {
     "data": {
      "text/plain": [
       "'01999ea0-2f3a-78db-bb84-1f68bd604c4d'"
      ]
     },
     "execution_count": 23,
     "metadata": {},
     "output_type": "execute_result"
    }
   ],
   "source": [
    "dev_subscription_id = result_json[\"subscription_id\"]\n",
    "dev_subscription_id"
   ]
  },
  {
   "cell_type": "markdown",
   "metadata": {},
   "source": [
    "## Show all the monitor instances of the production subscription\n",
    "The following cell lists the monitors present in the development subscription along with their respective statuses and other details. Please wait for all the monitors to be in active state before proceeding further."
   ]
  },
  {
   "cell_type": "code",
   "execution_count": 24,
   "metadata": {
    "ExecuteTime": {
     "end_time": "2024-09-18T11:02:00.104799Z",
     "start_time": "2024-09-18T11:01:58.664994Z"
    }
   },
   "outputs": [
    {
     "data": {
      "text/html": [
       "<HTML>\n",
       "        <body>\n",
       "            <h3>Monitor instances</h3>\n",
       "            <table style='border: 1px solid #dddddd; font-family: Courier'>\n",
       "                <th style='border: 1px solid #dddddd'>data_mart_id</th><th style='border: 1px solid #dddddd'>status</th><th style='border: 1px solid #dddddd'>target_id</th><th style='border: 1px solid #dddddd'>target_type</th><th style='border: 1px solid #dddddd'>monitor_definition_id</th><th style='border: 1px solid #dddddd'>created_at</th><th style='border: 1px solid #dddddd'>id</th>\n",
       "                <tr><td style='border: 1px solid #dddddd'>2c08665d-dacd-4fe2-9035-6963dc3fb1a4</td><td style='border: 1px solid #dddddd'>active</td><td style='border: 1px solid #dddddd'>01999ea0-2f3a-78db-bb84-1f68bd604c4d</td><td style='border: 1px solid #dddddd'>subscription</td><td style='border: 1px solid #dddddd'>generative_ai_quality</td><td style='border: 1px solid #dddddd'>2025-10-01 07:15:33.034000+00:00</td><td style='border: 1px solid #dddddd'>01999ea0-531a-7214-a7a1-76d139bbd8f3</td></tr><tr><td style='border: 1px solid #dddddd'>2c08665d-dacd-4fe2-9035-6963dc3fb1a4</td><td style='border: 1px solid #dddddd'>active</td><td style='border: 1px solid #dddddd'>01999ea0-2f3a-78db-bb84-1f68bd604c4d</td><td style='border: 1px solid #dddddd'>subscription</td><td style='border: 1px solid #dddddd'>model_health</td><td style='border: 1px solid #dddddd'>2025-10-01 07:15:35.216000+00:00</td><td style='border: 1px solid #dddddd'>01999ea0-5c8b-7ef1-90bc-b9da2093ef38</td></tr><tr><td style='border: 1px solid #dddddd'>2c08665d-dacd-4fe2-9035-6963dc3fb1a4</td><td style='border: 1px solid #dddddd'>active</td><td style='border: 1px solid #dddddd'>01999ea0-2f3a-78db-bb84-1f68bd604c4d</td><td style='border: 1px solid #dddddd'>subscription</td><td style='border: 1px solid #dddddd'>mrm</td><td style='border: 1px solid #dddddd'>2025-10-01 07:15:37.628000+00:00</td><td style='border: 1px solid #dddddd'>01999ea0-677a-72df-b896-59fbb84d6ddd</td></tr>\n",
       "            </table>\n",
       "        </body>\n",
       "        </HTML>"
      ],
      "text/plain": [
       "<IPython.core.display.HTML object>"
      ]
     },
     "metadata": {},
     "output_type": "display_data"
    }
   ],
   "source": [
    "wos_client.monitor_instances.show(target_target_id = dev_subscription_id)"
   ]
  },
  {
   "cell_type": "markdown",
   "metadata": {},
   "source": [
    "# Risk evaluations for PTA subscription <a name=\"evaluate\"></a>"
   ]
  },
  {
   "cell_type": "markdown",
   "metadata": {},
   "source": [
    "### Evaluate the prompt template subscription\n",
    "\n",
    "For the risk assessment of a development type subscription the user needs to have an evaluation dataset. The risk evaluation function takes the evaluation dataset path as a parameter for evaluation of the configured metric dimensions. If there is a discrepancy between the feature columns in the subscription and the column names in the uploading CSV, users has the option to supply a mapping JSON file to associate the CSV column names with the feature column names in the subscription.\n",
    "\n",
    "\n",
    "**Note:* If you are running this notebook from Watson studio, you may first need to upload your test data to studio and run code snippet to download feedback data file from project to local directory"
   ]
  },
  {
   "cell_type": "code",
   "execution_count": 25,
   "metadata": {
    "ExecuteTime": {
     "end_time": "2024-09-18T11:02:03.506631Z",
     "start_time": "2024-09-18T11:02:02.498347Z"
    }
   },
   "outputs": [
    {
     "name": "stdout",
     "output_type": "stream",
     "text": [
      "--2025-10-01 12:45:52--  https://raw.githubusercontent.com/IBM/watson-openscale-samples/main/IBM%20Cloud/WML/assets/data/summarization/summarisation.csv\n",
      "Resolving raw.githubusercontent.com (raw.githubusercontent.com)... 2606:50c0:8002::154, 2606:50c0:8003::154, 2606:50c0:8000::154, ...\n",
      "Connecting to raw.githubusercontent.com (raw.githubusercontent.com)|2606:50c0:8002::154|:443... connected.\n",
      "HTTP request sent, awaiting response... 200 OK\n",
      "Length: 27115 (26K) [text/plain]\n",
      "Saving to: ‘summarisation.csv’\n",
      "\n",
      "summarisation.csv   100%[===================>]  26.48K  --.-KB/s    in 0s      \n",
      "\n",
      "2025-10-01 12:45:53 (105 MB/s) - ‘summarisation.csv’ saved [27115/27115]\n",
      "\n"
     ]
    }
   ],
   "source": [
    "# Download summarisation data\n",
    "!rm summarisation.csv\n",
    "!wget https://raw.githubusercontent.com/IBM/watson-openscale-samples/main/IBM%20Cloud/WML/assets/data/summarization/summarisation.csv"
   ]
  },
  {
   "cell_type": "code",
   "execution_count": 26,
   "metadata": {
    "ExecuteTime": {
     "end_time": "2024-09-18T13:31:25.722650Z",
     "start_time": "2024-09-18T13:31:25.720176Z"
    }
   },
   "outputs": [
    {
     "data": {
      "text/plain": [
       "'\\nfrom ibm_watson_studio_lib import access_project_or_space\\nif use_cpd:\\n     wslib = access_project_or_space()\\nelse:\\n     wslib = access_project_or_space({\"token\":iam_access_token})\\nwslib.download_file(test_data_path)\\nif body:\\n    wslib.download_file(body)\\n'"
      ]
     },
     "execution_count": 26,
     "metadata": {},
     "output_type": "execute_result"
    }
   ],
   "source": [
    "test_data_path = \"summarisation.csv\"\n",
    "body = None # Please update your mapping file path here if needed\n",
    "\n",
    "# Download feedback data from project to local directory\n",
    "# Run the below code snippet only if you are seeing an error upon using the downloaded dataset \n",
    "# while running the notebook via watson studio\n",
    "\n",
    "'''\n",
    "from ibm_watson_studio_lib import access_project_or_space\n",
    "if use_cpd:\n",
    "     wslib = access_project_or_space()\n",
    "else:\n",
    "     wslib = access_project_or_space({\"token\":iam_access_token})\n",
    "wslib.download_file(test_data_path)\n",
    "if body:\n",
    "    wslib.download_file(body)\n",
    "'''"
   ]
  },
  {
   "cell_type": "markdown",
   "metadata": {},
   "source": [
    "### Read the MRM monitor instance id\n",
    "\n",
    "Evaluating the test data against the prompt template subscription requires the monitor instance ID of MRM."
   ]
  },
  {
   "cell_type": "code",
   "execution_count": 27,
   "metadata": {
    "ExecuteTime": {
     "end_time": "2024-09-18T11:02:05.724377Z",
     "start_time": "2024-09-18T11:02:04.086539Z"
    }
   },
   "outputs": [
    {
     "data": {
      "text/plain": [
       "'01999ea0-677a-72df-b896-59fbb84d6ddd'"
      ]
     },
     "execution_count": 27,
     "metadata": {},
     "output_type": "execute_result"
    }
   ],
   "source": [
    "monitor_definition_id = \"mrm\"\n",
    "target_target_id = dev_subscription_id\n",
    "result = wos_client.monitor_instances.list(data_mart_id=data_mart_id,\n",
    "                                           monitor_definition_id=monitor_definition_id,\n",
    "                                           target_target_id=target_target_id,\n",
    "                                           project_id=project_id).result\n",
    "result_json = result._to_dict()\n",
    "mrm_monitor_id = result_json[\"monitor_instances\"][0][\"metadata\"][\"id\"]\n",
    "mrm_monitor_id"
   ]
  },
  {
   "cell_type": "markdown",
   "metadata": {},
   "source": [
    "The following cell will assess the test data with the subscription of the prompt template asset and produce relevant measurements for the configured monitor."
   ]
  },
  {
   "cell_type": "code",
   "execution_count": 28,
   "metadata": {
    "ExecuteTime": {
     "end_time": "2024-09-18T11:05:33.470550Z",
     "start_time": "2024-09-18T11:02:09.950641Z"
    }
   },
   "outputs": [
    {
     "name": "stdout",
     "output_type": "stream",
     "text": [
      "\n",
      "\n",
      "=================================================================================\n",
      "\n",
      " Waiting for risk evaluation of MRM monitor 01999ea0-677a-72df-b896-59fbb84d6ddd \n",
      "\n",
      "=================================================================================\n",
      "\n",
      "\n",
      "\n",
      "upload_in_progress.\n",
      "running...\n",
      "finished\n",
      "\n",
      "---------------------------------------\n",
      " Successfully finished evaluating risk \n",
      "---------------------------------------\n",
      "\n",
      "\n"
     ]
    }
   ],
   "source": [
    "test_data_set_name = \"data\"\n",
    "content_type = \"multipart/form-data\"\n",
    "\n",
    "response  = wos_client.monitor_instances.mrm.evaluate_risk(monitor_instance_id=mrm_monitor_id, \n",
    "                                                    test_data_set_name = test_data_set_name, \n",
    "                                                    test_data_path = test_data_path,\n",
    "                                                    content_type = content_type,\n",
    "                                                    body = body,\n",
    "                                                    project_id = project_id,\n",
    "                                                    background_mode = False)"
   ]
  },
  {
   "cell_type": "markdown",
   "metadata": {},
   "source": [
    "### Read the risk evaluation response\n",
    "\n",
    "After initiating the risk evaluation, the evaluation results are now available for review"
   ]
  },
  {
   "cell_type": "code",
   "execution_count": 29,
   "metadata": {
    "ExecuteTime": {
     "end_time": "2024-09-18T11:05:36.235641Z",
     "start_time": "2024-09-18T11:05:33.472484Z"
    }
   },
   "outputs": [
    {
     "data": {
      "text/plain": [
       "{'metadata': {'id': 'ab9ef4cc-258d-41c0-9a3f-e581a18f908f',\n",
       "  'created_at': '2025-10-01T07:16:16.856Z',\n",
       "  'created_by': 'iam-ServiceId-b317a8da-d926-496e-b0ca-6bcc57f556ae'},\n",
       " 'entity': {'triggered_by': 'user',\n",
       "  'parameters': {'evaluation_start_time': '2025-10-01T07:15:56.510897Z',\n",
       "   'evaluator_user_key': 'd1358ea2-fd99-41f9-ac7a-a9900c6879c2',\n",
       "   'facts': {'state': 'finished'},\n",
       "   'is_auto_evaluated': False,\n",
       "   'measurement_id': '01999ea1-059f-77c3-8bcf-dfa1f9c27c4e',\n",
       "   'monitors_run_status': [{'monitor_id': 'generative_ai_quality',\n",
       "     'status': {'state': 'finished'}},\n",
       "    {'monitor_id': 'model_health', 'status': {'state': 'finished'}}],\n",
       "   'project_id': '2ee97ecb-f652-41a9-b360-dd2a7d594a8b',\n",
       "   'prompt_template_asset_id': '73dd23b8-c255-48e4-8abe-fd3bfeb13336',\n",
       "   'user_iam_id': 'IBMid-663003LL30',\n",
       "   'wos_created_deployment_id': '5888e47c-736f-4e02-9664-594125c172f1',\n",
       "   'publish_metrics': 'false',\n",
       "   'evaluation_tests': ['drift_v2',\n",
       "    'fairness',\n",
       "    'generative_ai_quality',\n",
       "    'generative_ai_security',\n",
       "    'model_health',\n",
       "    'quality']},\n",
       "  'status': {'state': 'finished',\n",
       "   'queued_at': '2025-10-01T07:16:16.847000Z',\n",
       "   'started_at': '2025-10-01T07:16:18.332000Z',\n",
       "   'updated_at': '2025-10-01T07:17:08.379000Z',\n",
       "   'completed_at': '2025-10-01T07:16:59.607000Z',\n",
       "   'message': 'Mrm evaluation complete.',\n",
       "   'operators': []}}}"
      ]
     },
     "execution_count": 29,
     "metadata": {},
     "output_type": "execute_result"
    }
   ],
   "source": [
    "response  = wos_client.monitor_instances.mrm.get_risk_evaluation(mrm_monitor_id, project_id = project_id)\n",
    "response.result.to_dict()"
   ]
  },
  {
   "cell_type": "markdown",
   "metadata": {},
   "source": [
    "# Display the Model Risk metrics <a name=\"mrmmetric\"></a>\n",
    "\n",
    "Having calculated the measurements for the Foundation Model subscription, the MRM metrics generated for this subscription are now available for your review."
   ]
  },
  {
   "cell_type": "code",
   "execution_count": 30,
   "metadata": {
    "ExecuteTime": {
     "end_time": "2024-09-18T11:05:41.854613Z",
     "start_time": "2024-09-18T11:05:38.093326Z"
    }
   },
   "outputs": [
    {
     "data": {
      "text/html": [
       "<HTML>\n",
       "        <body>\n",
       "            <h3>01999ea0-677a-72df-b896-59fbb84d6ddd Monitor Runs Metrics from: 2025-09-24 12:47:12.195243  till: 2025-10-01 12:47:12.195248</h3>\n",
       "            <table style='border: 1px solid #dddddd; font-family: Courier'>\n",
       "                <th style='border: 1px solid #dddddd'>ts</th><th style='border: 1px solid #dddddd'>id</th><th style='border: 1px solid #dddddd'>measurement_id</th><th style='border: 1px solid #dddddd'>value</th><th style='border: 1px solid #dddddd'>lower_limit</th><th style='border: 1px solid #dddddd'>upper_limit</th><th style='border: 1px solid #dddddd'>tags</th><th style='border: 1px solid #dddddd'>monitor_definition_id</th><th style='border: 1px solid #dddddd'>monitor_instance_id</th><th style='border: 1px solid #dddddd'>run_id</th><th style='border: 1px solid #dddddd'>target_type</th><th style='border: 1px solid #dddddd'>target_id</th>\n",
       "                <tr><td style='border: 1px solid #dddddd'>2025-10-01 07:16:16.927000+00:00</td><td style='border: 1px solid #dddddd'>tests_passed</td><td style='border: 1px solid #dddddd'>01999ea1-059f-77c3-8bcf-dfa1f9c27c4e</td><td style='border: 1px solid #dddddd'>0.0</td><td style='border: 1px solid #dddddd'>None</td><td style='border: 1px solid #dddddd'>None</td><td style='border: 1px solid #dddddd'>['test_data_set_name:data']</td><td style='border: 1px solid #dddddd'>mrm</td><td style='border: 1px solid #dddddd'>01999ea0-677a-72df-b896-59fbb84d6ddd</td><td style='border: 1px solid #dddddd'>ab9ef4cc-258d-41c0-9a3f-e581a18f908f</td><td style='border: 1px solid #dddddd'>subscription</td><td style='border: 1px solid #dddddd'>01999ea0-2f3a-78db-bb84-1f68bd604c4d</td></tr><tr><td style='border: 1px solid #dddddd'>2025-10-01 07:16:16.927000+00:00</td><td style='border: 1px solid #dddddd'>tests_run</td><td style='border: 1px solid #dddddd'>01999ea1-059f-77c3-8bcf-dfa1f9c27c4e</td><td style='border: 1px solid #dddddd'>1.0</td><td style='border: 1px solid #dddddd'>None</td><td style='border: 1px solid #dddddd'>None</td><td style='border: 1px solid #dddddd'>['test_data_set_name:data']</td><td style='border: 1px solid #dddddd'>mrm</td><td style='border: 1px solid #dddddd'>01999ea0-677a-72df-b896-59fbb84d6ddd</td><td style='border: 1px solid #dddddd'>ab9ef4cc-258d-41c0-9a3f-e581a18f908f</td><td style='border: 1px solid #dddddd'>subscription</td><td style='border: 1px solid #dddddd'>01999ea0-2f3a-78db-bb84-1f68bd604c4d</td></tr><tr><td style='border: 1px solid #dddddd'>2025-10-01 07:16:16.927000+00:00</td><td style='border: 1px solid #dddddd'>tests_skipped</td><td style='border: 1px solid #dddddd'>01999ea1-059f-77c3-8bcf-dfa1f9c27c4e</td><td style='border: 1px solid #dddddd'>4.0</td><td style='border: 1px solid #dddddd'>None</td><td style='border: 1px solid #dddddd'>None</td><td style='border: 1px solid #dddddd'>['test_data_set_name:data']</td><td style='border: 1px solid #dddddd'>mrm</td><td style='border: 1px solid #dddddd'>01999ea0-677a-72df-b896-59fbb84d6ddd</td><td style='border: 1px solid #dddddd'>ab9ef4cc-258d-41c0-9a3f-e581a18f908f</td><td style='border: 1px solid #dddddd'>subscription</td><td style='border: 1px solid #dddddd'>01999ea0-2f3a-78db-bb84-1f68bd604c4d</td></tr><tr><td style='border: 1px solid #dddddd'>2025-10-01 07:16:16.927000+00:00</td><td style='border: 1px solid #dddddd'>tests_failed</td><td style='border: 1px solid #dddddd'>01999ea1-059f-77c3-8bcf-dfa1f9c27c4e</td><td style='border: 1px solid #dddddd'>1.0</td><td style='border: 1px solid #dddddd'>None</td><td style='border: 1px solid #dddddd'>None</td><td style='border: 1px solid #dddddd'>['test_data_set_name:data']</td><td style='border: 1px solid #dddddd'>mrm</td><td style='border: 1px solid #dddddd'>01999ea0-677a-72df-b896-59fbb84d6ddd</td><td style='border: 1px solid #dddddd'>ab9ef4cc-258d-41c0-9a3f-e581a18f908f</td><td style='border: 1px solid #dddddd'>subscription</td><td style='border: 1px solid #dddddd'>01999ea0-2f3a-78db-bb84-1f68bd604c4d</td></tr>\n",
       "            </table>\n",
       "        </body>\n",
       "        </HTML>"
      ],
      "text/plain": [
       "<IPython.core.display.HTML object>"
      ]
     },
     "metadata": {},
     "output_type": "display_data"
    }
   ],
   "source": [
    "wos_client.monitor_instances.show_metrics(monitor_instance_id=mrm_monitor_id, project_id=project_id)"
   ]
  },
  {
   "cell_type": "markdown",
   "metadata": {},
   "source": [
    "# Display the Generative AI Quality metrics <a name=\"genaimetrics\"></a>"
   ]
  },
  {
   "cell_type": "markdown",
   "metadata": {},
   "source": [
    "\n",
    "\n",
    "Monitor instance ID of Generative ai quality metrics is required for reading its metrics."
   ]
  },
  {
   "cell_type": "code",
   "execution_count": 31,
   "metadata": {
    "ExecuteTime": {
     "end_time": "2024-09-18T11:05:48.712708Z",
     "start_time": "2024-09-18T11:05:47.910873Z"
    }
   },
   "outputs": [
    {
     "data": {
      "text/plain": [
       "'01999ea0-531a-7214-a7a1-76d139bbd8f3'"
      ]
     },
     "execution_count": 31,
     "metadata": {},
     "output_type": "execute_result"
    }
   ],
   "source": [
    "monitor_definition_id = \"generative_ai_quality\"\n",
    "result = wos_client.monitor_instances.list(data_mart_id = data_mart_id,\n",
    "                                           monitor_definition_id = monitor_definition_id,\n",
    "                                           target_target_id = target_target_id,\n",
    "                                           project_id = project_id).result\n",
    "result_json = result._to_dict()\n",
    "genaiquality_monitor_id = result_json[\"monitor_instances\"][0][\"metadata\"][\"id\"]\n",
    "genaiquality_monitor_id"
   ]
  },
  {
   "cell_type": "markdown",
   "metadata": {},
   "source": [
    "Displaying the GenAIQ monitor metrics generated through the risk evaluation."
   ]
  },
  {
   "cell_type": "code",
   "execution_count": 32,
   "metadata": {
    "ExecuteTime": {
     "end_time": "2024-09-18T11:05:55.729009Z",
     "start_time": "2024-09-18T11:05:51.261351Z"
    }
   },
   "outputs": [
    {
     "data": {
      "text/html": [
       "<HTML>\n",
       "        <body>\n",
       "            <h3>01999ea0-531a-7214-a7a1-76d139bbd8f3 Monitor Runs Metrics from: 2025-09-24 12:47:15.138657  till: 2025-10-01 12:47:15.138662</h3>\n",
       "            <table style='border: 1px solid #dddddd; font-family: Courier'>\n",
       "                <th style='border: 1px solid #dddddd'>ts</th><th style='border: 1px solid #dddddd'>id</th><th style='border: 1px solid #dddddd'>measurement_id</th><th style='border: 1px solid #dddddd'>value</th><th style='border: 1px solid #dddddd'>lower_limit</th><th style='border: 1px solid #dddddd'>upper_limit</th><th style='border: 1px solid #dddddd'>tags</th><th style='border: 1px solid #dddddd'>monitor_definition_id</th><th style='border: 1px solid #dddddd'>monitor_instance_id</th><th style='border: 1px solid #dddddd'>run_id</th><th style='border: 1px solid #dddddd'>target_type</th><th style='border: 1px solid #dddddd'>target_id</th>\n",
       "                <tr><td style='border: 1px solid #dddddd'>2025-10-01 07:16:47.665769+00:00</td><td style='border: 1px solid #dddddd'>flesch_reading_ease</td><td style='border: 1px solid #dddddd'>01999ea1-7db1-7a95-9d2e-9ce9266facf6</td><td style='border: 1px solid #dddddd'>47.852</td><td style='border: 1px solid #dddddd'>60.0</td><td style='border: 1px solid #dddddd'>None</td><td style='border: 1px solid #dddddd'>['computed_on:feedback', 'field_type:subscription', 'aggregation_type:mean']</td><td style='border: 1px solid #dddddd'>generative_ai_quality</td><td style='border: 1px solid #dddddd'>01999ea0-531a-7214-a7a1-76d139bbd8f3</td><td style='border: 1px solid #dddddd'>d46cce64-a42a-45e5-85f2-d59eb9388c4a</td><td style='border: 1px solid #dddddd'>subscription</td><td style='border: 1px solid #dddddd'>01999ea0-2f3a-78db-bb84-1f68bd604c4d</td></tr><tr><td style='border: 1px solid #dddddd'>2025-10-01 07:16:47.665769+00:00</td><td style='border: 1px solid #dddddd'>normalized_recall</td><td style='border: 1px solid #dddddd'>01999ea1-7db1-7a95-9d2e-9ce9266facf6</td><td style='border: 1px solid #dddddd'>0.4024</td><td style='border: 1px solid #dddddd'>0.8</td><td style='border: 1px solid #dddddd'>None</td><td style='border: 1px solid #dddddd'>['computed_on:feedback', 'field_type:subscription', 'aggregation_type:mean']</td><td style='border: 1px solid #dddddd'>generative_ai_quality</td><td style='border: 1px solid #dddddd'>01999ea0-531a-7214-a7a1-76d139bbd8f3</td><td style='border: 1px solid #dddddd'>d46cce64-a42a-45e5-85f2-d59eb9388c4a</td><td style='border: 1px solid #dddddd'>subscription</td><td style='border: 1px solid #dddddd'>01999ea0-2f3a-78db-bb84-1f68bd604c4d</td></tr><tr><td style='border: 1px solid #dddddd'>2025-10-01 07:16:47.665769+00:00</td><td style='border: 1px solid #dddddd'>rouge2</td><td style='border: 1px solid #dddddd'>01999ea1-7db1-7a95-9d2e-9ce9266facf6</td><td style='border: 1px solid #dddddd'>0.0332</td><td style='border: 1px solid #dddddd'>0.8</td><td style='border: 1px solid #dddddd'>None</td><td style='border: 1px solid #dddddd'>['computed_on:feedback', 'field_type:subscription', 'aggregation_type:mean']</td><td style='border: 1px solid #dddddd'>generative_ai_quality</td><td style='border: 1px solid #dddddd'>01999ea0-531a-7214-a7a1-76d139bbd8f3</td><td style='border: 1px solid #dddddd'>d46cce64-a42a-45e5-85f2-d59eb9388c4a</td><td style='border: 1px solid #dddddd'>subscription</td><td style='border: 1px solid #dddddd'>01999ea0-2f3a-78db-bb84-1f68bd604c4d</td></tr><tr><td style='border: 1px solid #dddddd'>2025-10-01 07:16:47.665769+00:00</td><td style='border: 1px solid #dddddd'>records_processed</td><td style='border: 1px solid #dddddd'>01999ea1-7db1-7a95-9d2e-9ce9266facf6</td><td style='border: 1px solid #dddddd'>10.0</td><td style='border: 1px solid #dddddd'>None</td><td style='border: 1px solid #dddddd'>None</td><td style='border: 1px solid #dddddd'>['computed_on:feedback', 'field_type:subscription', 'aggregation_type:mean']</td><td style='border: 1px solid #dddddd'>generative_ai_quality</td><td style='border: 1px solid #dddddd'>01999ea0-531a-7214-a7a1-76d139bbd8f3</td><td style='border: 1px solid #dddddd'>d46cce64-a42a-45e5-85f2-d59eb9388c4a</td><td style='border: 1px solid #dddddd'>subscription</td><td style='border: 1px solid #dddddd'>01999ea0-2f3a-78db-bb84-1f68bd604c4d</td></tr><tr><td style='border: 1px solid #dddddd'>2025-10-01 07:16:47.665769+00:00</td><td style='border: 1px solid #dddddd'>jaccard_similarity</td><td style='border: 1px solid #dddddd'>01999ea1-7db1-7a95-9d2e-9ce9266facf6</td><td style='border: 1px solid #dddddd'>0.1151</td><td style='border: 1px solid #dddddd'>0.8</td><td style='border: 1px solid #dddddd'>None</td><td style='border: 1px solid #dddddd'>['computed_on:feedback', 'field_type:subscription', 'aggregation_type:mean']</td><td style='border: 1px solid #dddddd'>generative_ai_quality</td><td style='border: 1px solid #dddddd'>01999ea0-531a-7214-a7a1-76d139bbd8f3</td><td style='border: 1px solid #dddddd'>d46cce64-a42a-45e5-85f2-d59eb9388c4a</td><td style='border: 1px solid #dddddd'>subscription</td><td style='border: 1px solid #dddddd'>01999ea0-2f3a-78db-bb84-1f68bd604c4d</td></tr><tr><td style='border: 1px solid #dddddd'>2025-10-01 07:16:47.665769+00:00</td><td style='border: 1px solid #dddddd'>meteor</td><td style='border: 1px solid #dddddd'>01999ea1-7db1-7a95-9d2e-9ce9266facf6</td><td style='border: 1px solid #dddddd'>0.223</td><td style='border: 1px solid #dddddd'>0.8</td><td style='border: 1px solid #dddddd'>None</td><td style='border: 1px solid #dddddd'>['computed_on:feedback', 'field_type:subscription', 'aggregation_type:mean']</td><td style='border: 1px solid #dddddd'>generative_ai_quality</td><td style='border: 1px solid #dddddd'>01999ea0-531a-7214-a7a1-76d139bbd8f3</td><td style='border: 1px solid #dddddd'>d46cce64-a42a-45e5-85f2-d59eb9388c4a</td><td style='border: 1px solid #dddddd'>subscription</td><td style='border: 1px solid #dddddd'>01999ea0-2f3a-78db-bb84-1f68bd604c4d</td></tr><tr><td style='border: 1px solid #dddddd'>2025-10-01 07:16:47.665769+00:00</td><td style='border: 1px solid #dddddd'>rougelsum</td><td style='border: 1px solid #dddddd'>01999ea1-7db1-7a95-9d2e-9ce9266facf6</td><td style='border: 1px solid #dddddd'>0.1348</td><td style='border: 1px solid #dddddd'>0.8</td><td style='border: 1px solid #dddddd'>None</td><td style='border: 1px solid #dddddd'>['computed_on:feedback', 'field_type:subscription', 'aggregation_type:mean']</td><td style='border: 1px solid #dddddd'>generative_ai_quality</td><td style='border: 1px solid #dddddd'>01999ea0-531a-7214-a7a1-76d139bbd8f3</td><td style='border: 1px solid #dddddd'>d46cce64-a42a-45e5-85f2-d59eb9388c4a</td><td style='border: 1px solid #dddddd'>subscription</td><td style='border: 1px solid #dddddd'>01999ea0-2f3a-78db-bb84-1f68bd604c4d</td></tr><tr><td style='border: 1px solid #dddddd'>2025-10-01 07:16:47.665769+00:00</td><td style='border: 1px solid #dddddd'>compression</td><td style='border: 1px solid #dddddd'>01999ea1-7db1-7a95-9d2e-9ce9266facf6</td><td style='border: 1px solid #dddddd'>2.8169</td><td style='border: 1px solid #dddddd'>None</td><td style='border: 1px solid #dddddd'>None</td><td style='border: 1px solid #dddddd'>['computed_on:feedback', 'field_type:subscription', 'aggregation_type:mean']</td><td style='border: 1px solid #dddddd'>generative_ai_quality</td><td style='border: 1px solid #dddddd'>01999ea0-531a-7214-a7a1-76d139bbd8f3</td><td style='border: 1px solid #dddddd'>d46cce64-a42a-45e5-85f2-d59eb9388c4a</td><td style='border: 1px solid #dddddd'>subscription</td><td style='border: 1px solid #dddddd'>01999ea0-2f3a-78db-bb84-1f68bd604c4d</td></tr><tr><td style='border: 1px solid #dddddd'>2025-10-01 07:16:47.665769+00:00</td><td style='border: 1px solid #dddddd'>repetitiveness</td><td style='border: 1px solid #dddddd'>01999ea1-7db1-7a95-9d2e-9ce9266facf6</td><td style='border: 1px solid #dddddd'>0.1338</td><td style='border: 1px solid #dddddd'>None</td><td style='border: 1px solid #dddddd'>0.2</td><td style='border: 1px solid #dddddd'>['computed_on:feedback', 'field_type:subscription', 'aggregation_type:mean']</td><td style='border: 1px solid #dddddd'>generative_ai_quality</td><td style='border: 1px solid #dddddd'>01999ea0-531a-7214-a7a1-76d139bbd8f3</td><td style='border: 1px solid #dddddd'>d46cce64-a42a-45e5-85f2-d59eb9388c4a</td><td style='border: 1px solid #dddddd'>subscription</td><td style='border: 1px solid #dddddd'>01999ea0-2f3a-78db-bb84-1f68bd604c4d</td></tr><tr><td style='border: 1px solid #dddddd'>2025-10-01 07:16:47.665769+00:00</td><td style='border: 1px solid #dddddd'>coverage</td><td style='border: 1px solid #dddddd'>01999ea1-7db1-7a95-9d2e-9ce9266facf6</td><td style='border: 1px solid #dddddd'>0.6048</td><td style='border: 1px solid #dddddd'>0.7</td><td style='border: 1px solid #dddddd'>None</td><td style='border: 1px solid #dddddd'>['computed_on:feedback', 'field_type:subscription', 'aggregation_type:mean']</td><td style='border: 1px solid #dddddd'>generative_ai_quality</td><td style='border: 1px solid #dddddd'>01999ea0-531a-7214-a7a1-76d139bbd8f3</td><td style='border: 1px solid #dddddd'>d46cce64-a42a-45e5-85f2-d59eb9388c4a</td><td style='border: 1px solid #dddddd'>subscription</td><td style='border: 1px solid #dddddd'>01999ea0-2f3a-78db-bb84-1f68bd604c4d</td></tr>\n",
       "            </table>\n",
       "        </body>\n",
       "        </HTML>"
      ],
      "text/plain": [
       "<IPython.core.display.HTML object>"
      ]
     },
     "metadata": {},
     "output_type": "display_data"
    },
    {
     "name": "stdout",
     "output_type": "stream",
     "text": [
      "Note: First 10 records were displayed.\n"
     ]
    }
   ],
   "source": [
    "wos_client.monitor_instances.show_metrics(monitor_instance_id=genaiquality_monitor_id, project_id=project_id)"
   ]
  },
  {
   "cell_type": "markdown",
   "metadata": {},
   "source": [
    "## Display record level metrics for Generative AI Quality "
   ]
  },
  {
   "cell_type": "markdown",
   "metadata": {},
   "source": [
    "Read the dataset id for generative ai quality dataset"
   ]
  },
  {
   "cell_type": "code",
   "execution_count": 33,
   "metadata": {
    "ExecuteTime": {
     "end_time": "2024-09-18T11:05:57.896369Z",
     "start_time": "2024-09-18T11:05:57.019843Z"
    }
   },
   "outputs": [
    {
     "data": {
      "text/plain": [
       "'01999ea0-6454-7246-aa6e-18f7a713dcd9'"
      ]
     },
     "execution_count": 33,
     "metadata": {},
     "output_type": "execute_result"
    }
   ],
   "source": [
    "result = wos_client.data_sets.list(target_target_id = dev_subscription_id,\n",
    "                                target_target_type = \"subscription\",\n",
    "                                type = \"gen_ai_quality_metrics\").result\n",
    "\n",
    "genaiq_dataset_id = result.data_sets[0].metadata.id\n",
    "genaiq_dataset_id"
   ]
  },
  {
   "cell_type": "markdown",
   "metadata": {},
   "source": [
    "Displaying record level metrics for generative ai quality"
   ]
  },
  {
   "cell_type": "code",
   "execution_count": 34,
   "metadata": {
    "ExecuteTime": {
     "end_time": "2024-09-18T11:06:00.102563Z",
     "start_time": "2024-09-18T11:05:58.483367Z"
    }
   },
   "outputs": [
    {
     "data": {
      "text/html": [
       "<HTML>\n",
       "        <body>\n",
       "            <h3>Data Set 01999ea0-6454-7246-aa6e-18f7a713dcd9 Records</h3>\n",
       "            <table style='border: 1px solid #dddddd; font-family: Courier'>\n",
       "                <th style='border: 1px solid #dddddd'>flesch_reading_ease</th><th style='border: 1px solid #dddddd'>normalized_recall</th><th style='border: 1px solid #dddddd'>hap_input_score</th><th style='border: 1px solid #dddddd'>rouge2</th><th style='border: 1px solid #dddddd'>pii_entities</th><th style='border: 1px solid #dddddd'>scoring_id</th><th style='border: 1px solid #dddddd'>jaccard_similarity</th><th style='border: 1px solid #dddddd'>computed_on</th><th style='border: 1px solid #dddddd'>scoring_timestamp</th><th style='border: 1px solid #dddddd'>meteor</th><th style='border: 1px solid #dddddd'>rougelsum</th><th style='border: 1px solid #dddddd'>store_persist_timestamp</th><th style='border: 1px solid #dddddd'>compression</th><th style='border: 1px solid #dddddd'>repetitiveness</th><th style='border: 1px solid #dddddd'>hap_score</th><th style='border: 1px solid #dddddd'>coverage</th><th style='border: 1px solid #dddddd'>pii_input_entities</th><th style='border: 1px solid #dddddd'>pii</th><th style='border: 1px solid #dddddd'>normalized_precision</th><th style='border: 1px solid #dddddd'>hap_input_score_entities</th><th style='border: 1px solid #dddddd'>hap_score_positions</th><th style='border: 1px solid #dddddd'>bleu</th><th style='border: 1px solid #dddddd'>run_id</th><th style='border: 1px solid #dddddd'>normalized_f1</th><th style='border: 1px solid #dddddd'>density</th><th style='border: 1px solid #dddddd'>pii_input_positions</th><th style='border: 1px solid #dddddd'>pii_positions</th><th style='border: 1px solid #dddddd'>rougel</th><th style='border: 1px solid #dddddd'>abstractness</th><th style='border: 1px solid #dddddd'>sari</th><th style='border: 1px solid #dddddd'>cosine_similarity</th><th style='border: 1px solid #dddddd'>hap_score_entities</th><th style='border: 1px solid #dddddd'>pii_input</th><th style='border: 1px solid #dddddd'>hap_input_score_positions</th><th style='border: 1px solid #dddddd'>rouge1</th>\n",
       "                <tr><td style='border: 1px solid #dddddd'>67.79</td><td style='border: 1px solid #dddddd'>0.6956521739130435</td><td style='border: 1px solid #dddddd'>None</td><td style='border: 1px solid #dddddd'>0.1538</td><td style='border: 1px solid #dddddd'>None</td><td style='border: 1px solid #dddddd'>MRM_ffdb0c71-68ce-4dc3-a66d-588d05498cb7-0</td><td style='border: 1px solid #dddddd'>0.32653061224489793</td><td style='border: 1px solid #dddddd'>feedback</td><td style='border: 1px solid #dddddd'>2025-10-01T07:16:12.940613Z</td><td style='border: 1px solid #dddddd'>0.5283795931096475</td><td style='border: 1px solid #dddddd'>0.3</td><td style='border: 1px solid #dddddd'>2025-10-01T07:16:44.258002Z</td><td style='border: 1px solid #dddddd'>1.1948</td><td style='border: 1px solid #dddddd'>0.2097</td><td style='border: 1px solid #dddddd'>None</td><td style='border: 1px solid #dddddd'>0.913</td><td style='border: 1px solid #dddddd'>None</td><td style='border: 1px solid #dddddd'>None</td><td style='border: 1px solid #dddddd'>0.2807017543859649</td><td style='border: 1px solid #dddddd'>None</td><td style='border: 1px solid #dddddd'>None</td><td style='border: 1px solid #dddddd'>0.05429582722028727</td><td style='border: 1px solid #dddddd'>d46cce64-a42a-45e5-85f2-d59eb9388c4a</td><td style='border: 1px solid #dddddd'>0.39999999999999997</td><td style='border: 1px solid #dddddd'>0.06</td><td style='border: 1px solid #dddddd'>None</td><td style='border: 1px solid #dddddd'>None</td><td style='border: 1px solid #dddddd'>0.25</td><td style='border: 1px solid #dddddd'>0.2903</td><td style='border: 1px solid #dddddd'>39.2949861840217</td><td style='border: 1px solid #dddddd'>0.3500656023068937</td><td style='border: 1px solid #dddddd'>None</td><td style='border: 1px solid #dddddd'>None</td><td style='border: 1px solid #dddddd'>None</td><td style='border: 1px solid #dddddd'>0.4</td></tr><tr><td style='border: 1px solid #dddddd'>50.33</td><td style='border: 1px solid #dddddd'>0.5384615384615384</td><td style='border: 1px solid #dddddd'>None</td><td style='border: 1px solid #dddddd'>0.061</td><td style='border: 1px solid #dddddd'>None</td><td style='border: 1px solid #dddddd'>MRM_ffdb0c71-68ce-4dc3-a66d-588d05498cb7-1</td><td style='border: 1px solid #dddddd'>0.168141592920354</td><td style='border: 1px solid #dddddd'>feedback</td><td style='border: 1px solid #dddddd'>2025-10-01T07:16:12.940964Z</td><td style='border: 1px solid #dddddd'>0.35199400861261937</td><td style='border: 1px solid #dddddd'>0.253</td><td style='border: 1px solid #dddddd'>2025-10-01T07:16:44.257977Z</td><td style='border: 1px solid #dddddd'>3.6149</td><td style='border: 1px solid #dddddd'>0.1579</td><td style='border: 1px solid #dddddd'>None</td><td style='border: 1px solid #dddddd'>0.5876</td><td style='border: 1px solid #dddddd'>None</td><td style='border: 1px solid #dddddd'>None</td><td style='border: 1px solid #dddddd'>0.16535433070866143</td><td style='border: 1px solid #dddddd'>None</td><td style='border: 1px solid #dddddd'>None</td><td style='border: 1px solid #dddddd'>0.0</td><td style='border: 1px solid #dddddd'>d46cce64-a42a-45e5-85f2-d59eb9388c4a</td><td style='border: 1px solid #dddddd'>0.25301204819277107</td><td style='border: 1px solid #dddddd'>0.0098</td><td style='border: 1px solid #dddddd'>None</td><td style='border: 1px solid #dddddd'>None</td><td style='border: 1px solid #dddddd'>0.1566</td><td style='border: 1px solid #dddddd'>0.4135</td><td style='border: 1px solid #dddddd'>36.9918269583146</td><td style='border: 1px solid #dddddd'>0.38266505025805847</td><td style='border: 1px solid #dddddd'>None</td><td style='border: 1px solid #dddddd'>None</td><td style='border: 1px solid #dddddd'>None</td><td style='border: 1px solid #dddddd'>0.253</td></tr><tr><td style='border: 1px solid #dddddd'>38.52</td><td style='border: 1px solid #dddddd'>0.4</td><td style='border: 1px solid #dddddd'>None</td><td style='border: 1px solid #dddddd'>0.0</td><td style='border: 1px solid #dddddd'>None</td><td style='border: 1px solid #dddddd'>MRM_ffdb0c71-68ce-4dc3-a66d-588d05498cb7-2</td><td style='border: 1px solid #dddddd'>0.06862745098039216</td><td style='border: 1px solid #dddddd'>feedback</td><td style='border: 1px solid #dddddd'>2025-10-01T07:16:12.941026Z</td><td style='border: 1px solid #dddddd'>0.12618296529968454</td><td style='border: 1px solid #dddddd'>0.0889</td><td style='border: 1px solid #dddddd'>2025-10-01T07:16:44.257953Z</td><td style='border: 1px solid #dddddd'>1.8054</td><td style='border: 1px solid #dddddd'>0.1417</td><td style='border: 1px solid #dddddd'>None</td><td style='border: 1px solid #dddddd'>0.6437</td><td style='border: 1px solid #dddddd'>None</td><td style='border: 1px solid #dddddd'>None</td><td style='border: 1px solid #dddddd'>0.05</td><td style='border: 1px solid #dddddd'>None</td><td style='border: 1px solid #dddddd'>None</td><td style='border: 1px solid #dddddd'>0.0</td><td style='border: 1px solid #dddddd'>d46cce64-a42a-45e5-85f2-d59eb9388c4a</td><td style='border: 1px solid #dddddd'>0.0888888888888889</td><td style='border: 1px solid #dddddd'>0.007</td><td style='border: 1px solid #dddddd'>None</td><td style='border: 1px solid #dddddd'>None</td><td style='border: 1px solid #dddddd'>0.0593</td><td style='border: 1px solid #dddddd'>0.4409</td><td style='border: 1px solid #dddddd'>34.57795683342646</td><td style='border: 1px solid #dddddd'>0.16217730255952076</td><td style='border: 1px solid #dddddd'>None</td><td style='border: 1px solid #dddddd'>None</td><td style='border: 1px solid #dddddd'>None</td><td style='border: 1px solid #dddddd'>0.0889</td></tr><tr><td style='border: 1px solid #dddddd'>65.42</td><td style='border: 1px solid #dddddd'>0.6363636363636364</td><td style='border: 1px solid #dddddd'>None</td><td style='border: 1px solid #dddddd'>0.0312</td><td style='border: 1px solid #dddddd'>None</td><td style='border: 1px solid #dddddd'>MRM_ffdb0c71-68ce-4dc3-a66d-588d05498cb7-3</td><td style='border: 1px solid #dddddd'>0.08888888888888889</td><td style='border: 1px solid #dddddd'>feedback</td><td style='border: 1px solid #dddddd'>2025-10-01T07:16:12.941094Z</td><td style='border: 1px solid #dddddd'>0.18866356382978725</td><td style='border: 1px solid #dddddd'>0.0923</td><td style='border: 1px solid #dddddd'>2025-10-01T07:16:44.257929Z</td><td style='border: 1px solid #dddddd'>3.5585</td><td style='border: 1px solid #dddddd'>0.122</td><td style='border: 1px solid #dddddd'>None</td><td style='border: 1px solid #dddddd'>0.5247</td><td style='border: 1px solid #dddddd'>None</td><td style='border: 1px solid #dddddd'>None</td><td style='border: 1px solid #dddddd'>0.058823529411764705</td><td style='border: 1px solid #dddddd'>None</td><td style='border: 1px solid #dddddd'>None</td><td style='border: 1px solid #dddddd'>0.0</td><td style='border: 1px solid #dddddd'>d46cce64-a42a-45e5-85f2-d59eb9388c4a</td><td style='border: 1px solid #dddddd'>0.10769230769230768</td><td style='border: 1px solid #dddddd'>0.008</td><td style='border: 1px solid #dddddd'>None</td><td style='border: 1px solid #dddddd'>None</td><td style='border: 1px solid #dddddd'>0.0923</td><td style='border: 1px solid #dddddd'>0.3821</td><td style='border: 1px solid #dddddd'>35.22705224755855</td><td style='border: 1px solid #dddddd'>0.18162290196967149</td><td style='border: 1px solid #dddddd'>None</td><td style='border: 1px solid #dddddd'>None</td><td style='border: 1px solid #dddddd'>None</td><td style='border: 1px solid #dddddd'>0.1077</td></tr><tr><td style='border: 1px solid #dddddd'>50.23</td><td style='border: 1px solid #dddddd'>0.25</td><td style='border: 1px solid #dddddd'>None</td><td style='border: 1px solid #dddddd'>0.0182</td><td style='border: 1px solid #dddddd'>None</td><td style='border: 1px solid #dddddd'>MRM_ffdb0c71-68ce-4dc3-a66d-588d05498cb7-4</td><td style='border: 1px solid #dddddd'>0.05747126436781609</td><td style='border: 1px solid #dddddd'>feedback</td><td style='border: 1px solid #dddddd'>2025-10-01T07:16:12.941127Z</td><td style='border: 1px solid #dddddd'>0.15273625373716368</td><td style='border: 1px solid #dddddd'>0.0536</td><td style='border: 1px solid #dddddd'>2025-10-01T07:16:44.257904Z</td><td style='border: 1px solid #dddddd'>2.7818</td><td style='border: 1px solid #dddddd'>0.1667</td><td style='border: 1px solid #dddddd'>None</td><td style='border: 1px solid #dddddd'>0.5207</td><td style='border: 1px solid #dddddd'>None</td><td style='border: 1px solid #dddddd'>None</td><td style='border: 1px solid #dddddd'>0.041666666666666664</td><td style='border: 1px solid #dddddd'>None</td><td style='border: 1px solid #dddddd'>None</td><td style='border: 1px solid #dddddd'>0.0</td><td style='border: 1px solid #dddddd'>d46cce64-a42a-45e5-85f2-d59eb9388c4a</td><td style='border: 1px solid #dddddd'>0.07142857142857142</td><td style='border: 1px solid #dddddd'>0.0071</td><td style='border: 1px solid #dddddd'>None</td><td style='border: 1px solid #dddddd'>None</td><td style='border: 1px solid #dddddd'>0.0536</td><td style='border: 1px solid #dddddd'>0.4412</td><td style='border: 1px solid #dddddd'>34.3361590870564</td><td style='border: 1px solid #dddddd'>0.14047729980117551</td><td style='border: 1px solid #dddddd'>None</td><td style='border: 1px solid #dddddd'>None</td><td style='border: 1px solid #dddddd'>None</td><td style='border: 1px solid #dddddd'>0.0714</td></tr><tr><td style='border: 1px solid #dddddd'>65.22</td><td style='border: 1px solid #dddddd'>0.35714285714285715</td><td style='border: 1px solid #dddddd'>None</td><td style='border: 1px solid #dddddd'>0.0</td><td style='border: 1px solid #dddddd'>None</td><td style='border: 1px solid #dddddd'>MRM_ffdb0c71-68ce-4dc3-a66d-588d05498cb7-5</td><td style='border: 1px solid #dddddd'>0.07792207792207792</td><td style='border: 1px solid #dddddd'>feedback</td><td style='border: 1px solid #dddddd'>2025-10-01T07:16:12.941154Z</td><td style='border: 1px solid #dddddd'>0.15564202334630353</td><td style='border: 1px solid #dddddd'>0.101</td><td style='border: 1px solid #dddddd'>2025-10-01T07:16:44.257875Z</td><td style='border: 1px solid #dddddd'>2.49</td><td style='border: 1px solid #dddddd'>0.1477</td><td style='border: 1px solid #dddddd'>None</td><td style='border: 1px solid #dddddd'>0.5743</td><td style='border: 1px solid #dddddd'>None</td><td style='border: 1px solid #dddddd'>None</td><td style='border: 1px solid #dddddd'>0.058823529411764705</td><td style='border: 1px solid #dddddd'>None</td><td style='border: 1px solid #dddddd'>None</td><td style='border: 1px solid #dddddd'>0.0</td><td style='border: 1px solid #dddddd'>d46cce64-a42a-45e5-85f2-d59eb9388c4a</td><td style='border: 1px solid #dddddd'>0.10101010101010101</td><td style='border: 1px solid #dddddd'>0.0171</td><td style='border: 1px solid #dddddd'>None</td><td style='border: 1px solid #dddddd'>None</td><td style='border: 1px solid #dddddd'>0.0808</td><td style='border: 1px solid #dddddd'>0.2841</td><td style='border: 1px solid #dddddd'>34.15714964896086</td><td style='border: 1px solid #dddddd'>0.20520151276400905</td><td style='border: 1px solid #dddddd'>None</td><td style='border: 1px solid #dddddd'>None</td><td style='border: 1px solid #dddddd'>None</td><td style='border: 1px solid #dddddd'>0.101</td></tr><tr><td style='border: 1px solid #dddddd'>39.94</td><td style='border: 1px solid #dddddd'>0.28</td><td style='border: 1px solid #dddddd'>None</td><td style='border: 1px solid #dddddd'>0.0253</td><td style='border: 1px solid #dddddd'>None</td><td style='border: 1px solid #dddddd'>MRM_ffdb0c71-68ce-4dc3-a66d-588d05498cb7-6</td><td style='border: 1px solid #dddddd'>0.11304347826086956</td><td style='border: 1px solid #dddddd'>feedback</td><td style='border: 1px solid #dddddd'>2025-10-01T07:16:12.941279Z</td><td style='border: 1px solid #dddddd'>0.18277014625475765</td><td style='border: 1px solid #dddddd'>0.1375</td><td style='border: 1px solid #dddddd'>2025-10-01T07:16:44.257833Z</td><td style='border: 1px solid #dddddd'>1.6987</td><td style='border: 1px solid #dddddd'>0.1088</td><td style='border: 1px solid #dddddd'>None</td><td style='border: 1px solid #dddddd'>0.6717</td><td style='border: 1px solid #dddddd'>None</td><td style='border: 1px solid #dddddd'>None</td><td style='border: 1px solid #dddddd'>0.12727272727272726</td><td style='border: 1px solid #dddddd'>None</td><td style='border: 1px solid #dddddd'>None</td><td style='border: 1px solid #dddddd'>0.0</td><td style='border: 1px solid #dddddd'>d46cce64-a42a-45e5-85f2-d59eb9388c4a</td><td style='border: 1px solid #dddddd'>0.175</td><td style='border: 1px solid #dddddd'>0.0096</td><td style='border: 1px solid #dddddd'>None</td><td style='border: 1px solid #dddddd'>None</td><td style='border: 1px solid #dddddd'>0.1125</td><td style='border: 1px solid #dddddd'>0.3469</td><td style='border: 1px solid #dddddd'>35.07405791362661</td><td style='border: 1px solid #dddddd'>0.18721576787643757</td><td style='border: 1px solid #dddddd'>None</td><td style='border: 1px solid #dddddd'>None</td><td style='border: 1px solid #dddddd'>None</td><td style='border: 1px solid #dddddd'>0.175</td></tr><tr><td style='border: 1px solid #dddddd'>57.16</td><td style='border: 1px solid #dddddd'>0.2571428571428571</td><td style='border: 1px solid #dddddd'>None</td><td style='border: 1px solid #dddddd'>0.0119</td><td style='border: 1px solid #dddddd'>None</td><td style='border: 1px solid #dddddd'>MRM_ffdb0c71-68ce-4dc3-a66d-588d05498cb7-7</td><td style='border: 1px solid #dddddd'>0.08403361344537816</td><td style='border: 1px solid #dddddd'>feedback</td><td style='border: 1px solid #dddddd'>2025-10-01T07:16:12.941317Z</td><td style='border: 1px solid #dddddd'>0.18416206261510132</td><td style='border: 1px solid #dddddd'>0.1059</td><td style='border: 1px solid #dddddd'>2025-10-01T07:16:44.257803Z</td><td style='border: 1px solid #dddddd'>4.4472</td><td style='border: 1px solid #dddddd'>0.1197</td><td style='border: 1px solid #dddddd'>None</td><td style='border: 1px solid #dddddd'>0.5768</td><td style='border: 1px solid #dddddd'>None</td><td style='border: 1px solid #dddddd'>None</td><td style='border: 1px solid #dddddd'>0.06666666666666667</td><td style='border: 1px solid #dddddd'>None</td><td style='border: 1px solid #dddddd'>None</td><td style='border: 1px solid #dddddd'>0.0</td><td style='border: 1px solid #dddddd'>d46cce64-a42a-45e5-85f2-d59eb9388c4a</td><td style='border: 1px solid #dddddd'>0.10588235294117647</td><td style='border: 1px solid #dddddd'>0.0126</td><td style='border: 1px solid #dddddd'>None</td><td style='border: 1px solid #dddddd'>None</td><td style='border: 1px solid #dddddd'>0.0588</td><td style='border: 1px solid #dddddd'>0.2817</td><td style='border: 1px solid #dddddd'>34.78985612536358</td><td style='border: 1px solid #dddddd'>0.332837030984566</td><td style='border: 1px solid #dddddd'>None</td><td style='border: 1px solid #dddddd'>None</td><td style='border: 1px solid #dddddd'>None</td><td style='border: 1px solid #dddddd'>0.1059</td></tr><tr><td style='border: 1px solid #dddddd'>8.64</td><td style='border: 1px solid #dddddd'>0.19230769230769232</td><td style='border: 1px solid #dddddd'>None</td><td style='border: 1px solid #dddddd'>0.0</td><td style='border: 1px solid #dddddd'>None</td><td style='border: 1px solid #dddddd'>MRM_ffdb0c71-68ce-4dc3-a66d-588d05498cb7-8</td><td style='border: 1px solid #dddddd'>0.06315789473684211</td><td style='border: 1px solid #dddddd'>feedback</td><td style='border: 1px solid #dddddd'>2025-10-01T07:16:12.941348Z</td><td style='border: 1px solid #dddddd'>0.11682242990654206</td><td style='border: 1px solid #dddddd'>0.0661</td><td style='border: 1px solid #dddddd'>2025-10-01T07:16:44.257726Z</td><td style='border: 1px solid #dddddd'>5.5521</td><td style='border: 1px solid #dddddd'>0.0778</td><td style='border: 1px solid #dddddd'>None</td><td style='border: 1px solid #dddddd'>0.3138</td><td style='border: 1px solid #dddddd'>None</td><td style='border: 1px solid #dddddd'>None</td><td style='border: 1px solid #dddddd'>0.05263157894736842</td><td style='border: 1px solid #dddddd'>None</td><td style='border: 1px solid #dddddd'>None</td><td style='border: 1px solid #dddddd'>0.0</td><td style='border: 1px solid #dddddd'>d46cce64-a42a-45e5-85f2-d59eb9388c4a</td><td style='border: 1px solid #dddddd'>0.08264462809917356</td><td style='border: 1px solid #dddddd'>0.0046</td><td style='border: 1px solid #dddddd'>None</td><td style='border: 1px solid #dddddd'>None</td><td style='border: 1px solid #dddddd'>0.0496</td><td style='border: 1px solid #dddddd'>0.6222</td><td style='border: 1px solid #dddddd'>34.29225275249409</td><td style='border: 1px solid #dddddd'>0.1758956818846688</td><td style='border: 1px solid #dddddd'>None</td><td style='border: 1px solid #dddddd'>None</td><td style='border: 1px solid #dddddd'>None</td><td style='border: 1px solid #dddddd'>0.0826</td></tr><tr><td style='border: 1px solid #dddddd'>35.27</td><td style='border: 1px solid #dddddd'>0.4166666666666667</td><td style='border: 1px solid #dddddd'>None</td><td style='border: 1px solid #dddddd'>0.0308</td><td style='border: 1px solid #dddddd'>None</td><td style='border: 1px solid #dddddd'>MRM_ffdb0c71-68ce-4dc3-a66d-588d05498cb7-9</td><td style='border: 1px solid #dddddd'>0.10344827586206896</td><td style='border: 1px solid #dddddd'>feedback</td><td style='border: 1px solid #dddddd'>2025-10-01T07:16:12.941410Z</td><td style='border: 1px solid #dddddd'>0.24221809936095656</td><td style='border: 1px solid #dddddd'>0.1493</td><td style='border: 1px solid #dddddd'>2025-10-01T07:16:44.255575Z</td><td style='border: 1px solid #dddddd'>1.026</td><td style='border: 1px solid #dddddd'>0.0862</td><td style='border: 1px solid #dddddd'>None</td><td style='border: 1px solid #dddddd'>0.7215</td><td style='border: 1px solid #dddddd'>None</td><td style='border: 1px solid #dddddd'>None</td><td style='border: 1px solid #dddddd'>0.09090909090909091</td><td style='border: 1px solid #dddddd'>None</td><td style='border: 1px solid #dddddd'>None</td><td style='border: 1px solid #dddddd'>0.0</td><td style='border: 1px solid #dddddd'>d46cce64-a42a-45e5-85f2-d59eb9388c4a</td><td style='border: 1px solid #dddddd'>0.1492537313432836</td><td style='border: 1px solid #dddddd'>0.0288</td><td style='border: 1px solid #dddddd'>None</td><td style='border: 1px solid #dddddd'>None</td><td style='border: 1px solid #dddddd'>0.1194</td><td style='border: 1px solid #dddddd'>0.4483</td><td style='border: 1px solid #dddddd'>34.515669515669515</td><td style='border: 1px solid #dddddd'>0.10276513445987069</td><td style='border: 1px solid #dddddd'>None</td><td style='border: 1px solid #dddddd'>None</td><td style='border: 1px solid #dddddd'>None</td><td style='border: 1px solid #dddddd'>0.1493</td></tr>\n",
       "            </table>\n",
       "        </body>\n",
       "        </HTML>"
      ],
      "text/plain": [
       "<IPython.core.display.HTML object>"
      ]
     },
     "metadata": {},
     "output_type": "display_data"
    }
   ],
   "source": [
    "wos_client.data_sets.show_records(data_set_id = genaiq_dataset_id)"
   ]
  },
  {
   "cell_type": "markdown",
   "metadata": {},
   "source": [
    "## Display the model health metrics\n",
    "### Read the model health monitor instance id\n",
    "Monitor instance ID of model health metrics is required for reading its metrics."
   ]
  },
  {
   "cell_type": "code",
   "execution_count": 35,
   "metadata": {
    "ExecuteTime": {
     "end_time": "2024-09-18T11:06:02.649292Z",
     "start_time": "2024-09-18T11:06:01.637215Z"
    }
   },
   "outputs": [
    {
     "data": {
      "text/plain": [
       "'01999ea0-5c8b-7ef1-90bc-b9da2093ef38'"
      ]
     },
     "execution_count": 35,
     "metadata": {},
     "output_type": "execute_result"
    }
   ],
   "source": [
    "monitor_definition_id = \"model_health\"\n",
    "result = wos_client.monitor_instances.list(data_mart_id = data_mart_id,\n",
    "                                           monitor_definition_id = monitor_definition_id,\n",
    "                                           target_target_id = target_target_id,\n",
    "                                           project_id = project_id).result\n",
    "result_json = result._to_dict()\n",
    "mhm_monitor_id = result_json[\"monitor_instances\"][0][\"metadata\"][\"id\"]\n",
    "mhm_monitor_id"
   ]
  },
  {
   "cell_type": "markdown",
   "metadata": {},
   "source": [
    "Displaying the monitor metrics of model health"
   ]
  },
  {
   "cell_type": "code",
   "execution_count": 36,
   "metadata": {
    "ExecuteTime": {
     "end_time": "2024-09-18T11:06:10.835756Z",
     "start_time": "2024-09-18T11:06:07.139110Z"
    }
   },
   "outputs": [
    {
     "data": {
      "text/html": [
       "<HTML>\n",
       "        <body>\n",
       "            <h3>01999ea0-5c8b-7ef1-90bc-b9da2093ef38 Monitor Runs Metrics from: 2025-09-24 12:47:38.176322  till: 2025-10-01 12:47:38.176334</h3>\n",
       "            <table style='border: 1px solid #dddddd; font-family: Courier'>\n",
       "                <th style='border: 1px solid #dddddd'>ts</th><th style='border: 1px solid #dddddd'>id</th><th style='border: 1px solid #dddddd'>measurement_id</th><th style='border: 1px solid #dddddd'>value</th><th style='border: 1px solid #dddddd'>lower_limit</th><th style='border: 1px solid #dddddd'>upper_limit</th><th style='border: 1px solid #dddddd'>tags</th><th style='border: 1px solid #dddddd'>monitor_definition_id</th><th style='border: 1px solid #dddddd'>monitor_instance_id</th><th style='border: 1px solid #dddddd'>run_id</th><th style='border: 1px solid #dddddd'>target_type</th><th style='border: 1px solid #dddddd'>target_id</th>\n",
       "                <tr><td style='border: 1px solid #dddddd'>2025-10-01 07:16:29.224396+00:00</td><td style='border: 1px solid #dddddd'>total_records</td><td style='border: 1px solid #dddddd'>01999ea1-35a8-712f-9ca9-d831ffd9877d</td><td style='border: 1px solid #dddddd'>10.0</td><td style='border: 1px solid #dddddd'>None</td><td style='border: 1px solid #dddddd'>None</td><td style='border: 1px solid #dddddd'>[]</td><td style='border: 1px solid #dddddd'>model_health</td><td style='border: 1px solid #dddddd'>01999ea0-5c8b-7ef1-90bc-b9da2093ef38</td><td style='border: 1px solid #dddddd'>2c8c4917-b65a-48d9-a5bf-c7401f755033</td><td style='border: 1px solid #dddddd'>subscription</td><td style='border: 1px solid #dddddd'>01999ea0-2f3a-78db-bb84-1f68bd604c4d</td></tr><tr><td style='border: 1px solid #dddddd'>2025-10-01 07:16:29.224396+00:00</td><td style='border: 1px solid #dddddd'>maximum_record_throughput</td><td style='border: 1px solid #dddddd'>01999ea1-35a8-712f-9ca9-d831ffd9877d</td><td style='border: 1px solid #dddddd'>0.595</td><td style='border: 1px solid #dddddd'>None</td><td style='border: 1px solid #dddddd'>None</td><td style='border: 1px solid #dddddd'>[]</td><td style='border: 1px solid #dddddd'>model_health</td><td style='border: 1px solid #dddddd'>01999ea0-5c8b-7ef1-90bc-b9da2093ef38</td><td style='border: 1px solid #dddddd'>2c8c4917-b65a-48d9-a5bf-c7401f755033</td><td style='border: 1px solid #dddddd'>subscription</td><td style='border: 1px solid #dddddd'>01999ea0-2f3a-78db-bb84-1f68bd604c4d</td></tr><tr><td style='border: 1px solid #dddddd'>2025-10-01 07:16:29.224396+00:00</td><td style='border: 1px solid #dddddd'>median_api_throughput</td><td style='border: 1px solid #dddddd'>01999ea1-35a8-712f-9ca9-d831ffd9877d</td><td style='border: 1px solid #dddddd'>0.229</td><td style='border: 1px solid #dddddd'>None</td><td style='border: 1px solid #dddddd'>None</td><td style='border: 1px solid #dddddd'>[]</td><td style='border: 1px solid #dddddd'>model_health</td><td style='border: 1px solid #dddddd'>01999ea0-5c8b-7ef1-90bc-b9da2093ef38</td><td style='border: 1px solid #dddddd'>2c8c4917-b65a-48d9-a5bf-c7401f755033</td><td style='border: 1px solid #dddddd'>subscription</td><td style='border: 1px solid #dddddd'>01999ea0-2f3a-78db-bb84-1f68bd604c4d</td></tr><tr><td style='border: 1px solid #dddddd'>2025-10-01 07:16:29.224396+00:00</td><td style='border: 1px solid #dddddd'>median_input_token_count</td><td style='border: 1px solid #dddddd'>01999ea1-35a8-712f-9ca9-d831ffd9877d</td><td style='border: 1px solid #dddddd'>388.0</td><td style='border: 1px solid #dddddd'>None</td><td style='border: 1px solid #dddddd'>None</td><td style='border: 1px solid #dddddd'>[]</td><td style='border: 1px solid #dddddd'>model_health</td><td style='border: 1px solid #dddddd'>01999ea0-5c8b-7ef1-90bc-b9da2093ef38</td><td style='border: 1px solid #dddddd'>2c8c4917-b65a-48d9-a5bf-c7401f755033</td><td style='border: 1px solid #dddddd'>subscription</td><td style='border: 1px solid #dddddd'>01999ea0-2f3a-78db-bb84-1f68bd604c4d</td></tr><tr><td style='border: 1px solid #dddddd'>2025-10-01 07:16:29.224396+00:00</td><td style='border: 1px solid #dddddd'>average_output_token_count</td><td style='border: 1px solid #dddddd'>01999ea1-35a8-712f-9ca9-d831ffd9877d</td><td style='border: 1px solid #dddddd'>166.3</td><td style='border: 1px solid #dddddd'>None</td><td style='border: 1px solid #dddddd'>None</td><td style='border: 1px solid #dddddd'>[]</td><td style='border: 1px solid #dddddd'>model_health</td><td style='border: 1px solid #dddddd'>01999ea0-5c8b-7ef1-90bc-b9da2093ef38</td><td style='border: 1px solid #dddddd'>2c8c4917-b65a-48d9-a5bf-c7401f755033</td><td style='border: 1px solid #dddddd'>subscription</td><td style='border: 1px solid #dddddd'>01999ea0-2f3a-78db-bb84-1f68bd604c4d</td></tr><tr><td style='border: 1px solid #dddddd'>2025-10-01 07:16:29.224396+00:00</td><td style='border: 1px solid #dddddd'>minimum_api_throughput</td><td style='border: 1px solid #dddddd'>01999ea1-35a8-712f-9ca9-d831ffd9877d</td><td style='border: 1px solid #dddddd'>0.192</td><td style='border: 1px solid #dddddd'>None</td><td style='border: 1px solid #dddddd'>None</td><td style='border: 1px solid #dddddd'>[]</td><td style='border: 1px solid #dddddd'>model_health</td><td style='border: 1px solid #dddddd'>01999ea0-5c8b-7ef1-90bc-b9da2093ef38</td><td style='border: 1px solid #dddddd'>2c8c4917-b65a-48d9-a5bf-c7401f755033</td><td style='border: 1px solid #dddddd'>subscription</td><td style='border: 1px solid #dddddd'>01999ea0-2f3a-78db-bb84-1f68bd604c4d</td></tr><tr><td style='border: 1px solid #dddddd'>2025-10-01 07:16:29.224396+00:00</td><td style='border: 1px solid #dddddd'>median_record_latency</td><td style='border: 1px solid #dddddd'>01999ea1-35a8-712f-9ca9-d831ffd9877d</td><td style='border: 1px solid #dddddd'>4435.0</td><td style='border: 1px solid #dddddd'>None</td><td style='border: 1px solid #dddddd'>None</td><td style='border: 1px solid #dddddd'>[]</td><td style='border: 1px solid #dddddd'>model_health</td><td style='border: 1px solid #dddddd'>01999ea0-5c8b-7ef1-90bc-b9da2093ef38</td><td style='border: 1px solid #dddddd'>2c8c4917-b65a-48d9-a5bf-c7401f755033</td><td style='border: 1px solid #dddddd'>subscription</td><td style='border: 1px solid #dddddd'>01999ea0-2f3a-78db-bb84-1f68bd604c4d</td></tr><tr><td style='border: 1px solid #dddddd'>2025-10-01 07:16:29.224396+00:00</td><td style='border: 1px solid #dddddd'>minimum_output_token_count</td><td style='border: 1px solid #dddddd'>01999ea1-35a8-712f-9ca9-d831ffd9877d</td><td style='border: 1px solid #dddddd'>87.0</td><td style='border: 1px solid #dddddd'>None</td><td style='border: 1px solid #dddddd'>None</td><td style='border: 1px solid #dddddd'>[]</td><td style='border: 1px solid #dddddd'>model_health</td><td style='border: 1px solid #dddddd'>01999ea0-5c8b-7ef1-90bc-b9da2093ef38</td><td style='border: 1px solid #dddddd'>2c8c4917-b65a-48d9-a5bf-c7401f755033</td><td style='border: 1px solid #dddddd'>subscription</td><td style='border: 1px solid #dddddd'>01999ea0-2f3a-78db-bb84-1f68bd604c4d</td></tr><tr><td style='border: 1px solid #dddddd'>2025-10-01 07:16:29.224396+00:00</td><td style='border: 1px solid #dddddd'>users</td><td style='border: 1px solid #dddddd'>01999ea1-35a8-712f-9ca9-d831ffd9877d</td><td style='border: 1px solid #dddddd'>1.0</td><td style='border: 1px solid #dddddd'>None</td><td style='border: 1px solid #dddddd'>None</td><td style='border: 1px solid #dddddd'>[]</td><td style='border: 1px solid #dddddd'>model_health</td><td style='border: 1px solid #dddddd'>01999ea0-5c8b-7ef1-90bc-b9da2093ef38</td><td style='border: 1px solid #dddddd'>2c8c4917-b65a-48d9-a5bf-c7401f755033</td><td style='border: 1px solid #dddddd'>subscription</td><td style='border: 1px solid #dddddd'>01999ea0-2f3a-78db-bb84-1f68bd604c4d</td></tr><tr><td style='border: 1px solid #dddddd'>2025-10-01 07:16:29.224396+00:00</td><td style='border: 1px solid #dddddd'>maximum_api_latency</td><td style='border: 1px solid #dddddd'>01999ea1-35a8-712f-9ca9-d831ffd9877d</td><td style='border: 1px solid #dddddd'>5196.0</td><td style='border: 1px solid #dddddd'>None</td><td style='border: 1px solid #dddddd'>None</td><td style='border: 1px solid #dddddd'>[]</td><td style='border: 1px solid #dddddd'>model_health</td><td style='border: 1px solid #dddddd'>01999ea0-5c8b-7ef1-90bc-b9da2093ef38</td><td style='border: 1px solid #dddddd'>2c8c4917-b65a-48d9-a5bf-c7401f755033</td><td style='border: 1px solid #dddddd'>subscription</td><td style='border: 1px solid #dddddd'>01999ea0-2f3a-78db-bb84-1f68bd604c4d</td></tr>\n",
       "            </table>\n",
       "        </body>\n",
       "        </HTML>"
      ],
      "text/plain": [
       "<IPython.core.display.HTML object>"
      ]
     },
     "metadata": {},
     "output_type": "display_data"
    },
    {
     "name": "stdout",
     "output_type": "stream",
     "text": [
      "Note: First 10 records were displayed.\n"
     ]
    }
   ],
   "source": [
    "wos_client.monitor_instances.show_metrics(monitor_instance_id=mhm_monitor_id, project_id=project_id)"
   ]
  },
  {
   "cell_type": "markdown",
   "metadata": {},
   "source": [
    "# Plot rougel and rougelsum metrics against records <a name=\"plotproject\"></a>"
   ]
  },
  {
   "cell_type": "code",
   "execution_count": 37,
   "metadata": {
    "ExecuteTime": {
     "end_time": "2024-09-18T11:06:14.068686Z",
     "start_time": "2024-09-18T11:06:12.370256Z"
    }
   },
   "outputs": [],
   "source": [
    "result = wos_client.data_sets.get_list_of_records(data_set_id = genaiq_dataset_id).result\n",
    "result[\"records\"]\n",
    "x = []\n",
    "y_rougel = []\n",
    "y_rougelsum = []\n",
    "for each in result[\"records\"]:\n",
    "    x.append(each[\"metadata\"][\"id\"][-5:]) # Reading only last 5 characters to fit in the display\n",
    "    y_rougel.append(each[\"entity\"][\"values\"][\"rougel\"])\n",
    "    y_rougelsum.append(each[\"entity\"][\"values\"][\"rougelsum\"])"
   ]
  },
  {
   "cell_type": "markdown",
   "metadata": {},
   "source": [
    "Plot rougel metrics against records"
   ]
  },
  {
   "cell_type": "code",
   "execution_count": 38,
   "metadata": {
    "ExecuteTime": {
     "end_time": "2024-09-18T11:06:16.236905Z",
     "start_time": "2024-09-18T11:06:15.920927Z"
    }
   },
   "outputs": [
    {
     "data": {
      "image/png": "[encoded data removed]",
      "text/plain": [
       "<Figure size 640x480 with 1 Axes>"
      ]
     },
     "metadata": {},
     "output_type": "display_data"
    }
   ],
   "source": [
    "import matplotlib.pyplot as plt\n",
    "plt.scatter(x, y_rougel, marker='o')\n",
    "\n",
    "# Adding labels and title\n",
    "plt.xlabel('X-axis - Record id (last 5 characters)')\n",
    "plt.ylabel('Y-axis - ROUGEL')\n",
    "plt.title('rougel vs record id')\n",
    "\n",
    "# Display the graph\n",
    "plt.show()"
   ]
  },
  {
   "cell_type": "markdown",
   "metadata": {},
   "source": [
    "Plot rougelsum metrics against records"
   ]
  },
  {
   "cell_type": "code",
   "execution_count": 39,
   "metadata": {
    "ExecuteTime": {
     "end_time": "2024-09-18T11:06:17.340328Z",
     "start_time": "2024-09-18T11:06:17.261861Z"
    }
   },
   "outputs": [
    {
     "data": {
      "image/png": "[encoded data removed]",
      "text/plain": [
       "<Figure size 640x480 with 1 Axes>"
      ]
     },
     "metadata": {},
     "output_type": "display_data"
    }
   ],
   "source": [
    "import matplotlib.pyplot as plt\n",
    "plt.scatter(x, y_rougelsum, marker='o')\n",
    "\n",
    "# Adding labels and title\n",
    "plt.xlabel('X-axis - Record id (last 5 characters)')\n",
    "plt.ylabel('Y-axis - ROUGELSUM')\n",
    "plt.title('rougelsum vs record id')\n",
    "\n",
    "# Display the graph\n",
    "plt.show()"
   ]
  },
  {
   "cell_type": "markdown",
   "metadata": {},
   "source": [
    "# See factsheets information <a name=\"factsheetsspace\"></a>"
   ]
  },
  {
   "cell_type": "code",
   "execution_count": 40,
   "metadata": {
    "ExecuteTime": {
     "end_time": "2024-09-18T11:06:18.076272Z",
     "start_time": "2024-09-18T11:06:18.073837Z"
    }
   },
   "outputs": [
    {
     "name": "stdout",
     "output_type": "stream",
     "text": [
      "User can navigate to the published facts in project https://dataplatform.cloud.ibm.com/wx/prompt-details/73dd23b8-c255-48e4-8abe-fd3bfeb13336/factsheet?context=wx&project_id=2ee97ecb-f652-41a9-b360-dd2a7d594a8b\n"
     ]
    }
   ],
   "source": [
    "if not use_cpd:\n",
    "    factsheets_url = \"https://dataplatform.cloud.ibm.com/wx/prompt-details/{}/factsheet?context=wx&project_id={}\".format(project_pta_id, project_id)\n",
    "else:\n",
    "    factsheets_url = factsheets_url = \"{}/wx/prompt-details/{}/factsheet?context=wx&project_id={}\".format(WML_CREDENTIALS[\"url\"],project_pta_id, project_id)\n",
    "print(\"User can navigate to the published facts in project {}\".format(factsheets_url))"
   ]
  },
  {
   "cell_type": "markdown",
   "metadata": {},
   "source": [
    "# Evaluate Prompt template from space <a name=\"evaluatespace\"></a>"
   ]
  },
  {
   "cell_type": "markdown",
   "metadata": {},
   "source": [
    "Here is a quick recap of what we have done so far.\n",
    "\n",
    "1. We've created a prompt template asset in project.\n",
    "2. We've created a `development` type subscription of prompt template asset in OpenScale.\n",
    "3. Configured monitors supported by OpenScale for the subscriptions.\n",
    "4. We've performed risk evaluations against the PTA susbscription with a sample set of test data.\n",
    "5. Displayed the metrics generated with the risk evaluation.\n",
    "6. Displayed the factsheets information for the subscription.\n",
    "\n",
    "Now, we can promote the created prompt template asset to space and perform similar actions."
   ]
  },
  {
   "cell_type": "markdown",
   "metadata": {},
   "source": [
    "# Promote PTA to space <a name=\"promottospace\"></a> "
   ]
  },
  {
   "cell_type": "markdown",
   "metadata": {},
   "source": [
    "Below cell promotes the prompt template asset from the project to the space."
   ]
  },
  {
   "cell_type": "code",
   "execution_count": 41,
   "metadata": {
    "ExecuteTime": {
     "end_time": "2024-09-18T11:06:25.687928Z",
     "start_time": "2024-09-18T11:06:21.148899Z"
    }
   },
   "outputs": [
    {
     "data": {
      "text/plain": [
       "'98f6d104-7d2f-416a-bf76-c5c1b7c1149d'"
      ]
     },
     "execution_count": 41,
     "metadata": {},
     "output_type": "execute_result"
    }
   ],
   "source": [
    "headers={}\n",
    "headers[\"Content-Type\"] = \"application/json\"\n",
    "headers[\"Accept\"] = \"*/*\"\n",
    "headers[\"Authorization\"] = \"Bearer {}\".format(iam_access_token)\n",
    "verify = True\n",
    "if use_cpd:\n",
    "    DATAPLATFORM_URL = WOS_CREDENTIALS[\"url\"]\n",
    "    verify = False\n",
    "url = \"{}/v2/assets/{}/promote\".format(DATAPLATFORM_URL ,project_pta_id)\n",
    "\n",
    "params = {\n",
    "    \"project_id\":project_id\n",
    "}\n",
    "\n",
    "payload = {\n",
    "    \"space_id\": space_id\n",
    "}\n",
    "response = requests.post(url, json=payload, headers=headers, params = params, verify = verify)\n",
    "json_data = response.json()\n",
    "space_pta_id = json_data[\"metadata\"][\"asset_id\"]\n",
    "space_pta_id"
   ]
  },
  {
   "cell_type": "markdown",
   "metadata": {},
   "source": [
    "# Create deployment for prompt template asset in space <a name=\"ptadeployment\"></a>"
   ]
  },
  {
   "cell_type": "markdown",
   "metadata": {},
   "source": [
    "To create a subscription from space, it is necessary to create a deployment for prompt template assets in spaces."
   ]
  },
  {
   "cell_type": "code",
   "execution_count": 42,
   "metadata": {
    "ExecuteTime": {
     "end_time": "2024-09-18T11:06:58.724302Z",
     "start_time": "2024-09-18T11:06:57.059799Z"
    }
   },
   "outputs": [
    {
     "name": "stdout",
     "output_type": "stream",
     "text": [
      "ebe4d769-2940-4ff3-88d8-edfc271b4fb3\n"
     ]
    }
   ],
   "source": [
    "DEPLOYMENTS_URL = WML_CREDENTIALS[\"url\"] + \"/ml/v4/deployments\"\n",
    "\n",
    "serving_name = \"summary_deployment_xgov1\" # eg: summary_deployment\n",
    "\n",
    "payload = {\n",
    "    \"prompt_template\": {\n",
    "      \"id\": space_pta_id\n",
    "    },\n",
    "    \"online\": {\n",
    "       \"parameters\": {\n",
    "         \"serving_name\": serving_name\n",
    "       }\n",
    "    },\n",
    "    \"base_model_id\": \"mistralai/mistral-large\",\n",
    "    \"description\": \"summarization deployment\",\n",
    "    \"name\": \"summarization deployment\",\n",
    "    \"space_id\": space_id\n",
    "}\n",
    "\n",
    "version = \"2023-07-07\" # The version date for the API of the form YYYY-MM-DD. Example : 2023-07-07\n",
    "params = {\n",
    "    \"version\":version,\n",
    "    \"space_id\":space_id\n",
    "}\n",
    "\n",
    "response = requests.post(DEPLOYMENTS_URL, json=payload, headers=headers, params = params, verify = verify)\n",
    "json_data = response.json()\n",
    "\n",
    "\n",
    "if \"metadata\" in json_data:\n",
    "    deployment_id = json_data[\"metadata\"][\"id\"]\n",
    "    print(deployment_id)\n",
    "else:\n",
    "    print(json_data)"
   ]
  },
  {
   "cell_type": "markdown",
   "metadata": {},
   "source": [
    "# Setup the prompt template asset in space for evaluation with supported monitor dimensions <a name=\"ptaspace\"></a>\n",
    "\n",
    "The prompt template assets from space is only supported with [`pre_production` and `production`] operational space IDs. Running the below cell will create a `production` type subscription from the prompt template asset promoted to the space. The `problem_type` value should depend on the task type specified in the prompt template asset."
   ]
  },
  {
   "cell_type": "code",
   "execution_count": 43,
   "metadata": {
    "ExecuteTime": {
     "end_time": "2024-09-18T13:29:49.534620Z",
     "start_time": "2024-09-18T13:29:49.532173Z"
    }
   },
   "outputs": [],
   "source": [
    "space_pta_id = ''\n",
    "space_id = \"\"\n",
    "deployment_id = \"\""
   ]
  },
  {
   "cell_type": "code",
   "execution_count": 44,
   "metadata": {
    "ExecuteTime": {
     "end_time": "2024-09-18T13:30:03.327669Z",
     "start_time": "2024-09-18T13:29:51.249840Z"
    }
   },
   "outputs": [
    {
     "name": "stdout",
     "output_type": "stream",
     "text": [
      "\n",
      "\n",
      "=============================================================================\n",
      "\n",
      " Waiting for end of adding prompt setup 98f6d104-7d2f-416a-bf76-c5c1b7c1149d \n",
      "\n",
      "=============================================================================\n",
      "\n",
      "\n",
      "\n",
      "running..\n",
      "finished\n",
      "\n",
      "---------------------------------------------------------------\n",
      " Successfully finished setting up prompt template subscription \n",
      "---------------------------------------------------------------\n",
      "\n",
      "\n"
     ]
    },
    {
     "data": {
      "text/plain": [
       "{'prompt_template_asset_id': '98f6d104-7d2f-416a-bf76-c5c1b7c1149d',\n",
       " 'space_id': '888ea269-8065-4573-b755-30e6ab163afc',\n",
       " 'deployment_id': 'ebe4d769-2940-4ff3-88d8-edfc271b4fb3',\n",
       " 'service_provider_id': '01999daf-32a1-7972-a6c9-e8e0fa9a6d2a',\n",
       " 'subscription_id': '01999ea4-4392-7310-82bc-62dde8040c2f',\n",
       " 'mrm_monitor_instance_id': '01999ea4-7e98-7cd5-a3cc-df627877b322',\n",
       " 'start_time': '2025-10-01T07:19:47.548186Z',\n",
       " 'end_time': '2025-10-01T07:20:10.782688Z',\n",
       " 'status': {'state': 'FINISHED'}}"
      ]
     },
     "execution_count": 44,
     "metadata": {},
     "output_type": "execute_result"
    }
   ],
   "source": [
    "label_column = \"reference_summary\"\n",
    "operational_space_id = \"production\"\n",
    "problem_type= \"summarization\"\n",
    "input_data_type= \"unstructured_text\"\n",
    "\n",
    "monitors = {\n",
    "    \"generative_ai_quality\": {\n",
    "        \"parameters\": {\n",
    "            \"min_sample_size\": 10,\n",
    "            \"metrics_configuration\":{        \n",
    "            }\n",
    "        }\n",
    "    },\n",
    "    \"drift_v2\": {\n",
    "        \"thresholds\": [\n",
    "            {\n",
    "                \"metric_id\": \"confidence_drift_score\",\n",
    "                \"type\": \"upper_limit\",\n",
    "                \"value\": 0.05\n",
    "            },\n",
    "            {\n",
    "                \"metric_id\": \"prediction_drift_score\",\n",
    "                \"type\": \"upper_limit\",\n",
    "                \"value\": 0.05\n",
    "            },\n",
    "            {\n",
    "                \"metric_id\": \"input_metadata_drift_score\",\n",
    "                \"specific_values\": [\n",
    "                    {\n",
    "                        \"applies_to\": [\n",
    "                            {\n",
    "                                \"type\": \"tag\",\n",
    "                                \"value\": \"subscription\",\n",
    "                                \"key\": \"field_type\"\n",
    "                            }\n",
    "                        ],\n",
    "                        \"value\": 0.05\n",
    "                    }\n",
    "                ],\n",
    "                \"type\": \"upper_limit\"\n",
    "            },\n",
    "            {\n",
    "                \"metric_id\": \"output_metadata_drift_score\",\n",
    "                \"specific_values\": [\n",
    "                    {\n",
    "                        \"applies_to\": [\n",
    "                            {\n",
    "                                \"type\": \"tag\",\n",
    "                                \"value\": \"subscription\",\n",
    "                                \"key\": \"field_type\"\n",
    "                            }\n",
    "                        ],\n",
    "                        \"value\": 0.05\n",
    "                    }\n",
    "                ],\n",
    "                \"type\": \"upper_limit\"\n",
    "            }\n",
    "        ],\n",
    "        \"parameters\": {\n",
    "            \"min_samples\": 10,\n",
    "            \"train_archive\": True\n",
    "        }\n",
    "    }\n",
    "}\n",
    "\n",
    "\n",
    "response = wos_client.wos.execute_prompt_setup(prompt_template_asset_id = space_pta_id, \n",
    "                                                                   space_id = space_id,\n",
    "                                                                   deployment_id = deployment_id,\n",
    "                                                                   label_column = label_column, \n",
    "                                                                   operational_space_id = operational_space_id, \n",
    "                                                                   problem_type = problem_type,\n",
    "                                                                   input_data_type = input_data_type, \n",
    "                                                                   supporting_monitors = monitors, \n",
    "                                                                   background_mode = False)\n",
    "\n",
    "result = response.result\n",
    "result._to_dict()"
   ]
  },
  {
   "cell_type": "markdown",
   "metadata": {},
   "source": [
    "With the below cell, users can read the prompt setup task and check its status"
   ]
  },
  {
   "cell_type": "code",
   "execution_count": 45,
   "metadata": {
    "ExecuteTime": {
     "end_time": "2024-09-18T13:30:08.815825Z",
     "start_time": "2024-09-18T13:30:08.064177Z"
    }
   },
   "outputs": [
    {
     "data": {
      "text/plain": [
       "{'prompt_template_asset_id': '98f6d104-7d2f-416a-bf76-c5c1b7c1149d',\n",
       " 'space_id': '888ea269-8065-4573-b755-30e6ab163afc',\n",
       " 'deployment_id': 'ebe4d769-2940-4ff3-88d8-edfc271b4fb3',\n",
       " 'service_provider_id': '01999daf-32a1-7972-a6c9-e8e0fa9a6d2a',\n",
       " 'subscription_id': '01999ea4-4392-7310-82bc-62dde8040c2f',\n",
       " 'mrm_monitor_instance_id': '01999ea4-7e98-7cd5-a3cc-df627877b322',\n",
       " 'start_time': '2025-10-01T07:19:47.548186Z',\n",
       " 'end_time': '2025-10-01T07:20:10.782688Z',\n",
       " 'status': {'state': 'FINISHED'}}"
      ]
     },
     "execution_count": 45,
     "metadata": {},
     "output_type": "execute_result"
    }
   ],
   "source": [
    "response = wos_client.wos.get_prompt_setup(prompt_template_asset_id = space_pta_id,\n",
    "                                                             deployment_id = deployment_id,\n",
    "                                                             space_id = space_id)\n",
    "\n",
    "result = response.result\n",
    "result_json = result._to_dict()\n",
    "result_json"
   ]
  },
  {
   "cell_type": "markdown",
   "metadata": {},
   "source": [
    "### Read subscription id from prompt setup\n",
    "\n",
    "Once prompt setup status is finished, Read the subscription id from it."
   ]
  },
  {
   "cell_type": "code",
   "execution_count": 46,
   "metadata": {
    "ExecuteTime": {
     "end_time": "2024-09-18T13:30:11.103356Z",
     "start_time": "2024-09-18T13:30:11.100177Z"
    }
   },
   "outputs": [
    {
     "data": {
      "text/plain": [
       "'01999ea4-4392-7310-82bc-62dde8040c2f'"
      ]
     },
     "execution_count": 46,
     "metadata": {},
     "output_type": "execute_result"
    }
   ],
   "source": [
    "prod_subscription_id = result_json[\"subscription_id\"]\n",
    "prod_subscription_id"
   ]
  },
  {
   "cell_type": "markdown",
   "metadata": {},
   "source": [
    "### Score the PTA deployment"
   ]
  },
  {
   "cell_type": "markdown",
   "metadata": {},
   "source": [
    "Retrieve the scoring URL of the deployment from the subscription details."
   ]
  },
  {
   "cell_type": "code",
   "execution_count": 47,
   "metadata": {
    "ExecuteTime": {
     "end_time": "2024-09-18T13:30:13.871018Z",
     "start_time": "2024-09-18T13:30:13.038830Z"
    }
   },
   "outputs": [
    {
     "name": "stdout",
     "output_type": "stream",
     "text": [
      "https://us-south.ml.cloud.ibm.com/ml/v1/deployments/ebe4d769-2940-4ff3-88d8-edfc271b4fb3/text/generation?version=2023-09-07\n"
     ]
    }
   ],
   "source": [
    "sub_details = wos_client.subscriptions.get(prod_subscription_id).result\n",
    "sub_details = sub_details._to_dict()\n",
    "scoring_url = sub_details[\"entity\"][\"deployment\"][\"url\"]\n",
    "if not scoring_url.find(\"?version=\") != -1:\n",
    "    scoring_url = scoring_url.strip() + \"?version=2023-09-07\"\n",
    "\n",
    "if use_cpd:\n",
    "    scoring_url = WML_CREDENTIALS[\"url\"] + \"/ml/v1-beta/deployments/\"+ deployment_id +\"/generation/text?version=2023-09-07\"\n",
    "print(scoring_url)"
   ]
  },
  {
   "cell_type": "markdown",
   "metadata": {},
   "source": [
    "# Score the model so that we can configure monitors <a name=\"score\"></a>\n",
    "\n",
    "Now that the WML service has been bound and the subscription has been created, we need to score the prompt template asset. User needs to generate the test data content in JSON format from the downloaded CSV file. This is used to construct the payload for scoring the deployment."
   ]
  },
  {
   "cell_type": "code",
   "execution_count": 48,
   "metadata": {
    "ExecuteTime": {
     "end_time": "2024-09-18T13:44:27.381915Z",
     "start_time": "2024-09-18T13:33:07.499194Z"
    }
   },
   "outputs": [
    {
     "data": {
      "text/plain": [
       "[{'request': {'parameters': {'template_variables': {'original_text': 'by using our services you are agreeing to these terms our trainer guidelines and our privacy policy. if you are the parent or legal guardian of a child under the age of 13 the parent you are agreeing to these terms on behalf of yourself and your child ren who are authorized to use the services pursuant to these terms and in our privacy policy. if you don t agree to these terms our trainer guidelines and our privacy policy do not use the services.'}}},\n",
       "  'response': {'model_id': 'mistralai/mistral-large',\n",
       "   'model_version': '2.0.0',\n",
       "   'created_at': '2025-10-01T07:20:18.564Z',\n",
       "   'results': [{'generated_text': \" By using our services, you agree to our Terms, Trainer Guidelines, and Privacy Policy. If you're a parent or legal guardian of a child under 13, you're agreeing to these terms on behalf of yourself and your child(ren) who are authorized to use the services. If you don't agree to these terms, guidelines, and policy, please do not use the services.\",\n",
       "     'generated_token_count': 87,\n",
       "     'input_token_count': 107,\n",
       "     'stop_reason': 'eos_token'}],\n",
       "   'system': {'warnings': [{'message': 'This model is a Non-IBM Product governed by a third-party license that may impose use restrictions and other obligations. By using this model you agree to its terms as identified in the following URL.',\n",
       "      'id': 'disclaimer_warning',\n",
       "      'more_info': 'https://dataplatform.cloud.ibm.com/docs/content/wsj/analyze-data/fm-models.html?context=wx'},\n",
       "     {'message': \"Model 'mistralai/mistral-large' is in deprecated state from 2025-07-09. It will be in withdrawn state from 2025-10-08. IDs of alternative models: mistralai/mistral-medium-2505.\",\n",
       "      'id': 'deprecation_warning',\n",
       "      'more_info': 'https://dataplatform.cloud.ibm.com/docs/content/wsj/analyze-data/fm-model-lifecycle.html?context=wx&audience=wdp'},\n",
       "     {'message': 'In future implementation, the parameter `parameters.decoding_method` will be ignored and set automatically',\n",
       "      'id': 'param_deprecation'}]}}},\n",
       " {'request': {'parameters': {'template_variables': {'original_text': 'if you want to use certain features of the services you will have to create an account with us an account. you can create an account if you have a a pre existing google account b a pre existing pok\\\\u00e9mon trainer club ptc account c a pre existing account with facebook or d such other pre existing third party accounts as we may choose to support in the future notification of which will be provided by allowing selection of such pre existing accounts on the relevant account creation screen. we will create your account by extracting from your google ptc facebook or other pre existing third party account certain personal information such as your email address that your privacy settings on the applicable account permit us to access. it s important that you provide us with accurate complete and up to date information for your account and you agree to update such information as needed to keep it accurate complete and up to date. if you don t we might have to suspend or terminate your account. you agree that you won t disclose your account password to anyone and you ll notify us immediately of any unauthorized use of your account. you re responsible for all activities that occur under your account whether or not you know about them. registration by childrenwe comply with the children s online privacy protection act coppa through the verification and consent process handled by ptc. if you are over the age of 13 and register to create an account through ptc ptc will enable you to access and use the services. the parent of each child under the age of 13 must register with the pok\\\\u00e9mon company international inc tpci through ptc before a child may use the services. tpci requires the parent to verify that he or she is the parent of the child and to consent to the creation of an account with us for the child. upon receipt of both parental verification and consent tpci will enable the parent to create an account with us for the child. if a parent does not consent to a child s access to and use of the services or does not verify the parent s consent through the consent process niantic will bar that child s registration for an account prevent the child s access to and use of the services and ensure that such child s information is not accessible through the services. if a parent has consented to a child s access to and use of the services but wishes to rescind such consent the parent should contact us at https pokemongo nianticlabs com support delete en to submit the request. we will discontinue that child s access to and use of the services and ensure that such child s information is no longer accessible through the services. parents of children under the age of 13 understand and agree that tpci and or niantic may provide information submitted to tpci and or niantic or collected via the services to third parties who use such information for the sole purpose of administering or providing services e g third party security monitoring services and web hosting companies. please see our privacy policy available athttp www nianticlabs com privacy pokemongo en for more information on how we collect use and disclose information from our users.'}}},\n",
       "  'response': {'model_id': 'mistralai/mistral-large',\n",
       "   'model_version': '2.0.0',\n",
       "   'created_at': '2025-10-01T07:20:22.827Z',\n",
       "   'results': [{'generated_text': \" To use certain features of the services, you must create an account. You can do this using:\\n\\n1. A pre-existing Google account\\n2. A pre-existing Pokémon Trainer Club (PTC) account\\n3. A pre-existing Facebook account\\n4. Other pre-existing third-party accounts that may be supported in the future\\n\\nThe account creation process will extract personal information like your email address from the linked account, as permitted by your privacy settings. You must keep your account information accurate and up-to-date. You are responsible for all activities under your account and must not share your password.\\n\\nFor children under 13, registration is handled through the Pokémon Trainer Club (PTC) with parental consent, in compliance with the Children's Online Privacy Protection Act (COPPA). Parents can rescind consent by contacting support. Information may be shared with third parties for service administration. See the\",\n",
       "     'generated_token_count': 200,\n",
       "     'input_token_count': 653,\n",
       "     'stop_reason': 'max_tokens'}],\n",
       "   'system': {'warnings': [{'message': 'This model is a Non-IBM Product governed by a third-party license that may impose use restrictions and other obligations. By using this model you agree to its terms as identified in the following URL.',\n",
       "      'id': 'disclaimer_warning',\n",
       "      'more_info': 'https://dataplatform.cloud.ibm.com/docs/content/wsj/analyze-data/fm-models.html?context=wx'},\n",
       "     {'message': \"Model 'mistralai/mistral-large' is in deprecated state from 2025-07-09. It will be in withdrawn state from 2025-10-08. IDs of alternative models: mistralai/mistral-medium-2505.\",\n",
       "      'id': 'deprecation_warning',\n",
       "      'more_info': 'https://dataplatform.cloud.ibm.com/docs/content/wsj/analyze-data/fm-model-lifecycle.html?context=wx&audience=wdp'},\n",
       "     {'message': 'In future implementation, the parameter `parameters.decoding_method` will be ignored and set automatically',\n",
       "      'id': 'param_deprecation'}]}}},\n",
       " {'request': {'parameters': {'template_variables': {'original_text': 'during game play please be aware of your surroundings and play safely. you agree that your use of the app and play of the game is at your own risk and it is your responsibility to maintain such health liability hazard personal injury medical life and other insurance policies as you deem reasonably necessary for any injuries that you may incur while using the services. you also agree not to use the app to violate any applicable law rule or regulation including but not limited to the laws of trespass or the trainer guidelines and you agree not to encourage or enable any other individual to violate any applicable law rule or regulation or the trainer guidelines. without limiting the foregoing you agree that in conjunction with your use of the app you will not inflict emotional distress on other people will not humiliate other people publicly or otherwise will not assault or threaten other people will not enter onto private property without permission will not impersonate any other person or misrepresent your affiliation title or authority and will not otherwise engage in any activity that may result in injury death property damage and or liability of any kind. to the extent permitted by applicable law niantic the pok\\\\u00e9mon company tpc and tpci disclaim all liability related to any property damage personal injury or death that may occur during your use of our services including any claims based on the violation of any applicable law rule or regulation or your alleged negligence or other tort liability. further in the event that you have a dispute with one or more other users of the app you release niantic tpc and tpci and our officers directors agents subsidiaries joint ventures and employees from all claims demands and damages actual and consequential of every kind and nature known and unknown suspected and unsuspected disclosed and undisclosed arising out of or in any way connected with such disputes.'}}},\n",
       "  'response': {'model_id': 'mistralai/mistral-large',\n",
       "   'model_version': '2.0.0',\n",
       "   'created_at': '2025-10-01T07:20:26.781Z',\n",
       "   'results': [{'generated_text': ' **Summary:**\\n\\n- **Play Safely:** Be aware of your surroundings while playing the game and use the app at your own risk. Maintain necessary insurance for potential injuries.\\n- **Follow Laws and Guidelines:** Do not use the app to violate any laws or regulations, including trespassing laws and trainer guidelines. Do not encourage others to do so.\\n- **Prohibited Activities:** Do not engage in activities that may cause emotional distress, humiliation, assault, threats, property damage, injury, death, or liability. Do not impersonate others or enter private property without permission.\\n- **Liability Disclaimer:** Niantic, The Pokémon Company (TPC), and The Pokémon Company International (TPCI) disclaim all liability related to property damage, personal injury, or death occurring during the use of their services.\\n- **Dispute Resolution:** In case of disputes with other users, you',\n",
       "     'generated_token_count': 200,\n",
       "     'input_token_count': 388,\n",
       "     'stop_reason': 'max_tokens'}],\n",
       "   'system': {'warnings': [{'message': 'This model is a Non-IBM Product governed by a third-party license that may impose use restrictions and other obligations. By using this model you agree to its terms as identified in the following URL.',\n",
       "      'id': 'disclaimer_warning',\n",
       "      'more_info': 'https://dataplatform.cloud.ibm.com/docs/content/wsj/analyze-data/fm-models.html?context=wx'},\n",
       "     {'message': \"Model 'mistralai/mistral-large' is in deprecated state from 2025-07-09. It will be in withdrawn state from 2025-10-08. IDs of alternative models: mistralai/mistral-medium-2505.\",\n",
       "      'id': 'deprecation_warning',\n",
       "      'more_info': 'https://dataplatform.cloud.ibm.com/docs/content/wsj/analyze-data/fm-model-lifecycle.html?context=wx&audience=wdp'},\n",
       "     {'message': 'In future implementation, the parameter `parameters.decoding_method` will be ignored and set automatically',\n",
       "      'id': 'param_deprecation'}]}}},\n",
       " {'request': {'parameters': {'template_variables': {'original_text': 'subject to your compliance with these terms niantic grants you a limited nonexclusive nontransferable non sublicensable license to download and install a copy of the app on a mobile device and to run such copy of the app solely for your own personal noncommercial purposes. except as expressly permitted in these terms you may not a copy modify or create derivative works based on the app b distribute transfer sublicense lease lend or rent the app to any third party c reverse engineer decompile or disassemble the app or d make the functionality of the app available to multiple users through any means. niantic reserves all rights in and to the app not expressly granted to you under these terms. if you accessed or downloaded the app from the apple store then you agree to use the app only a on an apple branded product or device that runs ios apple s proprietary operating system software and b as permitted by the usage rules set forth in the apple store terms of service. if you accessed or downloaded the app from any app store or distribution platform like the apple store google play or amazon appstore each an app provider then you acknowledge and agree that these terms are concluded between you and niantic and not with app provider and that as between us and the app provider niantic is solely responsible for the app. app provider has no obligation to furnish any maintenance and support services with respect to the app. in the event of any failure of the app to conform to any applicable warranty you may notify app provider and app provider will refund the purchase price for the app to you if applicable and to the maximum extent permitted by applicable law app provider will have no other warranty obligation whatsoever with respect to the app. any other claims losses liabilities damages costs or expenses attributable to any failure of an app to conform to any warranty will be the sole responsibility of niantic. app provider is not responsible for addressing any claims you have or any claims of any third party relating to the app or your possession and use of the app including but not limited to i product liability claims ii any claim that the app fails to conform to any applicable legal or regulatory requirement and iii claims arising under consumer protection or similar legislation. in the event of any third party claim that the app or your possession and use of the app infringes that third party s intellectual property rights niantic will be solely responsible for the investigation defense settlement and discharge of any such intellectual property infringement claim to the extent required by these terms. app provider and its subsidiaries are third party beneficiaries of these terms as related to your license of the app and that upon your acceptance of the terms and conditions of these terms app provider will have the right and will be deemed to have accepted the right to enforce these terms as related to your license of the app against you as a third party beneficiary thereof. you must also comply with all applicable third party terms of service when using the app. you agree to comply with all u s and foreign export laws and regulations to ensure that neither the app nor any technical data related thereto nor any direct product thereof is exported or re exported directly or indirectly in violation of or used for any purposes prohibited by such laws and regulations. by using the app you represent and warrant that i you are not located in a country that is subject to a u s government embargo or that has been designated by the u s government as a terrorist supporting country and ii you are not listed on any u s government list of prohibited or restricted parties.'}}},\n",
       "  'response': {'model_id': 'mistralai/mistral-large',\n",
       "   'model_version': '2.0.0',\n",
       "   'created_at': '2025-10-01T07:20:30.912Z',\n",
       "   'results': [{'generated_text': \" The text outlines the terms of use for a mobile app licensed by Niantic. Key points include:\\n\\n1. **License Grant**: Niantic allows users to download and install the app for personal, non-commercial use only.\\n2. **Restrictions**: Users cannot copy, modify, distribute, reverse engineer, or make the app available to multiple users.\\n3. **Reservation of Rights**: Niantic retains all rights not expressly granted to users.\\n4. **App Store Terms**: If downloaded from an app store, users agree to use the app as permitted by the store's terms of service.\\n5. **Responsibility**: Niantic is responsible for the app, not the app store providers.\\n6. **Export Laws**: Users must comply with all applicable export laws and regulations.\\n7. **Representation and Warranty**: Users warrant that they are not in a country subject to\",\n",
       "     'generated_token_count': 200,\n",
       "     'input_token_count': 739,\n",
       "     'stop_reason': 'max_tokens'}],\n",
       "   'system': {'warnings': [{'message': 'This model is a Non-IBM Product governed by a third-party license that may impose use restrictions and other obligations. By using this model you agree to its terms as identified in the following URL.',\n",
       "      'id': 'disclaimer_warning',\n",
       "      'more_info': 'https://dataplatform.cloud.ibm.com/docs/content/wsj/analyze-data/fm-models.html?context=wx'},\n",
       "     {'message': \"Model 'mistralai/mistral-large' is in deprecated state from 2025-07-09. It will be in withdrawn state from 2025-10-08. IDs of alternative models: mistralai/mistral-medium-2505.\",\n",
       "      'id': 'deprecation_warning',\n",
       "      'more_info': 'https://dataplatform.cloud.ibm.com/docs/content/wsj/analyze-data/fm-model-lifecycle.html?context=wx&audience=wdp'},\n",
       "     {'message': 'In future implementation, the parameter `parameters.decoding_method` will be ignored and set automatically',\n",
       "      'id': 'param_deprecation'}]}}},\n",
       " {'request': {'parameters': {'template_variables': {'original_text': 'for purposes of these terms a content means the text software scripts graphics photos sounds music videos audiovisual combinations interactive features works of authorship of any kind and information or other materials that are posted generated provided or otherwise made available through the services and b user content means any content that account holders including you provide to be made available through the services. content includes without limitation user content. subject to your compliance with these terms niantic grants you a personal noncommercial nonexclusive nontransferable non sublicensable revocable license to download view display and use the content solely in connection with your permitted use of the services. content ownershipniantic does not claim any ownership rights in any user content and nothing in these terms will be deemed to restrict any rights that you may have to use and exploit your user content. subject to the foregoing niantic and its licensors including tpc and tpci exclusively own all right title and interest in and to the services and content including all associated intellectual property rights. you acknowledge that the services and content are protected by copyright trademark and other laws of the united states and foreign countries. you agree not to remove alter or obscure any copyright trademark service mark or other proprietary rights notices incorporated in or accompanying the services or content. rights granted by youby making any user content available through services you grant to niantic a nonexclusive perpetual irrevocable transferable sublicensable worldwide royalty free license to use copy modify create derivative works based upon publicly display publicly perform and distribute your user content in connection with operating and providing the services and content to you and to other account holders. you are solely responsible for all your user content. you represent and warrant that you own all your user content or you have all rights that are necessary to grant us the license rights in your user content under these terms. you also represent and warrant that neither your user content nor your use and provision of your user content to be made available through the services nor any use of your user content by niantic on or through the services will infringe misappropriate or violate a third party s intellectual property rights or rights of publicity or privacy or result in the violation of any applicable law or regulation. niantic may reject any submissions in which niantic believes in its sole discretion that the user content is inappropriate or violates the trainer guidelines or these terms. niantic further reserves the right to remove any user content from the services at any time and without notice and for any reason.'}}},\n",
       "  'response': {'model_id': 'mistralai/mistral-large',\n",
       "   'model_version': '2.0.0',\n",
       "   'created_at': '2025-10-01T07:20:34.696Z',\n",
       "   'results': [{'generated_text': \" **Summary:**\\n\\n- **Content**: Text, software, graphics, photos, sounds, music, videos, etc. shared via the services.\\n- **User Content**: Content provided by account holders.\\n- **License**: Niantic grants users a personal, non-commercial, revocable license to use content in connection with the services.\\n- **Ownership**: Niantic doesn't claim rights in user content, but users grant Niantic a worldwide, royalty-free license to use their content. Niantic and its licensors own all rights to the services and content.\\n- **Responsibility**: Users are responsible for their content and warrant that it doesn't infringe upon others' rights or violate laws.\\n- **Niantic's Rights**: Niantic can reject or remove user content at its discretion.\",\n",
       "     'generated_token_count': 183,\n",
       "     'input_token_count': 532,\n",
       "     'stop_reason': 'eos_token'}],\n",
       "   'system': {'warnings': [{'message': 'This model is a Non-IBM Product governed by a third-party license that may impose use restrictions and other obligations. By using this model you agree to its terms as identified in the following URL.',\n",
       "      'id': 'disclaimer_warning',\n",
       "      'more_info': 'https://dataplatform.cloud.ibm.com/docs/content/wsj/analyze-data/fm-models.html?context=wx'},\n",
       "     {'message': \"Model 'mistralai/mistral-large' is in deprecated state from 2025-07-09. It will be in withdrawn state from 2025-10-08. IDs of alternative models: mistralai/mistral-medium-2505.\",\n",
       "      'id': 'deprecation_warning',\n",
       "      'more_info': 'https://dataplatform.cloud.ibm.com/docs/content/wsj/analyze-data/fm-model-lifecycle.html?context=wx&audience=wdp'},\n",
       "     {'message': 'In future implementation, the parameter `parameters.decoding_method` will be ignored and set automatically',\n",
       "      'id': 'param_deprecation'}]}}},\n",
       " {'request': {'parameters': {'template_variables': {'original_text': 'the app permits account holders to capture and trade virtual items including but not limited to pok\\\\u00e9mon characters or creatures trading items during gameplay. unlike virtual money and virtual goods see below trading items are obtained at no additional charge during gameplay. trading items are a category of content and niantic grants you a limited nontransferable non sublicensable revocable license to use such trading items in conjunction with your personal noncommercial use of the services. you acknowledge that you do not acquire any ownership rights in or to trading items and that trading items do not have monetary value. trading items may be traded with other account holders for other trading items but trading items can never be sold transferred or exchanged for virtual money virtual goods real goods real money or real services or any other compensation or consideration from us or anyone else. you also agree that you will only obtain trading items from other account holders and through means provided by us and not from or through any third party platform exchange broker or other mechanism unless expressly authorized. we may cancel any trading items sold transferred or exchanged in violation of these terms. any such sale transfer or exchange or attempt to do so is prohibited and may result in the termination of your account. as set forth below all trading items and other content are provided as is without any warranty.'}}},\n",
       "  'response': {'model_id': 'mistralai/mistral-large',\n",
       "   'model_version': '2.0.0',\n",
       "   'created_at': '2025-10-01T07:20:37.393Z',\n",
       "   'results': [{'generated_text': ' The app allows users to capture and trade virtual items like Pokémon characters during gameplay, with no additional cost. These trading items can only be used within the app and have no real-world monetary value. Users can trade these items with others, but they cannot be sold or exchanged for real or virtual money, goods, or services. Trading items must be obtained through the app and not from third-party platforms. Violating these terms may result in account termination. All trading items are provided \"as is\" without warranty.',\n",
       "     'generated_token_count': 113,\n",
       "     'input_token_count': 288,\n",
       "     'stop_reason': 'eos_token'}],\n",
       "   'system': {'warnings': [{'message': 'This model is a Non-IBM Product governed by a third-party license that may impose use restrictions and other obligations. By using this model you agree to its terms as identified in the following URL.',\n",
       "      'id': 'disclaimer_warning',\n",
       "      'more_info': 'https://dataplatform.cloud.ibm.com/docs/content/wsj/analyze-data/fm-models.html?context=wx'},\n",
       "     {'message': \"Model 'mistralai/mistral-large' is in deprecated state from 2025-07-09. It will be in withdrawn state from 2025-10-08. IDs of alternative models: mistralai/mistral-medium-2505.\",\n",
       "      'id': 'deprecation_warning',\n",
       "      'more_info': 'https://dataplatform.cloud.ibm.com/docs/content/wsj/analyze-data/fm-model-lifecycle.html?context=wx&audience=wdp'},\n",
       "     {'message': 'In future implementation, the parameter `parameters.decoding_method` will be ignored and set automatically',\n",
       "      'id': 'param_deprecation'}]}}},\n",
       " {'request': {'parameters': {'template_variables': {'original_text': 'we may cancel suspend or terminate your account and your access to your trading items virtual money virtual goods the content or the services in our sole discretion and without prior notice including if a your account is inactive i e not used or logged into for one year b you fail to comply with these terms c we suspect fraud or misuse by you of trading items virtual money virtual goods or other content d we suspect any other unlawful activity associated with your account or e we are acting to protect the services our systems the app any of our users or the reputation of niantic tpc or tpci. we have no obligation or responsibility to and will not reimburse or refund you for any trading items virtual money or virtual goods lost due to such cancellation suspension or termination. you acknowledge that niantic is not required to provide a refund for any reason and that you will not receive money or other compensation for unused virtual money and virtual goods when your account is closed whether such closure was voluntary or involuntary. we have the right to offer modify eliminate and or terminate trading items virtual money virtual goods the content and or the services or any portion thereof at any time without notice or liability to you. if we discontinue the use of virtual money or virtual goods we will provide at least 60 days advance notice to you by posting a notice on the site or app or through other communications.'}}},\n",
       "  'response': {'model_id': 'mistralai/mistral-large',\n",
       "   'model_version': '2.0.0',\n",
       "   'created_at': '2025-10-01T07:20:42.213Z',\n",
       "   'results': [{'generated_text': ' In summary, the content outlines the following key points:\\n\\n1. **Account Termination/Suspension:**\\n   - Your account and access to associated services can be canceled, suspended, or terminated at the discretion of the service provider without prior notice for reasons such as:\\n     - Account inactivity for a year.\\n     - Non-compliance with terms.\\n     - Suspected fraud or misuse.\\n     - Suspected unlawful activity.\\n     - Protection of services, systems, users, or company reputation.\\n\\n2. **No Refunds:**\\n   - There is no obligation to reimburse or refund you for any lost trading items, virtual money, or virtual goods due to account termination.\\n   - Refunds are not provided for any reason, and you will not receive compensation for unused virtual money or goods when your account is closed.\\n\\n3. **Service Modification',\n",
       "     'generated_token_count': 200,\n",
       "     'input_token_count': 297,\n",
       "     'stop_reason': 'max_tokens'}],\n",
       "   'system': {'warnings': [{'message': 'This model is a Non-IBM Product governed by a third-party license that may impose use restrictions and other obligations. By using this model you agree to its terms as identified in the following URL.',\n",
       "      'id': 'disclaimer_warning',\n",
       "      'more_info': 'https://dataplatform.cloud.ibm.com/docs/content/wsj/analyze-data/fm-models.html?context=wx'},\n",
       "     {'message': \"Model 'mistralai/mistral-large' is in deprecated state from 2025-07-09. It will be in withdrawn state from 2025-10-08. IDs of alternative models: mistralai/mistral-medium-2505.\",\n",
       "      'id': 'deprecation_warning',\n",
       "      'more_info': 'https://dataplatform.cloud.ibm.com/docs/content/wsj/analyze-data/fm-model-lifecycle.html?context=wx&audience=wdp'},\n",
       "     {'message': 'In future implementation, the parameter `parameters.decoding_method` will be ignored and set automatically',\n",
       "      'id': 'param_deprecation'}]}}},\n",
       " {'request': {'parameters': {'template_variables': {'original_text': 'the app permits the purchase of virtual currency virtual money and use of that virtual money to purchase virtual items or services that we expressly make available for use in the app virtual goods. the purchase of virtual money and virtual goods is limited to account holders who are either a 18 years of age or older or b under the age of 18 and have the consent of a parent to make the purchase. parents of children under the age of 18 can consult the ios or google play settings for their app to restrict in app purchases but should also monitor their children s accounts for unexpected activity including the purchase of virtual money or virtual goods. purchases of virtual money and virtual goodsvirtual money is a category of content so the purchase of virtual money grants you only a limited nontransferable non sublicensable revocable license to use such virtual money to access and purchase virtual goods in conjunction with your personal noncommercial use of the services. you acknowledge that you do not acquire any ownership rights in or to the virtual money virtual goods or other content any balance of virtual goods or virtual money does not reflect any stored value. you agree that virtual money and virtual goods have no monetary value and do not constitute actual currency or property of any type. virtual money may be redeemed only for virtual goods and can never be sold transferred or exchanged for real money real goods or real services from us or anyone else. you also agree that you will only obtain virtual money and or virtual goods from us and through means provided by us and not from any third party platform exchange broker or other mechanism unless expressly authorized. once you acquire a license to virtual money or virtual goods you may not trade or transfer the virtual money or virtual goods to another individual or account unless such functionality is provided to you by us by way of a feature or service whether inside the app or through some other method e g our website. we may cancel any virtual money or virtual goods sold transferred or exchanged in violation of these terms. any such sale transfer or exchange or attempt to do so is prohibited and may result in the termination of your account. during the term of your license to your virtual money you have the right to redeem your virtual money for selected virtual goods. if you are the parent and you are accepting these terms on behalf of your child you accept and acknowledge that your child has your consent to exercise this right independently. pricing and availability of virtual money and virtual goods are subject to change without notice. we reserve the right at any time to change and update our pricing and inventory of virtual money and virtual goods. as set forth below all virtual money virtual goods and other content is provided as is without any warranty. you agree that all sales by us to you of virtual money and virtual goods are final and that we will not permit exchanges or refunds for any unused virtual money or virtual goods once the transaction has been made. purchases by end users outside the u s virtual money and virtual goods may only be purchased and held by legal residents of countries where access to and use of the services are permitted. if you live in the european union you have certain rights to withdraw from online purchases. however please note that once you download virtual money from us your right of withdrawal ends. you agree that a purchase of virtual money involves immediate download of such content and b you lose your right of withdrawal once your purchase is complete. if you live in the european union we will provide you with a vat invoice when we are required to do so by law. you agree that these invoices may be electronic in format. we reserve the right to control regulate change or remove any virtual money or virtual goods without any liability to you.'}}},\n",
       "  'response': {'model_id': 'mistralai/mistral-large',\n",
       "   'model_version': '2.0.0',\n",
       "   'created_at': '2025-10-01T07:20:46.385Z',\n",
       "   'results': [{'generated_text': ' The app allows users to buy virtual currency (virtual money) and use it to purchase virtual items or services within the app. Only account holders who are 18 or older, or minors with parental consent, can make these purchases. Parents can restrict in-app purchases via iOS or Google Play settings. Virtual money and goods have no real-world value, cannot be exchanged for real money or goods, and are non-transferable except through app features. Pricing and availability can change without notice. All sales are final, and no refunds are permitted. Users outside the U.S. can only purchase and hold virtual money and goods if they reside in countries where the service is permitted. EU residents lose their right of withdrawal once the purchase is complete. The app reserves the right to control, regulate, change, or remove virtual money or goods without liability.',\n",
       "     'generated_token_count': 183,\n",
       "     'input_token_count': 764,\n",
       "     'stop_reason': 'eos_token'}],\n",
       "   'system': {'warnings': [{'message': 'This model is a Non-IBM Product governed by a third-party license that may impose use restrictions and other obligations. By using this model you agree to its terms as identified in the following URL.',\n",
       "      'id': 'disclaimer_warning',\n",
       "      'more_info': 'https://dataplatform.cloud.ibm.com/docs/content/wsj/analyze-data/fm-models.html?context=wx'},\n",
       "     {'message': \"Model 'mistralai/mistral-large' is in deprecated state from 2025-07-09. It will be in withdrawn state from 2025-10-08. IDs of alternative models: mistralai/mistral-medium-2505.\",\n",
       "      'id': 'deprecation_warning',\n",
       "      'more_info': 'https://dataplatform.cloud.ibm.com/docs/content/wsj/analyze-data/fm-model-lifecycle.html?context=wx&audience=wdp'},\n",
       "     {'message': 'In future implementation, the parameter `parameters.decoding_method` will be ignored and set automatically',\n",
       "      'id': 'param_deprecation'}]}}},\n",
       " {'request': {'parameters': {'template_variables': {'original_text': 'you agree that you are responsible for your own conduct and user content while using the services and for any consequences thereof. please refer to our trainer guidelines https pokemongo nianticlabs com support guidelines en for information about the kinds of conduct and user content that are prohibited while using the services. by way of example and not as a limitation you agree that when using the services and content you will not defame abuse harass harm stalk threaten or otherwise violate the legal rights including the rights of privacy and publicity of others upload post email transmit or otherwise make available any unlawful inappropriate defamatory obscene pornographic vulgar offensive fraudulent false misleading or deceptive content or message promote or engage in discrimination bigotry racism hatred or harassment against any individual or group trespass or in any manner attempt to gain or gain access to any property or location where you do not have a right or permission to be violate or encourage any conduct that would violate any applicable law or regulation or would give rise to civil liability upload post or otherwise make available commercial messages or advertisements pyramid schemes or other disruptive notices impersonate or misrepresent your affiliation with another person or entity promote or provide instructional information about illegal or harmful activities or substances promote or engage in physical harm violence or injury against any group or individual transmit any viruses worms defects trojan horses or any items of a destructive nature submit fake falsified misleading or inappropriate data submissions edits or removals post upload publish submit or transmit any content that infringes misappropriates or violates a third party s patent copyright trademark trade secret moral rights or other intellectual property rights or rights of publicity or privacy use display mirror or frame the services or any individual element within the services niantic s name any niantic trademark logo or other proprietary information or the layout and design of any page or form contained on a page without niantic s express written consent access tamper with or use nonpublic areas of the services niantic s computer systems or the technical delivery systems of niantic s providers attempt to probe scan or test the vulnerability of any niantic system or network or breach any security or authentication measures avoid bypass remove deactivate impair descramble or otherwise circumvent any technological measure implemented by niantic or any of niantic s providers or any other third party including another user to protect the services or content attempt to access or search the services or content or download content from the services through the use of any technology or means other than those provided by niantic or other generally available third party web browsers including without limitation automation software bots spiders crawlers data mining tools or hacks tools agents engines or devices of any kind extract scrape index copy or mirror the services or content or portions thereof including but not limited to the pok\\\\u00e9stop database and other information about users or gameplay use any meta tags or other hidden text or metadata utilizing a niantic trademark logo url or product name without niantic s express written consent forge any tcp ip packet header or any part of the header information in any email or newsgroup posting or in any way use the services or content to send altered deceptive or false source identifying information attempt to decipher decompile disassemble or reverse engineer any of the software used to provide the services or content interfere with or attempt to interfere with the access of any user host or network including without limitation sending a virus overloading flooding spamming or mail bombing the services take any action that imposes or may impose an unreasonable or disproportionately large load on the services or niantic s infrastructure delete obscure or in any manner alter any attribution warning or link that appears in the services or the content use the services or content or any portion thereof for any commercial purpose or for the benefit of any third party or in a manner not permitted by these terms including but not limited to a gathering in app items or resources for sale outside the app b performing services in the app in exchange for payment outside the app or c sell resell rent or lease the app or your account collect or store any personally identifiable information from the services from other users of the services without their express permission violate any applicable law or regulation orencourage or enable any other individual to do any of the foregoing. although we re not obligated to monitor access to or use of the services or content or to review or edit any content we have the right to do so for the purpose of operating the services to ensure compliance with these terms and to comply with applicable law or other legal requirements. we reserve the right but are not obligated to remove or disable access to any content at any time and without notice including but not limited to if we at our sole discretion consider any content to be objectionable or in violation of these terms. we have the right to investigate violations of these terms or conduct that affects the services. we may also consult and cooperate with law enforcement authorities to prosecute users who violate the law.'}}},\n",
       "  'response': {'model_id': 'mistralai/mistral-large',\n",
       "   'model_version': '2.0.0',\n",
       "   'created_at': '2025-10-01T07:20:50.339Z',\n",
       "   'results': [{'generated_text': \" **Summary:**\\n\\nYou agree to be responsible for your conduct and content while using Niantic's services and to comply with their trainer guidelines. Prohibited actions include:\\n\\n1. **Harmful or Inappropriate Content:** Defaming, abusing, harassing, or violating others' rights; posting unlawful, inappropriate, or harmful content.\\n2. **Discrimination & Harassment:** Promoting discrimination, bigotry, racism, hatred, or harassment.\\n3. **Illegal Activities:** Violating laws, promoting illegal activities, or physically harming others.\\n4. **Malicious Software:** Transmitting viruses, worms, or other harmful items.\\n5. **Intellectual Property Infringement:** Violating others' intellectual property rights.\\n6. **Unauthorized Access:** Accessing non-public areas, tampering with systems, or breaching\",\n",
       "     'generated_token_count': 200,\n",
       "     'input_token_count': 1074,\n",
       "     'stop_reason': 'max_tokens'}],\n",
       "   'system': {'warnings': [{'message': 'This model is a Non-IBM Product governed by a third-party license that may impose use restrictions and other obligations. By using this model you agree to its terms as identified in the following URL.',\n",
       "      'id': 'disclaimer_warning',\n",
       "      'more_info': 'https://dataplatform.cloud.ibm.com/docs/content/wsj/analyze-data/fm-models.html?context=wx'},\n",
       "     {'message': \"Model 'mistralai/mistral-large' is in deprecated state from 2025-07-09. It will be in withdrawn state from 2025-10-08. IDs of alternative models: mistralai/mistral-medium-2505.\",\n",
       "      'id': 'deprecation_warning',\n",
       "      'more_info': 'https://dataplatform.cloud.ibm.com/docs/content/wsj/analyze-data/fm-model-lifecycle.html?context=wx&audience=wdp'},\n",
       "     {'message': 'In future implementation, the parameter `parameters.decoding_method` will be ignored and set automatically',\n",
       "      'id': 'param_deprecation'}]}}},\n",
       " {'request': {'parameters': {'template_variables': {'original_text': 'we welcome feedback comments and suggestions for improvements to the services feedback. you can submit feedback by reaching out to us on facebook twitter or google. you grant to us a nonexclusive worldwide perpetual irrevocable fully paid royalty free sublicensable and transferable license under any and all intellectual property rights that you own or control to use copy modify create derivative works based upon and otherwise exploit the feedback for any purpose.'}}},\n",
       "  'response': {'model_id': 'mistralai/mistral-large',\n",
       "   'model_version': '2.0.0',\n",
       "   'created_at': '2025-10-01T07:20:52.627Z',\n",
       "   'results': [{'generated_text': \" You're welcome to share feedback, comments, and suggestions for service improvements. You can do this by contacting us on Facebook, Twitter, or Google. By providing feedback, you grant us a non-exclusive, worldwide, perpetual, irrevocable, fully-paid, royalty-free, sublicensable, and transferable license to use, copy, modify, create derivative works based on, and otherwise exploit the feedback for any purpose.\",\n",
       "     'generated_token_count': 97,\n",
       "     'input_token_count': 101,\n",
       "     'stop_reason': 'eos_token'}],\n",
       "   'system': {'warnings': [{'message': 'This model is a Non-IBM Product governed by a third-party license that may impose use restrictions and other obligations. By using this model you agree to its terms as identified in the following URL.',\n",
       "      'id': 'disclaimer_warning',\n",
       "      'more_info': 'https://dataplatform.cloud.ibm.com/docs/content/wsj/analyze-data/fm-models.html?context=wx'},\n",
       "     {'message': \"Model 'mistralai/mistral-large' is in deprecated state from 2025-07-09. It will be in withdrawn state from 2025-10-08. IDs of alternative models: mistralai/mistral-medium-2505.\",\n",
       "      'id': 'deprecation_warning',\n",
       "      'more_info': 'https://dataplatform.cloud.ibm.com/docs/content/wsj/analyze-data/fm-model-lifecycle.html?context=wx&audience=wdp'},\n",
       "     {'message': 'In future implementation, the parameter `parameters.decoding_method` will be ignored and set automatically',\n",
       "      'id': 'param_deprecation'}]}}}]"
      ]
     },
     "execution_count": 48,
     "metadata": {},
     "output_type": "execute_result"
    }
   ],
   "source": [
    "import csv\n",
    "\n",
    "feature_fields = [\"original_text\"]\n",
    "prediction = \"generated_text\"\n",
    "\n",
    "headers={}\n",
    "headers[\"Content-Type\"] = \"application/json\"\n",
    "headers[\"Accept\"] = \"*/*\"\n",
    "headers[\"Authorization\"] = \"Bearer {}\".format(iam_access_token)\n",
    "\n",
    "pl_data = []\n",
    "prediction_list = []\n",
    "with open(test_data_path, 'r') as csv_file:\n",
    "    csv_reader = csv.DictReader(csv_file)\n",
    "    for row in csv_reader:\n",
    "        request = {\n",
    "            \"parameters\": {\n",
    "                \"template_variables\": {\n",
    "                }\n",
    "            }\n",
    "        }\n",
    "        for each in feature_fields:\n",
    "            request[\"parameters\"][\"template_variables\"][each] = str(row[each])\n",
    "\n",
    "        response = requests.post(scoring_url, json=request, headers=headers, verify=False).json()\n",
    "        predicted_val = response[\"results\"][0][prediction]\n",
    "        prediction_list.append(predicted_val)\n",
    "        record = {\"request\":request, \"response\":response}\n",
    "        pl_data.append(record)\n",
    "    \n",
    "pl_data"
   ]
  },
  {
   "cell_type": "markdown",
   "metadata": {},
   "source": [
    "### Generating additional payload data to enable drift"
   ]
  },
  {
   "cell_type": "markdown",
   "metadata": {},
   "source": [
    "To enable drift there should be minimum 100 records in the payload table. The below cell duplicates the scored records and create another 100 records for adding to the payload table"
   ]
  },
  {
   "cell_type": "code",
   "execution_count": 49,
   "metadata": {
    "ExecuteTime": {
     "end_time": "2024-09-18T13:44:44.032745Z",
     "start_time": "2024-09-18T13:44:44.029743Z"
    }
   },
   "outputs": [
    {
     "name": "stdout",
     "output_type": "stream",
     "text": [
      "Generated 100 additional payload data\n"
     ]
    }
   ],
   "source": [
    "import copy\n",
    "\n",
    "additional_pl_data = copy.copy(pl_data)\n",
    "additional_pl_data *= 10\n",
    "print(\"Generated {} additional payload data\".format(len(additional_pl_data)))"
   ]
  },
  {
   "cell_type": "markdown",
   "metadata": {},
   "source": [
    "### Adding payload data\n",
    "\n",
    "Below cell reads the payload data set id from the subscription. "
   ]
  },
  {
   "cell_type": "code",
   "execution_count": 50,
   "metadata": {
    "ExecuteTime": {
     "end_time": "2024-09-18T13:44:55.738562Z",
     "start_time": "2024-09-18T13:44:48.954046Z"
    }
   },
   "outputs": [
    {
     "name": "stdout",
     "output_type": "stream",
     "text": [
      "Payload data set id:  01999ea4-578b-752e-a7bf-372d47f82fa4\n"
     ]
    }
   ],
   "source": [
    "import time\n",
    "from ibm_watson_openscale.supporting_classes.enums import *\n",
    "\n",
    "time.sleep(5)\n",
    "payload_data_set_id = None\n",
    "payload_data_set_id = wos_client.data_sets.list(type=DataSetTypes.PAYLOAD_LOGGING, \n",
    "                                                target_target_id=prod_subscription_id, \n",
    "                                                target_target_type=TargetTypes.SUBSCRIPTION).result.data_sets[0].metadata.id\n",
    "if payload_data_set_id is None:\n",
    "    print(\"Payload data set not found. Please check subscription status.\")\n",
    "else:\n",
    "    print(\"Payload data set id: \", payload_data_set_id)"
   ]
  },
  {
   "cell_type": "markdown",
   "metadata": {},
   "source": [
    "Add additioanl payload data to enable drift V2"
   ]
  },
  {
   "cell_type": "code",
   "execution_count": 51,
   "metadata": {
    "ExecuteTime": {
     "end_time": "2024-09-18T13:45:20.595367Z",
     "start_time": "2024-09-18T13:44:57.368185Z"
    }
   },
   "outputs": [
    {
     "name": "stdout",
     "output_type": "stream",
     "text": [
      "\n",
      "\n",
      "==========================================================================================\n",
      "\n",
      " Waiting for end of storing records with request id: dbafb91b-51f3-4316-b254-c3408aa79b1b \n",
      "\n",
      "==========================================================================================\n",
      "\n",
      "\n",
      "\n",
      "pending...\n",
      "active\n",
      "\n",
      "---------------------------------------\n",
      " Successfully finished storing records \n",
      "---------------------------------------\n",
      "\n",
      "\n",
      "Number of records in the payload logging table: 100\n"
     ]
    }
   ],
   "source": [
    "wos_client.data_sets.store_records(data_set_id=payload_data_set_id, request_body=additional_pl_data,background_mode=False)\n",
    "time.sleep(5)\n",
    "pl_records_count = wos_client.data_sets.get_records_count(payload_data_set_id)\n",
    "print(\"Number of records in the payload logging table: {}\".format(pl_records_count))"
   ]
  },
  {
   "cell_type": "markdown",
   "metadata": {},
   "source": [
    "Now a total of 110 records should be available within the payload table. But in case if auto payload logging fails to transmit the scored records to the payload logging table, the following code can be used to manually add payload data to the table."
   ]
  },
  {
   "cell_type": "code",
   "execution_count": 52,
   "metadata": {
    "ExecuteTime": {
     "end_time": "2024-09-18T13:45:32.120665Z",
     "start_time": "2024-09-18T13:45:25.988307Z"
    }
   },
   "outputs": [
    {
     "name": "stdout",
     "output_type": "stream",
     "text": [
      "Number of records in the payload logging table: 100\n",
      "Payload logging did not happen, performing explicit payload logging.\n",
      "\n",
      "\n",
      "==========================================================================================\n",
      "\n",
      " Waiting for end of storing records with request id: 92f620e6-1d7e-44ec-9295-e63917c70b59 \n",
      "\n",
      "==========================================================================================\n",
      "\n",
      "\n",
      "\n",
      "pending\n",
      "active\n",
      "\n",
      "---------------------------------------\n",
      " Successfully finished storing records \n",
      "---------------------------------------\n",
      "\n",
      "\n",
      "Number of records in the payload logging table: 110\n"
     ]
    }
   ],
   "source": [
    "import uuid\n",
    "from ibm_watson_openscale.supporting_classes.payload_record import PayloadRecord\n",
    "time.sleep(5)\n",
    "pl_records_count = wos_client.data_sets.get_records_count(payload_data_set_id)\n",
    "print(\"Number of records in the payload logging table: {}\".format(pl_records_count))\n",
    "if pl_records_count < 110:\n",
    "    print(\"Payload logging did not happen, performing explicit payload logging.\")\n",
    "    wos_client.data_sets.store_records(data_set_id=payload_data_set_id, request_body=pl_data,background_mode=False)\n",
    "    time.sleep(5)\n",
    "    pl_records_count = wos_client.data_sets.get_records_count(payload_data_set_id)\n",
    "    print(\"Number of records in the payload logging table: {}\".format(pl_records_count))"
   ]
  },
  {
   "cell_type": "markdown",
   "metadata": {},
   "source": [
    "### Adding feedback data\n",
    "\n",
    "Below cell reads the feedback data set id from the subscription. "
   ]
  },
  {
   "cell_type": "code",
   "execution_count": 53,
   "metadata": {
    "ExecuteTime": {
     "end_time": "2024-09-18T13:45:40.188311Z",
     "start_time": "2024-09-18T13:45:34.186045Z"
    }
   },
   "outputs": [
    {
     "name": "stdout",
     "output_type": "stream",
     "text": [
      "Feedback data set id:  01999ea4-6645-7e25-b87f-d28f27ca0ab8\n"
     ]
    }
   ],
   "source": [
    "import time\n",
    "from ibm_watson_openscale.supporting_classes.enums import *\n",
    "\n",
    "time.sleep(5)\n",
    "feedback_data_set_id = None\n",
    "feedback_data_set_id = wos_client.data_sets.list(type=DataSetTypes.FEEDBACK, \n",
    "                                                target_target_id=prod_subscription_id, \n",
    "                                                target_target_type=TargetTypes.SUBSCRIPTION).result.data_sets[0].metadata.id\n",
    "if feedback_data_set_id is None:\n",
    "    print(\"Feedback data set not found. Please check subscription status.\")\n",
    "else:\n",
    "    print(\"Feedback data set id: \", feedback_data_set_id)"
   ]
  },
  {
   "cell_type": "markdown",
   "metadata": {},
   "source": [
    "The provided code generates feedback data based on the downloaded CSV file and the scored response."
   ]
  },
  {
   "cell_type": "code",
   "execution_count": 55,
   "metadata": {
    "ExecuteTime": {
     "end_time": "2024-09-18T13:47:45.093273Z",
     "start_time": "2024-09-18T13:47:45.087340Z"
    }
   },
   "outputs": [
    {
     "name": "stdout",
     "output_type": "stream",
     "text": [
      "generated feedback data from CSV\n"
     ]
    }
   ],
   "source": [
    "import csv\n",
    "\n",
    "test_data_content = []\n",
    "csv_file_path = \"summarisation.csv\"\n",
    "\n",
    "with open(csv_file_path, 'r') as csv_file:\n",
    "    csv_reader = csv.DictReader(csv_file)\n",
    "    for row, prediction_val in zip(csv_reader, prediction_list):\n",
    "\n",
    "        # Read each row from the CSV and add label and prediction values\n",
    "        result_row = []\n",
    "        result_row = [row[key] for key in feature_fields if key in row]\n",
    "        result_row.append(row[label_column])\n",
    "        result_row.append(prediction_val)\n",
    "        test_data_content.append(result_row)\n",
    "\n",
    "if len(test_data_content) == 10: # 10 records are there in the downloaded CSV\n",
    "    print(\"generated feedback data from CSV\")\n",
    "else:\n",
    "    print(\"Failed to generated feedback data from CSV, Kindly verify the CSV file content\")"
   ]
  },
  {
   "cell_type": "code",
   "execution_count": 56,
   "metadata": {
    "ExecuteTime": {
     "end_time": "2024-09-18T13:48:30.997651Z",
     "start_time": "2024-09-18T13:48:30.993429Z"
    }
   },
   "outputs": [
    {
     "data": {
      "text/plain": [
       "[{'fields': ['original_text', 'reference_summary', '_original_prediction'],\n",
       "  'values': [['by using our services you are agreeing to these terms our trainer guidelines and our privacy policy. if you are the parent or legal guardian of a child under the age of 13 the parent you are agreeing to these terms on behalf of yourself and your child ren who are authorized to use the services pursuant to these terms and in our privacy policy. if you don t agree to these terms our trainer guidelines and our privacy policy do not use the services.',\n",
       "    'by playing this game you agree to these terms. if you re under 13 and playing your parent guardian agrees on your behalf.',\n",
       "    \" By using our services, you agree to our Terms, Trainer Guidelines, and Privacy Policy. If you're a parent or legal guardian of a child under 13, you're agreeing to these terms on behalf of yourself and your child(ren) who are authorized to use the services. If you don't agree to these terms, guidelines, and policy, please do not use the services.\"],\n",
       "   ['if you want to use certain features of the services you will have to create an account with us an account. you can create an account if you have a a pre existing google account b a pre existing pok\\\\u00e9mon trainer club ptc account c a pre existing account with facebook or d such other pre existing third party accounts as we may choose to support in the future notification of which will be provided by allowing selection of such pre existing accounts on the relevant account creation screen. we will create your account by extracting from your google ptc facebook or other pre existing third party account certain personal information such as your email address that your privacy settings on the applicable account permit us to access. it s important that you provide us with accurate complete and up to date information for your account and you agree to update such information as needed to keep it accurate complete and up to date. if you don t we might have to suspend or terminate your account. you agree that you won t disclose your account password to anyone and you ll notify us immediately of any unauthorized use of your account. you re responsible for all activities that occur under your account whether or not you know about them. registration by childrenwe comply with the children s online privacy protection act coppa through the verification and consent process handled by ptc. if you are over the age of 13 and register to create an account through ptc ptc will enable you to access and use the services. the parent of each child under the age of 13 must register with the pok\\\\u00e9mon company international inc tpci through ptc before a child may use the services. tpci requires the parent to verify that he or she is the parent of the child and to consent to the creation of an account with us for the child. upon receipt of both parental verification and consent tpci will enable the parent to create an account with us for the child. if a parent does not consent to a child s access to and use of the services or does not verify the parent s consent through the consent process niantic will bar that child s registration for an account prevent the child s access to and use of the services and ensure that such child s information is not accessible through the services. if a parent has consented to a child s access to and use of the services but wishes to rescind such consent the parent should contact us at https pokemongo nianticlabs com support delete en to submit the request. we will discontinue that child s access to and use of the services and ensure that such child s information is no longer accessible through the services. parents of children under the age of 13 understand and agree that tpci and or niantic may provide information submitted to tpci and or niantic or collected via the services to third parties who use such information for the sole purpose of administering or providing services e g third party security monitoring services and web hosting companies. please see our privacy policy available athttp www nianticlabs com privacy pokemongo en for more information on how we collect use and disclose information from our users.',\n",
       "    'you have to use google pokemon trainer club or facebook to sign up and play. if you re under 13 your parent guardian has to do this for you. we might ban your account if your information is inaccurate.',\n",
       "    \" To use certain features of the services, you must create an account. You can do this using:\\n\\n1. A pre-existing Google account\\n2. A pre-existing Pokémon Trainer Club (PTC) account\\n3. A pre-existing Facebook account\\n4. Other pre-existing third-party accounts that may be supported in the future\\n\\nThe account creation process will extract personal information like your email address from the linked account, as permitted by your privacy settings. You must keep your account information accurate and up-to-date. You are responsible for all activities under your account and must not share your password.\\n\\nFor children under 13, registration is handled through the Pokémon Trainer Club (PTC) with parental consent, in compliance with the Children's Online Privacy Protection Act (COPPA). Parents can rescind consent by contacting support. Information may be shared with third parties for service administration. See the\"],\n",
       "   ['during game play please be aware of your surroundings and play safely. you agree that your use of the app and play of the game is at your own risk and it is your responsibility to maintain such health liability hazard personal injury medical life and other insurance policies as you deem reasonably necessary for any injuries that you may incur while using the services. you also agree not to use the app to violate any applicable law rule or regulation including but not limited to the laws of trespass or the trainer guidelines and you agree not to encourage or enable any other individual to violate any applicable law rule or regulation or the trainer guidelines. without limiting the foregoing you agree that in conjunction with your use of the app you will not inflict emotional distress on other people will not humiliate other people publicly or otherwise will not assault or threaten other people will not enter onto private property without permission will not impersonate any other person or misrepresent your affiliation title or authority and will not otherwise engage in any activity that may result in injury death property damage and or liability of any kind. to the extent permitted by applicable law niantic the pok\\\\u00e9mon company tpc and tpci disclaim all liability related to any property damage personal injury or death that may occur during your use of our services including any claims based on the violation of any applicable law rule or regulation or your alleged negligence or other tort liability. further in the event that you have a dispute with one or more other users of the app you release niantic tpc and tpci and our officers directors agents subsidiaries joint ventures and employees from all claims demands and damages actual and consequential of every kind and nature known and unknown suspected and unsuspected disclosed and undisclosed arising out of or in any way connected with such disputes.',\n",
       "    'don t die or hurt others and if you do it s not our fault.',\n",
       "    ' **Summary:**\\n\\n- **Play Safely:** Be aware of your surroundings while playing the game and use the app at your own risk. Maintain necessary insurance for potential injuries.\\n- **Follow Laws and Guidelines:** Do not use the app to violate any laws or regulations, including trespassing laws and trainer guidelines. Do not encourage others to do so.\\n- **Prohibited Activities:** Do not engage in activities that may cause emotional distress, humiliation, assault, threats, property damage, injury, death, or liability. Do not impersonate others or enter private property without permission.\\n- **Liability Disclaimer:** Niantic, The Pokémon Company (TPC), and The Pokémon Company International (TPCI) disclaim all liability related to property damage, personal injury, or death occurring during the use of their services.\\n- **Dispute Resolution:** In case of disputes with other users, you'],\n",
       "   ['subject to your compliance with these terms niantic grants you a limited nonexclusive nontransferable non sublicensable license to download and install a copy of the app on a mobile device and to run such copy of the app solely for your own personal noncommercial purposes. except as expressly permitted in these terms you may not a copy modify or create derivative works based on the app b distribute transfer sublicense lease lend or rent the app to any third party c reverse engineer decompile or disassemble the app or d make the functionality of the app available to multiple users through any means. niantic reserves all rights in and to the app not expressly granted to you under these terms. if you accessed or downloaded the app from the apple store then you agree to use the app only a on an apple branded product or device that runs ios apple s proprietary operating system software and b as permitted by the usage rules set forth in the apple store terms of service. if you accessed or downloaded the app from any app store or distribution platform like the apple store google play or amazon appstore each an app provider then you acknowledge and agree that these terms are concluded between you and niantic and not with app provider and that as between us and the app provider niantic is solely responsible for the app. app provider has no obligation to furnish any maintenance and support services with respect to the app. in the event of any failure of the app to conform to any applicable warranty you may notify app provider and app provider will refund the purchase price for the app to you if applicable and to the maximum extent permitted by applicable law app provider will have no other warranty obligation whatsoever with respect to the app. any other claims losses liabilities damages costs or expenses attributable to any failure of an app to conform to any warranty will be the sole responsibility of niantic. app provider is not responsible for addressing any claims you have or any claims of any third party relating to the app or your possession and use of the app including but not limited to i product liability claims ii any claim that the app fails to conform to any applicable legal or regulatory requirement and iii claims arising under consumer protection or similar legislation. in the event of any third party claim that the app or your possession and use of the app infringes that third party s intellectual property rights niantic will be solely responsible for the investigation defense settlement and discharge of any such intellectual property infringement claim to the extent required by these terms. app provider and its subsidiaries are third party beneficiaries of these terms as related to your license of the app and that upon your acceptance of the terms and conditions of these terms app provider will have the right and will be deemed to have accepted the right to enforce these terms as related to your license of the app against you as a third party beneficiary thereof. you must also comply with all applicable third party terms of service when using the app. you agree to comply with all u s and foreign export laws and regulations to ensure that neither the app nor any technical data related thereto nor any direct product thereof is exported or re exported directly or indirectly in violation of or used for any purposes prohibited by such laws and regulations. by using the app you represent and warrant that i you are not located in a country that is subject to a u s government embargo or that has been designated by the u s government as a terrorist supporting country and ii you are not listed on any u s government list of prohibited or restricted parties.',\n",
       "    'don t copy modify resell distribute or reverse engineer this app.',\n",
       "    \" The text outlines the terms of use for a mobile app licensed by Niantic. Key points include:\\n\\n1. **License Grant**: Niantic allows users to download and install the app for personal, non-commercial use only.\\n2. **Restrictions**: Users cannot copy, modify, distribute, reverse engineer, or make the app available to multiple users.\\n3. **Reservation of Rights**: Niantic retains all rights not expressly granted to users.\\n4. **App Store Terms**: If downloaded from an app store, users agree to use the app as permitted by the store's terms of service.\\n5. **Responsibility**: Niantic is responsible for the app, not the app store providers.\\n6. **Export Laws**: Users must comply with all applicable export laws and regulations.\\n7. **Representation and Warranty**: Users warrant that they are not in a country subject to\"],\n",
       "   ['for purposes of these terms a content means the text software scripts graphics photos sounds music videos audiovisual combinations interactive features works of authorship of any kind and information or other materials that are posted generated provided or otherwise made available through the services and b user content means any content that account holders including you provide to be made available through the services. content includes without limitation user content. subject to your compliance with these terms niantic grants you a personal noncommercial nonexclusive nontransferable non sublicensable revocable license to download view display and use the content solely in connection with your permitted use of the services. content ownershipniantic does not claim any ownership rights in any user content and nothing in these terms will be deemed to restrict any rights that you may have to use and exploit your user content. subject to the foregoing niantic and its licensors including tpc and tpci exclusively own all right title and interest in and to the services and content including all associated intellectual property rights. you acknowledge that the services and content are protected by copyright trademark and other laws of the united states and foreign countries. you agree not to remove alter or obscure any copyright trademark service mark or other proprietary rights notices incorporated in or accompanying the services or content. rights granted by youby making any user content available through services you grant to niantic a nonexclusive perpetual irrevocable transferable sublicensable worldwide royalty free license to use copy modify create derivative works based upon publicly display publicly perform and distribute your user content in connection with operating and providing the services and content to you and to other account holders. you are solely responsible for all your user content. you represent and warrant that you own all your user content or you have all rights that are necessary to grant us the license rights in your user content under these terms. you also represent and warrant that neither your user content nor your use and provision of your user content to be made available through the services nor any use of your user content by niantic on or through the services will infringe misappropriate or violate a third party s intellectual property rights or rights of publicity or privacy or result in the violation of any applicable law or regulation. niantic may reject any submissions in which niantic believes in its sole discretion that the user content is inappropriate or violates the trainer guidelines or these terms. niantic further reserves the right to remove any user content from the services at any time and without notice and for any reason.',\n",
       "    'we grant you full ownership of your user content. just don t hide our copyright trademarks.',\n",
       "    \" **Summary:**\\n\\n- **Content**: Text, software, graphics, photos, sounds, music, videos, etc. shared via the services.\\n- **User Content**: Content provided by account holders.\\n- **License**: Niantic grants users a personal, non-commercial, revocable license to use content in connection with the services.\\n- **Ownership**: Niantic doesn't claim rights in user content, but users grant Niantic a worldwide, royalty-free license to use their content. Niantic and its licensors own all rights to the services and content.\\n- **Responsibility**: Users are responsible for their content and warrant that it doesn't infringe upon others' rights or violate laws.\\n- **Niantic's Rights**: Niantic can reject or remove user content at its discretion.\"],\n",
       "   ['the app permits account holders to capture and trade virtual items including but not limited to pok\\\\u00e9mon characters or creatures trading items during gameplay. unlike virtual money and virtual goods see below trading items are obtained at no additional charge during gameplay. trading items are a category of content and niantic grants you a limited nontransferable non sublicensable revocable license to use such trading items in conjunction with your personal noncommercial use of the services. you acknowledge that you do not acquire any ownership rights in or to trading items and that trading items do not have monetary value. trading items may be traded with other account holders for other trading items but trading items can never be sold transferred or exchanged for virtual money virtual goods real goods real money or real services or any other compensation or consideration from us or anyone else. you also agree that you will only obtain trading items from other account holders and through means provided by us and not from or through any third party platform exchange broker or other mechanism unless expressly authorized. we may cancel any trading items sold transferred or exchanged in violation of these terms. any such sale transfer or exchange or attempt to do so is prohibited and may result in the termination of your account. as set forth below all trading items and other content are provided as is without any warranty.',\n",
       "    'trading s gonna be a thing. don t try to bring real money into it.',\n",
       "    ' The app allows users to capture and trade virtual items like Pokémon characters during gameplay, with no additional cost. These trading items can only be used within the app and have no real-world monetary value. Users can trade these items with others, but they cannot be sold or exchanged for real or virtual money, goods, or services. Trading items must be obtained through the app and not from third-party platforms. Violating these terms may result in account termination. All trading items are provided \"as is\" without warranty.'],\n",
       "   ['we may cancel suspend or terminate your account and your access to your trading items virtual money virtual goods the content or the services in our sole discretion and without prior notice including if a your account is inactive i e not used or logged into for one year b you fail to comply with these terms c we suspect fraud or misuse by you of trading items virtual money virtual goods or other content d we suspect any other unlawful activity associated with your account or e we are acting to protect the services our systems the app any of our users or the reputation of niantic tpc or tpci. we have no obligation or responsibility to and will not reimburse or refund you for any trading items virtual money or virtual goods lost due to such cancellation suspension or termination. you acknowledge that niantic is not required to provide a refund for any reason and that you will not receive money or other compensation for unused virtual money and virtual goods when your account is closed whether such closure was voluntary or involuntary. we have the right to offer modify eliminate and or terminate trading items virtual money virtual goods the content and or the services or any portion thereof at any time without notice or liability to you. if we discontinue the use of virtual money or virtual goods we will provide at least 60 days advance notice to you by posting a notice on the site or app or through other communications.',\n",
       "    'if you haven t played for a year you mess up or we mess up we can delete all of your virtual goods. we don t have to give them back. we might even discontinue some virtual goods entirely but we ll give you 60 days advance notice if that happens.',\n",
       "    ' In summary, the content outlines the following key points:\\n\\n1. **Account Termination/Suspension:**\\n   - Your account and access to associated services can be canceled, suspended, or terminated at the discretion of the service provider without prior notice for reasons such as:\\n     - Account inactivity for a year.\\n     - Non-compliance with terms.\\n     - Suspected fraud or misuse.\\n     - Suspected unlawful activity.\\n     - Protection of services, systems, users, or company reputation.\\n\\n2. **No Refunds:**\\n   - There is no obligation to reimburse or refund you for any lost trading items, virtual money, or virtual goods due to account termination.\\n   - Refunds are not provided for any reason, and you will not receive compensation for unused virtual money or goods when your account is closed.\\n\\n3. **Service Modification'],\n",
       "   ['the app permits the purchase of virtual currency virtual money and use of that virtual money to purchase virtual items or services that we expressly make available for use in the app virtual goods. the purchase of virtual money and virtual goods is limited to account holders who are either a 18 years of age or older or b under the age of 18 and have the consent of a parent to make the purchase. parents of children under the age of 18 can consult the ios or google play settings for their app to restrict in app purchases but should also monitor their children s accounts for unexpected activity including the purchase of virtual money or virtual goods. purchases of virtual money and virtual goodsvirtual money is a category of content so the purchase of virtual money grants you only a limited nontransferable non sublicensable revocable license to use such virtual money to access and purchase virtual goods in conjunction with your personal noncommercial use of the services. you acknowledge that you do not acquire any ownership rights in or to the virtual money virtual goods or other content any balance of virtual goods or virtual money does not reflect any stored value. you agree that virtual money and virtual goods have no monetary value and do not constitute actual currency or property of any type. virtual money may be redeemed only for virtual goods and can never be sold transferred or exchanged for real money real goods or real services from us or anyone else. you also agree that you will only obtain virtual money and or virtual goods from us and through means provided by us and not from any third party platform exchange broker or other mechanism unless expressly authorized. once you acquire a license to virtual money or virtual goods you may not trade or transfer the virtual money or virtual goods to another individual or account unless such functionality is provided to you by us by way of a feature or service whether inside the app or through some other method e g our website. we may cancel any virtual money or virtual goods sold transferred or exchanged in violation of these terms. any such sale transfer or exchange or attempt to do so is prohibited and may result in the termination of your account. during the term of your license to your virtual money you have the right to redeem your virtual money for selected virtual goods. if you are the parent and you are accepting these terms on behalf of your child you accept and acknowledge that your child has your consent to exercise this right independently. pricing and availability of virtual money and virtual goods are subject to change without notice. we reserve the right at any time to change and update our pricing and inventory of virtual money and virtual goods. as set forth below all virtual money virtual goods and other content is provided as is without any warranty. you agree that all sales by us to you of virtual money and virtual goods are final and that we will not permit exchanges or refunds for any unused virtual money or virtual goods once the transaction has been made. purchases by end users outside the u s virtual money and virtual goods may only be purchased and held by legal residents of countries where access to and use of the services are permitted. if you live in the european union you have certain rights to withdraw from online purchases. however please note that once you download virtual money from us your right of withdrawal ends. you agree that a purchase of virtual money involves immediate download of such content and b you lose your right of withdrawal once your purchase is complete. if you live in the european union we will provide you with a vat invoice when we are required to do so by law. you agree that these invoices may be electronic in format. we reserve the right to control regulate change or remove any virtual money or virtual goods without any liability to you.',\n",
       "    'you can spend money on coins pokeballs. we ain t giving you that money back. want to buy gold online. too bad. oh and the eu gives people refund rights in some cases. not this one.',\n",
       "    ' The app allows users to buy virtual currency (virtual money) and use it to purchase virtual items or services within the app. Only account holders who are 18 or older, or minors with parental consent, can make these purchases. Parents can restrict in-app purchases via iOS or Google Play settings. Virtual money and goods have no real-world value, cannot be exchanged for real money or goods, and are non-transferable except through app features. Pricing and availability can change without notice. All sales are final, and no refunds are permitted. Users outside the U.S. can only purchase and hold virtual money and goods if they reside in countries where the service is permitted. EU residents lose their right of withdrawal once the purchase is complete. The app reserves the right to control, regulate, change, or remove virtual money or goods without liability.'],\n",
       "   ['you agree that you are responsible for your own conduct and user content while using the services and for any consequences thereof. please refer to our trainer guidelines https pokemongo nianticlabs com support guidelines en for information about the kinds of conduct and user content that are prohibited while using the services. by way of example and not as a limitation you agree that when using the services and content you will not defame abuse harass harm stalk threaten or otherwise violate the legal rights including the rights of privacy and publicity of others upload post email transmit or otherwise make available any unlawful inappropriate defamatory obscene pornographic vulgar offensive fraudulent false misleading or deceptive content or message promote or engage in discrimination bigotry racism hatred or harassment against any individual or group trespass or in any manner attempt to gain or gain access to any property or location where you do not have a right or permission to be violate or encourage any conduct that would violate any applicable law or regulation or would give rise to civil liability upload post or otherwise make available commercial messages or advertisements pyramid schemes or other disruptive notices impersonate or misrepresent your affiliation with another person or entity promote or provide instructional information about illegal or harmful activities or substances promote or engage in physical harm violence or injury against any group or individual transmit any viruses worms defects trojan horses or any items of a destructive nature submit fake falsified misleading or inappropriate data submissions edits or removals post upload publish submit or transmit any content that infringes misappropriates or violates a third party s patent copyright trademark trade secret moral rights or other intellectual property rights or rights of publicity or privacy use display mirror or frame the services or any individual element within the services niantic s name any niantic trademark logo or other proprietary information or the layout and design of any page or form contained on a page without niantic s express written consent access tamper with or use nonpublic areas of the services niantic s computer systems or the technical delivery systems of niantic s providers attempt to probe scan or test the vulnerability of any niantic system or network or breach any security or authentication measures avoid bypass remove deactivate impair descramble or otherwise circumvent any technological measure implemented by niantic or any of niantic s providers or any other third party including another user to protect the services or content attempt to access or search the services or content or download content from the services through the use of any technology or means other than those provided by niantic or other generally available third party web browsers including without limitation automation software bots spiders crawlers data mining tools or hacks tools agents engines or devices of any kind extract scrape index copy or mirror the services or content or portions thereof including but not limited to the pok\\\\u00e9stop database and other information about users or gameplay use any meta tags or other hidden text or metadata utilizing a niantic trademark logo url or product name without niantic s express written consent forge any tcp ip packet header or any part of the header information in any email or newsgroup posting or in any way use the services or content to send altered deceptive or false source identifying information attempt to decipher decompile disassemble or reverse engineer any of the software used to provide the services or content interfere with or attempt to interfere with the access of any user host or network including without limitation sending a virus overloading flooding spamming or mail bombing the services take any action that imposes or may impose an unreasonable or disproportionately large load on the services or niantic s infrastructure delete obscure or in any manner alter any attribution warning or link that appears in the services or the content use the services or content or any portion thereof for any commercial purpose or for the benefit of any third party or in a manner not permitted by these terms including but not limited to a gathering in app items or resources for sale outside the app b performing services in the app in exchange for payment outside the app or c sell resell rent or lease the app or your account collect or store any personally identifiable information from the services from other users of the services without their express permission violate any applicable law or regulation orencourage or enable any other individual to do any of the foregoing. although we re not obligated to monitor access to or use of the services or content or to review or edit any content we have the right to do so for the purpose of operating the services to ensure compliance with these terms and to comply with applicable law or other legal requirements. we reserve the right but are not obligated to remove or disable access to any content at any time and without notice including but not limited to if we at our sole discretion consider any content to be objectionable or in violation of these terms. we have the right to investigate violations of these terms or conduct that affects the services. we may also consult and cooperate with law enforcement authorities to prosecute users who violate the law.',\n",
       "    'don t be a jerk. don t hack or cheat. we don t have to ban you but we can. we ll also cooperate with law enforcement.',\n",
       "    \" **Summary:**\\n\\nYou agree to be responsible for your conduct and content while using Niantic's services and to comply with their trainer guidelines. Prohibited actions include:\\n\\n1. **Harmful or Inappropriate Content:** Defaming, abusing, harassing, or violating others' rights; posting unlawful, inappropriate, or harmful content.\\n2. **Discrimination & Harassment:** Promoting discrimination, bigotry, racism, hatred, or harassment.\\n3. **Illegal Activities:** Violating laws, promoting illegal activities, or physically harming others.\\n4. **Malicious Software:** Transmitting viruses, worms, or other harmful items.\\n5. **Intellectual Property Infringement:** Violating others' intellectual property rights.\\n6. **Unauthorized Access:** Accessing non-public areas, tampering with systems, or breaching\"],\n",
       "   ['we welcome feedback comments and suggestions for improvements to the services feedback. you can submit feedback by reaching out to us on facebook twitter or google. you grant to us a nonexclusive worldwide perpetual irrevocable fully paid royalty free sublicensable and transferable license under any and all intellectual property rights that you own or control to use copy modify create derivative works based upon and otherwise exploit the feedback for any purpose.',\n",
       "    'give us feedback and we can do whatever we want with it.',\n",
       "    \" You're welcome to share feedback, comments, and suggestions for service improvements. You can do this by contacting us on Facebook, Twitter, or Google. By providing feedback, you grant us a non-exclusive, worldwide, perpetual, irrevocable, fully-paid, royalty-free, sublicensable, and transferable license to use, copy, modify, create derivative works based on, and otherwise exploit the feedback for any purpose.\"]]}]"
      ]
     },
     "execution_count": 56,
     "metadata": {},
     "output_type": "execute_result"
    }
   ],
   "source": [
    "fields = feature_fields\n",
    "fields.append(label_column)\n",
    "fields.append(\"_original_prediction\")\n",
    "feedback_data = [\n",
    "    {\n",
    "        \"fields\": fields,\n",
    "        \"values\": test_data_content\n",
    "    }\n",
    "]\n",
    "feedback_data"
   ]
  },
  {
   "cell_type": "markdown",
   "metadata": {},
   "source": [
    "The following code can be used to manually add feedback data to the table."
   ]
  },
  {
   "cell_type": "code",
   "execution_count": 57,
   "metadata": {
    "ExecuteTime": {
     "end_time": "2024-09-18T13:48:59.549591Z",
     "start_time": "2024-09-18T13:48:34.600658Z"
    }
   },
   "outputs": [
    {
     "name": "stdout",
     "output_type": "stream",
     "text": [
      "\n",
      "\n",
      "==========================================================================================\n",
      "\n",
      " Waiting for end of storing records with request id: e972a8e5-d37c-4402-898e-b755a407743a \n",
      "\n",
      "==========================================================================================\n",
      "\n",
      "\n",
      "\n",
      "active\n",
      "\n",
      "---------------------------------------\n",
      " Successfully finished storing records \n",
      "---------------------------------------\n",
      "\n",
      "\n",
      "Number of records in the feedback logging table: 10\n"
     ]
    }
   ],
   "source": [
    "wos_client.data_sets.store_records(data_set_id=feedback_data_set_id, request_body=feedback_data,background_mode=False)\n",
    "time.sleep(5)\n",
    "fb_records_count = wos_client.data_sets.get_records_count(feedback_data_set_id)\n",
    "# Adding time delay to enable drift\n",
    "time.sleep(10)\n",
    "print(\"Number of records in the feedback logging table: {}\".format(fb_records_count))"
   ]
  },
  {
   "cell_type": "markdown",
   "metadata": {},
   "source": [
    "## Show all the monitor instances of the production subscription\n",
    "The following cell lists the monitors present in the production subscription along with their respective statuses and other details. Please wait for all the monitors to be in active state before proceeding further."
   ]
  },
  {
   "cell_type": "code",
   "execution_count": 58,
   "metadata": {
    "ExecuteTime": {
     "end_time": "2024-09-18T13:49:03.374730Z",
     "start_time": "2024-09-18T13:49:01.817870Z"
    }
   },
   "outputs": [
    {
     "data": {
      "text/html": [
       "<HTML>\n",
       "        <body>\n",
       "            <h3>Monitor instances</h3>\n",
       "            <table style='border: 1px solid #dddddd; font-family: Courier'>\n",
       "                <th style='border: 1px solid #dddddd'>data_mart_id</th><th style='border: 1px solid #dddddd'>status</th><th style='border: 1px solid #dddddd'>target_id</th><th style='border: 1px solid #dddddd'>target_type</th><th style='border: 1px solid #dddddd'>monitor_definition_id</th><th style='border: 1px solid #dddddd'>created_at</th><th style='border: 1px solid #dddddd'>id</th>\n",
       "                <tr><td style='border: 1px solid #dddddd'>2c08665d-dacd-4fe2-9035-6963dc3fb1a4</td><td style='border: 1px solid #dddddd'>active</td><td style='border: 1px solid #dddddd'>01999ea4-4392-7310-82bc-62dde8040c2f</td><td style='border: 1px solid #dddddd'>subscription</td><td style='border: 1px solid #dddddd'>generative_ai_quality</td><td style='border: 1px solid #dddddd'>2025-10-01 07:19:59.732000+00:00</td><td style='border: 1px solid #dddddd'>01999ea4-6827-7835-ba2c-307593f0df7c</td></tr><tr><td style='border: 1px solid #dddddd'>2c08665d-dacd-4fe2-9035-6963dc3fb1a4</td><td style='border: 1px solid #dddddd'>active</td><td style='border: 1px solid #dddddd'>01999ea4-4392-7310-82bc-62dde8040c2f</td><td style='border: 1px solid #dddddd'>subscription</td><td style='border: 1px solid #dddddd'>model_health</td><td style='border: 1px solid #dddddd'>2025-10-01 07:20:03.725000+00:00</td><td style='border: 1px solid #dddddd'>01999ea4-7908-74e1-8131-d97fff0e64d6</td></tr><tr><td style='border: 1px solid #dddddd'>2c08665d-dacd-4fe2-9035-6963dc3fb1a4</td><td style='border: 1px solid #dddddd'>preparing</td><td style='border: 1px solid #dddddd'>01999ea4-4392-7310-82bc-62dde8040c2f</td><td style='border: 1px solid #dddddd'>subscription</td><td style='border: 1px solid #dddddd'>drift_v2</td><td style='border: 1px solid #dddddd'>2025-10-01 07:20:02.229000+00:00</td><td style='border: 1px solid #dddddd'>01999ea4-6ec3-7b9f-9cb7-eb7432e85bbe</td></tr><tr><td style='border: 1px solid #dddddd'>2c08665d-dacd-4fe2-9035-6963dc3fb1a4</td><td style='border: 1px solid #dddddd'>active</td><td style='border: 1px solid #dddddd'>01999ea4-4392-7310-82bc-62dde8040c2f</td><td style='border: 1px solid #dddddd'>subscription</td><td style='border: 1px solid #dddddd'>mrm</td><td style='border: 1px solid #dddddd'>2025-10-01 07:20:05.116000+00:00</td><td style='border: 1px solid #dddddd'>01999ea4-7e98-7cd5-a3cc-df627877b322</td></tr>\n",
       "            </table>\n",
       "        </body>\n",
       "        </HTML>"
      ],
      "text/plain": [
       "<IPython.core.display.HTML object>"
      ]
     },
     "metadata": {},
     "output_type": "display_data"
    }
   ],
   "source": [
    "wos_client.monitor_instances.show(target_target_id = prod_subscription_id)"
   ]
  },
  {
   "cell_type": "markdown",
   "metadata": {},
   "source": [
    "### Read the MRM monitor instance ID of PTA subscription deployed in space\n",
    "\n",
    "Evaluating the test data against the prompt template subscription requires the monitor instance ID of MRM."
   ]
  },
  {
   "cell_type": "code",
   "execution_count": 59,
   "metadata": {
    "ExecuteTime": {
     "end_time": "2024-09-18T13:49:24.111267Z",
     "start_time": "2024-09-18T13:49:23.023594Z"
    }
   },
   "outputs": [
    {
     "data": {
      "text/plain": [
       "'01999ea4-7e98-7cd5-a3cc-df627877b322'"
      ]
     },
     "execution_count": 59,
     "metadata": {},
     "output_type": "execute_result"
    }
   ],
   "source": [
    "monitor_definition_id = \"mrm\"\n",
    "target_target_id = prod_subscription_id\n",
    "result = wos_client.monitor_instances.list(data_mart_id=data_mart_id,\n",
    "                                           monitor_definition_id=monitor_definition_id,\n",
    "                                           target_target_id=target_target_id,\n",
    "                                           space_id=space_id).result\n",
    "result_json = result._to_dict()\n",
    "mrm_monitor_id = result_json[\"monitor_instances\"][0][\"metadata\"][\"id\"]\n",
    "mrm_monitor_id"
   ]
  },
  {
   "cell_type": "markdown",
   "metadata": {},
   "source": [
    "### Evaluate the prompt template subscription from space\n",
    "\n",
    "The following cell will assess subscription of the prompt template asset and produce relevant measurements for the configured monitor. The data to be evaluated are already uploaded to payload and feedback table."
   ]
  },
  {
   "cell_type": "code",
   "execution_count": 60,
   "metadata": {
    "ExecuteTime": {
     "end_time": "2024-09-18T13:51:43.320794Z",
     "start_time": "2024-09-18T13:49:26.554175Z"
    }
   },
   "outputs": [
    {
     "name": "stdout",
     "output_type": "stream",
     "text": [
      "\n",
      "\n",
      "=================================================================================\n",
      "\n",
      " Waiting for risk evaluation of MRM monitor 01999ea4-7e98-7cd5-a3cc-df627877b322 \n",
      "\n",
      "=================================================================================\n",
      "\n",
      "\n",
      "\n",
      "running.............\n",
      "finished\n",
      "\n",
      "---------------------------------------\n",
      " Successfully finished evaluating risk \n",
      "---------------------------------------\n",
      "\n",
      "\n"
     ]
    }
   ],
   "source": [
    "response  = wos_client.monitor_instances.mrm.evaluate_risk(monitor_instance_id=mrm_monitor_id, \n",
    "                                                    body = body,\n",
    "                                                    space_id = space_id,\n",
    "                                                    evaluation_tests = [\"model_health\", \"drift_v2\", \"generative_ai_quality\"],\n",
    "                                                    background_mode = False)"
   ]
  },
  {
   "cell_type": "markdown",
   "metadata": {},
   "source": [
    "### Read the risk evaluation response\n",
    "\n",
    "After initiating the risk evaluation, the evaluation results of PTA from space are now available for review,"
   ]
  },
  {
   "cell_type": "code",
   "execution_count": 61,
   "metadata": {
    "ExecuteTime": {
     "end_time": "2024-09-18T13:51:58.779784Z",
     "start_time": "2024-09-18T13:51:55.738763Z"
    }
   },
   "outputs": [
    {
     "data": {
      "text/plain": [
       "{'metadata': {'id': 'b2038d21-e8ba-45fd-b4eb-f174ab6f3b30',\n",
       "  'created_at': '2025-10-01T07:22:44.824Z',\n",
       "  'created_by': 'iam-ServiceId-b317a8da-d926-496e-b0ca-6bcc57f556ae'},\n",
       " 'entity': {'triggered_by': 'user',\n",
       "  'parameters': {'deployment_id': 'ebe4d769-2940-4ff3-88d8-edfc271b4fb3',\n",
       "   'evaluation_start_time': '2025-10-01T07:22:42.694649Z',\n",
       "   'facts': {'state': 'finished'},\n",
       "   'measurement_id': '01999ea6-f12d-72ee-b54e-3b3c0b01e06e',\n",
       "   'monitors_run_status': [{'monitor_id': 'generative_ai_quality',\n",
       "     'status': {'reason': {'code': 'AIQGA1011E',\n",
       "       'message': 'Generative AI Quality monitor evaluation failed. Failed to evaluate metrics using metrics_compute service for monitor instance 01999ea4-6827-7835-ba2c-307593f0df7c of subscription 01999ea4-4392-7310-82bc-62dde8040c2f. Error: {\"error\":\"Cannot copy out of meta tensor; no data! Please use torch.nn.Module.to_empty() instead of torch.nn.Module.to() when moving module from meta to a different device.\"}\\n.',\n",
       "       'trace': 'monitoring-manager-MDE5OTllYTctMDE3ZC03MzFlLTgzODAtYmUzZWMzNmFlOTM4'},\n",
       "      'state': 'error'}},\n",
       "    {'monitor_id': 'model_health', 'status': {'state': 'finished'}},\n",
       "    {'monitor_id': 'drift_v2', 'status': {'state': 'finished'}}],\n",
       "   'prompt_template_asset_id': '98f6d104-7d2f-416a-bf76-c5c1b7c1149d',\n",
       "   'prompt_template_details': {'pta_resource_key': 'dee87253914cf9edaf68683b7849b0f8aa0e2cd1c54f235e0ca6126b3fba1b09'},\n",
       "   'space_id': '888ea269-8065-4573-b755-30e6ab163afc',\n",
       "   'user_iam_id': 'IBMid-663003LL30',\n",
       "   'publish_metrics': 'false',\n",
       "   'evaluation_tests': []},\n",
       "  'status': {'state': 'finished',\n",
       "   'queued_at': '2025-10-01T07:22:44.814000Z',\n",
       "   'started_at': '2025-10-01T07:22:45.885000Z',\n",
       "   'updated_at': '2025-10-01T07:25:29.126000Z',\n",
       "   'completed_at': '2025-10-01T07:25:20.279000Z',\n",
       "   'message': 'Mrm evaluation complete.',\n",
       "   'operators': []}}}"
      ]
     },
     "execution_count": 61,
     "metadata": {},
     "output_type": "execute_result"
    }
   ],
   "source": [
    "response  = wos_client.monitor_instances.mrm.get_risk_evaluation(mrm_monitor_id, space_id = space_id)\n",
    "response.result.to_dict()"
   ]
  },
  {
   "cell_type": "markdown",
   "metadata": {},
   "source": [
    "## Display the Model Risk metrics\n",
    "\n",
    "Having calculated the measurements for the Foundation Model subscription, the MRM metrics generated for this subscription are now available for your review."
   ]
  },
  {
   "cell_type": "code",
   "execution_count": 62,
   "metadata": {
    "ExecuteTime": {
     "end_time": "2024-09-18T13:52:08.845635Z",
     "start_time": "2024-09-18T13:51:59.685663Z"
    }
   },
   "outputs": [
    {
     "data": {
      "text/html": [
       "<HTML>\n",
       "        <body>\n",
       "            <h3>01999ea4-7e98-7cd5-a3cc-df627877b322 Monitor Runs Metrics from: 2025-09-24 12:55:31.387697  till: 2025-10-01 12:55:31.387699</h3>\n",
       "            <table style='border: 1px solid #dddddd; font-family: Courier'>\n",
       "                <th style='border: 1px solid #dddddd'>ts</th><th style='border: 1px solid #dddddd'>id</th><th style='border: 1px solid #dddddd'>measurement_id</th><th style='border: 1px solid #dddddd'>value</th><th style='border: 1px solid #dddddd'>lower_limit</th><th style='border: 1px solid #dddddd'>upper_limit</th><th style='border: 1px solid #dddddd'>tags</th><th style='border: 1px solid #dddddd'>monitor_definition_id</th><th style='border: 1px solid #dddddd'>monitor_instance_id</th><th style='border: 1px solid #dddddd'>run_id</th><th style='border: 1px solid #dddddd'>target_type</th><th style='border: 1px solid #dddddd'>target_id</th>\n",
       "                <tr><td style='border: 1px solid #dddddd'>2025-10-01 07:22:44.909000+00:00</td><td style='border: 1px solid #dddddd'>tests_passed</td><td style='border: 1px solid #dddddd'>01999ea6-f12d-72ee-b54e-3b3c0b01e06e</td><td style='border: 1px solid #dddddd'>0.0</td><td style='border: 1px solid #dddddd'>None</td><td style='border: 1px solid #dddddd'>None</td><td style='border: 1px solid #dddddd'>[]</td><td style='border: 1px solid #dddddd'>mrm</td><td style='border: 1px solid #dddddd'>01999ea4-7e98-7cd5-a3cc-df627877b322</td><td style='border: 1px solid #dddddd'>b2038d21-e8ba-45fd-b4eb-f174ab6f3b30</td><td style='border: 1px solid #dddddd'>subscription</td><td style='border: 1px solid #dddddd'>01999ea4-4392-7310-82bc-62dde8040c2f</td></tr><tr><td style='border: 1px solid #dddddd'>2025-10-01 07:22:44.909000+00:00</td><td style='border: 1px solid #dddddd'>tests_run</td><td style='border: 1px solid #dddddd'>01999ea6-f12d-72ee-b54e-3b3c0b01e06e</td><td style='border: 1px solid #dddddd'>2.0</td><td style='border: 1px solid #dddddd'>None</td><td style='border: 1px solid #dddddd'>None</td><td style='border: 1px solid #dddddd'>[]</td><td style='border: 1px solid #dddddd'>mrm</td><td style='border: 1px solid #dddddd'>01999ea4-7e98-7cd5-a3cc-df627877b322</td><td style='border: 1px solid #dddddd'>b2038d21-e8ba-45fd-b4eb-f174ab6f3b30</td><td style='border: 1px solid #dddddd'>subscription</td><td style='border: 1px solid #dddddd'>01999ea4-4392-7310-82bc-62dde8040c2f</td></tr><tr><td style='border: 1px solid #dddddd'>2025-10-01 07:22:44.909000+00:00</td><td style='border: 1px solid #dddddd'>tests_skipped</td><td style='border: 1px solid #dddddd'>01999ea6-f12d-72ee-b54e-3b3c0b01e06e</td><td style='border: 1px solid #dddddd'>3.0</td><td style='border: 1px solid #dddddd'>None</td><td style='border: 1px solid #dddddd'>None</td><td style='border: 1px solid #dddddd'>[]</td><td style='border: 1px solid #dddddd'>mrm</td><td style='border: 1px solid #dddddd'>01999ea4-7e98-7cd5-a3cc-df627877b322</td><td style='border: 1px solid #dddddd'>b2038d21-e8ba-45fd-b4eb-f174ab6f3b30</td><td style='border: 1px solid #dddddd'>subscription</td><td style='border: 1px solid #dddddd'>01999ea4-4392-7310-82bc-62dde8040c2f</td></tr><tr><td style='border: 1px solid #dddddd'>2025-10-01 07:22:44.909000+00:00</td><td style='border: 1px solid #dddddd'>tests_failed</td><td style='border: 1px solid #dddddd'>01999ea6-f12d-72ee-b54e-3b3c0b01e06e</td><td style='border: 1px solid #dddddd'>2.0</td><td style='border: 1px solid #dddddd'>None</td><td style='border: 1px solid #dddddd'>None</td><td style='border: 1px solid #dddddd'>[]</td><td style='border: 1px solid #dddddd'>mrm</td><td style='border: 1px solid #dddddd'>01999ea4-7e98-7cd5-a3cc-df627877b322</td><td style='border: 1px solid #dddddd'>b2038d21-e8ba-45fd-b4eb-f174ab6f3b30</td><td style='border: 1px solid #dddddd'>subscription</td><td style='border: 1px solid #dddddd'>01999ea4-4392-7310-82bc-62dde8040c2f</td></tr>\n",
       "            </table>\n",
       "        </body>\n",
       "        </HTML>"
      ],
      "text/plain": [
       "<IPython.core.display.HTML object>"
      ]
     },
     "metadata": {},
     "output_type": "display_data"
    }
   ],
   "source": [
    "wos_client.monitor_instances.show_metrics(monitor_instance_id=mrm_monitor_id, space_id=space_id)"
   ]
  },
  {
   "cell_type": "markdown",
   "metadata": {},
   "source": [
    "## Display the Generative AI Quality metrics"
   ]
  },
  {
   "cell_type": "markdown",
   "metadata": {},
   "source": [
    "### Read the Generative ai quality monitor instance id\n",
    "\n",
    "Monitor instance ID of Generative ai quality metrics is required for reading its metrics."
   ]
  },
  {
   "cell_type": "code",
   "execution_count": 63,
   "metadata": {
    "ExecuteTime": {
     "end_time": "2024-09-18T13:52:09.430021Z",
     "start_time": "2024-09-18T13:52:08.849493Z"
    }
   },
   "outputs": [
    {
     "data": {
      "text/plain": [
       "'01999ea4-6827-7835-ba2c-307593f0df7c'"
      ]
     },
     "execution_count": 63,
     "metadata": {},
     "output_type": "execute_result"
    }
   ],
   "source": [
    "monitor_definition_id = \"generative_ai_quality\"\n",
    "result = wos_client.monitor_instances.list(data_mart_id = data_mart_id,\n",
    "                                           monitor_definition_id = monitor_definition_id,\n",
    "                                           target_target_id = target_target_id,\n",
    "                                           space_id = space_id).result\n",
    "result_json = result._to_dict()\n",
    "genaiquality_monitor_id = result_json[\"monitor_instances\"][0][\"metadata\"][\"id\"]\n",
    "genaiquality_monitor_id"
   ]
  },
  {
   "cell_type": "markdown",
   "metadata": {},
   "source": [
    "Displaying the monitor metrics of GenAIQ generated through the risk evaluation."
   ]
  },
  {
   "cell_type": "code",
   "execution_count": 64,
   "metadata": {
    "ExecuteTime": {
     "end_time": "2024-09-18T13:52:22.201271Z",
     "start_time": "2024-09-18T13:52:15.797508Z"
    }
   },
   "outputs": [
    {
     "data": {
      "text/html": [
       "<HTML>\n",
       "        <body>\n",
       "            <h3>01999ea4-6827-7835-ba2c-307593f0df7c Monitor Runs Metrics from: 2025-09-24 12:55:34.934350  till: 2025-10-01 12:55:34.934370</h3>\n",
       "            <table style='border: 1px solid #dddddd; font-family: Courier'>\n",
       "                <th style='border: 1px solid #dddddd'>ts</th><th style='border: 1px solid #dddddd'>id</th><th style='border: 1px solid #dddddd'>measurement_id</th><th style='border: 1px solid #dddddd'>value</th><th style='border: 1px solid #dddddd'>lower_limit</th><th style='border: 1px solid #dddddd'>upper_limit</th><th style='border: 1px solid #dddddd'>tags</th><th style='border: 1px solid #dddddd'>monitor_definition_id</th><th style='border: 1px solid #dddddd'>monitor_instance_id</th><th style='border: 1px solid #dddddd'>run_id</th><th style='border: 1px solid #dddddd'>target_type</th><th style='border: 1px solid #dddddd'>target_id</th>\n",
       "                <tr><td style='border: 1px solid #dddddd'>2025-10-01 07:22:23.713035+00:00</td><td style='border: 1px solid #dddddd'>flesch_reading_ease</td><td style='border: 1px solid #dddddd'>01999ea6-9e61-7162-a1ce-bec9b6818fe8</td><td style='border: 1px solid #dddddd'>47.852</td><td style='border: 1px solid #dddddd'>60.0</td><td style='border: 1px solid #dddddd'>None</td><td style='border: 1px solid #dddddd'>['computed_on:payload_logging', 'field_type:subscription', 'aggregation_type:mean']</td><td style='border: 1px solid #dddddd'>generative_ai_quality</td><td style='border: 1px solid #dddddd'>01999ea4-6827-7835-ba2c-307593f0df7c</td><td style='border: 1px solid #dddddd'>7aa53a37-2c76-4279-8dfc-f18dad4dcc79</td><td style='border: 1px solid #dddddd'>subscription</td><td style='border: 1px solid #dddddd'>01999ea4-4392-7310-82bc-62dde8040c2f</td></tr><tr><td style='border: 1px solid #dddddd'>2025-10-01 07:22:23.713035+00:00</td><td style='border: 1px solid #dddddd'>records_processed</td><td style='border: 1px solid #dddddd'>01999ea6-9e61-7162-a1ce-bec9b6818fe8</td><td style='border: 1px solid #dddddd'>110.0</td><td style='border: 1px solid #dddddd'>None</td><td style='border: 1px solid #dddddd'>None</td><td style='border: 1px solid #dddddd'>['computed_on:payload_logging', 'field_type:subscription', 'aggregation_type:mean']</td><td style='border: 1px solid #dddddd'>generative_ai_quality</td><td style='border: 1px solid #dddddd'>01999ea4-6827-7835-ba2c-307593f0df7c</td><td style='border: 1px solid #dddddd'>7aa53a37-2c76-4279-8dfc-f18dad4dcc79</td><td style='border: 1px solid #dddddd'>subscription</td><td style='border: 1px solid #dddddd'>01999ea4-4392-7310-82bc-62dde8040c2f</td></tr><tr><td style='border: 1px solid #dddddd'>2025-10-01 07:22:23.713035+00:00</td><td style='border: 1px solid #dddddd'>compression</td><td style='border: 1px solid #dddddd'>01999ea6-9e61-7162-a1ce-bec9b6818fe8</td><td style='border: 1px solid #dddddd'>2.8169</td><td style='border: 1px solid #dddddd'>None</td><td style='border: 1px solid #dddddd'>None</td><td style='border: 1px solid #dddddd'>['computed_on:payload_logging', 'field_type:subscription', 'aggregation_type:mean']</td><td style='border: 1px solid #dddddd'>generative_ai_quality</td><td style='border: 1px solid #dddddd'>01999ea4-6827-7835-ba2c-307593f0df7c</td><td style='border: 1px solid #dddddd'>7aa53a37-2c76-4279-8dfc-f18dad4dcc79</td><td style='border: 1px solid #dddddd'>subscription</td><td style='border: 1px solid #dddddd'>01999ea4-4392-7310-82bc-62dde8040c2f</td></tr><tr><td style='border: 1px solid #dddddd'>2025-10-01 07:22:23.713035+00:00</td><td style='border: 1px solid #dddddd'>repetitiveness</td><td style='border: 1px solid #dddddd'>01999ea6-9e61-7162-a1ce-bec9b6818fe8</td><td style='border: 1px solid #dddddd'>0.1338</td><td style='border: 1px solid #dddddd'>None</td><td style='border: 1px solid #dddddd'>0.2</td><td style='border: 1px solid #dddddd'>['computed_on:payload_logging', 'field_type:subscription', 'aggregation_type:mean']</td><td style='border: 1px solid #dddddd'>generative_ai_quality</td><td style='border: 1px solid #dddddd'>01999ea4-6827-7835-ba2c-307593f0df7c</td><td style='border: 1px solid #dddddd'>7aa53a37-2c76-4279-8dfc-f18dad4dcc79</td><td style='border: 1px solid #dddddd'>subscription</td><td style='border: 1px solid #dddddd'>01999ea4-4392-7310-82bc-62dde8040c2f</td></tr><tr><td style='border: 1px solid #dddddd'>2025-10-01 07:22:23.713035+00:00</td><td style='border: 1px solid #dddddd'>coverage</td><td style='border: 1px solid #dddddd'>01999ea6-9e61-7162-a1ce-bec9b6818fe8</td><td style='border: 1px solid #dddddd'>0.6048</td><td style='border: 1px solid #dddddd'>0.7</td><td style='border: 1px solid #dddddd'>None</td><td style='border: 1px solid #dddddd'>['computed_on:payload_logging', 'field_type:subscription', 'aggregation_type:mean']</td><td style='border: 1px solid #dddddd'>generative_ai_quality</td><td style='border: 1px solid #dddddd'>01999ea4-6827-7835-ba2c-307593f0df7c</td><td style='border: 1px solid #dddddd'>7aa53a37-2c76-4279-8dfc-f18dad4dcc79</td><td style='border: 1px solid #dddddd'>subscription</td><td style='border: 1px solid #dddddd'>01999ea4-4392-7310-82bc-62dde8040c2f</td></tr><tr><td style='border: 1px solid #dddddd'>2025-10-01 07:22:23.713035+00:00</td><td style='border: 1px solid #dddddd'>density</td><td style='border: 1px solid #dddddd'>01999ea6-9e61-7162-a1ce-bec9b6818fe8</td><td style='border: 1px solid #dddddd'>0.0165</td><td style='border: 1px solid #dddddd'>None</td><td style='border: 1px solid #dddddd'>None</td><td style='border: 1px solid #dddddd'>['computed_on:payload_logging', 'field_type:subscription', 'aggregation_type:mean']</td><td style='border: 1px solid #dddddd'>generative_ai_quality</td><td style='border: 1px solid #dddddd'>01999ea4-6827-7835-ba2c-307593f0df7c</td><td style='border: 1px solid #dddddd'>7aa53a37-2c76-4279-8dfc-f18dad4dcc79</td><td style='border: 1px solid #dddddd'>subscription</td><td style='border: 1px solid #dddddd'>01999ea4-4392-7310-82bc-62dde8040c2f</td></tr><tr><td style='border: 1px solid #dddddd'>2025-10-01 07:22:23.713035+00:00</td><td style='border: 1px solid #dddddd'>abstractness</td><td style='border: 1px solid #dddddd'>01999ea6-9e61-7162-a1ce-bec9b6818fe8</td><td style='border: 1px solid #dddddd'>0.3951</td><td style='border: 1px solid #dddddd'>None</td><td style='border: 1px solid #dddddd'>0.2</td><td style='border: 1px solid #dddddd'>['computed_on:payload_logging', 'field_type:subscription', 'aggregation_type:mean']</td><td style='border: 1px solid #dddddd'>generative_ai_quality</td><td style='border: 1px solid #dddddd'>01999ea4-6827-7835-ba2c-307593f0df7c</td><td style='border: 1px solid #dddddd'>7aa53a37-2c76-4279-8dfc-f18dad4dcc79</td><td style='border: 1px solid #dddddd'>subscription</td><td style='border: 1px solid #dddddd'>01999ea4-4392-7310-82bc-62dde8040c2f</td></tr><tr><td style='border: 1px solid #dddddd'>2025-10-01 07:22:23.713035+00:00</td><td style='border: 1px solid #dddddd'>flesch_reading_ease</td><td style='border: 1px solid #dddddd'>01999ea6-9e61-7162-a1ce-bec9b6818fe8</td><td style='border: 1px solid #dddddd'>8.64</td><td style='border: 1px solid #dddddd'>60.0</td><td style='border: 1px solid #dddddd'>None</td><td style='border: 1px solid #dddddd'>['computed_on:payload_logging', 'field_type:subscription', 'aggregation_type:min']</td><td style='border: 1px solid #dddddd'>generative_ai_quality</td><td style='border: 1px solid #dddddd'>01999ea4-6827-7835-ba2c-307593f0df7c</td><td style='border: 1px solid #dddddd'>7aa53a37-2c76-4279-8dfc-f18dad4dcc79</td><td style='border: 1px solid #dddddd'>subscription</td><td style='border: 1px solid #dddddd'>01999ea4-4392-7310-82bc-62dde8040c2f</td></tr><tr><td style='border: 1px solid #dddddd'>2025-10-01 07:22:23.713035+00:00</td><td style='border: 1px solid #dddddd'>records_processed</td><td style='border: 1px solid #dddddd'>01999ea6-9e61-7162-a1ce-bec9b6818fe8</td><td style='border: 1px solid #dddddd'>110.0</td><td style='border: 1px solid #dddddd'>None</td><td style='border: 1px solid #dddddd'>None</td><td style='border: 1px solid #dddddd'>['computed_on:payload_logging', 'field_type:subscription', 'aggregation_type:min']</td><td style='border: 1px solid #dddddd'>generative_ai_quality</td><td style='border: 1px solid #dddddd'>01999ea4-6827-7835-ba2c-307593f0df7c</td><td style='border: 1px solid #dddddd'>7aa53a37-2c76-4279-8dfc-f18dad4dcc79</td><td style='border: 1px solid #dddddd'>subscription</td><td style='border: 1px solid #dddddd'>01999ea4-4392-7310-82bc-62dde8040c2f</td></tr><tr><td style='border: 1px solid #dddddd'>2025-10-01 07:22:23.713035+00:00</td><td style='border: 1px solid #dddddd'>compression</td><td style='border: 1px solid #dddddd'>01999ea6-9e61-7162-a1ce-bec9b6818fe8</td><td style='border: 1px solid #dddddd'>1.026</td><td style='border: 1px solid #dddddd'>None</td><td style='border: 1px solid #dddddd'>None</td><td style='border: 1px solid #dddddd'>['computed_on:payload_logging', 'field_type:subscription', 'aggregation_type:min']</td><td style='border: 1px solid #dddddd'>generative_ai_quality</td><td style='border: 1px solid #dddddd'>01999ea4-6827-7835-ba2c-307593f0df7c</td><td style='border: 1px solid #dddddd'>7aa53a37-2c76-4279-8dfc-f18dad4dcc79</td><td style='border: 1px solid #dddddd'>subscription</td><td style='border: 1px solid #dddddd'>01999ea4-4392-7310-82bc-62dde8040c2f</td></tr>\n",
       "            </table>\n",
       "        </body>\n",
       "        </HTML>"
      ],
      "text/plain": [
       "<IPython.core.display.HTML object>"
      ]
     },
     "metadata": {},
     "output_type": "display_data"
    },
    {
     "name": "stdout",
     "output_type": "stream",
     "text": [
      "Note: First 10 records were displayed.\n"
     ]
    }
   ],
   "source": [
    "wos_client.monitor_instances.show_metrics(monitor_instance_id=genaiquality_monitor_id, space_id=space_id)"
   ]
  },
  {
   "cell_type": "markdown",
   "metadata": {},
   "source": [
    "## Display record level metrics for Generative AI Quality "
   ]
  },
  {
   "cell_type": "markdown",
   "metadata": {},
   "source": [
    "Read the dataset id for generative ai quality dataset"
   ]
  },
  {
   "cell_type": "code",
   "execution_count": 65,
   "metadata": {
    "ExecuteTime": {
     "end_time": "2024-09-18T13:52:28.843757Z",
     "start_time": "2024-09-18T13:52:27.965787Z"
    }
   },
   "outputs": [
    {
     "data": {
      "text/plain": [
       "'01999ea4-733a-7ac6-ac76-fcdf51991522'"
      ]
     },
     "execution_count": 65,
     "metadata": {},
     "output_type": "execute_result"
    }
   ],
   "source": [
    "result = wos_client.data_sets.list(target_target_id = prod_subscription_id,\n",
    "                                target_target_type = \"subscription\",\n",
    "                                type = \"gen_ai_quality_metrics\").result\n",
    "\n",
    "genaiq_dataset_id = result.data_sets[0].metadata.id\n",
    "genaiq_dataset_id"
   ]
  },
  {
   "cell_type": "markdown",
   "metadata": {},
   "source": [
    "Displaying record level metrics for generative ai quality"
   ]
  },
  {
   "cell_type": "code",
   "execution_count": 66,
   "metadata": {
    "ExecuteTime": {
     "end_time": "2024-09-18T13:52:31.506840Z",
     "start_time": "2024-09-18T13:52:30.184202Z"
    }
   },
   "outputs": [
    {
     "data": {
      "text/html": [
       "<HTML>\n",
       "        <body>\n",
       "            <h3>Data Set 01999ea4-733a-7ac6-ac76-fcdf51991522 Records</h3>\n",
       "            <table style='border: 1px solid #dddddd; font-family: Courier'>\n",
       "                <th style='border: 1px solid #dddddd'>flesch_reading_ease</th><th style='border: 1px solid #dddddd'>normalized_recall</th><th style='border: 1px solid #dddddd'>hap_input_score</th><th style='border: 1px solid #dddddd'>rouge2</th><th style='border: 1px solid #dddddd'>pii_entities</th><th style='border: 1px solid #dddddd'>scoring_id</th><th style='border: 1px solid #dddddd'>jaccard_similarity</th><th style='border: 1px solid #dddddd'>computed_on</th><th style='border: 1px solid #dddddd'>scoring_timestamp</th><th style='border: 1px solid #dddddd'>meteor</th><th style='border: 1px solid #dddddd'>rougelsum</th><th style='border: 1px solid #dddddd'>store_persist_timestamp</th><th style='border: 1px solid #dddddd'>compression</th><th style='border: 1px solid #dddddd'>repetitiveness</th><th style='border: 1px solid #dddddd'>hap_score</th><th style='border: 1px solid #dddddd'>coverage</th><th style='border: 1px solid #dddddd'>pii_input_entities</th><th style='border: 1px solid #dddddd'>pii</th><th style='border: 1px solid #dddddd'>normalized_precision</th><th style='border: 1px solid #dddddd'>hap_input_score_entities</th><th style='border: 1px solid #dddddd'>hap_score_positions</th><th style='border: 1px solid #dddddd'>bleu</th><th style='border: 1px solid #dddddd'>run_id</th><th style='border: 1px solid #dddddd'>normalized_f1</th><th style='border: 1px solid #dddddd'>density</th><th style='border: 1px solid #dddddd'>pii_input_positions</th><th style='border: 1px solid #dddddd'>pii_positions</th><th style='border: 1px solid #dddddd'>rougel</th><th style='border: 1px solid #dddddd'>abstractness</th><th style='border: 1px solid #dddddd'>sari</th><th style='border: 1px solid #dddddd'>cosine_similarity</th><th style='border: 1px solid #dddddd'>hap_score_entities</th><th style='border: 1px solid #dddddd'>pii_input</th><th style='border: 1px solid #dddddd'>hap_input_score_positions</th><th style='border: 1px solid #dddddd'>rouge1</th>\n",
       "                <tr><td style='border: 1px solid #dddddd'>35.27</td><td style='border: 1px solid #dddddd'>None</td><td style='border: 1px solid #dddddd'>None</td><td style='border: 1px solid #dddddd'>None</td><td style='border: 1px solid #dddddd'>None</td><td style='border: 1px solid #dddddd'>447b3db6-3d83-455e-9d24-d689f979d1ca-1</td><td style='border: 1px solid #dddddd'>None</td><td style='border: 1px solid #dddddd'>payload_logging</td><td style='border: 1px solid #dddddd'>2025-10-01T07:21:09.003766Z</td><td style='border: 1px solid #dddddd'>None</td><td style='border: 1px solid #dddddd'>None</td><td style='border: 1px solid #dddddd'>2025-10-01T07:22:24.376743Z</td><td style='border: 1px solid #dddddd'>1.026</td><td style='border: 1px solid #dddddd'>0.0862</td><td style='border: 1px solid #dddddd'>None</td><td style='border: 1px solid #dddddd'>0.7215</td><td style='border: 1px solid #dddddd'>None</td><td style='border: 1px solid #dddddd'>None</td><td style='border: 1px solid #dddddd'>None</td><td style='border: 1px solid #dddddd'>None</td><td style='border: 1px solid #dddddd'>None</td><td style='border: 1px solid #dddddd'>None</td><td style='border: 1px solid #dddddd'>7aa53a37-2c76-4279-8dfc-f18dad4dcc79</td><td style='border: 1px solid #dddddd'>None</td><td style='border: 1px solid #dddddd'>0.0288</td><td style='border: 1px solid #dddddd'>None</td><td style='border: 1px solid #dddddd'>None</td><td style='border: 1px solid #dddddd'>None</td><td style='border: 1px solid #dddddd'>0.4483</td><td style='border: 1px solid #dddddd'>None</td><td style='border: 1px solid #dddddd'>None</td><td style='border: 1px solid #dddddd'>None</td><td style='border: 1px solid #dddddd'>None</td><td style='border: 1px solid #dddddd'>None</td><td style='border: 1px solid #dddddd'>None</td></tr><tr><td style='border: 1px solid #dddddd'>57.16</td><td style='border: 1px solid #dddddd'>None</td><td style='border: 1px solid #dddddd'>None</td><td style='border: 1px solid #dddddd'>None</td><td style='border: 1px solid #dddddd'>None</td><td style='border: 1px solid #dddddd'>9e62fe24-98cd-4bef-b7a5-2694166791b3-1</td><td style='border: 1px solid #dddddd'>None</td><td style='border: 1px solid #dddddd'>payload_logging</td><td style='border: 1px solid #dddddd'>2025-10-01T07:21:09.004014Z</td><td style='border: 1px solid #dddddd'>None</td><td style='border: 1px solid #dddddd'>None</td><td style='border: 1px solid #dddddd'>2025-10-01T07:22:24.376719Z</td><td style='border: 1px solid #dddddd'>4.4472</td><td style='border: 1px solid #dddddd'>0.1197</td><td style='border: 1px solid #dddddd'>None</td><td style='border: 1px solid #dddddd'>0.5768</td><td style='border: 1px solid #dddddd'>None</td><td style='border: 1px solid #dddddd'>None</td><td style='border: 1px solid #dddddd'>None</td><td style='border: 1px solid #dddddd'>None</td><td style='border: 1px solid #dddddd'>None</td><td style='border: 1px solid #dddddd'>None</td><td style='border: 1px solid #dddddd'>7aa53a37-2c76-4279-8dfc-f18dad4dcc79</td><td style='border: 1px solid #dddddd'>None</td><td style='border: 1px solid #dddddd'>0.0126</td><td style='border: 1px solid #dddddd'>None</td><td style='border: 1px solid #dddddd'>None</td><td style='border: 1px solid #dddddd'>None</td><td style='border: 1px solid #dddddd'>0.2817</td><td style='border: 1px solid #dddddd'>None</td><td style='border: 1px solid #dddddd'>None</td><td style='border: 1px solid #dddddd'>None</td><td style='border: 1px solid #dddddd'>None</td><td style='border: 1px solid #dddddd'>None</td><td style='border: 1px solid #dddddd'>None</td></tr><tr><td style='border: 1px solid #dddddd'>35.27</td><td style='border: 1px solid #dddddd'>None</td><td style='border: 1px solid #dddddd'>None</td><td style='border: 1px solid #dddddd'>None</td><td style='border: 1px solid #dddddd'>None</td><td style='border: 1px solid #dddddd'>5ac1aea8-44ba-4a9e-8605-22d3d4b00df3-1</td><td style='border: 1px solid #dddddd'>None</td><td style='border: 1px solid #dddddd'>payload_logging</td><td style='border: 1px solid #dddddd'>2025-10-01T07:21:09.004056Z</td><td style='border: 1px solid #dddddd'>None</td><td style='border: 1px solid #dddddd'>None</td><td style='border: 1px solid #dddddd'>2025-10-01T07:22:24.376697Z</td><td style='border: 1px solid #dddddd'>1.026</td><td style='border: 1px solid #dddddd'>0.0862</td><td style='border: 1px solid #dddddd'>None</td><td style='border: 1px solid #dddddd'>0.7215</td><td style='border: 1px solid #dddddd'>None</td><td style='border: 1px solid #dddddd'>None</td><td style='border: 1px solid #dddddd'>None</td><td style='border: 1px solid #dddddd'>None</td><td style='border: 1px solid #dddddd'>None</td><td style='border: 1px solid #dddddd'>None</td><td style='border: 1px solid #dddddd'>7aa53a37-2c76-4279-8dfc-f18dad4dcc79</td><td style='border: 1px solid #dddddd'>None</td><td style='border: 1px solid #dddddd'>0.0288</td><td style='border: 1px solid #dddddd'>None</td><td style='border: 1px solid #dddddd'>None</td><td style='border: 1px solid #dddddd'>None</td><td style='border: 1px solid #dddddd'>0.4483</td><td style='border: 1px solid #dddddd'>None</td><td style='border: 1px solid #dddddd'>None</td><td style='border: 1px solid #dddddd'>None</td><td style='border: 1px solid #dddddd'>None</td><td style='border: 1px solid #dddddd'>None</td><td style='border: 1px solid #dddddd'>None</td></tr><tr><td style='border: 1px solid #dddddd'>35.27</td><td style='border: 1px solid #dddddd'>None</td><td style='border: 1px solid #dddddd'>None</td><td style='border: 1px solid #dddddd'>None</td><td style='border: 1px solid #dddddd'>None</td><td style='border: 1px solid #dddddd'>1d8b25af-243c-464f-a68c-563500c42d5d-1</td><td style='border: 1px solid #dddddd'>None</td><td style='border: 1px solid #dddddd'>payload_logging</td><td style='border: 1px solid #dddddd'>2025-10-01T07:21:10.879549Z</td><td style='border: 1px solid #dddddd'>None</td><td style='border: 1px solid #dddddd'>None</td><td style='border: 1px solid #dddddd'>2025-10-01T07:22:24.376673Z</td><td style='border: 1px solid #dddddd'>1.026</td><td style='border: 1px solid #dddddd'>0.0862</td><td style='border: 1px solid #dddddd'>None</td><td style='border: 1px solid #dddddd'>0.7215</td><td style='border: 1px solid #dddddd'>None</td><td style='border: 1px solid #dddddd'>None</td><td style='border: 1px solid #dddddd'>None</td><td style='border: 1px solid #dddddd'>None</td><td style='border: 1px solid #dddddd'>None</td><td style='border: 1px solid #dddddd'>None</td><td style='border: 1px solid #dddddd'>7aa53a37-2c76-4279-8dfc-f18dad4dcc79</td><td style='border: 1px solid #dddddd'>None</td><td style='border: 1px solid #dddddd'>0.0288</td><td style='border: 1px solid #dddddd'>None</td><td style='border: 1px solid #dddddd'>None</td><td style='border: 1px solid #dddddd'>None</td><td style='border: 1px solid #dddddd'>0.4483</td><td style='border: 1px solid #dddddd'>None</td><td style='border: 1px solid #dddddd'>None</td><td style='border: 1px solid #dddddd'>None</td><td style='border: 1px solid #dddddd'>None</td><td style='border: 1px solid #dddddd'>None</td><td style='border: 1px solid #dddddd'>None</td></tr><tr><td style='border: 1px solid #dddddd'>65.42</td><td style='border: 1px solid #dddddd'>None</td><td style='border: 1px solid #dddddd'>None</td><td style='border: 1px solid #dddddd'>None</td><td style='border: 1px solid #dddddd'>None</td><td style='border: 1px solid #dddddd'>f23e096c-59fb-41a7-857c-2a9387d62a98-1</td><td style='border: 1px solid #dddddd'>None</td><td style='border: 1px solid #dddddd'>payload_logging</td><td style='border: 1px solid #dddddd'>2025-10-01T07:21:10.879749Z</td><td style='border: 1px solid #dddddd'>None</td><td style='border: 1px solid #dddddd'>None</td><td style='border: 1px solid #dddddd'>2025-10-01T07:22:24.376650Z</td><td style='border: 1px solid #dddddd'>3.5585</td><td style='border: 1px solid #dddddd'>0.122</td><td style='border: 1px solid #dddddd'>None</td><td style='border: 1px solid #dddddd'>0.5247</td><td style='border: 1px solid #dddddd'>None</td><td style='border: 1px solid #dddddd'>None</td><td style='border: 1px solid #dddddd'>None</td><td style='border: 1px solid #dddddd'>None</td><td style='border: 1px solid #dddddd'>None</td><td style='border: 1px solid #dddddd'>None</td><td style='border: 1px solid #dddddd'>7aa53a37-2c76-4279-8dfc-f18dad4dcc79</td><td style='border: 1px solid #dddddd'>None</td><td style='border: 1px solid #dddddd'>0.008</td><td style='border: 1px solid #dddddd'>None</td><td style='border: 1px solid #dddddd'>None</td><td style='border: 1px solid #dddddd'>None</td><td style='border: 1px solid #dddddd'>0.3821</td><td style='border: 1px solid #dddddd'>None</td><td style='border: 1px solid #dddddd'>None</td><td style='border: 1px solid #dddddd'>None</td><td style='border: 1px solid #dddddd'>None</td><td style='border: 1px solid #dddddd'>None</td><td style='border: 1px solid #dddddd'>None</td></tr><tr><td style='border: 1px solid #dddddd'>39.94</td><td style='border: 1px solid #dddddd'>None</td><td style='border: 1px solid #dddddd'>None</td><td style='border: 1px solid #dddddd'>None</td><td style='border: 1px solid #dddddd'>None</td><td style='border: 1px solid #dddddd'>3ee377e8-2aea-48cc-9eb0-91c4db43a93a-1</td><td style='border: 1px solid #dddddd'>None</td><td style='border: 1px solid #dddddd'>payload_logging</td><td style='border: 1px solid #dddddd'>2025-10-01T07:21:10.879789Z</td><td style='border: 1px solid #dddddd'>None</td><td style='border: 1px solid #dddddd'>None</td><td style='border: 1px solid #dddddd'>2025-10-01T07:22:24.376627Z</td><td style='border: 1px solid #dddddd'>1.6987</td><td style='border: 1px solid #dddddd'>0.1088</td><td style='border: 1px solid #dddddd'>None</td><td style='border: 1px solid #dddddd'>0.6717</td><td style='border: 1px solid #dddddd'>None</td><td style='border: 1px solid #dddddd'>None</td><td style='border: 1px solid #dddddd'>None</td><td style='border: 1px solid #dddddd'>None</td><td style='border: 1px solid #dddddd'>None</td><td style='border: 1px solid #dddddd'>None</td><td style='border: 1px solid #dddddd'>7aa53a37-2c76-4279-8dfc-f18dad4dcc79</td><td style='border: 1px solid #dddddd'>None</td><td style='border: 1px solid #dddddd'>0.0096</td><td style='border: 1px solid #dddddd'>None</td><td style='border: 1px solid #dddddd'>None</td><td style='border: 1px solid #dddddd'>None</td><td style='border: 1px solid #dddddd'>0.3469</td><td style='border: 1px solid #dddddd'>None</td><td style='border: 1px solid #dddddd'>None</td><td style='border: 1px solid #dddddd'>None</td><td style='border: 1px solid #dddddd'>None</td><td style='border: 1px solid #dddddd'>None</td><td style='border: 1px solid #dddddd'>None</td></tr><tr><td style='border: 1px solid #dddddd'>50.23</td><td style='border: 1px solid #dddddd'>None</td><td style='border: 1px solid #dddddd'>None</td><td style='border: 1px solid #dddddd'>None</td><td style='border: 1px solid #dddddd'>None</td><td style='border: 1px solid #dddddd'>462cbeca-d4cd-453d-9805-eab72415b813-1</td><td style='border: 1px solid #dddddd'>None</td><td style='border: 1px solid #dddddd'>payload_logging</td><td style='border: 1px solid #dddddd'>2025-10-01T07:21:10.879813Z</td><td style='border: 1px solid #dddddd'>None</td><td style='border: 1px solid #dddddd'>None</td><td style='border: 1px solid #dddddd'>2025-10-01T07:22:24.376604Z</td><td style='border: 1px solid #dddddd'>2.7818</td><td style='border: 1px solid #dddddd'>0.1667</td><td style='border: 1px solid #dddddd'>None</td><td style='border: 1px solid #dddddd'>0.5207</td><td style='border: 1px solid #dddddd'>None</td><td style='border: 1px solid #dddddd'>None</td><td style='border: 1px solid #dddddd'>None</td><td style='border: 1px solid #dddddd'>None</td><td style='border: 1px solid #dddddd'>None</td><td style='border: 1px solid #dddddd'>None</td><td style='border: 1px solid #dddddd'>7aa53a37-2c76-4279-8dfc-f18dad4dcc79</td><td style='border: 1px solid #dddddd'>None</td><td style='border: 1px solid #dddddd'>0.0071</td><td style='border: 1px solid #dddddd'>None</td><td style='border: 1px solid #dddddd'>None</td><td style='border: 1px solid #dddddd'>None</td><td style='border: 1px solid #dddddd'>0.4412</td><td style='border: 1px solid #dddddd'>None</td><td style='border: 1px solid #dddddd'>None</td><td style='border: 1px solid #dddddd'>None</td><td style='border: 1px solid #dddddd'>None</td><td style='border: 1px solid #dddddd'>None</td><td style='border: 1px solid #dddddd'>None</td></tr><tr><td style='border: 1px solid #dddddd'>50.33</td><td style='border: 1px solid #dddddd'>None</td><td style='border: 1px solid #dddddd'>None</td><td style='border: 1px solid #dddddd'>None</td><td style='border: 1px solid #dddddd'>None</td><td style='border: 1px solid #dddddd'>3713b7cf-d086-4fbc-a1e7-f804e4967f75-1</td><td style='border: 1px solid #dddddd'>None</td><td style='border: 1px solid #dddddd'>payload_logging</td><td style='border: 1px solid #dddddd'>2025-10-01T07:21:10.879837Z</td><td style='border: 1px solid #dddddd'>None</td><td style='border: 1px solid #dddddd'>None</td><td style='border: 1px solid #dddddd'>2025-10-01T07:22:24.376580Z</td><td style='border: 1px solid #dddddd'>3.6149</td><td style='border: 1px solid #dddddd'>0.1579</td><td style='border: 1px solid #dddddd'>None</td><td style='border: 1px solid #dddddd'>0.5876</td><td style='border: 1px solid #dddddd'>None</td><td style='border: 1px solid #dddddd'>None</td><td style='border: 1px solid #dddddd'>None</td><td style='border: 1px solid #dddddd'>None</td><td style='border: 1px solid #dddddd'>None</td><td style='border: 1px solid #dddddd'>None</td><td style='border: 1px solid #dddddd'>7aa53a37-2c76-4279-8dfc-f18dad4dcc79</td><td style='border: 1px solid #dddddd'>None</td><td style='border: 1px solid #dddddd'>0.0098</td><td style='border: 1px solid #dddddd'>None</td><td style='border: 1px solid #dddddd'>None</td><td style='border: 1px solid #dddddd'>None</td><td style='border: 1px solid #dddddd'>0.4135</td><td style='border: 1px solid #dddddd'>None</td><td style='border: 1px solid #dddddd'>None</td><td style='border: 1px solid #dddddd'>None</td><td style='border: 1px solid #dddddd'>None</td><td style='border: 1px solid #dddddd'>None</td><td style='border: 1px solid #dddddd'>None</td></tr><tr><td style='border: 1px solid #dddddd'>50.23</td><td style='border: 1px solid #dddddd'>None</td><td style='border: 1px solid #dddddd'>None</td><td style='border: 1px solid #dddddd'>None</td><td style='border: 1px solid #dddddd'>None</td><td style='border: 1px solid #dddddd'>600b6ba2-c763-418d-a573-5a5acf2f54df-1</td><td style='border: 1px solid #dddddd'>None</td><td style='border: 1px solid #dddddd'>payload_logging</td><td style='border: 1px solid #dddddd'>2025-10-01T07:21:10.879862Z</td><td style='border: 1px solid #dddddd'>None</td><td style='border: 1px solid #dddddd'>None</td><td style='border: 1px solid #dddddd'>2025-10-01T07:22:24.376557Z</td><td style='border: 1px solid #dddddd'>2.7818</td><td style='border: 1px solid #dddddd'>0.1667</td><td style='border: 1px solid #dddddd'>None</td><td style='border: 1px solid #dddddd'>0.5207</td><td style='border: 1px solid #dddddd'>None</td><td style='border: 1px solid #dddddd'>None</td><td style='border: 1px solid #dddddd'>None</td><td style='border: 1px solid #dddddd'>None</td><td style='border: 1px solid #dddddd'>None</td><td style='border: 1px solid #dddddd'>None</td><td style='border: 1px solid #dddddd'>7aa53a37-2c76-4279-8dfc-f18dad4dcc79</td><td style='border: 1px solid #dddddd'>None</td><td style='border: 1px solid #dddddd'>0.0071</td><td style='border: 1px solid #dddddd'>None</td><td style='border: 1px solid #dddddd'>None</td><td style='border: 1px solid #dddddd'>None</td><td style='border: 1px solid #dddddd'>0.4412</td><td style='border: 1px solid #dddddd'>None</td><td style='border: 1px solid #dddddd'>None</td><td style='border: 1px solid #dddddd'>None</td><td style='border: 1px solid #dddddd'>None</td><td style='border: 1px solid #dddddd'>None</td><td style='border: 1px solid #dddddd'>None</td></tr><tr><td style='border: 1px solid #dddddd'>65.42</td><td style='border: 1px solid #dddddd'>None</td><td style='border: 1px solid #dddddd'>None</td><td style='border: 1px solid #dddddd'>None</td><td style='border: 1px solid #dddddd'>None</td><td style='border: 1px solid #dddddd'>01073ac3-f36c-457e-ad98-d46e825b3e40-1</td><td style='border: 1px solid #dddddd'>None</td><td style='border: 1px solid #dddddd'>payload_logging</td><td style='border: 1px solid #dddddd'>2025-10-01T07:21:12.246574Z</td><td style='border: 1px solid #dddddd'>None</td><td style='border: 1px solid #dddddd'>None</td><td style='border: 1px solid #dddddd'>2025-10-01T07:22:24.376527Z</td><td style='border: 1px solid #dddddd'>3.5585</td><td style='border: 1px solid #dddddd'>0.122</td><td style='border: 1px solid #dddddd'>None</td><td style='border: 1px solid #dddddd'>0.5247</td><td style='border: 1px solid #dddddd'>None</td><td style='border: 1px solid #dddddd'>None</td><td style='border: 1px solid #dddddd'>None</td><td style='border: 1px solid #dddddd'>None</td><td style='border: 1px solid #dddddd'>None</td><td style='border: 1px solid #dddddd'>None</td><td style='border: 1px solid #dddddd'>7aa53a37-2c76-4279-8dfc-f18dad4dcc79</td><td style='border: 1px solid #dddddd'>None</td><td style='border: 1px solid #dddddd'>0.008</td><td style='border: 1px solid #dddddd'>None</td><td style='border: 1px solid #dddddd'>None</td><td style='border: 1px solid #dddddd'>None</td><td style='border: 1px solid #dddddd'>0.3821</td><td style='border: 1px solid #dddddd'>None</td><td style='border: 1px solid #dddddd'>None</td><td style='border: 1px solid #dddddd'>None</td><td style='border: 1px solid #dddddd'>None</td><td style='border: 1px solid #dddddd'>None</td><td style='border: 1px solid #dddddd'>None</td></tr>\n",
       "            </table>\n",
       "        </body>\n",
       "        </HTML>"
      ],
      "text/plain": [
       "<IPython.core.display.HTML object>"
      ]
     },
     "metadata": {},
     "output_type": "display_data"
    }
   ],
   "source": [
    "wos_client.data_sets.show_records(data_set_id = genaiq_dataset_id)"
   ]
  },
  {
   "cell_type": "markdown",
   "metadata": {},
   "source": [
    "# Plot rougel and rougelsum metrics against records <a name=\"plotspace\"></a>"
   ]
  },
  {
   "cell_type": "code",
   "execution_count": 67,
   "metadata": {
    "ExecuteTime": {
     "end_time": "2024-09-18T13:52:34.876823Z",
     "start_time": "2024-09-18T13:52:33.552450Z"
    }
   },
   "outputs": [],
   "source": [
    "result = wos_client.data_sets.get_list_of_records(data_set_id = genaiq_dataset_id).result\n",
    "result[\"records\"]\n",
    "x = []\n",
    "y_rougel = []\n",
    "y_rougelsum = []\n",
    "for each in result[\"records\"]:\n",
    "    x.append(each[\"metadata\"][\"id\"][-5:]) # Reading only last 5 characters to fit in the display\n",
    "    y_rougel.append(each[\"entity\"][\"values\"][\"rougel\"])\n",
    "    y_rougelsum.append(each[\"entity\"][\"values\"][\"rougelsum\"])"
   ]
  },
  {
   "cell_type": "markdown",
   "metadata": {},
   "source": [
    "Plot rougel metrics against records"
   ]
  },
  {
   "cell_type": "code",
   "execution_count": 68,
   "metadata": {
    "ExecuteTime": {
     "end_time": "2024-09-18T13:52:36.417574Z",
     "start_time": "2024-09-18T13:52:35.899682Z"
    }
   },
   "outputs": [
    {
     "data": {
      "image/png": "[encoded data removed]",
      "text/plain": [
       "<Figure size 640x480 with 1 Axes>"
      ]
     },
     "metadata": {},
     "output_type": "display_data"
    }
   ],
   "source": [
    "import matplotlib.pyplot as plt\n",
    "plt.scatter(x, y_rougel, marker='o')\n",
    "\n",
    "# Adding labels and title\n",
    "plt.xlabel('X-axis - Record id (last 5 characters)')\n",
    "plt.ylabel('Y-axis - ROUGEL')\n",
    "plt.title('rougel vs record id')\n",
    "\n",
    "# Display the graph\n",
    "plt.show()"
   ]
  },
  {
   "cell_type": "markdown",
   "metadata": {},
   "source": [
    "Plot rougelsum metrics against records"
   ]
  },
  {
   "cell_type": "code",
   "execution_count": 69,
   "metadata": {
    "ExecuteTime": {
     "end_time": "2024-09-18T13:52:37.702210Z",
     "start_time": "2024-09-18T13:52:37.497548Z"
    }
   },
   "outputs": [
    {
     "data": {
      "image/png": "[encoded data removed]",
      "text/plain": [
       "<Figure size 640x480 with 1 Axes>"
      ]
     },
     "metadata": {},
     "output_type": "display_data"
    }
   ],
   "source": [
    "import matplotlib.pyplot as plt\n",
    "plt.scatter(x, y_rougelsum, marker='o')\n",
    "\n",
    "# Adding labels and title\n",
    "plt.xlabel('X-axis - Record id (last 5 characters)')\n",
    "plt.ylabel('Y-axis - ROUGELSUM')\n",
    "plt.title('rougelsum vs record id')\n",
    "\n",
    "# Display the graph\n",
    "plt.show()"
   ]
  },
  {
   "cell_type": "markdown",
   "metadata": {},
   "source": [
    "## Display the Drift V2 metrics"
   ]
  },
  {
   "cell_type": "markdown",
   "metadata": {},
   "source": [
    "### Read the Drift V2 monitor instance id\n",
    "\n",
    "Monitor instance ID of Drift V2 metrics is required for reading its metrics."
   ]
  },
  {
   "cell_type": "code",
   "execution_count": 70,
   "metadata": {
    "ExecuteTime": {
     "end_time": "2024-09-18T13:52:40.298031Z",
     "start_time": "2024-09-18T13:52:39.573527Z"
    }
   },
   "outputs": [
    {
     "data": {
      "text/plain": [
       "'01999ea4-6ec3-7b9f-9cb7-eb7432e85bbe'"
      ]
     },
     "execution_count": 70,
     "metadata": {},
     "output_type": "execute_result"
    }
   ],
   "source": [
    "monitor_definition_id = \"drift_v2\"\n",
    "result = wos_client.monitor_instances.list(data_mart_id = data_mart_id,\n",
    "                                           monitor_definition_id = monitor_definition_id,\n",
    "                                           target_target_id = target_target_id,\n",
    "                                           space_id = space_id).result\n",
    "result_json = result._to_dict()\n",
    "drift_monitor_id = result_json[\"monitor_instances\"][0][\"metadata\"][\"id\"]\n",
    "drift_monitor_id"
   ]
  },
  {
   "cell_type": "markdown",
   "metadata": {},
   "source": [
    "Displaying the monitor metrics of Drift V2 generated through the risk evaluation."
   ]
  },
  {
   "cell_type": "code",
   "execution_count": 71,
   "metadata": {
    "ExecuteTime": {
     "end_time": "2024-09-18T13:52:45.667702Z",
     "start_time": "2024-09-18T13:52:41.126466Z"
    }
   },
   "outputs": [
    {
     "data": {
      "text/html": [
       "<HTML>\n",
       "        <body>\n",
       "            <h3>01999ea4-6ec3-7b9f-9cb7-eb7432e85bbe Monitor Runs Metrics from: 2025-09-24 12:55:43.446429  till: 2025-10-01 12:55:43.446441</h3>\n",
       "            <table style='border: 1px solid #dddddd; font-family: Courier'>\n",
       "                <th style='border: 1px solid #dddddd'>ts</th><th style='border: 1px solid #dddddd'>id</th><th style='border: 1px solid #dddddd'>measurement_id</th><th style='border: 1px solid #dddddd'>value</th><th style='border: 1px solid #dddddd'>lower_limit</th><th style='border: 1px solid #dddddd'>upper_limit</th><th style='border: 1px solid #dddddd'>tags</th><th style='border: 1px solid #dddddd'>monitor_definition_id</th><th style='border: 1px solid #dddddd'>monitor_instance_id</th><th style='border: 1px solid #dddddd'>run_id</th><th style='border: 1px solid #dddddd'>target_type</th><th style='border: 1px solid #dddddd'>target_id</th>\n",
       "                <tr><td style='border: 1px solid #dddddd'>2025-10-01 07:23:18.248380+00:00</td><td style='border: 1px solid #dddddd'>records_processed</td><td style='border: 1px solid #dddddd'>01999ea7-7368-70c5-bc1d-fe868596b102</td><td style='border: 1px solid #dddddd'>10.0</td><td style='border: 1px solid #dddddd'>None</td><td style='border: 1px solid #dddddd'>None</td><td style='border: 1px solid #dddddd'>['algorithm_used:total_variation', 'computed_on:payload', 'field_type:input_meta', 'field_name:wos_input_character_count__']</td><td style='border: 1px solid #dddddd'>drift_v2</td><td style='border: 1px solid #dddddd'>01999ea4-6ec3-7b9f-9cb7-eb7432e85bbe</td><td style='border: 1px solid #dddddd'>b1663c02-a764-4287-b7e2-66c5a6965ce8</td><td style='border: 1px solid #dddddd'>subscription</td><td style='border: 1px solid #dddddd'>01999ea4-4392-7310-82bc-62dde8040c2f</td></tr><tr><td style='border: 1px solid #dddddd'>2025-10-01 07:23:18.248380+00:00</td><td style='border: 1px solid #dddddd'>input_metadata_drift_score</td><td style='border: 1px solid #dddddd'>01999ea7-7368-70c5-bc1d-fe868596b102</td><td style='border: 1px solid #dddddd'>0.3907</td><td style='border: 1px solid #dddddd'>None</td><td style='border: 1px solid #dddddd'>None</td><td style='border: 1px solid #dddddd'>['algorithm_used:total_variation', 'computed_on:payload', 'field_type:input_meta', 'field_name:wos_input_character_count__']</td><td style='border: 1px solid #dddddd'>drift_v2</td><td style='border: 1px solid #dddddd'>01999ea4-6ec3-7b9f-9cb7-eb7432e85bbe</td><td style='border: 1px solid #dddddd'>b1663c02-a764-4287-b7e2-66c5a6965ce8</td><td style='border: 1px solid #dddddd'>subscription</td><td style='border: 1px solid #dddddd'>01999ea4-4392-7310-82bc-62dde8040c2f</td></tr><tr><td style='border: 1px solid #dddddd'>2025-10-01 07:23:18.248380+00:00</td><td style='border: 1px solid #dddddd'>records_processed</td><td style='border: 1px solid #dddddd'>01999ea7-7368-70c5-bc1d-fe868596b102</td><td style='border: 1px solid #dddddd'>10.0</td><td style='border: 1px solid #dddddd'>None</td><td style='border: 1px solid #dddddd'>None</td><td style='border: 1px solid #dddddd'>['algorithm_used:overlap_coefficient', 'computed_on:payload', 'field_type:input_meta', 'field_name:wos_input_character_count__']</td><td style='border: 1px solid #dddddd'>drift_v2</td><td style='border: 1px solid #dddddd'>01999ea4-6ec3-7b9f-9cb7-eb7432e85bbe</td><td style='border: 1px solid #dddddd'>b1663c02-a764-4287-b7e2-66c5a6965ce8</td><td style='border: 1px solid #dddddd'>subscription</td><td style='border: 1px solid #dddddd'>01999ea4-4392-7310-82bc-62dde8040c2f</td></tr><tr><td style='border: 1px solid #dddddd'>2025-10-01 07:23:18.248380+00:00</td><td style='border: 1px solid #dddddd'>input_metadata_drift_score</td><td style='border: 1px solid #dddddd'>01999ea7-7368-70c5-bc1d-fe868596b102</td><td style='border: 1px solid #dddddd'>0.3942</td><td style='border: 1px solid #dddddd'>None</td><td style='border: 1px solid #dddddd'>None</td><td style='border: 1px solid #dddddd'>['algorithm_used:overlap_coefficient', 'computed_on:payload', 'field_type:input_meta', 'field_name:wos_input_character_count__']</td><td style='border: 1px solid #dddddd'>drift_v2</td><td style='border: 1px solid #dddddd'>01999ea4-6ec3-7b9f-9cb7-eb7432e85bbe</td><td style='border: 1px solid #dddddd'>b1663c02-a764-4287-b7e2-66c5a6965ce8</td><td style='border: 1px solid #dddddd'>subscription</td><td style='border: 1px solid #dddddd'>01999ea4-4392-7310-82bc-62dde8040c2f</td></tr><tr><td style='border: 1px solid #dddddd'>2025-10-01 07:23:29.229488+00:00</td><td style='border: 1px solid #dddddd'>records_processed</td><td style='border: 1px solid #dddddd'>01999ea7-9e4d-7c82-aaa7-0eb3464f67c7</td><td style='border: 1px solid #dddddd'>10.0</td><td style='border: 1px solid #dddddd'>None</td><td style='border: 1px solid #dddddd'>None</td><td style='border: 1px solid #dddddd'>['algorithm_used:total_variation', 'computed_on:payload', 'field_type:input_meta', 'field_name:wos_input_word_count__']</td><td style='border: 1px solid #dddddd'>drift_v2</td><td style='border: 1px solid #dddddd'>01999ea4-6ec3-7b9f-9cb7-eb7432e85bbe</td><td style='border: 1px solid #dddddd'>b1663c02-a764-4287-b7e2-66c5a6965ce8</td><td style='border: 1px solid #dddddd'>subscription</td><td style='border: 1px solid #dddddd'>01999ea4-4392-7310-82bc-62dde8040c2f</td></tr><tr><td style='border: 1px solid #dddddd'>2025-10-01 07:23:29.229488+00:00</td><td style='border: 1px solid #dddddd'>input_metadata_drift_score</td><td style='border: 1px solid #dddddd'>01999ea7-9e4d-7c82-aaa7-0eb3464f67c7</td><td style='border: 1px solid #dddddd'>0.2931</td><td style='border: 1px solid #dddddd'>None</td><td style='border: 1px solid #dddddd'>None</td><td style='border: 1px solid #dddddd'>['algorithm_used:total_variation', 'computed_on:payload', 'field_type:input_meta', 'field_name:wos_input_word_count__']</td><td style='border: 1px solid #dddddd'>drift_v2</td><td style='border: 1px solid #dddddd'>01999ea4-6ec3-7b9f-9cb7-eb7432e85bbe</td><td style='border: 1px solid #dddddd'>b1663c02-a764-4287-b7e2-66c5a6965ce8</td><td style='border: 1px solid #dddddd'>subscription</td><td style='border: 1px solid #dddddd'>01999ea4-4392-7310-82bc-62dde8040c2f</td></tr><tr><td style='border: 1px solid #dddddd'>2025-10-01 07:23:29.229488+00:00</td><td style='border: 1px solid #dddddd'>records_processed</td><td style='border: 1px solid #dddddd'>01999ea7-9e4d-7c82-aaa7-0eb3464f67c7</td><td style='border: 1px solid #dddddd'>10.0</td><td style='border: 1px solid #dddddd'>None</td><td style='border: 1px solid #dddddd'>None</td><td style='border: 1px solid #dddddd'>['algorithm_used:overlap_coefficient', 'computed_on:payload', 'field_type:input_meta', 'field_name:wos_input_word_count__']</td><td style='border: 1px solid #dddddd'>drift_v2</td><td style='border: 1px solid #dddddd'>01999ea4-6ec3-7b9f-9cb7-eb7432e85bbe</td><td style='border: 1px solid #dddddd'>b1663c02-a764-4287-b7e2-66c5a6965ce8</td><td style='border: 1px solid #dddddd'>subscription</td><td style='border: 1px solid #dddddd'>01999ea4-4392-7310-82bc-62dde8040c2f</td></tr><tr><td style='border: 1px solid #dddddd'>2025-10-01 07:23:29.229488+00:00</td><td style='border: 1px solid #dddddd'>input_metadata_drift_score</td><td style='border: 1px solid #dddddd'>01999ea7-9e4d-7c82-aaa7-0eb3464f67c7</td><td style='border: 1px solid #dddddd'>0.2972</td><td style='border: 1px solid #dddddd'>None</td><td style='border: 1px solid #dddddd'>None</td><td style='border: 1px solid #dddddd'>['algorithm_used:overlap_coefficient', 'computed_on:payload', 'field_type:input_meta', 'field_name:wos_input_word_count__']</td><td style='border: 1px solid #dddddd'>drift_v2</td><td style='border: 1px solid #dddddd'>01999ea4-6ec3-7b9f-9cb7-eb7432e85bbe</td><td style='border: 1px solid #dddddd'>b1663c02-a764-4287-b7e2-66c5a6965ce8</td><td style='border: 1px solid #dddddd'>subscription</td><td style='border: 1px solid #dddddd'>01999ea4-4392-7310-82bc-62dde8040c2f</td></tr><tr><td style='border: 1px solid #dddddd'>2025-10-01 07:23:37.025791+00:00</td><td style='border: 1px solid #dddddd'>records_processed</td><td style='border: 1px solid #dddddd'>01999ea7-bcc1-79e3-b468-45ad4f731e20</td><td style='border: 1px solid #dddddd'>10.0</td><td style='border: 1px solid #dddddd'>None</td><td style='border: 1px solid #dddddd'>None</td><td style='border: 1px solid #dddddd'>['algorithm_used:total_variation', 'computed_on:payload', 'field_type:input_meta', 'field_name:wos_input_sentence_count__']</td><td style='border: 1px solid #dddddd'>drift_v2</td><td style='border: 1px solid #dddddd'>01999ea4-6ec3-7b9f-9cb7-eb7432e85bbe</td><td style='border: 1px solid #dddddd'>b1663c02-a764-4287-b7e2-66c5a6965ce8</td><td style='border: 1px solid #dddddd'>subscription</td><td style='border: 1px solid #dddddd'>01999ea4-4392-7310-82bc-62dde8040c2f</td></tr><tr><td style='border: 1px solid #dddddd'>2025-10-01 07:23:37.025791+00:00</td><td style='border: 1px solid #dddddd'>input_metadata_drift_score</td><td style='border: 1px solid #dddddd'>01999ea7-bcc1-79e3-b468-45ad4f731e20</td><td style='border: 1px solid #dddddd'>0.2421</td><td style='border: 1px solid #dddddd'>None</td><td style='border: 1px solid #dddddd'>None</td><td style='border: 1px solid #dddddd'>['algorithm_used:total_variation', 'computed_on:payload', 'field_type:input_meta', 'field_name:wos_input_sentence_count__']</td><td style='border: 1px solid #dddddd'>drift_v2</td><td style='border: 1px solid #dddddd'>01999ea4-6ec3-7b9f-9cb7-eb7432e85bbe</td><td style='border: 1px solid #dddddd'>b1663c02-a764-4287-b7e2-66c5a6965ce8</td><td style='border: 1px solid #dddddd'>subscription</td><td style='border: 1px solid #dddddd'>01999ea4-4392-7310-82bc-62dde8040c2f</td></tr>\n",
       "            </table>\n",
       "        </body>\n",
       "        </HTML>"
      ],
      "text/plain": [
       "<IPython.core.display.HTML object>"
      ]
     },
     "metadata": {},
     "output_type": "display_data"
    },
    {
     "name": "stdout",
     "output_type": "stream",
     "text": [
      "Note: First 10 records were displayed.\n"
     ]
    }
   ],
   "source": [
    "wos_client.monitor_instances.show_metrics(monitor_instance_id=drift_monitor_id, space_id=space_id)"
   ]
  },
  {
   "cell_type": "markdown",
   "metadata": {},
   "source": [
    "## Display the model health metrics\n",
    "### Read the model health monitor instance id\n",
    "Monitor instance ID of model health metrics is required for reading its metrics."
   ]
  },
  {
   "cell_type": "code",
   "execution_count": 72,
   "metadata": {
    "ExecuteTime": {
     "end_time": "2024-09-18T13:52:46.072234Z",
     "start_time": "2024-09-18T13:52:45.669660Z"
    }
   },
   "outputs": [
    {
     "data": {
      "text/plain": [
       "'01999ea4-7908-74e1-8131-d97fff0e64d6'"
      ]
     },
     "execution_count": 72,
     "metadata": {},
     "output_type": "execute_result"
    }
   ],
   "source": [
    "monitor_definition_id = \"model_health\"\n",
    "target_target_id = prod_subscription_id\n",
    "result = wos_client.monitor_instances.list(data_mart_id=data_mart_id,\n",
    "                                           monitor_definition_id=monitor_definition_id,\n",
    "                                           target_target_id=target_target_id,\n",
    "                                           space_id=space_id).result\n",
    "result_json = result._to_dict()\n",
    "mhm_monitor_id = result_json[\"monitor_instances\"][0][\"metadata\"][\"id\"]\n",
    "mhm_monitor_id"
   ]
  },
  {
   "cell_type": "markdown",
   "metadata": {},
   "source": [
    "Displaying the monitor metrics of model health"
   ]
  },
  {
   "cell_type": "code",
   "execution_count": 73,
   "metadata": {
    "ExecuteTime": {
     "end_time": "2024-09-18T13:52:59.162531Z",
     "start_time": "2024-09-18T13:52:53.739998Z"
    }
   },
   "outputs": [
    {
     "data": {
      "text/html": [
       "<HTML>\n",
       "        <body>\n",
       "            <h3>01999ea4-7908-74e1-8131-d97fff0e64d6 Monitor Runs Metrics from: 2025-09-24 12:55:47.693823  till: 2025-10-01 12:55:47.693826</h3>\n",
       "            <table style='border: 1px solid #dddddd; font-family: Courier'>\n",
       "                <th style='border: 1px solid #dddddd'>ts</th><th style='border: 1px solid #dddddd'>id</th><th style='border: 1px solid #dddddd'>measurement_id</th><th style='border: 1px solid #dddddd'>value</th><th style='border: 1px solid #dddddd'>lower_limit</th><th style='border: 1px solid #dddddd'>upper_limit</th><th style='border: 1px solid #dddddd'>tags</th><th style='border: 1px solid #dddddd'>monitor_definition_id</th><th style='border: 1px solid #dddddd'>monitor_instance_id</th><th style='border: 1px solid #dddddd'>run_id</th><th style='border: 1px solid #dddddd'>target_type</th><th style='border: 1px solid #dddddd'>target_id</th>\n",
       "                <tr><td style='border: 1px solid #dddddd'>2025-10-01 07:22:10.449198+00:00</td><td style='border: 1px solid #dddddd'>total_records</td><td style='border: 1px solid #dddddd'>01999ea6-6a91-7cb9-8f62-42c0390541bd</td><td style='border: 1px solid #dddddd'>110.0</td><td style='border: 1px solid #dddddd'>None</td><td style='border: 1px solid #dddddd'>None</td><td style='border: 1px solid #dddddd'>[]</td><td style='border: 1px solid #dddddd'>model_health</td><td style='border: 1px solid #dddddd'>01999ea4-7908-74e1-8131-d97fff0e64d6</td><td style='border: 1px solid #dddddd'>c0463214-370b-4616-8302-adb6ab0135f0</td><td style='border: 1px solid #dddddd'>subscription</td><td style='border: 1px solid #dddddd'>01999ea4-4392-7310-82bc-62dde8040c2f</td></tr><tr><td style='border: 1px solid #dddddd'>2025-10-01 07:22:10.449198+00:00</td><td style='border: 1px solid #dddddd'>median_input_token_count</td><td style='border: 1px solid #dddddd'>01999ea6-6a91-7cb9-8f62-42c0390541bd</td><td style='border: 1px solid #dddddd'>388.0</td><td style='border: 1px solid #dddddd'>None</td><td style='border: 1px solid #dddddd'>None</td><td style='border: 1px solid #dddddd'>[]</td><td style='border: 1px solid #dddddd'>model_health</td><td style='border: 1px solid #dddddd'>01999ea4-7908-74e1-8131-d97fff0e64d6</td><td style='border: 1px solid #dddddd'>c0463214-370b-4616-8302-adb6ab0135f0</td><td style='border: 1px solid #dddddd'>subscription</td><td style='border: 1px solid #dddddd'>01999ea4-4392-7310-82bc-62dde8040c2f</td></tr><tr><td style='border: 1px solid #dddddd'>2025-10-01 07:22:10.449198+00:00</td><td style='border: 1px solid #dddddd'>average_output_token_count</td><td style='border: 1px solid #dddddd'>01999ea6-6a91-7cb9-8f62-42c0390541bd</td><td style='border: 1px solid #dddddd'>166.3</td><td style='border: 1px solid #dddddd'>None</td><td style='border: 1px solid #dddddd'>None</td><td style='border: 1px solid #dddddd'>[]</td><td style='border: 1px solid #dddddd'>model_health</td><td style='border: 1px solid #dddddd'>01999ea4-7908-74e1-8131-d97fff0e64d6</td><td style='border: 1px solid #dddddd'>c0463214-370b-4616-8302-adb6ab0135f0</td><td style='border: 1px solid #dddddd'>subscription</td><td style='border: 1px solid #dddddd'>01999ea4-4392-7310-82bc-62dde8040c2f</td></tr><tr><td style='border: 1px solid #dddddd'>2025-10-01 07:22:10.449198+00:00</td><td style='border: 1px solid #dddddd'>minimum_output_token_count</td><td style='border: 1px solid #dddddd'>01999ea6-6a91-7cb9-8f62-42c0390541bd</td><td style='border: 1px solid #dddddd'>87.0</td><td style='border: 1px solid #dddddd'>None</td><td style='border: 1px solid #dddddd'>None</td><td style='border: 1px solid #dddddd'>[]</td><td style='border: 1px solid #dddddd'>model_health</td><td style='border: 1px solid #dddddd'>01999ea4-7908-74e1-8131-d97fff0e64d6</td><td style='border: 1px solid #dddddd'>c0463214-370b-4616-8302-adb6ab0135f0</td><td style='border: 1px solid #dddddd'>subscription</td><td style='border: 1px solid #dddddd'>01999ea4-4392-7310-82bc-62dde8040c2f</td></tr><tr><td style='border: 1px solid #dddddd'>2025-10-01 07:22:10.449198+00:00</td><td style='border: 1px solid #dddddd'>total_scoring_requests</td><td style='border: 1px solid #dddddd'>01999ea6-6a91-7cb9-8f62-42c0390541bd</td><td style='border: 1px solid #dddddd'>110.0</td><td style='border: 1px solid #dddddd'>None</td><td style='border: 1px solid #dddddd'>None</td><td style='border: 1px solid #dddddd'>[]</td><td style='border: 1px solid #dddddd'>model_health</td><td style='border: 1px solid #dddddd'>01999ea4-7908-74e1-8131-d97fff0e64d6</td><td style='border: 1px solid #dddddd'>c0463214-370b-4616-8302-adb6ab0135f0</td><td style='border: 1px solid #dddddd'>subscription</td><td style='border: 1px solid #dddddd'>01999ea4-4392-7310-82bc-62dde8040c2f</td></tr><tr><td style='border: 1px solid #dddddd'>2025-10-01 07:22:10.449198+00:00</td><td style='border: 1px solid #dddddd'>median_records</td><td style='border: 1px solid #dddddd'>01999ea6-6a91-7cb9-8f62-42c0390541bd</td><td style='border: 1px solid #dddddd'>1.0</td><td style='border: 1px solid #dddddd'>None</td><td style='border: 1px solid #dddddd'>None</td><td style='border: 1px solid #dddddd'>[]</td><td style='border: 1px solid #dddddd'>model_health</td><td style='border: 1px solid #dddddd'>01999ea4-7908-74e1-8131-d97fff0e64d6</td><td style='border: 1px solid #dddddd'>c0463214-370b-4616-8302-adb6ab0135f0</td><td style='border: 1px solid #dddddd'>subscription</td><td style='border: 1px solid #dddddd'>01999ea4-4392-7310-82bc-62dde8040c2f</td></tr><tr><td style='border: 1px solid #dddddd'>2025-10-01 07:22:10.449198+00:00</td><td style='border: 1px solid #dddddd'>average_input_token_count</td><td style='border: 1px solid #dddddd'>01999ea6-6a91-7cb9-8f62-42c0390541bd</td><td style='border: 1px solid #dddddd'>494.3</td><td style='border: 1px solid #dddddd'>None</td><td style='border: 1px solid #dddddd'>None</td><td style='border: 1px solid #dddddd'>[]</td><td style='border: 1px solid #dddddd'>model_health</td><td style='border: 1px solid #dddddd'>01999ea4-7908-74e1-8131-d97fff0e64d6</td><td style='border: 1px solid #dddddd'>c0463214-370b-4616-8302-adb6ab0135f0</td><td style='border: 1px solid #dddddd'>subscription</td><td style='border: 1px solid #dddddd'>01999ea4-4392-7310-82bc-62dde8040c2f</td></tr><tr><td style='border: 1px solid #dddddd'>2025-10-01 07:22:10.449198+00:00</td><td style='border: 1px solid #dddddd'>maximum_input_token_count</td><td style='border: 1px solid #dddddd'>01999ea6-6a91-7cb9-8f62-42c0390541bd</td><td style='border: 1px solid #dddddd'>1074.0</td><td style='border: 1px solid #dddddd'>None</td><td style='border: 1px solid #dddddd'>None</td><td style='border: 1px solid #dddddd'>[]</td><td style='border: 1px solid #dddddd'>model_health</td><td style='border: 1px solid #dddddd'>01999ea4-7908-74e1-8131-d97fff0e64d6</td><td style='border: 1px solid #dddddd'>c0463214-370b-4616-8302-adb6ab0135f0</td><td style='border: 1px solid #dddddd'>subscription</td><td style='border: 1px solid #dddddd'>01999ea4-4392-7310-82bc-62dde8040c2f</td></tr><tr><td style='border: 1px solid #dddddd'>2025-10-01 07:22:10.449198+00:00</td><td style='border: 1px solid #dddddd'>median_output_token_count</td><td style='border: 1px solid #dddddd'>01999ea6-6a91-7cb9-8f62-42c0390541bd</td><td style='border: 1px solid #dddddd'>183.0</td><td style='border: 1px solid #dddddd'>None</td><td style='border: 1px solid #dddddd'>None</td><td style='border: 1px solid #dddddd'>[]</td><td style='border: 1px solid #dddddd'>model_health</td><td style='border: 1px solid #dddddd'>01999ea4-7908-74e1-8131-d97fff0e64d6</td><td style='border: 1px solid #dddddd'>c0463214-370b-4616-8302-adb6ab0135f0</td><td style='border: 1px solid #dddddd'>subscription</td><td style='border: 1px solid #dddddd'>01999ea4-4392-7310-82bc-62dde8040c2f</td></tr><tr><td style='border: 1px solid #dddddd'>2025-10-01 07:22:10.449198+00:00</td><td style='border: 1px solid #dddddd'>total_output_token_count</td><td style='border: 1px solid #dddddd'>01999ea6-6a91-7cb9-8f62-42c0390541bd</td><td style='border: 1px solid #dddddd'>18293.0</td><td style='border: 1px solid #dddddd'>None</td><td style='border: 1px solid #dddddd'>None</td><td style='border: 1px solid #dddddd'>[]</td><td style='border: 1px solid #dddddd'>model_health</td><td style='border: 1px solid #dddddd'>01999ea4-7908-74e1-8131-d97fff0e64d6</td><td style='border: 1px solid #dddddd'>c0463214-370b-4616-8302-adb6ab0135f0</td><td style='border: 1px solid #dddddd'>subscription</td><td style='border: 1px solid #dddddd'>01999ea4-4392-7310-82bc-62dde8040c2f</td></tr>\n",
       "            </table>\n",
       "        </body>\n",
       "        </HTML>"
      ],
      "text/plain": [
       "<IPython.core.display.HTML object>"
      ]
     },
     "metadata": {},
     "output_type": "display_data"
    },
    {
     "name": "stdout",
     "output_type": "stream",
     "text": [
      "Note: First 10 records were displayed.\n"
     ]
    }
   ],
   "source": [
    "wos_client.monitor_instances.show_metrics(monitor_instance_id=mhm_monitor_id, space_id=space_id)"
   ]
  },
  {
   "cell_type": "markdown",
   "metadata": {},
   "source": [
    "# User can navigate to see the published facts in space <a name=\"factsheetsproject\"></a>"
   ]
  },
  {
   "cell_type": "code",
   "execution_count": 74,
   "metadata": {
    "ExecuteTime": {
     "end_time": "2024-09-18T13:53:03.490182Z",
     "start_time": "2024-09-18T13:53:03.487053Z"
    }
   },
   "outputs": [
    {
     "name": "stdout",
     "output_type": "stream",
     "text": [
      "User can navigate to the published facts in space https://dataplatform.cloud.ibm.com/ml-runtime/deployments/ebe4d769-2940-4ff3-88d8-edfc271b4fb3/details?space_id=888ea269-8065-4573-b755-30e6ab163afc&context=wx&flush=true\n"
     ]
    }
   ],
   "source": [
    "if not use_cpd:\n",
    "    factsheets_url = \"https://dataplatform.cloud.ibm.com/ml-runtime/deployments/{}/details?space_id={}&context=wx&flush=true\".format(deployment_id, space_id)\n",
    "else:\n",
    "    factsheets_url = \"{}/ml-runtime/deployments/{}/details?space_id={}&context=wx&flush=true\".format(WML_CREDENTIALS[\"url\"], deployment_id, space_id)\n",
    "    \n",
    "print(\"User can navigate to the published facts in space {}\".format(factsheets_url))"
   ]
  },
  {
   "cell_type": "markdown",
   "metadata": {},
   "source": [
    "## Congratulations!\n",
    "\n",
    "You have finished the hands-on lab for IBM Watson OpenScale. You can now navigate to the prompt template asset in your project / spaceand click on the Evaluate tab to visualise the results on the UI."
   ]
  }
 ],
 "metadata": {
  "kernelspec": {
   "display_name": "Python 3 (ipykernel)",
   "language": "python",
   "name": "python3"
  },
  "language_info": {
   "codemirror_mode": {
    "name": "ipython",
    "version": 3
   },
   "file_extension": ".py",
   "mimetype": "text/x-python",
   "name": "python",
   "nbconvert_exporter": "python",
   "pygments_lexer": "ipython3",
   "version": "3.11.13"
  }
 },
 "nbformat": 4,
 "nbformat_minor": 4
}
