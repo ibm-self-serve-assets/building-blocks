{
 "cells": [
  {
   "cell_type": "code",
   "execution_count": 4,
   "id": "b49f874b",
   "metadata": {},
   "outputs": [],
   "source": [
    "import requests\n",
    "import json"
   ]
  },
  {
   "cell_type": "code",
   "execution_count": 5,
   "id": "f86efb17",
   "metadata": {},
   "outputs": [
    {
     "name": "stdout",
     "output_type": "stream",
     "text": [
      "{\"status\":\"success\",\"message\":\"Successfully ingested 141 docs from 4 file(s)\"}\n"
     ]
    }
   ],
   "source": [
    "# Ingestion Endpoint\n",
    "url = \"http://0.0.0.0:4050/ingest-files\"\n",
    "\n",
    "payload = json.dumps({\n",
    "  \"bucket_name\": \"meow-bucket\",\n",
    "  \"collection_name\": \"sample\",\n",
    "  \"chunk_type\": \"DOCLING_DOCS\"\n",
    "})\n",
    "headers = {\n",
    "  'REST_API_KEY': 'rawr',\n",
    "  'Content-Type': 'application/json'\n",
    "}\n",
    "\n",
    "response = requests.request(\"POST\", url, headers=headers, data=payload)\n",
    "\n",
    "print(response.text)"
   ]
  },
  {
   "cell_type": "code",
   "execution_count": null,
   "id": "5f0eb894",
   "metadata": {},
   "outputs": [],
   "source": [
    "url = \"http://0.0.0.0:3001/query\"\n",
    "\n",
    "payload = json.dumps({\n",
    "  \"query\": \"how do i get access?\",\n",
    "  \"collection_name\": \"askbuild_collection\"\n",
    "})\n",
    "headers = {\n",
    "  'REST_API_KEY': 'secret',\n",
    "  'Content-Type': 'application/json'\n",
    "}\n",
    "\n",
    "response = requests.request(\"POST\", url, headers=headers, data=payload)\n",
    "\n",
    "print(response.text)\n"
   ]
  },
  {
   "cell_type": "code",
   "execution_count": null,
   "id": "e71d25f6",
   "metadata": {},
   "outputs": [],
   "source": [
    "answer = json.loads(response.text)['data']['llm_response']\n",
    "print(answer)"
   ]
  }
 ],
 "metadata": {
  "kernelspec": {
   "display_name": "virtual-env",
   "language": "python",
   "name": "python3"
  },
  "language_info": {
   "codemirror_mode": {
    "name": "ipython",
    "version": 3
   },
   "file_extension": ".py",
   "mimetype": "text/x-python",
   "name": "python",
   "nbconvert_exporter": "python",
   "pygments_lexer": "ipython3",
   "version": "3.13.5"
  }
 },
 "nbformat": 4,
 "nbformat_minor": 5
}
